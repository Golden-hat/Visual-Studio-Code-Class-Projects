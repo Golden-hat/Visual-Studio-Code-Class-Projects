{
  "cells": [
    {
      "cell_type": "markdown",
      "metadata": {
        "id": "4fdHBAB0ySou"
      },
      "source": [
        "# Percepción (PER): examen de prácticas del bloque 2, grupo 3CO11, turno1, 28-5-2024, 8:00-8:45\n",
        "\n",
        "Lee este cuaderno y realiza las actividades y ejercicios propuestos"
      ]
    },
    {
      "cell_type": "markdown",
      "metadata": {
        "id": "XcH4rbflySov"
      },
      "source": [
        "## Importación de librerías relevantes"
      ]
    },
    {
      "cell_type": "code",
      "execution_count": 4,
      "metadata": {
        "id": "nHpvA8pJySov"
      },
      "outputs": [],
      "source": [
        "import warnings; warnings.filterwarnings(\"ignore\")\n",
        "import numpy as np\n",
        "from sklearn.datasets import fetch_openml\n",
        "from sklearn.model_selection import train_test_split, GridSearchCV\n",
        "from sklearn.preprocessing import StandardScaler, PolynomialFeatures\n",
        "from sklearn.decomposition import PCA\n",
        "from sklearn.tree import DecisionTreeClassifier\n",
        "from sklearn.ensemble import BaggingClassifier, RandomForestClassifier, AdaBoostClassifier, GradientBoostingClassifier, HistGradientBoostingClassifier\n",
        "from sklearn.neighbors import KNeighborsClassifier\n",
        "from sklearn.pipeline import Pipeline\n",
        "from sklearn.metrics import accuracy_score\n",
        "\n",
        "def parse_dni(x):\n",
        "    return x % 1000"
      ]
    },
    {
      "cell_type": "markdown",
      "metadata": {
        "id": "jV1QUw3nySow"
      },
      "source": [
        "## Lectura y partición del corpus covertype\n",
        "\n",
        "Ejecuta el código siguiente con dni igual a tu DNI/NIE sin letra."
      ]
    },
    {
      "cell_type": "code",
      "execution_count": 4,
      "metadata": {
        "colab": {
          "base_uri": "https://localhost:8080/"
        },
        "id": "kiiP-UxYySow",
        "outputId": "5ed6fa5e-30c2-4462-c52c-a785a18dba37"
      },
      "outputs": [
        {
          "name": "stdout",
          "output_type": "stream",
          "text": [
            "N = 423680 D = 54 C = 2 N_train = 381312 N_test = 42368\n"
          ]
        }
      ],
      "source": [
        "dni = 20860758\n",
        "\n",
        "X, y = fetch_openml(\"covertype\", version=13, return_X_y=True, as_frame=False)\n",
        "X_train, X_test, y_train, y_test = train_test_split(X, y, test_size=0.1, shuffle=True, random_state=parse_dni(dni))\n",
        "\n",
        "print(f'N = {X.shape[0]} D = {X.shape[1]} C = {len(np.unique(y))} N_train = {len(X_train)} N_test = {len(X_test)}')"
      ]
    },
    {
      "cell_type": "markdown",
      "metadata": {
        "id": "eEx2KGmuySow"
      },
      "source": [
        "Tarea del [**tabular data learning benchmark**](https://arxiv.org/abs/2207.08815). Se trata de predecir el tipo de cobertura boscosa (2 clases) en áreas del Roosevelt National Forest del norte de Colorado, Estados Unidos, a partir de variables cartográficas. Cada dato corresponde a un celda de $30\\times 30$ metros."
      ]
    },
    {
      "cell_type": "markdown",
      "metadata": {
        "id": "2fIWp8W_ySox"
      },
      "source": [
        "## Experimento de referencia con GradientBoosting\n",
        "\n",
        "Ejecuta el código siguiente para estudiar el error de GradientBoosting con parámetros por defecto."
      ]
    },
    {
      "cell_type": "code",
      "execution_count": 5,
      "metadata": {
        "colab": {
          "base_uri": "https://localhost:8080/"
        },
        "id": "hqCYTwLaySox",
        "outputId": "dc60f60f-269b-434a-a240-634fc8006d9f"
      },
      "outputs": [
        {
          "name": "stdout",
          "output_type": "stream",
          "text": [
            "Precisión: 79.2%\n"
          ]
        }
      ],
      "source": [
        "clf = GradientBoostingClassifier(random_state=parse_dni(dni))\n",
        "\n",
        "acc = clf.fit(X_train[:10000], y_train[:10000]).score(X_test, y_test)\n",
        "print(f'Precisión: {acc:.1%}')"
      ]
    },
    {
      "cell_type": "markdown",
      "metadata": {
        "id": "gECmze2rySox"
      },
      "source": [
        "## Ejercicio 1\n",
        "\n",
        "Modifica el código de referencia para estudiar el error de GradientBoosting con ajuste de hiper-parámetros mediante alguna de las técnicas de optimización explicadas en las prácticas."
      ]
    },
    {
      "cell_type": "markdown",
      "metadata": {
        "id": "AUkL6a1F27kd"
      },
      "source": [
        "No aplicamos PCA ni normalizamos los datos al no requerirse explícitamente. Se imporime por pantalla el proceso y más tarde la configuración de parámetros que ofrece menos error.\n",
        "\n",
        "\n",
        "Por cuestiones de tiempo no se prueba con más valores."
      ]
    },
    {
      "cell_type": "code",
      "execution_count": 3,
      "metadata": {},
      "outputs": [
        {
          "ename": "NameError",
          "evalue": "name 'GradientBoostingClassifier' is not defined",
          "output_type": "error",
          "traceback": [
            "\u001b[0;31m---------------------------------------------------------------------------\u001b[0m",
            "\u001b[0;31mNameError\u001b[0m                                 Traceback (most recent call last)",
            "Cell \u001b[0;32mIn[3], line 1\u001b[0m\n\u001b[0;32m----> 1\u001b[0m clf \u001b[38;5;241m=\u001b[39m \u001b[43mGradientBoostingClassifier\u001b[49m(random_state\u001b[38;5;241m=\u001b[39mparse_dni(dni))\n\u001b[1;32m      3\u001b[0m G \u001b[38;5;241m=\u001b[39m {\u001b[38;5;124m\"\u001b[39m\u001b[38;5;124mn_estimators\u001b[39m\u001b[38;5;124m\"\u001b[39m:[\u001b[38;5;241m50\u001b[39m,\u001b[38;5;241m100\u001b[39m,\u001b[38;5;241m150\u001b[39m,\u001b[38;5;241m200\u001b[39m], \u001b[38;5;124m\"\u001b[39m\u001b[38;5;124mmax_features\u001b[39m\u001b[38;5;124m\"\u001b[39m:[\u001b[38;5;241m10\u001b[39m,\u001b[38;5;241m20\u001b[39m,\u001b[38;5;241m30\u001b[39m,\u001b[38;5;241m40\u001b[39m], \u001b[38;5;124m\"\u001b[39m\u001b[38;5;124mmax_depth\u001b[39m\u001b[38;5;124m\"\u001b[39m:[\u001b[38;5;241m1\u001b[39m,\u001b[38;5;241m2\u001b[39m,\u001b[38;5;241m3\u001b[39m,\u001b[38;5;241m4\u001b[39m]}\n\u001b[1;32m      5\u001b[0m GS \u001b[38;5;241m=\u001b[39m GridSearchCV(clf, G, scoring\u001b[38;5;241m=\u001b[39m\u001b[38;5;124m\"\u001b[39m\u001b[38;5;124maccuracy\u001b[39m\u001b[38;5;124m\"\u001b[39m, refit\u001b[38;5;241m=\u001b[39m\u001b[38;5;28;01mTrue\u001b[39;00m ,verbose\u001b[38;5;241m=\u001b[39m\u001b[38;5;241m10\u001b[39m)\n",
            "\u001b[0;31mNameError\u001b[0m: name 'GradientBoostingClassifier' is not defined"
          ]
        }
      ],
      "source": [
        "\n",
        "clf = GradientBoostingClassifier(random_state=parse_dni(dni))\n",
        "\n",
        "G = {\"n_estimators\":[50,100,150,200], \"max_features\":[10,20,30,40], \"max_depth\":[1,2,3,4]}\n",
        "\n",
        "GS = GridSearchCV(clf, G, scoring=\"accuracy\", refit=True ,verbose=10)\n",
        "acc = GS.fit(X_train[:10000], y_train[:10000]).score(X_test, y_test)\n",
        "print(f'Precisión: {acc:.1%} con {GS.best_params_}')"
      ]
    },
    {
      "cell_type": "code",
      "execution_count": 2,
      "metadata": {
        "colab": {
          "base_uri": "https://localhost:8080/"
        },
        "id": "rhk62nvEysH3",
        "outputId": "b0427304-f7e4-4bc8-a4b2-51d8e5b705fa"
      },
      "outputs": [
        {
          "ename": "NameError",
          "evalue": "name 'GridSearchCV' is not defined",
          "output_type": "error",
          "traceback": [
            "\u001b[0;31m---------------------------------------------------------------------------\u001b[0m",
            "\u001b[0;31mNameError\u001b[0m                                 Traceback (most recent call last)",
            "Cell \u001b[0;32mIn[2], line 3\u001b[0m\n\u001b[1;32m      1\u001b[0m G \u001b[38;5;241m=\u001b[39m {\u001b[38;5;124m\"\u001b[39m\u001b[38;5;124mmax_depth\u001b[39m\u001b[38;5;124m\"\u001b[39m: [\u001b[38;5;241m1\u001b[39m,\u001b[38;5;241m2\u001b[39m,\u001b[38;5;241m3\u001b[39m,\u001b[38;5;241m4\u001b[39m],\u001b[38;5;124m\"\u001b[39m\u001b[38;5;124mn_estimators\u001b[39m\u001b[38;5;124m\"\u001b[39m:[\u001b[38;5;241m50\u001b[39m,\u001b[38;5;241m100\u001b[39m,\u001b[38;5;241m150\u001b[39m,\u001b[38;5;241m200\u001b[39m],\u001b[38;5;124m\"\u001b[39m\u001b[38;5;124mmax_features\u001b[39m\u001b[38;5;124m\"\u001b[39m:[\u001b[38;5;241m10\u001b[39m,\u001b[38;5;241m20\u001b[39m,\u001b[38;5;241m30\u001b[39m,\u001b[38;5;241m40\u001b[39m,\u001b[38;5;241m54\u001b[39m]}\n\u001b[0;32m----> 3\u001b[0m GS \u001b[38;5;241m=\u001b[39m \u001b[43mGridSearchCV\u001b[49m(GradientBoostingClassifier(), G, scoring\u001b[38;5;241m=\u001b[39m\u001b[38;5;124m'\u001b[39m\u001b[38;5;124maccuracy\u001b[39m\u001b[38;5;124m'\u001b[39m, refit\u001b[38;5;241m=\u001b[39m\u001b[38;5;28;01mTrue\u001b[39;00m, cv\u001b[38;5;241m=\u001b[39m\u001b[38;5;241m5\u001b[39m, verbose\u001b[38;5;241m=\u001b[39m\u001b[38;5;241m10\u001b[39m)\n\u001b[1;32m      5\u001b[0m acc \u001b[38;5;241m=\u001b[39m GS\u001b[38;5;241m.\u001b[39mfit(X_train[:\u001b[38;5;241m10000\u001b[39m], y_train[:\u001b[38;5;241m10000\u001b[39m])\u001b[38;5;241m.\u001b[39mscore(X_test, y_test)\n\u001b[1;32m      6\u001b[0m \u001b[38;5;28mprint\u001b[39m(\u001b[38;5;124mf\u001b[39m\u001b[38;5;124m'\u001b[39m\u001b[38;5;124mPrecisión: \u001b[39m\u001b[38;5;132;01m{\u001b[39;00macc\u001b[38;5;132;01m:\u001b[39;00m\u001b[38;5;124m.1%\u001b[39m\u001b[38;5;132;01m}\u001b[39;00m\u001b[38;5;124m con \u001b[39m\u001b[38;5;132;01m{\u001b[39;00mGS\u001b[38;5;241m.\u001b[39mbest_params_\u001b[38;5;132;01m}\u001b[39;00m\u001b[38;5;124m'\u001b[39m)\n",
            "\u001b[0;31mNameError\u001b[0m: name 'GridSearchCV' is not defined"
          ]
        }
      ],
      "source": [
        "G = {\"max_depth\": [1,2,3,4],\"n_estimators\":[50,100,150,200],\"max_features\":[10,20,30,40,54]}\n",
        "\n",
        "GS = GridSearchCV(GradientBoostingClassifier(), G, scoring='accuracy', refit=True, cv=5, verbose=10)\n",
        "\n",
        "acc = GS.fit(X_train[:10000], y_train[:10000]).score(X_test, y_test)\n",
        "print(f'Precisión: {acc:.1%} con {GS.best_params_}')"
      ]
    },
    {
      "cell_type": "markdown",
      "metadata": {
        "id": "GW6cDSi0ySox"
      },
      "source": [
        "## Ejercicio 2\n",
        "\n",
        "De forma similar al ejercicio anterior, estudia el error de KNeighbors con ajuste de hiper-parámetros mediante alguna de las técnicas de optimización explicadas en las prácticas"
      ]
    },
    {
      "cell_type": "markdown",
      "metadata": {
        "id": "B5g25yZF4O-3"
      },
      "source": [
        "En este caso es conveniente aplicar normalización y PCA por cuestiones de como trabaja KNeighbors y por los beneficios que obtiene. Al igual que antes, aquí se imprime el porcentaje de acierto y no de error."
      ]
    },
    {
      "cell_type": "code",
      "execution_count": 8,
      "metadata": {
        "colab": {
          "base_uri": "https://localhost:8080/"
        },
        "id": "mVCF4tiWyskM",
        "outputId": "1048b2e7-0c55-4ace-8b29-5c71211ba0c2"
      },
      "outputs": [
        {
          "name": "stdout",
          "output_type": "stream",
          "text": [
            "Fitting 5 folds for each of 28 candidates, totalling 140 fits\n",
            "[CV 1/5; 1/28] START knn__n_neighbors=1, pca__n_components=5....................\n",
            "[CV 1/5; 1/28] END knn__n_neighbors=1, pca__n_components=5;, score=0.734 total time=   0.4s\n",
            "[CV 2/5; 1/28] START knn__n_neighbors=1, pca__n_components=5....................\n",
            "[CV 2/5; 1/28] END knn__n_neighbors=1, pca__n_components=5;, score=0.708 total time=   0.4s\n",
            "[CV 3/5; 1/28] START knn__n_neighbors=1, pca__n_components=5....................\n",
            "[CV 3/5; 1/28] END knn__n_neighbors=1, pca__n_components=5;, score=0.738 total time=   0.3s\n",
            "[CV 4/5; 1/28] START knn__n_neighbors=1, pca__n_components=5....................\n",
            "[CV 4/5; 1/28] END knn__n_neighbors=1, pca__n_components=5;, score=0.729 total time=   0.3s\n",
            "[CV 5/5; 1/28] START knn__n_neighbors=1, pca__n_components=5....................\n",
            "[CV 5/5; 1/28] END knn__n_neighbors=1, pca__n_components=5;, score=0.740 total time=   0.3s\n",
            "[CV 1/5; 2/28] START knn__n_neighbors=1, pca__n_components=10...................\n",
            "[CV 1/5; 2/28] END knn__n_neighbors=1, pca__n_components=10;, score=0.794 total time=   0.3s\n",
            "[CV 2/5; 2/28] START knn__n_neighbors=1, pca__n_components=10...................\n",
            "[CV 2/5; 2/28] END knn__n_neighbors=1, pca__n_components=10;, score=0.785 total time=   0.3s\n",
            "[CV 3/5; 2/28] START knn__n_neighbors=1, pca__n_components=10...................\n",
            "[CV 3/5; 2/28] END knn__n_neighbors=1, pca__n_components=10;, score=0.775 total time=   0.3s\n",
            "[CV 4/5; 2/28] START knn__n_neighbors=1, pca__n_components=10...................\n",
            "[CV 4/5; 2/28] END knn__n_neighbors=1, pca__n_components=10;, score=0.791 total time=   0.3s\n",
            "[CV 5/5; 2/28] START knn__n_neighbors=1, pca__n_components=10...................\n",
            "[CV 5/5; 2/28] END knn__n_neighbors=1, pca__n_components=10;, score=0.794 total time=   0.3s\n",
            "[CV 1/5; 3/28] START knn__n_neighbors=1, pca__n_components=15...................\n",
            "[CV 1/5; 3/28] END knn__n_neighbors=1, pca__n_components=15;, score=0.791 total time=   0.4s\n",
            "[CV 2/5; 3/28] START knn__n_neighbors=1, pca__n_components=15...................\n",
            "[CV 2/5; 3/28] END knn__n_neighbors=1, pca__n_components=15;, score=0.786 total time=   0.3s\n",
            "[CV 3/5; 3/28] START knn__n_neighbors=1, pca__n_components=15...................\n",
            "[CV 3/5; 3/28] END knn__n_neighbors=1, pca__n_components=15;, score=0.789 total time=   0.4s\n",
            "[CV 4/5; 3/28] START knn__n_neighbors=1, pca__n_components=15...................\n",
            "[CV 4/5; 3/28] END knn__n_neighbors=1, pca__n_components=15;, score=0.792 total time=   0.3s\n",
            "[CV 5/5; 3/28] START knn__n_neighbors=1, pca__n_components=15...................\n",
            "[CV 5/5; 3/28] END knn__n_neighbors=1, pca__n_components=15;, score=0.794 total time=   0.4s\n",
            "[CV 1/5; 4/28] START knn__n_neighbors=1, pca__n_components=20...................\n",
            "[CV 1/5; 4/28] END knn__n_neighbors=1, pca__n_components=20;, score=0.791 total time=   0.3s\n",
            "[CV 2/5; 4/28] START knn__n_neighbors=1, pca__n_components=20...................\n",
            "[CV 2/5; 4/28] END knn__n_neighbors=1, pca__n_components=20;, score=0.788 total time=   0.4s\n",
            "[CV 3/5; 4/28] START knn__n_neighbors=1, pca__n_components=20...................\n",
            "[CV 3/5; 4/28] END knn__n_neighbors=1, pca__n_components=20;, score=0.784 total time=   0.4s\n",
            "[CV 4/5; 4/28] START knn__n_neighbors=1, pca__n_components=20...................\n",
            "[CV 4/5; 4/28] END knn__n_neighbors=1, pca__n_components=20;, score=0.794 total time=   0.5s\n",
            "[CV 5/5; 4/28] START knn__n_neighbors=1, pca__n_components=20...................\n",
            "[CV 5/5; 4/28] END knn__n_neighbors=1, pca__n_components=20;, score=0.797 total time=   0.8s\n",
            "[CV 1/5; 5/28] START knn__n_neighbors=1, pca__n_components=25...................\n",
            "[CV 1/5; 5/28] END knn__n_neighbors=1, pca__n_components=25;, score=0.792 total time=   0.7s\n",
            "[CV 2/5; 5/28] START knn__n_neighbors=1, pca__n_components=25...................\n",
            "[CV 2/5; 5/28] END knn__n_neighbors=1, pca__n_components=25;, score=0.789 total time=   0.7s\n",
            "[CV 3/5; 5/28] START knn__n_neighbors=1, pca__n_components=25...................\n",
            "[CV 3/5; 5/28] END knn__n_neighbors=1, pca__n_components=25;, score=0.790 total time=   0.8s\n",
            "[CV 4/5; 5/28] START knn__n_neighbors=1, pca__n_components=25...................\n",
            "[CV 4/5; 5/28] END knn__n_neighbors=1, pca__n_components=25;, score=0.797 total time=   0.5s\n",
            "[CV 5/5; 5/28] START knn__n_neighbors=1, pca__n_components=25...................\n",
            "[CV 5/5; 5/28] END knn__n_neighbors=1, pca__n_components=25;, score=0.797 total time=   0.4s\n",
            "[CV 1/5; 6/28] START knn__n_neighbors=1, pca__n_components=50...................\n",
            "[CV 1/5; 6/28] END knn__n_neighbors=1, pca__n_components=50;, score=0.820 total time=   0.4s\n",
            "[CV 2/5; 6/28] START knn__n_neighbors=1, pca__n_components=50...................\n",
            "[CV 2/5; 6/28] END knn__n_neighbors=1, pca__n_components=50;, score=0.816 total time=   0.3s\n",
            "[CV 3/5; 6/28] START knn__n_neighbors=1, pca__n_components=50...................\n",
            "[CV 3/5; 6/28] END knn__n_neighbors=1, pca__n_components=50;, score=0.807 total time=   0.4s\n",
            "[CV 4/5; 6/28] START knn__n_neighbors=1, pca__n_components=50...................\n",
            "[CV 4/5; 6/28] END knn__n_neighbors=1, pca__n_components=50;, score=0.825 total time=   0.4s\n",
            "[CV 5/5; 6/28] START knn__n_neighbors=1, pca__n_components=50...................\n",
            "[CV 5/5; 6/28] END knn__n_neighbors=1, pca__n_components=50;, score=0.822 total time=   0.3s\n",
            "[CV 1/5; 7/28] START knn__n_neighbors=1, pca__n_components=54...................\n",
            "[CV 1/5; 7/28] END knn__n_neighbors=1, pca__n_components=54;, score=0.820 total time=   0.4s\n",
            "[CV 2/5; 7/28] START knn__n_neighbors=1, pca__n_components=54...................\n",
            "[CV 2/5; 7/28] END knn__n_neighbors=1, pca__n_components=54;, score=0.816 total time=   0.3s\n",
            "[CV 3/5; 7/28] START knn__n_neighbors=1, pca__n_components=54...................\n",
            "[CV 3/5; 7/28] END knn__n_neighbors=1, pca__n_components=54;, score=0.807 total time=   0.3s\n",
            "[CV 4/5; 7/28] START knn__n_neighbors=1, pca__n_components=54...................\n",
            "[CV 4/5; 7/28] END knn__n_neighbors=1, pca__n_components=54;, score=0.825 total time=   0.3s\n",
            "[CV 5/5; 7/28] START knn__n_neighbors=1, pca__n_components=54...................\n",
            "[CV 5/5; 7/28] END knn__n_neighbors=1, pca__n_components=54;, score=0.822 total time=   0.4s\n",
            "[CV 1/5; 8/28] START knn__n_neighbors=3, pca__n_components=5....................\n",
            "[CV 1/5; 8/28] END knn__n_neighbors=3, pca__n_components=5;, score=0.760 total time=   0.3s\n",
            "[CV 2/5; 8/28] START knn__n_neighbors=3, pca__n_components=5....................\n",
            "[CV 2/5; 8/28] END knn__n_neighbors=3, pca__n_components=5;, score=0.721 total time=   0.3s\n",
            "[CV 3/5; 8/28] START knn__n_neighbors=3, pca__n_components=5....................\n",
            "[CV 3/5; 8/28] END knn__n_neighbors=3, pca__n_components=5;, score=0.747 total time=   0.3s\n",
            "[CV 4/5; 8/28] START knn__n_neighbors=3, pca__n_components=5....................\n",
            "[CV 4/5; 8/28] END knn__n_neighbors=3, pca__n_components=5;, score=0.748 total time=   0.3s\n",
            "[CV 5/5; 8/28] START knn__n_neighbors=3, pca__n_components=5....................\n",
            "[CV 5/5; 8/28] END knn__n_neighbors=3, pca__n_components=5;, score=0.748 total time=   0.3s\n",
            "[CV 1/5; 9/28] START knn__n_neighbors=3, pca__n_components=10...................\n",
            "[CV 1/5; 9/28] END knn__n_neighbors=3, pca__n_components=10;, score=0.790 total time=   0.3s\n",
            "[CV 2/5; 9/28] START knn__n_neighbors=3, pca__n_components=10...................\n",
            "[CV 2/5; 9/28] END knn__n_neighbors=3, pca__n_components=10;, score=0.770 total time=   0.3s\n",
            "[CV 3/5; 9/28] START knn__n_neighbors=3, pca__n_components=10...................\n",
            "[CV 3/5; 9/28] END knn__n_neighbors=3, pca__n_components=10;, score=0.796 total time=   0.3s\n",
            "[CV 4/5; 9/28] START knn__n_neighbors=3, pca__n_components=10...................\n",
            "[CV 4/5; 9/28] END knn__n_neighbors=3, pca__n_components=10;, score=0.782 total time=   0.4s\n",
            "[CV 5/5; 9/28] START knn__n_neighbors=3, pca__n_components=10...................\n",
            "[CV 5/5; 9/28] END knn__n_neighbors=3, pca__n_components=10;, score=0.796 total time=   0.3s\n",
            "[CV 1/5; 10/28] START knn__n_neighbors=3, pca__n_components=15..................\n",
            "[CV 1/5; 10/28] END knn__n_neighbors=3, pca__n_components=15;, score=0.786 total time=   0.4s\n",
            "[CV 2/5; 10/28] START knn__n_neighbors=3, pca__n_components=15..................\n",
            "[CV 2/5; 10/28] END knn__n_neighbors=3, pca__n_components=15;, score=0.776 total time=   0.3s\n",
            "[CV 3/5; 10/28] START knn__n_neighbors=3, pca__n_components=15..................\n",
            "[CV 3/5; 10/28] END knn__n_neighbors=3, pca__n_components=15;, score=0.794 total time=   0.4s\n",
            "[CV 4/5; 10/28] START knn__n_neighbors=3, pca__n_components=15..................\n",
            "[CV 4/5; 10/28] END knn__n_neighbors=3, pca__n_components=15;, score=0.790 total time=   0.4s\n",
            "[CV 5/5; 10/28] START knn__n_neighbors=3, pca__n_components=15..................\n",
            "[CV 5/5; 10/28] END knn__n_neighbors=3, pca__n_components=15;, score=0.798 total time=   0.4s\n",
            "[CV 1/5; 11/28] START knn__n_neighbors=3, pca__n_components=20..................\n",
            "[CV 1/5; 11/28] END knn__n_neighbors=3, pca__n_components=20;, score=0.783 total time=   0.4s\n",
            "[CV 2/5; 11/28] START knn__n_neighbors=3, pca__n_components=20..................\n",
            "[CV 2/5; 11/28] END knn__n_neighbors=3, pca__n_components=20;, score=0.782 total time=   0.4s\n",
            "[CV 3/5; 11/28] START knn__n_neighbors=3, pca__n_components=20..................\n",
            "[CV 3/5; 11/28] END knn__n_neighbors=3, pca__n_components=20;, score=0.794 total time=   0.6s\n",
            "[CV 4/5; 11/28] START knn__n_neighbors=3, pca__n_components=20..................\n",
            "[CV 4/5; 11/28] END knn__n_neighbors=3, pca__n_components=20;, score=0.790 total time=   0.7s\n",
            "[CV 5/5; 11/28] START knn__n_neighbors=3, pca__n_components=20..................\n",
            "[CV 5/5; 11/28] END knn__n_neighbors=3, pca__n_components=20;, score=0.797 total time=   0.6s\n",
            "[CV 1/5; 12/28] START knn__n_neighbors=3, pca__n_components=25..................\n",
            "[CV 1/5; 12/28] END knn__n_neighbors=3, pca__n_components=25;, score=0.791 total time=   0.7s\n",
            "[CV 2/5; 12/28] START knn__n_neighbors=3, pca__n_components=25..................\n",
            "[CV 2/5; 12/28] END knn__n_neighbors=3, pca__n_components=25;, score=0.782 total time=   0.8s\n",
            "[CV 3/5; 12/28] START knn__n_neighbors=3, pca__n_components=25..................\n",
            "[CV 3/5; 12/28] END knn__n_neighbors=3, pca__n_components=25;, score=0.793 total time=   0.5s\n",
            "[CV 4/5; 12/28] START knn__n_neighbors=3, pca__n_components=25..................\n",
            "[CV 4/5; 12/28] END knn__n_neighbors=3, pca__n_components=25;, score=0.792 total time=   0.4s\n",
            "[CV 5/5; 12/28] START knn__n_neighbors=3, pca__n_components=25..................\n",
            "[CV 5/5; 12/28] END knn__n_neighbors=3, pca__n_components=25;, score=0.798 total time=   0.4s\n",
            "[CV 1/5; 13/28] START knn__n_neighbors=3, pca__n_components=50..................\n",
            "[CV 1/5; 13/28] END knn__n_neighbors=3, pca__n_components=50;, score=0.812 total time=   0.3s\n",
            "[CV 2/5; 13/28] START knn__n_neighbors=3, pca__n_components=50..................\n",
            "[CV 2/5; 13/28] END knn__n_neighbors=3, pca__n_components=50;, score=0.796 total time=   0.3s\n",
            "[CV 3/5; 13/28] START knn__n_neighbors=3, pca__n_components=50..................\n",
            "[CV 3/5; 13/28] END knn__n_neighbors=3, pca__n_components=50;, score=0.806 total time=   0.3s\n",
            "[CV 4/5; 13/28] START knn__n_neighbors=3, pca__n_components=50..................\n",
            "[CV 4/5; 13/28] END knn__n_neighbors=3, pca__n_components=50;, score=0.811 total time=   0.3s\n",
            "[CV 5/5; 13/28] START knn__n_neighbors=3, pca__n_components=50..................\n",
            "[CV 5/5; 13/28] END knn__n_neighbors=3, pca__n_components=50;, score=0.817 total time=   0.4s\n",
            "[CV 1/5; 14/28] START knn__n_neighbors=3, pca__n_components=54..................\n",
            "[CV 1/5; 14/28] END knn__n_neighbors=3, pca__n_components=54;, score=0.812 total time=   0.4s\n",
            "[CV 2/5; 14/28] START knn__n_neighbors=3, pca__n_components=54..................\n",
            "[CV 2/5; 14/28] END knn__n_neighbors=3, pca__n_components=54;, score=0.796 total time=   0.4s\n",
            "[CV 3/5; 14/28] START knn__n_neighbors=3, pca__n_components=54..................\n",
            "[CV 3/5; 14/28] END knn__n_neighbors=3, pca__n_components=54;, score=0.806 total time=   0.4s\n",
            "[CV 4/5; 14/28] START knn__n_neighbors=3, pca__n_components=54..................\n",
            "[CV 4/5; 14/28] END knn__n_neighbors=3, pca__n_components=54;, score=0.811 total time=   0.3s\n",
            "[CV 5/5; 14/28] START knn__n_neighbors=3, pca__n_components=54..................\n",
            "[CV 5/5; 14/28] END knn__n_neighbors=3, pca__n_components=54;, score=0.817 total time=   0.4s\n",
            "[CV 1/5; 15/28] START knn__n_neighbors=4, pca__n_components=5...................\n",
            "[CV 1/5; 15/28] END knn__n_neighbors=4, pca__n_components=5;, score=0.750 total time=   0.3s\n",
            "[CV 2/5; 15/28] START knn__n_neighbors=4, pca__n_components=5...................\n",
            "[CV 2/5; 15/28] END knn__n_neighbors=4, pca__n_components=5;, score=0.719 total time=   0.3s\n",
            "[CV 3/5; 15/28] START knn__n_neighbors=4, pca__n_components=5...................\n",
            "[CV 3/5; 15/28] END knn__n_neighbors=4, pca__n_components=5;, score=0.735 total time=   0.2s\n",
            "[CV 4/5; 15/28] START knn__n_neighbors=4, pca__n_components=5...................\n",
            "[CV 4/5; 15/28] END knn__n_neighbors=4, pca__n_components=5;, score=0.739 total time=   0.2s\n",
            "[CV 5/5; 15/28] START knn__n_neighbors=4, pca__n_components=5...................\n",
            "[CV 5/5; 15/28] END knn__n_neighbors=4, pca__n_components=5;, score=0.747 total time=   0.3s\n",
            "[CV 1/5; 16/28] START knn__n_neighbors=4, pca__n_components=10..................\n",
            "[CV 1/5; 16/28] END knn__n_neighbors=4, pca__n_components=10;, score=0.765 total time=   0.3s\n",
            "[CV 2/5; 16/28] START knn__n_neighbors=4, pca__n_components=10..................\n",
            "[CV 2/5; 16/28] END knn__n_neighbors=4, pca__n_components=10;, score=0.772 total time=   0.4s\n",
            "[CV 3/5; 16/28] START knn__n_neighbors=4, pca__n_components=10..................\n",
            "[CV 3/5; 16/28] END knn__n_neighbors=4, pca__n_components=10;, score=0.789 total time=   0.4s\n",
            "[CV 4/5; 16/28] START knn__n_neighbors=4, pca__n_components=10..................\n",
            "[CV 4/5; 16/28] END knn__n_neighbors=4, pca__n_components=10;, score=0.775 total time=   0.4s\n",
            "[CV 5/5; 16/28] START knn__n_neighbors=4, pca__n_components=10..................\n",
            "[CV 5/5; 16/28] END knn__n_neighbors=4, pca__n_components=10;, score=0.788 total time=   0.3s\n",
            "[CV 1/5; 17/28] START knn__n_neighbors=4, pca__n_components=15..................\n",
            "[CV 1/5; 17/28] END knn__n_neighbors=4, pca__n_components=15;, score=0.772 total time=   0.4s\n",
            "[CV 2/5; 17/28] START knn__n_neighbors=4, pca__n_components=15..................\n",
            "[CV 2/5; 17/28] END knn__n_neighbors=4, pca__n_components=15;, score=0.776 total time=   0.4s\n",
            "[CV 3/5; 17/28] START knn__n_neighbors=4, pca__n_components=15..................\n",
            "[CV 3/5; 17/28] END knn__n_neighbors=4, pca__n_components=15;, score=0.789 total time=   0.3s\n",
            "[CV 4/5; 17/28] START knn__n_neighbors=4, pca__n_components=15..................\n",
            "[CV 4/5; 17/28] END knn__n_neighbors=4, pca__n_components=15;, score=0.779 total time=   0.4s\n",
            "[CV 5/5; 17/28] START knn__n_neighbors=4, pca__n_components=15..................\n",
            "[CV 5/5; 17/28] END knn__n_neighbors=4, pca__n_components=15;, score=0.793 total time=   0.4s\n",
            "[CV 1/5; 18/28] START knn__n_neighbors=4, pca__n_components=20..................\n",
            "[CV 1/5; 18/28] END knn__n_neighbors=4, pca__n_components=20;, score=0.769 total time=   0.4s\n",
            "[CV 2/5; 18/28] START knn__n_neighbors=4, pca__n_components=20..................\n",
            "[CV 2/5; 18/28] END knn__n_neighbors=4, pca__n_components=20;, score=0.774 total time=   0.8s\n",
            "[CV 3/5; 18/28] START knn__n_neighbors=4, pca__n_components=20..................\n",
            "[CV 3/5; 18/28] END knn__n_neighbors=4, pca__n_components=20;, score=0.791 total time=   0.7s\n",
            "[CV 4/5; 18/28] START knn__n_neighbors=4, pca__n_components=20..................\n",
            "[CV 4/5; 18/28] END knn__n_neighbors=4, pca__n_components=20;, score=0.778 total time=   0.6s\n",
            "[CV 5/5; 18/28] START knn__n_neighbors=4, pca__n_components=20..................\n",
            "[CV 5/5; 18/28] END knn__n_neighbors=4, pca__n_components=20;, score=0.793 total time=   0.7s\n",
            "[CV 1/5; 19/28] START knn__n_neighbors=4, pca__n_components=25..................\n",
            "[CV 1/5; 19/28] END knn__n_neighbors=4, pca__n_components=25;, score=0.771 total time=   0.5s\n",
            "[CV 2/5; 19/28] START knn__n_neighbors=4, pca__n_components=25..................\n",
            "[CV 2/5; 19/28] END knn__n_neighbors=4, pca__n_components=25;, score=0.776 total time=   0.4s\n",
            "[CV 3/5; 19/28] START knn__n_neighbors=4, pca__n_components=25..................\n",
            "[CV 3/5; 19/28] END knn__n_neighbors=4, pca__n_components=25;, score=0.793 total time=   0.4s\n",
            "[CV 4/5; 19/28] START knn__n_neighbors=4, pca__n_components=25..................\n",
            "[CV 4/5; 19/28] END knn__n_neighbors=4, pca__n_components=25;, score=0.785 total time=   0.4s\n",
            "[CV 5/5; 19/28] START knn__n_neighbors=4, pca__n_components=25..................\n",
            "[CV 5/5; 19/28] END knn__n_neighbors=4, pca__n_components=25;, score=0.799 total time=   0.4s\n",
            "[CV 1/5; 20/28] START knn__n_neighbors=4, pca__n_components=50..................\n",
            "[CV 1/5; 20/28] END knn__n_neighbors=4, pca__n_components=50;, score=0.809 total time=   0.4s\n",
            "[CV 2/5; 20/28] START knn__n_neighbors=4, pca__n_components=50..................\n",
            "[CV 2/5; 20/28] END knn__n_neighbors=4, pca__n_components=50;, score=0.793 total time=   0.4s\n",
            "[CV 3/5; 20/28] START knn__n_neighbors=4, pca__n_components=50..................\n",
            "[CV 3/5; 20/28] END knn__n_neighbors=4, pca__n_components=50;, score=0.800 total time=   0.4s\n",
            "[CV 4/5; 20/28] START knn__n_neighbors=4, pca__n_components=50..................\n",
            "[CV 4/5; 20/28] END knn__n_neighbors=4, pca__n_components=50;, score=0.803 total time=   0.4s\n",
            "[CV 5/5; 20/28] START knn__n_neighbors=4, pca__n_components=50..................\n",
            "[CV 5/5; 20/28] END knn__n_neighbors=4, pca__n_components=50;, score=0.808 total time=   0.3s\n",
            "[CV 1/5; 21/28] START knn__n_neighbors=4, pca__n_components=54..................\n",
            "[CV 1/5; 21/28] END knn__n_neighbors=4, pca__n_components=54;, score=0.809 total time=   0.4s\n",
            "[CV 2/5; 21/28] START knn__n_neighbors=4, pca__n_components=54..................\n",
            "[CV 2/5; 21/28] END knn__n_neighbors=4, pca__n_components=54;, score=0.793 total time=   0.3s\n",
            "[CV 3/5; 21/28] START knn__n_neighbors=4, pca__n_components=54..................\n",
            "[CV 3/5; 21/28] END knn__n_neighbors=4, pca__n_components=54;, score=0.800 total time=   0.3s\n",
            "[CV 4/5; 21/28] START knn__n_neighbors=4, pca__n_components=54..................\n",
            "[CV 4/5; 21/28] END knn__n_neighbors=4, pca__n_components=54;, score=0.803 total time=   0.3s\n",
            "[CV 5/5; 21/28] START knn__n_neighbors=4, pca__n_components=54..................\n",
            "[CV 5/5; 21/28] END knn__n_neighbors=4, pca__n_components=54;, score=0.808 total time=   0.3s\n",
            "[CV 1/5; 22/28] START knn__n_neighbors=5, pca__n_components=5...................\n",
            "[CV 1/5; 22/28] END knn__n_neighbors=5, pca__n_components=5;, score=0.760 total time=   0.3s\n",
            "[CV 2/5; 22/28] START knn__n_neighbors=5, pca__n_components=5...................\n",
            "[CV 2/5; 22/28] END knn__n_neighbors=5, pca__n_components=5;, score=0.731 total time=   0.3s\n",
            "[CV 3/5; 22/28] START knn__n_neighbors=5, pca__n_components=5...................\n",
            "[CV 3/5; 22/28] END knn__n_neighbors=5, pca__n_components=5;, score=0.745 total time=   0.2s\n",
            "[CV 4/5; 22/28] START knn__n_neighbors=5, pca__n_components=5...................\n",
            "[CV 4/5; 22/28] END knn__n_neighbors=5, pca__n_components=5;, score=0.744 total time=   0.3s\n",
            "[CV 5/5; 22/28] START knn__n_neighbors=5, pca__n_components=5...................\n",
            "[CV 5/5; 22/28] END knn__n_neighbors=5, pca__n_components=5;, score=0.765 total time=   0.3s\n",
            "[CV 1/5; 23/28] START knn__n_neighbors=5, pca__n_components=10..................\n",
            "[CV 1/5; 23/28] END knn__n_neighbors=5, pca__n_components=10;, score=0.774 total time=   0.4s\n",
            "[CV 2/5; 23/28] START knn__n_neighbors=5, pca__n_components=10..................\n",
            "[CV 2/5; 23/28] END knn__n_neighbors=5, pca__n_components=10;, score=0.772 total time=   0.3s\n",
            "[CV 3/5; 23/28] START knn__n_neighbors=5, pca__n_components=10..................\n",
            "[CV 3/5; 23/28] END knn__n_neighbors=5, pca__n_components=10;, score=0.783 total time=   0.3s\n",
            "[CV 4/5; 23/28] START knn__n_neighbors=5, pca__n_components=10..................\n",
            "[CV 4/5; 23/28] END knn__n_neighbors=5, pca__n_components=10;, score=0.771 total time=   0.3s\n",
            "[CV 5/5; 23/28] START knn__n_neighbors=5, pca__n_components=10..................\n",
            "[CV 5/5; 23/28] END knn__n_neighbors=5, pca__n_components=10;, score=0.787 total time=   0.4s\n",
            "[CV 1/5; 24/28] START knn__n_neighbors=5, pca__n_components=15..................\n",
            "[CV 1/5; 24/28] END knn__n_neighbors=5, pca__n_components=15;, score=0.776 total time=   0.4s\n",
            "[CV 2/5; 24/28] START knn__n_neighbors=5, pca__n_components=15..................\n",
            "[CV 2/5; 24/28] END knn__n_neighbors=5, pca__n_components=15;, score=0.774 total time=   0.4s\n",
            "[CV 3/5; 24/28] START knn__n_neighbors=5, pca__n_components=15..................\n",
            "[CV 3/5; 24/28] END knn__n_neighbors=5, pca__n_components=15;, score=0.793 total time=   0.3s\n",
            "[CV 4/5; 24/28] START knn__n_neighbors=5, pca__n_components=15..................\n",
            "[CV 4/5; 24/28] END knn__n_neighbors=5, pca__n_components=15;, score=0.782 total time=   0.4s\n",
            "[CV 5/5; 24/28] START knn__n_neighbors=5, pca__n_components=15..................\n",
            "[CV 5/5; 24/28] END knn__n_neighbors=5, pca__n_components=15;, score=0.792 total time=   0.5s\n",
            "[CV 1/5; 25/28] START knn__n_neighbors=5, pca__n_components=20..................\n",
            "[CV 1/5; 25/28] END knn__n_neighbors=5, pca__n_components=20;, score=0.778 total time=   0.7s\n",
            "[CV 2/5; 25/28] START knn__n_neighbors=5, pca__n_components=20..................\n",
            "[CV 2/5; 25/28] END knn__n_neighbors=5, pca__n_components=20;, score=0.772 total time=   0.7s\n",
            "[CV 3/5; 25/28] START knn__n_neighbors=5, pca__n_components=20..................\n",
            "[CV 3/5; 25/28] END knn__n_neighbors=5, pca__n_components=20;, score=0.784 total time=   0.6s\n",
            "[CV 4/5; 25/28] START knn__n_neighbors=5, pca__n_components=20..................\n",
            "[CV 4/5; 25/28] END knn__n_neighbors=5, pca__n_components=20;, score=0.783 total time=   0.9s\n",
            "[CV 5/5; 25/28] START knn__n_neighbors=5, pca__n_components=20..................\n",
            "[CV 5/5; 25/28] END knn__n_neighbors=5, pca__n_components=20;, score=0.794 total time=   0.4s\n",
            "[CV 1/5; 26/28] START knn__n_neighbors=5, pca__n_components=25..................\n",
            "[CV 1/5; 26/28] END knn__n_neighbors=5, pca__n_components=25;, score=0.780 total time=   0.4s\n",
            "[CV 2/5; 26/28] START knn__n_neighbors=5, pca__n_components=25..................\n",
            "[CV 2/5; 26/28] END knn__n_neighbors=5, pca__n_components=25;, score=0.772 total time=   0.4s\n",
            "[CV 3/5; 26/28] START knn__n_neighbors=5, pca__n_components=25..................\n",
            "[CV 3/5; 26/28] END knn__n_neighbors=5, pca__n_components=25;, score=0.786 total time=   0.4s\n",
            "[CV 4/5; 26/28] START knn__n_neighbors=5, pca__n_components=25..................\n",
            "[CV 4/5; 26/28] END knn__n_neighbors=5, pca__n_components=25;, score=0.777 total time=   0.5s\n",
            "[CV 5/5; 26/28] START knn__n_neighbors=5, pca__n_components=25..................\n",
            "[CV 5/5; 26/28] END knn__n_neighbors=5, pca__n_components=25;, score=0.792 total time=   0.4s\n",
            "[CV 1/5; 27/28] START knn__n_neighbors=5, pca__n_components=50..................\n",
            "[CV 1/5; 27/28] END knn__n_neighbors=5, pca__n_components=50;, score=0.811 total time=   0.4s\n",
            "[CV 2/5; 27/28] START knn__n_neighbors=5, pca__n_components=50..................\n",
            "[CV 2/5; 27/28] END knn__n_neighbors=5, pca__n_components=50;, score=0.782 total time=   0.4s\n",
            "[CV 3/5; 27/28] START knn__n_neighbors=5, pca__n_components=50..................\n",
            "[CV 3/5; 27/28] END knn__n_neighbors=5, pca__n_components=50;, score=0.803 total time=   0.4s\n",
            "[CV 4/5; 27/28] START knn__n_neighbors=5, pca__n_components=50..................\n",
            "[CV 4/5; 27/28] END knn__n_neighbors=5, pca__n_components=50;, score=0.808 total time=   0.3s\n",
            "[CV 5/5; 27/28] START knn__n_neighbors=5, pca__n_components=50..................\n",
            "[CV 5/5; 27/28] END knn__n_neighbors=5, pca__n_components=50;, score=0.808 total time=   0.3s\n",
            "[CV 1/5; 28/28] START knn__n_neighbors=5, pca__n_components=54..................\n",
            "[CV 1/5; 28/28] END knn__n_neighbors=5, pca__n_components=54;, score=0.811 total time=   0.3s\n",
            "[CV 2/5; 28/28] START knn__n_neighbors=5, pca__n_components=54..................\n",
            "[CV 2/5; 28/28] END knn__n_neighbors=5, pca__n_components=54;, score=0.782 total time=   0.4s\n",
            "[CV 3/5; 28/28] START knn__n_neighbors=5, pca__n_components=54..................\n",
            "[CV 3/5; 28/28] END knn__n_neighbors=5, pca__n_components=54;, score=0.803 total time=   0.4s\n",
            "[CV 4/5; 28/28] START knn__n_neighbors=5, pca__n_components=54..................\n",
            "[CV 4/5; 28/28] END knn__n_neighbors=5, pca__n_components=54;, score=0.808 total time=   0.3s\n",
            "[CV 5/5; 28/28] START knn__n_neighbors=5, pca__n_components=54..................\n",
            "[CV 5/5; 28/28] END knn__n_neighbors=5, pca__n_components=54;, score=0.808 total time=   0.4s\n",
            "Precisión: 82.8% con {'knn__n_neighbors': 1, 'pca__n_components': 50}\n"
          ]
        }
      ],
      "source": [
        "scaler = StandardScaler()\n",
        "pca = PCA()\n",
        "knn = KNeighborsClassifier()\n",
        "\n",
        "pipe = Pipeline(steps=[(\"scaler\", scaler), (\"pca\", pca), (\"knn\", knn)])\n",
        "\n",
        "G = {\"pca__n_components\": [5,10,15,20,25,50,54], \"knn__n_neighbors\": [1,3,4,5]}\n",
        "\n",
        "GS = GridSearchCV(pipe, G, scoring='accuracy', refit=True, cv=5, verbose = 30)\n",
        "acc = GS.fit(X_train[:10000], y_train[:10000]).score(X_test, y_test)\n",
        "print(f'Precisión: {acc:.1%} con {GS.best_params_}')"
      ]
    }
  ],
  "metadata": {
    "colab": {
      "provenance": []
    },
    "kernelspec": {
      "display_name": "Python 3.10.12 ('per24')",
      "language": "python",
      "name": "python3"
    },
    "language_info": {
      "codemirror_mode": {
        "name": "ipython",
        "version": 3
      },
      "file_extension": ".py",
      "mimetype": "text/x-python",
      "name": "python",
      "nbconvert_exporter": "python",
      "pygments_lexer": "ipython3",
      "version": "3.11.9"
    },
    "orig_nbformat": 4,
    "vscode": {
      "interpreter": {
        "hash": "fd122beb8022f2712122b5999c951f7044343339c1b2f15d0d0b2c817898303d"
      }
    }
  },
  "nbformat": 4,
  "nbformat_minor": 0
}
