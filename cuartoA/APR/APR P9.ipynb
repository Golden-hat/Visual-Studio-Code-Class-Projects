{
 "cells": [
  {
   "cell_type": "markdown",
   "metadata": {},
   "source": [
    "## Keras CV\n",
    "\n",
    "Keras CV es una librería de visión por ordenador. **Importamos la librería de la manera siguiente**."
   ]
  },
  {
   "cell_type": "code",
   "execution_count": 11,
   "metadata": {},
   "outputs": [],
   "source": [
    "import keras_cv; import numpy as np; import matplotlib.pyplot as plt; import os; os.environ['TF_CPP_MIN_LOG_LEVEL'] = '2'\n",
    "import tensorflow as tf; import tensorflow_datasets as tfds\n"
   ]
  },
  {
   "cell_type": "markdown",
   "metadata": {},
   "source": [
    "Esto son algunos **backbones, o modelos preentrenados** que están **descabezados** y pensados para clasificación, extracción de características. La cabeza se ajusta posteriormente a la tarea de clasificación concreta. En esta práctica nos centraremos en ResNet.\n",
    "\n",
    "CSPDarkNet: https://keras.io/api/keras_cv/models/backbones/csp_darknet \n",
    "DenseNet: https://keras.io/api/keras_cv/models/backbones/densenet\n",
    "EfficientNetV1: https://keras.io/api/keras_cv/models/backbones/efficientnet_v1\n",
    "EfficientNetV2: https://keras.io/api/keras_cv/models/backbones/efficientnet_v2\n",
    "EfficientNet Lite: https://keras.io/api/keras_cv/models/backbones/efficientnet_lite\n",
    "MixTransformer: https://keras.io/api/keras_cv/models/backbones/mix_transformer\n",
    "MobileNetV3: https://keras.io/api/keras_cv/models/backbones/mobilenet_v3\n",
    "ResNetV1: https://keras.io/api/keras_cv/models/backbones/resnet_v1\n",
    "ResNetV2: https://keras.io/api/keras_cv/models/backbones/resnet_v2\n",
    "VGG16: https://keras.io/api/keras_cv/models/backbones/vgg16\n",
    "ViTDet: https://keras.io/api/keras_cv/models/backbones/vitdet\n",
    "YOLOV8: https://keras.io/api/keras_cv/models/backbones/yolo_v8"
   ]
  },
  {
   "cell_type": "markdown",
   "metadata": {},
   "source": [
    "También hay librerias para hacer segmentación y detectación de _bounding boxes_ en imágenes. Pero no se cubrirán en la práctica"
   ]
  },
  {
   "cell_type": "markdown",
   "metadata": {},
   "source": [
    "Ahora cargaremos el constructor de datasets de TensorFlow. List builder proporciona un listado de conjuntos de datos."
   ]
  },
  {
   "cell_type": "code",
   "execution_count": 12,
   "metadata": {},
   "outputs": [
    {
     "name": "stdout",
     "output_type": "stream",
     "text": [
      "Primeros 100 de 432: ['abstract_reasoning', 'accentdb', 'aeslc', 'aflw2k3d', 'ag_news_subset', 'ai2_arc', 'ai2_arc_with_ir', 'ai2dcaption', 'aloha_mobile', 'amazon_us_reviews', 'anli', 'answer_equivalence', 'arc', 'asqa', 'asset', 'assin2', 'asu_table_top_converted_externally_to_rlds', 'austin_buds_dataset_converted_externally_to_rlds', 'austin_sailor_dataset_converted_externally_to_rlds', 'austin_sirius_dataset_converted_externally_to_rlds', 'bair_robot_pushing_small', 'bc_z', 'bccd', 'beans', 'bee_dataset', 'beir', 'berkeley_autolab_ur5', 'berkeley_cable_routing', 'berkeley_fanuc_manipulation', 'berkeley_gnm_cory_hall', 'berkeley_gnm_recon', 'berkeley_gnm_sac_son', 'berkeley_mvp_converted_externally_to_rlds', 'berkeley_rpt_converted_externally_to_rlds', 'big_patent', 'bigearthnet', 'billsum', 'binarized_mnist', 'binary_alpha_digits', 'ble_wind_field', 'blimp', 'booksum', 'bool_q', 'bot_adversarial_dialogue', 'bridge', 'bridge_data_msr', 'bucc', 'c4', 'c4_wsrs', 'caltech101', 'caltech_birds2010', 'caltech_birds2011', 'cardiotox', 'cars196', 'cassava', 'cats_vs_dogs', 'celeb_a', 'celeb_a_hq', 'cfq', 'cherry_blossoms', 'chexpert', 'cifar10', 'cifar100', 'cifar100_n', 'cifar10_1', 'cifar10_corrupted', 'cifar10_h', 'cifar10_n', 'citrus_leaves', 'cityscapes', 'civil_comments', 'clevr', 'clic', 'clinc_oos', 'cmaterdb', 'cmu_franka_exploration_dataset_converted_externally_to_rlds', 'cmu_play_fusion', 'cmu_stretch', 'cnn_dailymail', 'coco', 'coco_captions', 'coil100', 'colorectal_histology', 'colorectal_histology_large', 'columbia_cairlab_pusht_real', 'common_voice', 'conll2002', 'conll2003', 'conq_hose_manipulation', 'controlled_noisy_web_labels', 'coqa', 'corr2cause', 'cos_e', 'cosmos_qa', 'covid19', 'covid19sum', 'crema_d', 'criteo', 'cs_restaurants', 'curated_breast_imaging_ddsm']\n"
     ]
    },
    {
     "name": "stderr",
     "output_type": "stream",
     "text": [
      "2024-12-10 23:26:37.931860: W external/local_tsl/tsl/platform/cloud/google_auth_provider.cc:184] All attempts to get a Google authentication bearer token failed, returning an empty token. Retrieving token from files failed with \"NOT_FOUND: Could not locate the credentials file.\". Retrieving token from GCE failed with \"FAILED_PRECONDITION: Error executing an HTTP request: libcurl code 6 meaning 'Couldn't resolve host name', error details: Could not resolve host: metadata.google.internal\".\n"
     ]
    }
   ],
   "source": [
    "list = tfds.list_builders()\n",
    "print(f'Primeros 100 de {len(list)}:', list[:100])"
   ]
  },
  {
   "cell_type": "markdown",
   "metadata": {},
   "source": [
    "## Datasets de tensorflow"
   ]
  },
  {
   "cell_type": "markdown",
   "metadata": {},
   "source": [
    "### Carga de datos y lectura de dataset"
   ]
  },
  {
   "cell_type": "markdown",
   "metadata": {},
   "source": [
    "Permite las siguientes opciones:\n",
    "- `split`, que define la partición a leer.\n",
    "\n",
    "- `shuffle_files`, para barajar o no los datos cada nueva época.\n",
    "\n",
    "- `data_dir`, directorio donde guardar el dataset.\n",
    " \n",
    "- `with_info`, devuelve metadatos.\n",
    "\n",
    "- `download`, habilita o inhabilita descarga."
   ]
  },
  {
   "cell_type": "code",
   "execution_count": 13,
   "metadata": {},
   "outputs": [
    {
     "name": "stdout",
     "output_type": "stream",
     "text": [
      "<_PrefetchDataset element_spec={'image': TensorSpec(shape=(28, 28, 1), dtype=tf.uint8, name=None), 'label': TensorSpec(shape=(), dtype=tf.int64, name=None)}>\n"
     ]
    }
   ],
   "source": [
    "ds = tfds.load('mnist', split='train', shuffle_files=True)\n",
    "assert isinstance(ds, tf.data.Dataset)\n",
    "print(ds)"
   ]
  },
  {
   "cell_type": "markdown",
   "metadata": {},
   "source": [
    "Podemos descargarlo con metadatos..."
   ]
  },
  {
   "cell_type": "code",
   "execution_count": 14,
   "metadata": {},
   "outputs": [
    {
     "name": "stdout",
     "output_type": "stream",
     "text": [
      "tfds.core.DatasetInfo(\n",
      "    name='mnist',\n",
      "    full_name='mnist/3.0.1',\n",
      "    description=\"\"\"\n",
      "    The MNIST database of handwritten digits.\n",
      "    \"\"\",\n",
      "    homepage='http://yann.lecun.com/exdb/mnist/',\n",
      "    data_dir='/home/yassin/tensorflow_datasets/mnist/3.0.1',\n",
      "    file_format=tfrecord,\n",
      "    download_size=Unknown size,\n",
      "    dataset_size=21.00 MiB,\n",
      "    features=FeaturesDict({\n",
      "        'image': Image(shape=(28, 28, 1), dtype=uint8),\n",
      "        'label': ClassLabel(shape=(), dtype=int64, num_classes=10),\n",
      "    }),\n",
      "    supervised_keys=('image', 'label'),\n",
      "    disable_shuffling=False,\n",
      "    splits={\n",
      "        'test': <SplitInfo num_examples=10000, num_shards=1>,\n",
      "        'train': <SplitInfo num_examples=60000, num_shards=1>,\n",
      "    },\n",
      "    citation=\"\"\"@article{lecun2010mnist,\n",
      "      title={MNIST handwritten digit database},\n",
      "      author={LeCun, Yann and Cortes, Corinna and Burges, CJ},\n",
      "      journal={ATT Labs [Online]. Available: http://yann.lecun.com/exdb/mnist},\n",
      "      volume={2},\n",
      "      year={2010}\n",
      "    }\"\"\",\n",
      ")\n"
     ]
    }
   ],
   "source": [
    "ds, info = tfds.load('mnist', with_info=True)\n",
    "print(info)"
   ]
  },
  {
   "cell_type": "code",
   "execution_count": 15,
   "metadata": {},
   "outputs": [
    {
     "name": "stdout",
     "output_type": "stream",
     "text": [
      "<_PrefetchDataset element_spec={'image': TensorSpec(shape=(28, 28, 1), dtype=tf.uint8, name=None), 'label': TensorSpec(shape=(), dtype=tf.int64, name=None)}>\n"
     ]
    }
   ],
   "source": [
    "# tfds.builder: tfds.load es un wrapper. tfds.core.DatasetBuilder es la clase base para todos los datasets.\n",
    "\n",
    "builder = tfds.builder('mnist')\n",
    "builder.download_and_prepare()\n",
    "ds = builder.as_dataset(split='train', shuffle_files=True)\n",
    "print(ds)"
   ]
  },
  {
   "cell_type": "markdown",
   "metadata": {},
   "source": [
    "### Iterar sobre un dataset\n",
    "\n",
    "Podemos consultarlo como un diccionario de python..."
   ]
  },
  {
   "cell_type": "code",
   "execution_count": 16,
   "metadata": {},
   "outputs": [
    {
     "name": "stdout",
     "output_type": "stream",
     "text": [
      "dict_keys(['image', 'label'])\n",
      "(28, 28, 1) tf.Tensor(4, shape=(), dtype=int64)\n"
     ]
    },
    {
     "name": "stderr",
     "output_type": "stream",
     "text": [
      "2024-12-10 23:26:43.346574: W tensorflow/core/kernels/data/cache_dataset_ops.cc:913] The calling iterator did not fully read the dataset being cached. In order to avoid unexpected truncation of the dataset, the partially cached contents of the dataset  will be discarded. This can happen if you have an input pipeline similar to `dataset.cache().take(k).repeat()`. You should use `dataset.take(k).cache().repeat()` instead.\n",
      "2024-12-10 23:26:43.347621: I tensorflow/core/framework/local_rendezvous.cc:404] Local rendezvous is aborting with status: OUT_OF_RANGE: End of sequence\n"
     ]
    }
   ],
   "source": [
    "ds = tfds.load('mnist', split='train'); ds = ds.take(1) # Only take a single example\n",
    "for example in ds: # example is `{'image': tf.Tensor, 'label': tf.Tensor}`\n",
    "  print(example.keys()); print(example[\"image\"].shape, example[\"label\"])"
   ]
  },
  {
   "cell_type": "markdown",
   "metadata": {},
   "source": [
    "O como una tupla"
   ]
  },
  {
   "cell_type": "code",
   "execution_count": 17,
   "metadata": {},
   "outputs": [
    {
     "name": "stdout",
     "output_type": "stream",
     "text": [
      "(28, 28, 1) tf.Tensor(4, shape=(), dtype=int64)\n"
     ]
    },
    {
     "name": "stderr",
     "output_type": "stream",
     "text": [
      "2024-12-10 23:26:44.508866: W tensorflow/core/kernels/data/cache_dataset_ops.cc:913] The calling iterator did not fully read the dataset being cached. In order to avoid unexpected truncation of the dataset, the partially cached contents of the dataset  will be discarded. This can happen if you have an input pipeline similar to `dataset.cache().take(k).repeat()`. You should use `dataset.take(k).cache().repeat()` instead.\n"
     ]
    }
   ],
   "source": [
    "ds = tfds.load('mnist', split='train', as_supervised=True); ds = ds.take(1) # Only take a single example\n",
    "for image, label in ds: # example is `{'image': tf.Tensor, 'label': tf.Tensor}`\n",
    "  print(image.shape, label)"
   ]
  },
  {
   "cell_type": "markdown",
   "metadata": {},
   "source": [
    "### Visualización del dataset"
   ]
  },
  {
   "cell_type": "code",
   "execution_count": 18,
   "metadata": {},
   "outputs": [
    {
     "name": "stderr",
     "output_type": "stream",
     "text": [
      "2024-12-10 23:26:45.687558: W tensorflow/core/kernels/data/cache_dataset_ops.cc:913] The calling iterator did not fully read the dataset being cached. In order to avoid unexpected truncation of the dataset, the partially cached contents of the dataset  will be discarded. This can happen if you have an input pipeline similar to `dataset.cache().take(k).repeat()`. You should use `dataset.take(k).cache().repeat()` instead.\n",
      "2024-12-10 23:26:45.687742: I tensorflow/core/framework/local_rendezvous.cc:404] Local rendezvous is aborting with status: OUT_OF_RANGE: End of sequence\n"
     ]
    },
    {
     "data": {
      "text/html": [
       "<style type=\"text/css\">\n",
       "</style>\n",
       "<table id=\"T_d92eb\">\n",
       "  <thead>\n",
       "    <tr>\n",
       "      <th class=\"blank level0\" >&nbsp;</th>\n",
       "      <th id=\"T_d92eb_level0_col0\" class=\"col_heading level0 col0\" >image</th>\n",
       "      <th id=\"T_d92eb_level0_col1\" class=\"col_heading level0 col1\" >label</th>\n",
       "    </tr>\n",
       "  </thead>\n",
       "  <tbody>\n",
       "    <tr>\n",
       "      <th id=\"T_d92eb_level0_row0\" class=\"row_heading level0 row0\" >0</th>\n",
       "      <td id=\"T_d92eb_row0_col0\" class=\"data row0 col0\" ><img src=\"data:image/png;base64,iVBORw0KGgoAAAANSUhEUgAAABwAAAAcCAAAAABXZoBIAAAAzElEQVR4nGNgGPQg5F8qjMmEIRn1XwinRvnvp2QxdTIyMjAwMDDksd17jCnpeN6CgYGBQZfhAhbzLP+WMzAwyPz8IAkXQuh8ycDAwMAQyHr1ORZJYQYGBgYGKYYDDFgkAxgZGBikMxnnISQZYQz2J0KXjwvpqV00+YfpnsS/f//++/v3bxiSGAuMYfp97rN3b1cz7MDiEQgI+bcGmYsatlH/T+PUyPD2jwVOOaOP23Br3P3vZyZOO///v7qGARd4/EkBt7FvbuOWoyIAAPBxN9oBRuu9AAAAAElFTkSuQmCC\" alt=\"Img\" /></td>\n",
       "      <td id=\"T_d92eb_row0_col1\" class=\"data row0 col1\" >4</td>\n",
       "    </tr>\n",
       "    <tr>\n",
       "      <th id=\"T_d92eb_level0_row1\" class=\"row_heading level0 row1\" >1</th>\n",
       "      <td id=\"T_d92eb_row1_col0\" class=\"data row1 col0\" ><img src=\"data:image/png;base64,iVBORw0KGgoAAAANSUhEUgAAABwAAAAcCAAAAABXZoBIAAAAmklEQVR4nGNgGOyAc/5KJlxyjIv+/TPEJan9798HWRgH3YhQBoZHj3HpfP/vVxQuOYF//54ieGjGNjEwXMalkeHbv3+eeCTfseAy1oCVYeofXBp3/f8lgUtO/su/azhtnPLvXwJOycv//uGU0//5bx1OySP//hngkuN5+u8tG4oIkj/VJBmO/8Il6cvAMBunlSIvX3DjlKQmAACHtTHZmy2LVAAAAABJRU5ErkJggg==\" alt=\"Img\" /></td>\n",
       "      <td id=\"T_d92eb_row1_col1\" class=\"data row1 col1\" >1</td>\n",
       "    </tr>\n",
       "    <tr>\n",
       "      <th id=\"T_d92eb_level0_row2\" class=\"row_heading level0 row2\" >2</th>\n",
       "      <td id=\"T_d92eb_row2_col0\" class=\"data row2 col0\" ><img src=\"data:image/png;base64,iVBORw0KGgoAAAANSUhEUgAAABwAAAAcCAAAAABXZoBIAAAA+0lEQVR4nM3QvyuEARzH8feVniSFiTBcKf8A85ESNqwkdbeY5NdmY/UXiM0z+Ad0SXZ1g0vJjw0Xi86pc13eD8NleJ47q3zG76tv3x/wJxk+jQ7bf8NldT9obdNl1fWW1nGh6mtLPIm0oJVWlvuIvOvMWx1qtqWa0U2aULNNNnCtT+MQapi0waK6CoR6mcS8Wuhq4Fqj1PZjU5NQnX0DUine433dD1qZBwjOrM/EsVc9AmCj6c5MWT8XADjX2mgMi+otABN1k0/YVncAFu/VLWLbPgNBduRxLBMQHe/FZ+Zs5EtLm8kP9F81MHrZTScNelZK6sFcXzP9o3wDadaKxdoXqEQAAAAASUVORK5CYII=\" alt=\"Img\" /></td>\n",
       "      <td id=\"T_d92eb_row2_col1\" class=\"data row2 col1\" >0</td>\n",
       "    </tr>\n",
       "    <tr>\n",
       "      <th id=\"T_d92eb_level0_row3\" class=\"row_heading level0 row3\" >3</th>\n",
       "      <td id=\"T_d92eb_row3_col0\" class=\"data row3 col0\" ><img src=\"data:image/png;base64,iVBORw0KGgoAAAANSUhEUgAAABwAAAAcCAAAAABXZoBIAAAA40lEQVR4nGNgGJpg//8OdCEWKM2obvgv/++6/zcZnJQebPuNqkjvLxI4IIgiJ3/v79/3b//9/fvv7993f/9NQzE2TZ6hc8J3JwYGBgaGK7cYeJE12n79+1cCxlH9+/cVB5LOlxy/pryHSUYyMO78gSR5W/vzU7gxfAz/cfq36fvfDw445Fr+/P3bg12KMebb37+7WbDKKSz89/fvNRmscjpb//79u0YBq5z0yb9//2bhcEvXv78fs1ixyzX//PsuHYc+gbvwAMcEmX//3kFzJxOc9YCRoesJLp3sx9+p4JIjGQAAnrpmBs0pxioAAAAASUVORK5CYII=\" alt=\"Img\" /></td>\n",
       "      <td id=\"T_d92eb_row3_col1\" class=\"data row3 col1\" >7</td>\n",
       "    </tr>\n",
       "  </tbody>\n",
       "</table>\n"
      ],
      "text/plain": [
       "                                               image  label\n",
       "0  [[[0], [0], [0], [0], [0], [0], [0], [0], [0],...      4\n",
       "1  [[[0], [0], [0], [0], [0], [0], [0], [0], [0],...      1\n",
       "2  [[[0], [0], [0], [0], [0], [0], [0], [0], [0],...      0\n",
       "3  [[[0], [0], [0], [0], [0], [0], [0], [0], [0],...      7"
      ]
     },
     "execution_count": 18,
     "metadata": {},
     "output_type": "execute_result"
    }
   ],
   "source": [
    "ds, info = tfds.load('mnist', split='train', with_info=True)\n",
    "tfds.as_dataframe(ds.take(4), info)"
   ]
  },
  {
   "cell_type": "code",
   "execution_count": 19,
   "metadata": {},
   "outputs": [
    {
     "name": "stderr",
     "output_type": "stream",
     "text": [
      "2024-12-10 23:26:47.340145: W tensorflow/core/kernels/data/cache_dataset_ops.cc:913] The calling iterator did not fully read the dataset being cached. In order to avoid unexpected truncation of the dataset, the partially cached contents of the dataset  will be discarded. This can happen if you have an input pipeline similar to `dataset.cache().take(k).repeat()`. You should use `dataset.take(k).cache().repeat()` instead.\n"
     ]
    },
    {
     "data": {
      "image/png": "[encoded data removed]",
      "text/plain": [
       "<Figure size 1200x300 with 4 Axes>"
      ]
     },
     "metadata": {},
     "output_type": "display_data"
    }
   ],
   "source": [
    "ds, info = tfds.load('mnist', split='train', with_info=True)\n",
    "fig = tfds.show_examples(ds, info, rows=1, cols=4)"
   ]
  },
  {
   "cell_type": "markdown",
   "metadata": {},
   "source": [
    "## MNIST con Keras"
   ]
  },
  {
   "cell_type": "code",
   "execution_count": 20,
   "metadata": {},
   "outputs": [],
   "source": [
    "(ds_train, ds_test), ds_info = tfds.load(\n",
    "  'mnist', split=['train', 'test'], shuffle_files=True, as_supervised=True, with_info=True)"
   ]
  },
  {
   "cell_type": "markdown",
   "metadata": {},
   "source": [
    "### Training pipeline\n",
    "\n",
    "Se utilizan pipelines para transformar y procesar las imágenes con las operaciones siguientes"
   ]
  },
  {
   "cell_type": "code",
   "execution_count": 21,
   "metadata": {},
   "outputs": [],
   "source": [
    "def normalize_img(image, label):\n",
    "  return tf.cast(image, tf.float32) / 255., label\n",
    "ds_train = ds_train.map(normalize_img, num_parallel_calls=tf.data.AUTOTUNE)\n",
    "ds_train = ds_train.cache()\n",
    "ds_train = ds_train.shuffle(ds_info.splits['train'].num_examples)\n",
    "ds_train = ds_train.batch(128)\n",
    "ds_train = ds_train.prefetch(tf.data.AUTOTUNE)"
   ]
  },
  {
   "cell_type": "markdown",
   "metadata": {},
   "source": [
    "### Test pipeline\n",
    "\n",
    "como el de training, pero sin shuffle y cache tras batch"
   ]
  },
  {
   "cell_type": "code",
   "execution_count": 22,
   "metadata": {},
   "outputs": [],
   "source": [
    "ds_test = ds_test.map(normalize_img, num_parallel_calls=tf.data.AUTOTUNE)\n",
    "ds_test = ds_test.batch(128)\n",
    "ds_test = ds_test.cache()\n",
    "ds_test = ds_test.prefetch(tf.data.AUTOTUNE)"
   ]
  },
  {
   "cell_type": "markdown",
   "metadata": {},
   "source": [
    "### Definición del modelo, compilacióny  ajuste\n",
    "\n",
    "Esto entrena la red neuronal definiendo la red mediante el método sequential. Es una red que no usa convoluciones. Toma la imagen, la aplana, la pasa por una capa densa RELU de 128 neuronas y por una última salida de 10 neuronas para la clasificación.\n",
    "\n",
    "Se define el optimizador Adam y se trabaja directamente con logits, es decir, no hay capa de softmax, que son valores reales en lugar de probabilidades. Se define como métrica teniendo en cuenta que es una red categórica.\n",
    "\n",
    "La novedad está en que el dataset es ds_train, y ds_test, un dataset propio de TensorFlow"
   ]
  },
  {
   "cell_type": "code",
   "execution_count": 23,
   "metadata": {},
   "outputs": [
    {
     "name": "stdout",
     "output_type": "stream",
     "text": [
      "Epoch 1/6\n"
     ]
    },
    {
     "name": "stderr",
     "output_type": "stream",
     "text": [
      "/home/yassin/anaconda3/envs/per/lib/python3.11/site-packages/keras/src/layers/reshaping/flatten.py:37: UserWarning: Do not pass an `input_shape`/`input_dim` argument to a layer. When using Sequential models, prefer using an `Input(shape)` object as the first layer in the model instead.\n",
      "  super().__init__(**kwargs)\n"
     ]
    },
    {
     "name": "stdout",
     "output_type": "stream",
     "text": [
      "\u001b[1m469/469\u001b[0m \u001b[32m━━━━━━━━━━━━━━━━━━━━\u001b[0m\u001b[37m\u001b[0m \u001b[1m3s\u001b[0m 2ms/step - loss: 0.6301 - sparse_categorical_accuracy: 0.8264 - val_loss: 0.1994 - val_sparse_categorical_accuracy: 0.9426\n",
      "Epoch 2/6\n",
      "\u001b[1m469/469\u001b[0m \u001b[32m━━━━━━━━━━━━━━━━━━━━\u001b[0m\u001b[37m\u001b[0m \u001b[1m1s\u001b[0m 2ms/step - loss: 0.1847 - sparse_categorical_accuracy: 0.9474 - val_loss: 0.1403 - val_sparse_categorical_accuracy: 0.9575\n",
      "Epoch 3/6\n",
      "\u001b[1m469/469\u001b[0m \u001b[32m━━━━━━━━━━━━━━━━━━━━\u001b[0m\u001b[37m\u001b[0m \u001b[1m1s\u001b[0m 2ms/step - loss: 0.1241 - sparse_categorical_accuracy: 0.9647 - val_loss: 0.1131 - val_sparse_categorical_accuracy: 0.9673\n",
      "Epoch 4/6\n",
      "\u001b[1m469/469\u001b[0m \u001b[32m━━━━━━━━━━━━━━━━━━━━\u001b[0m\u001b[37m\u001b[0m \u001b[1m1s\u001b[0m 2ms/step - loss: 0.0950 - sparse_categorical_accuracy: 0.9725 - val_loss: 0.0998 - val_sparse_categorical_accuracy: 0.9712\n",
      "Epoch 5/6\n",
      "\u001b[1m469/469\u001b[0m \u001b[32m━━━━━━━━━━━━━━━━━━━━\u001b[0m\u001b[37m\u001b[0m \u001b[1m1s\u001b[0m 2ms/step - loss: 0.0732 - sparse_categorical_accuracy: 0.9790 - val_loss: 0.0938 - val_sparse_categorical_accuracy: 0.9716\n",
      "Epoch 6/6\n",
      "\u001b[1m469/469\u001b[0m \u001b[32m━━━━━━━━━━━━━━━━━━━━\u001b[0m\u001b[37m\u001b[0m \u001b[1m1s\u001b[0m 2ms/step - loss: 0.0628 - sparse_categorical_accuracy: 0.9816 - val_loss: 0.0865 - val_sparse_categorical_accuracy: 0.9725\n"
     ]
    }
   ],
   "source": [
    "model = keras.models.Sequential([\n",
    "  keras.layers.Flatten(input_shape=(28, 28, 1)), # Aplana la entrada\n",
    "  keras.layers.Dense(128, activation='relu'),\n",
    "  keras.layers.Dense(10)]) # Capa de 10 neuronas para clasificación \n",
    "model.compile(\n",
    "  optimizer=keras.optimizers.Adam(0.001),\n",
    "  loss=keras.losses.SparseCategoricalCrossentropy(from_logits=True),\n",
    "  metrics=[keras.metrics.SparseCategoricalAccuracy()])\n",
    "model.fit(ds_train, epochs=6, validation_data=ds_test);"
   ]
  },
  {
   "cell_type": "markdown",
   "metadata": {},
   "source": [
    "# Ejemplo con CIFAR-10"
   ]
  },
  {
   "cell_type": "code",
   "execution_count": 24,
   "metadata": {},
   "outputs": [
    {
     "name": "stdout",
     "output_type": "stream",
     "text": [
      "The CIFAR-10 dataset consists of 60000 32x32 colour images in 10 classes, with 6000 images per class. There are 50000 training images and 10000 test images. \n",
      "\n",
      " {'train': <SplitInfo num_examples=50000, num_shards=1>, 'test': <SplitInfo num_examples=10000, num_shards=1>} \n",
      "\n",
      " FeaturesDict({\n",
      "    'id': Text(shape=(), dtype=string),\n",
      "    'image': Image(shape=(32, 32, 3), dtype=uint8),\n",
      "    'label': ClassLabel(shape=(), dtype=int64, num_classes=10),\n",
      "})\n"
     ]
    }
   ],
   "source": [
    "import os; os.environ[\"KERAS_BACKEND\"] = \"tensorflow\"; os.environ['TF_CPP_MIN_LOG_LEVEL'] = '2'\n",
    "import numpy as np; import matplotlib.pyplot as plt\n",
    "import tensorflow as tf; import tensorflow_datasets as tfds; import keras; import keras_cv\n",
    "keras.utils.set_random_seed(23)\n",
    "(train, test), info = tfds.load(\"cifar10\", split=['train', 'test'], with_info=True, as_supervised=True)\n",
    "print(info.description, \"\\n\\n\", info.splits, \"\\n\\n\", info.features)"
   ]
  },
  {
   "cell_type": "code",
   "execution_count": 26,
   "metadata": {},
   "outputs": [
    {
     "name": "stderr",
     "output_type": "stream",
     "text": [
      "2024-12-10 23:27:16.815707: W tensorflow/core/kernels/data/cache_dataset_ops.cc:913] The calling iterator did not fully read the dataset being cached. In order to avoid unexpected truncation of the dataset, the partially cached contents of the dataset  will be discarded. This can happen if you have an input pipeline similar to `dataset.cache().take(k).repeat()`. You should use `dataset.take(k).cache().repeat()` instead.\n"
     ]
    },
    {
     "data": {
      "image/png": "[encoded data removed]",
      "text/plain": [
       "<Figure size 1500x600 with 10 Axes>"
      ]
     },
     "metadata": {},
     "output_type": "display_data"
    }
   ],
   "source": [
    "fig = tfds.show_examples(train, info, rows=2, cols=5)"
   ]
  },
  {
   "cell_type": "markdown",
   "metadata": {},
   "source": [
    "### Transfer Learning"
   ]
  },
  {
   "cell_type": "markdown",
   "metadata": {},
   "source": [
    "Métodos de preproceso y caché en la carga de datos. Lo que hace esto es pasar a 1 hot encoding cada etiquieta de clase. Se hace batches de 10 grupos. Lo mismo para conjunto de test sin hacer el barajado. "
   ]
  },
  {
   "cell_type": "code",
   "execution_count": 27,
   "metadata": {},
   "outputs": [],
   "source": [
    "def normalize_images(images, labels):\n",
    "  return tf.cast(images, tf.float32), tf.one_hot(labels, 10)\n",
    "train = train.map(normalize_images, num_parallel_calls=tf.data.AUTOTUNE)\n",
    "batch_size = 32; train = train.cache().shuffle(10 * batch_size).batch(batch_size).prefetch(tf.data.AUTOTUNE)\n",
    "test = test.map(normalize_images, num_parallel_calls=tf.data.AUTOTUNE)\n",
    "test = test.batch(batch_size).cache().prefetch(tf.data.AUTOTUNE)"
   ]
  },
  {
   "cell_type": "code",
   "execution_count": 34,
   "metadata": {},
   "outputs": [
    {
     "name": "stdout",
     "output_type": "stream",
     "text": [
      "The CIFAR-10 dataset consists of 60000 32x32 colour images in 10 classes, with 6000 images per class. There are 50000 training images and 10000 test images. \n",
      "\n",
      " {'train': <SplitInfo num_examples=50000, num_shards=1>, 'test': <SplitInfo num_examples=10000, num_shards=1>} \n",
      "\n",
      " FeaturesDict({\n",
      "    'id': Text(shape=(), dtype=string),\n",
      "    'image': Image(shape=(32, 32, 3), dtype=uint8),\n",
      "    'label': ClassLabel(shape=(), dtype=int64, num_classes=10),\n",
      "})\n"
     ]
    }
   ],
   "source": [
    "import os; os.environ[\"KERAS_BACKEND\"] = \"tensorflow\"; os.environ['TF_CPP_MIN_LOG_LEVEL'] = '2'\n",
    "import numpy as np; import matplotlib.pyplot as plt\n",
    "import tensorflow as tf; import tensorflow_datasets as tfds; import keras; import keras_cv\n",
    "keras.utils.set_random_seed(23)\n",
    "(train, test), info = tfds.load(\"cifar10\", split=['train', 'test'], with_info=True, as_supervised=True)\n",
    "print(info.description, \"\\n\\n\", info.splits, \"\\n\\n\", info.features)"
   ]
  },
  {
   "cell_type": "markdown",
   "metadata": {},
   "source": [
    "Las capas de redimensión se hacen para adecuar la entrada, pueden hacerse también dentro del método normalize.\n",
    " \n",
    "Se carga la resNet sin la cabeza."
   ]
  },
  {
   "cell_type": "code",
   "execution_count": null,
   "metadata": {},
   "outputs": [],
   "source": [
    "import time; start = time.time()\n",
    "inputs = keras.Input(shape=(32, 32, 3))\n",
    "x = keras.layers.Rescaling(scale=1 / 127.5, offset=-1)(inputs)\n",
    "x = keras.layers.Resizing(224, 224, interpolation=\"nearest\")(x) # 224x224x3 en ResNet50V2\n",
    "backbone = keras.applications.resnet_v2.ResNet50V2(include_top=False)\n",
    "# backbone = keras_cv.models.ResNetV2Backbone.from_preset(\"resnet50_v2_imagenet\", include_rescaling=False)\n",
    "backbone.trainable = False\n",
    "x = backbone(x, training=False)\n",
    "x = keras.layers.GlobalAveragePooling2D()(x)\n",
    "x = keras.layers.Dense(units=800, activation='relu')(x)\n",
    "x = keras.layers.Dropout(0.5)(x)\n",
    "predictions = keras.layers.Dense(10, activation='softmax')(x)\n",
    "M = keras.models.Model(inputs=inputs, outputs=predictions)\n",
    "opt = keras.optimizers.Adam(learning_rate=0.001)\n",
    "M.compile(loss=\"categorical_crossentropy\", optimizer=opt, metrics=[\"accuracy\"])\n",
    "check = keras.callbacks.ModelCheckpoint('cifar10.keras', monitor='val_accuracy', save_best_only=True, verbose=1)\n",
    "reduce = keras.callbacks.ReduceLROnPlateau(\n",
    "    monitor='val_accuracy', factor=0.3, patience=5, min_delta=0.0005, min_lr=0.0)\n",
    "early = keras.callbacks.EarlyStopping(monitor='val_accuracy', patience=10, min_delta=0.0005)\n",
    "H = M.fit(train, epochs=100, validation_data=test, verbose=1, callbacks=[check, early, reduce])\n",
    "print('Tiempo (hh:mm:ss):', time.strftime('%H:%M:%S', time.gmtime(time.time() - start)))"
   ]
  },
  {
   "cell_type": "code",
   "execution_count": null,
   "metadata": {},
   "outputs": [],
   "source": [
    "fig, axes = plt.subplots(1, 2, figsize=(12, 4)); plt.subplots_adjust(wspace=0.3)\n",
    "xx = np.arange(1, len(H.history['loss'])+1)\n",
    "ax = axes[0]; ax.grid(); ax.set_xlabel('epoch'); ax.set_ylabel('loss'); # ax.set_xticks(xx)\n",
    "ax.plot(xx, H.history['loss'], color='b', label='train')\n",
    "ax.plot(xx, H.history['val_loss'], color='r', label='val'); ax.legend()\n",
    "ax = axes[1]; ax.grid(); ax.set_xlabel('epoch'); ax.set_ylabel('accuracy'); # ax.set_xticks(xx)\n",
    "ax.plot(xx, H.history['accuracy'], color='b', label='train')\n",
    "ax.plot(xx, H.history['val_accuracy'], color='r', label='val'); ax.legend();"
   ]
  },
  {
   "cell_type": "markdown",
   "metadata": {},
   "source": [
    "### Fine Tuning"
   ]
  },
  {
   "cell_type": "code",
   "execution_count": 32,
   "metadata": {},
   "outputs": [],
   "source": [
    "import os; os.environ[\"KERAS_BACKEND\"] = \"tensorflow\"; os.environ['TF_CPP_MIN_LOG_LEVEL'] = '2'\n",
    "import numpy as np; import matplotlib.pyplot as plt\n",
    "import tensorflow as tf; import tensorflow_datasets as tfds; import keras; import keras_cv\n",
    "keras.utils.set_random_seed(23)\n",
    "train, test = tfds.load(\"cifar10\", split=['train', 'test'], as_supervised=True)"
   ]
  },
  {
   "cell_type": "code",
   "execution_count": 33,
   "metadata": {},
   "outputs": [],
   "source": [
    "def normalize_images(images, labels):\n",
    "  return tf.cast(images, tf.float32), tf.one_hot(labels, 10)\n",
    "train = train.map(normalize_images, num_parallel_calls=tf.data.AUTOTUNE)\n",
    "batch_size = 32; train = train.cache().shuffle(10 * batch_size).batch(batch_size).prefetch(tf.data.AUTOTUNE)\n",
    "test = test.map(normalize_images, num_parallel_calls=tf.data.AUTOTUNE)\n",
    "test = test.batch(batch_size).cache().prefetch(tf.data.AUTOTUNE)"
   ]
  },
  {
   "cell_type": "code",
   "execution_count": null,
   "metadata": {},
   "outputs": [],
   "source": [
    "import time; start = time.time()\n",
    "M = keras.models.load_model('cifar10.keras')\n",
    "for layer in M.layers:\n",
    "  if not isinstance(layer, keras.layers.BatchNormalization):\n",
    "    layer.trainable = True\n",
    "opt = keras.optimizers.Adam(learning_rate=1e-5)\n",
    "M.compile(loss=\"categorical_crossentropy\", optimizer=opt, metrics=[\"accuracy\"])\n",
    "check = keras.callbacks.ModelCheckpoint('cifar10ft.keras', monitor='val_accuracy', save_best_only=True, verbose=1)\n",
    "reduce = keras.callbacks.ReduceLROnPlateau(\n",
    "  monitor='val_accuracy', factor=0.3, patience=5, min_delta=0.0005, min_lr=0.0)\n",
    "early = keras.callbacks.EarlyStopping(monitor='val_accuracy', patience=10, min_delta=0.0005)\n",
    "H = M.fit(train, epochs=100, validation_data=test, verbose=1, callbacks=[check, early, reduce])\n",
    "print('Tiempo (hh:mm:ss):', time.strftime('%H:%M:%S', time.gmtime(time.time() - start)))"
   ]
  },
  {
   "cell_type": "code",
   "execution_count": null,
   "metadata": {},
   "outputs": [],
   "source": [
    "ig, axes = plt.subplots(1, 2, figsize=(12, 4)); plt.subplots_adjust(wspace=0.3)\n",
    "xx = np.arange(1, len(H.history['loss'])+1)\n",
    "ax = axes[0]; ax.grid(); ax.set_xlabel('epoch'); ax.set_ylabel('loss'); # ax.set_xticks(xx)\n",
    "ax.plot(xx, H.history['loss'], color='b', label='train')\n",
    "ax.plot(xx, H.history['val_loss'], color='r', label='val'); ax.legend()\n",
    "ax = axes[1]; ax.grid(); ax.set_xlabel('epoch'); ax.set_ylabel('accuracy'); # ax.set_xticks(xx)\n",
    "ax.plot(xx, H.history['accuracy'], color='b', label='train')\n",
    "ax.plot(xx, H.history['val_accuracy'], color='r', label='val'); ax.legend();"
   ]
  },
  {
   "cell_type": "markdown",
   "metadata": {},
   "source": [
    "### Aumento de datos"
   ]
  },
  {
   "cell_type": "code",
   "execution_count": 36,
   "metadata": {},
   "outputs": [],
   "source": [
    "import os; os.environ[\"KERAS_BACKEND\"] = \"tensorflow\"; os.environ['TF_CPP_MIN_LOG_LEVEL'] = '2'\n",
    "import numpy as np; import matplotlib.pyplot as plt\n",
    "import tensorflow as tf; import tensorflow_datasets as tfds; import keras; import keras_cv\n",
    "keras.utils.set_random_seed(23)\n",
    "train, test = tfds.load(\"cifar10\", split=['train', 'test'], as_supervised=True)"
   ]
  },
  {
   "cell_type": "code",
   "execution_count": null,
   "metadata": {},
   "outputs": [],
   "source": [
    "def normalize_images(images, labels):\n",
    "  return tf.cast(images, tf.float32), tf.one_hot(labels, 10)\n",
    "\n",
    "random_flip = keras_cv.layers.RandomFlip(\"horizontal\")\n",
    "def augment_images(images, labels):\n",
    "  images = random_flip(images)\n",
    "  return normalize_images(images, labels)\n",
    "\n",
    "train = train.map(augment_images, num_parallel_calls=tf.data.AUTOTUNE)\n",
    "batch_size = 32; train = train.cache().shuffle(10 * batch_size).batch(batch_size).prefetch(tf.data.AUTOTUNE)\n",
    "test = test.map(normalize_images, num_parallel_calls=tf.data.AUTOTUNE)\n",
    "test = test.batch(batch_size).cache().prefetch(tf.data.AUTOTUNE)"
   ]
  },
  {
   "cell_type": "code",
   "execution_count": null,
   "metadata": {},
   "outputs": [],
   "source": [
    "import time; start = time.time()\n",
    "M = keras.models.load_model('cifar10ft.keras')\n",
    "# M.summary(line_length=95, positions=[0.59, 0.82, 0.94, 1.], show_trainable=True)\n",
    "for layer in M.layers:\n",
    "  if not isinstance(layer, keras.layers.BatchNormalization):\n",
    "    layer.trainable = True\n",
    "#opt = keras.optimizers.Adam(learning_rate=1e-5)\n",
    "#M.compile(loss=\"categorical_crossentropy\", optimizer=opt, metrics=[\"accuracy\"])\n",
    "check = keras.callbacks.ModelCheckpoint('cifar10fta.keras', monitor='val_accuracy', save_best_only=True, verbose=1)\n",
    "reduce = keras.callbacks.ReduceLROnPlateau(\n",
    "monitor='val_accuracy', factor=0.3, patience=5, min_delta=0.0005, min_lr=0.0)\n",
    "early = keras.callbacks.EarlyStopping(monitor='val_accuracy', patience=10, min_delta=0.0005)\n",
    "H = M.fit(train, epochs=100, validation_data=test, verbose=1, callbacks=[check, early, reduce])\n",
    "print('Tiempo (hh:mm:ss):', time.strftime('%H:%M:%S', time.gmtime(time.time() - start)))"
   ]
  }
 ],
 "metadata": {
  "kernelspec": {
   "display_name": "per",
   "language": "python",
   "name": "python3"
  },
  "language_info": {
   "codemirror_mode": {
    "name": "ipython",
    "version": 3
   },
   "file_extension": ".py",
   "mimetype": "text/x-python",
   "name": "python",
   "nbconvert_exporter": "python",
   "pygments_lexer": "ipython3",
   "version": "3.11.9"
  }
 },
 "nbformat": 4,
 "nbformat_minor": 2
}
