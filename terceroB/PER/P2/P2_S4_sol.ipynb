{
  "nbformat": 4,
  "nbformat_minor": 0,
  "metadata": {
    "colab": {
      "provenance": []
    },
    "kernelspec": {
      "name": "python3",
      "display_name": "Python 3"
    },
    "language_info": {
      "name": "python"
    }
  },
  "cells": [
    {
      "cell_type": "markdown",
      "source": [
        "# KVecinos en un dataset de detección de spam\n",
        "\n",
        "Se propone emplear un clasificador basado en distancias sobre el dataset id=44 de openml de detección de Spam. Son un total de 4601 muestras con 57 características."
      ],
      "metadata": {
        "id": "58B27Xk_RkUS"
      }
    },
    {
      "cell_type": "code",
      "execution_count": null,
      "metadata": {
        "id": "ol4-XMphRR0o"
      },
      "outputs": [],
      "source": [
        "from sklearn.datasets import fetch_openml\n",
        "from sklearn.model_selection import train_test_split\n",
        "\n",
        "## Descarga del dataset Spam\n",
        "X, y = fetch_openml(data_id=44, as_frame=False, cache=True, return_X_y=True)\n",
        "print(X.shape)\n",
        "\n",
        "## Partición train/test\n",
        "X_train, X_test, y_train, y_test = train_test_split(X, y, test_size=0.2, shuffle=True, random_state=23)\n"
      ]
    },
    {
      "cell_type": "markdown",
      "source": [
        "## El clasificador por los vecinos más cercanos"
      ],
      "metadata": {
        "id": "ylTk-2JuSJyD"
      }
    },
    {
      "cell_type": "code",
      "source": [
        "from sklearn.neighbors import KNeighborsClassifier\n",
        "\n",
        "kv = KNeighborsClassifier()\n",
        "acc=kv.fit(X_train,y_train).score(X_test,y_test)\n",
        "\n",
        "print(f'Precisión: {acc:.1%}')"
      ],
      "metadata": {
        "colab": {
          "base_uri": "https://localhost:8080/"
        },
        "id": "9fwMFShNRfKk",
        "outputId": "c0c027af-78f8-4f85-c551-68ff804cda2e"
      },
      "execution_count": 20,
      "outputs": [
        {
          "output_type": "stream",
          "name": "stdout",
          "text": [
            "Precisión: 79.5%\n"
          ]
        }
      ]
    },
    {
      "cell_type": "markdown",
      "source": [
        "**Ejercicio:** Explora el principal parámetros del KNN (n_neighbors) y realiza una búsqueda mediante alguna técnica de optimización ya vista en la práctica anterior"
      ],
      "metadata": {
        "id": "IMCCldnbSR9g"
      }
    },
    {
      "cell_type": "code",
      "source": [
        "# Solución\n",
        "\n",
        "from sklearn.model_selection import GridSearchCV\n",
        "\n",
        "G = {\"n_neighbors\":[1,3,4,5,10]}\n",
        "\n",
        "GS = GridSearchCV(KNeighborsClassifier(), G, scoring='accuracy', refit=True, cv=5)\n",
        "\n",
        "acc = GS.fit(X_train, y_train).score(X_test, y_test)\n",
        "print(f'Precisión: {acc:.1%} con {GS.best_params_}')"
      ],
      "metadata": {
        "colab": {
          "base_uri": "https://localhost:8080/"
        },
        "id": "QxptkGJ9SQ8f",
        "outputId": "8d20d012-c2f2-41cf-b1f9-314ff497891d"
      },
      "execution_count": 19,
      "outputs": [
        {
          "output_type": "stream",
          "name": "stdout",
          "text": [
            "Precisión: 82.1% con {'n_neighbors': 1}\n"
          ]
        }
      ]
    },
    {
      "cell_type": "markdown",
      "source": [
        "## Mejoras\n",
        "\n",
        "La función de distancia empleada por defecto es la distancia euclídea. Dicha distancia requiere un preproceso de las muestras para que tengan una escala similar todas ellas. Además KNN podría beneficiarse de una proyección mediante PCA con el fin de reducir la dimensionalidad.\n",
        "\n",
        "**Ejercicio:** Implementa un pipeline con la normalización de los datos y un PCA, seguido del KNN. Busca los mejores parámetros. Se podría conseguir una tasa de acierto >90%.\n"
      ],
      "metadata": {
        "id": "pUGR1U0CTSyV"
      }
    },
    {
      "cell_type": "code",
      "source": [
        "# Solución\n",
        "\n",
        "from sklearn.preprocessing import StandardScaler\n",
        "from sklearn.decomposition import PCA\n",
        "from sklearn.pipeline import Pipeline;\n",
        "\n",
        "scaler = StandardScaler()\n",
        "pca = PCA()\n",
        "knn = KNeighborsClassifier()\n",
        "\n",
        "pipe = Pipeline(steps=[(\"scaler\", scaler), (\"pca\", pca), (\"knn\", knn)])\n",
        "\n",
        "G = {\"pca__n_components\": [5,10,15,20,25,50], \"knn__n_neighbors\": [1,3,4,5]}\n",
        "GS = GridSearchCV(pipe, G, scoring='accuracy', refit=True, cv=5)\n",
        "acc = GS.fit(X_train, y_train).score(X_test, y_test)\n",
        "print(f'Precisión: {acc:.1%} con {GS.best_params_}')"
      ],
      "metadata": {
        "colab": {
          "base_uri": "https://localhost:8080/"
        },
        "id": "iff6iyN-Tw4G",
        "outputId": "c627d453-ccb7-4486-e5f0-785b120fc93b"
      },
      "execution_count": 23,
      "outputs": [
        {
          "output_type": "stream",
          "name": "stdout",
          "text": [
            "Precisión: 89.0% con {'knn__n_neighbors': 3, 'pca__n_components': 50}\n"
          ]
        }
      ]
    },
    {
      "cell_type": "markdown",
      "source": [
        "También podríamos probar diferentes funciones de distancia [sklearn distances](https://scikit-learn.org/stable/modules/generated/sklearn.metrics.pairwise.distance_metrics.html#sklearn.metrics.pairwise.distance_metrics) a emplear en el parámetro \"metric\". Así mismo podríamos explorar el parámetro \"weights\" que pondera el voto de cada vecino de forma diferente según el parámetro escogido.\n",
        "\n",
        "**Ejercicio:** prueba también diferentes métricas y \"weights\" junto con todo lo anterior. Emplea el BayessianOpt visto en la práctica anterior."
      ],
      "metadata": {
        "id": "w8r-aW7yWMru"
      }
    },
    {
      "cell_type": "code",
      "source": [
        "# Solución\n",
        "!pip install scikit-optimize\n"
      ],
      "metadata": {
        "colab": {
          "base_uri": "https://localhost:8080/"
        },
        "id": "IjHbn79eVfHK",
        "outputId": "ea1a18e9-1e37-4f15-8075-29eff4a77803"
      },
      "execution_count": 22,
      "outputs": [
        {
          "output_type": "stream",
          "name": "stdout",
          "text": [
            "Requirement already satisfied: scikit-optimize in /usr/local/lib/python3.10/dist-packages (0.10.1)\n",
            "Requirement already satisfied: joblib>=0.11 in /usr/local/lib/python3.10/dist-packages (from scikit-optimize) (1.4.2)\n",
            "Requirement already satisfied: pyaml>=16.9 in /usr/local/lib/python3.10/dist-packages (from scikit-optimize) (24.4.0)\n",
            "Requirement already satisfied: numpy>=1.20.3 in /usr/local/lib/python3.10/dist-packages (from scikit-optimize) (1.25.2)\n",
            "Requirement already satisfied: scipy>=1.1.0 in /usr/local/lib/python3.10/dist-packages (from scikit-optimize) (1.11.4)\n",
            "Requirement already satisfied: scikit-learn>=1.0.0 in /usr/local/lib/python3.10/dist-packages (from scikit-optimize) (1.2.2)\n",
            "Requirement already satisfied: packaging>=21.3 in /usr/local/lib/python3.10/dist-packages (from scikit-optimize) (24.0)\n",
            "Requirement already satisfied: PyYAML in /usr/local/lib/python3.10/dist-packages (from pyaml>=16.9->scikit-optimize) (6.0.1)\n",
            "Requirement already satisfied: threadpoolctl>=2.0.0 in /usr/local/lib/python3.10/dist-packages (from scikit-learn>=1.0.0->scikit-optimize) (3.5.0)\n"
          ]
        }
      ]
    },
    {
      "cell_type": "code",
      "source": [
        "# Solución\n",
        "from skopt import BayesSearchCV\n",
        "from skopt.space import Real, Categorical, Integer\n",
        "\n",
        "# Probar sólo 10 combinaciones de parámetros, n_iter=10\n",
        "scaler = StandardScaler()\n",
        "pca = PCA()\n",
        "knn = KNeighborsClassifier()\n",
        "\n",
        "pipe = Pipeline(steps=[(\"scaler\", scaler), (\"pca\", pca), (\"knn\", knn)])\n",
        "\n",
        "G = {\"pca__n_components\": Integer(1,57),\n",
        "     \"knn__n_neighbors\": Integer(1,20),\n",
        "     \"knn__metric\": Categorical([\"l1\",\"l2\"]),\n",
        "     \"knn__weights\":Categorical([\"uniform\",\"distance\"])}\n",
        "\n",
        "BS = BayesSearchCV(pipe, G, scoring='accuracy', n_iter=20, refit=True, cv=5)\n",
        "\n",
        "acc = BS.fit(X_train, y_train).score(X_test, y_test)\n",
        "print(f'Precisión: {acc:.1%} con {BS.best_params_}')"
      ],
      "metadata": {
        "colab": {
          "base_uri": "https://localhost:8080/"
        },
        "id": "aqG3GHMuVM7r",
        "outputId": "3b2473b7-16ef-4e24-a648-b6f11c5ebe11"
      },
      "execution_count": 24,
      "outputs": [
        {
          "output_type": "stream",
          "name": "stdout",
          "text": [
            "Precisión: 92.4% con OrderedDict([('knn__metric', 'l2'), ('knn__n_neighbors', 13), ('knn__weights', 'distance'), ('pca__n_components', 29)])\n"
          ]
        }
      ]
    },
    {
      "cell_type": "markdown",
      "source": [
        "## Olivetti Faces\n",
        "\n",
        "Prueba ahora el clasificador KNN junto con todos los parámetros y preprocesos que creas convenientes sobre el dataset de reconocimiento facial de Olivetti."
      ],
      "metadata": {
        "id": "eCSmzF9XZXE2"
      }
    },
    {
      "cell_type": "code",
      "source": [
        "# Solución\n",
        "\n",
        "from sklearn.datasets import fetch_olivetti_faces;\n",
        "X, y = fetch_olivetti_faces(return_X_y=True)\n",
        "X_train, X_test, y_train, y_test = train_test_split(X, y, test_size=0.2, shuffle=True, random_state=23)\n",
        "\n",
        "\n",
        "# Probar sólo 10 combinaciones de parámetros, n_iter=10\n",
        "scaler = StandardScaler()\n",
        "pca = PCA()\n",
        "knn = KNeighborsClassifier()\n",
        "\n",
        "pipe = Pipeline(steps=[(\"scaler\", scaler), (\"pca\", pca), (\"knn\", knn)])\n",
        "\n",
        "G = {\"pca__n_components\": Integer(10,200),\n",
        "     \"knn__n_neighbors\": Integer(1,10),\n",
        "     \"knn__metric\": Categorical([\"l1\",\"l2\"]),\n",
        "     \"knn__weights\":Categorical([\"uniform\",\"distance\"])}\n",
        "\n",
        "BS = BayesSearchCV(pipe, G, scoring='accuracy', n_iter=20, refit=True, cv=5,verbose=10)\n",
        "\n",
        "acc = BS.fit(X_train, y_train).score(X_test, y_test)\n",
        "print(f'Precisión: {acc:.1%} con {BS.best_params_}')"
      ],
      "metadata": {
        "colab": {
          "base_uri": "https://localhost:8080/"
        },
        "id": "TFASY_RGZheI",
        "outputId": "b5ae5c29-48ac-4e25-b843-6167bb30ba16"
      },
      "execution_count": 29,
      "outputs": [
        {
          "output_type": "stream",
          "name": "stdout",
          "text": [
            "Fitting 5 folds for each of 1 candidates, totalling 5 fits\n",
            "[CV 1/5; 1/1] START knn__metric=l1, knn__n_neighbors=8, knn__weights=uniform, pca__n_components=134\n",
            "[CV 1/5; 1/1] END knn__metric=l1, knn__n_neighbors=8, knn__weights=uniform, pca__n_components=134;, score=0.688 total time=   0.7s\n",
            "[CV 2/5; 1/1] START knn__metric=l1, knn__n_neighbors=8, knn__weights=uniform, pca__n_components=134\n",
            "[CV 2/5; 1/1] END knn__metric=l1, knn__n_neighbors=8, knn__weights=uniform, pca__n_components=134;, score=0.750 total time=   0.5s\n",
            "[CV 3/5; 1/1] START knn__metric=l1, knn__n_neighbors=8, knn__weights=uniform, pca__n_components=134\n",
            "[CV 3/5; 1/1] END knn__metric=l1, knn__n_neighbors=8, knn__weights=uniform, pca__n_components=134;, score=0.719 total time=   0.5s\n",
            "[CV 4/5; 1/1] START knn__metric=l1, knn__n_neighbors=8, knn__weights=uniform, pca__n_components=134\n",
            "[CV 4/5; 1/1] END knn__metric=l1, knn__n_neighbors=8, knn__weights=uniform, pca__n_components=134;, score=0.594 total time=   0.5s\n",
            "[CV 5/5; 1/1] START knn__metric=l1, knn__n_neighbors=8, knn__weights=uniform, pca__n_components=134\n",
            "[CV 5/5; 1/1] END knn__metric=l1, knn__n_neighbors=8, knn__weights=uniform, pca__n_components=134;, score=0.656 total time=   0.5s\n",
            "Fitting 5 folds for each of 1 candidates, totalling 5 fits\n",
            "[CV 1/5; 1/1] START knn__metric=l2, knn__n_neighbors=2, knn__weights=distance, pca__n_components=16\n",
            "[CV 1/5; 1/1] END knn__metric=l2, knn__n_neighbors=2, knn__weights=distance, pca__n_components=16;, score=0.859 total time=   0.2s\n",
            "[CV 2/5; 1/1] START knn__metric=l2, knn__n_neighbors=2, knn__weights=distance, pca__n_components=16\n",
            "[CV 2/5; 1/1] END knn__metric=l2, knn__n_neighbors=2, knn__weights=distance, pca__n_components=16;, score=0.922 total time=   0.2s\n",
            "[CV 3/5; 1/1] START knn__metric=l2, knn__n_neighbors=2, knn__weights=distance, pca__n_components=16\n",
            "[CV 3/5; 1/1] END knn__metric=l2, knn__n_neighbors=2, knn__weights=distance, pca__n_components=16;, score=0.891 total time=   0.2s\n",
            "[CV 4/5; 1/1] START knn__metric=l2, knn__n_neighbors=2, knn__weights=distance, pca__n_components=16\n",
            "[CV 4/5; 1/1] END knn__metric=l2, knn__n_neighbors=2, knn__weights=distance, pca__n_components=16;, score=0.875 total time=   0.2s\n",
            "[CV 5/5; 1/1] START knn__metric=l2, knn__n_neighbors=2, knn__weights=distance, pca__n_components=16\n",
            "[CV 5/5; 1/1] END knn__metric=l2, knn__n_neighbors=2, knn__weights=distance, pca__n_components=16;, score=0.812 total time=   0.3s\n",
            "Fitting 5 folds for each of 1 candidates, totalling 5 fits\n",
            "[CV 1/5; 1/1] START knn__metric=l2, knn__n_neighbors=3, knn__weights=uniform, pca__n_components=61\n",
            "[CV 1/5; 1/1] END knn__metric=l2, knn__n_neighbors=3, knn__weights=uniform, pca__n_components=61;, score=0.844 total time=   0.3s\n",
            "[CV 2/5; 1/1] START knn__metric=l2, knn__n_neighbors=3, knn__weights=uniform, pca__n_components=61\n",
            "[CV 2/5; 1/1] END knn__metric=l2, knn__n_neighbors=3, knn__weights=uniform, pca__n_components=61;, score=0.859 total time=   0.3s\n",
            "[CV 3/5; 1/1] START knn__metric=l2, knn__n_neighbors=3, knn__weights=uniform, pca__n_components=61\n",
            "[CV 3/5; 1/1] END knn__metric=l2, knn__n_neighbors=3, knn__weights=uniform, pca__n_components=61;, score=0.875 total time=   0.3s\n",
            "[CV 4/5; 1/1] START knn__metric=l2, knn__n_neighbors=3, knn__weights=uniform, pca__n_components=61\n",
            "[CV 4/5; 1/1] END knn__metric=l2, knn__n_neighbors=3, knn__weights=uniform, pca__n_components=61;, score=0.828 total time=   0.3s\n",
            "[CV 5/5; 1/1] START knn__metric=l2, knn__n_neighbors=3, knn__weights=uniform, pca__n_components=61\n",
            "[CV 5/5; 1/1] END knn__metric=l2, knn__n_neighbors=3, knn__weights=uniform, pca__n_components=61;, score=0.719 total time=   0.3s\n",
            "Fitting 5 folds for each of 1 candidates, totalling 5 fits\n",
            "[CV 1/5; 1/1] START knn__metric=l2, knn__n_neighbors=9, knn__weights=distance, pca__n_components=14\n",
            "[CV 1/5; 1/1] END knn__metric=l2, knn__n_neighbors=9, knn__weights=distance, pca__n_components=14;, score=0.750 total time=   0.1s\n",
            "[CV 2/5; 1/1] START knn__metric=l2, knn__n_neighbors=9, knn__weights=distance, pca__n_components=14\n",
            "[CV 2/5; 1/1] END knn__metric=l2, knn__n_neighbors=9, knn__weights=distance, pca__n_components=14;, score=0.781 total time=   0.2s\n",
            "[CV 3/5; 1/1] START knn__metric=l2, knn__n_neighbors=9, knn__weights=distance, pca__n_components=14\n",
            "[CV 3/5; 1/1] END knn__metric=l2, knn__n_neighbors=9, knn__weights=distance, pca__n_components=14;, score=0.750 total time=   0.2s\n",
            "[CV 4/5; 1/1] START knn__metric=l2, knn__n_neighbors=9, knn__weights=distance, pca__n_components=14\n",
            "[CV 4/5; 1/1] END knn__metric=l2, knn__n_neighbors=9, knn__weights=distance, pca__n_components=14;, score=0.734 total time=   0.2s\n",
            "[CV 5/5; 1/1] START knn__metric=l2, knn__n_neighbors=9, knn__weights=distance, pca__n_components=14\n",
            "[CV 5/5; 1/1] END knn__metric=l2, knn__n_neighbors=9, knn__weights=distance, pca__n_components=14;, score=0.656 total time=   0.3s\n",
            "Fitting 5 folds for each of 1 candidates, totalling 5 fits\n",
            "[CV 1/5; 1/1] START knn__metric=l2, knn__n_neighbors=4, knn__weights=distance, pca__n_components=22\n",
            "[CV 1/5; 1/1] END knn__metric=l2, knn__n_neighbors=4, knn__weights=distance, pca__n_components=22;, score=0.828 total time=   0.3s\n",
            "[CV 2/5; 1/1] START knn__metric=l2, knn__n_neighbors=4, knn__weights=distance, pca__n_components=22\n",
            "[CV 2/5; 1/1] END knn__metric=l2, knn__n_neighbors=4, knn__weights=distance, pca__n_components=22;, score=0.891 total time=   0.3s\n",
            "[CV 3/5; 1/1] START knn__metric=l2, knn__n_neighbors=4, knn__weights=distance, pca__n_components=22\n",
            "[CV 3/5; 1/1] END knn__metric=l2, knn__n_neighbors=4, knn__weights=distance, pca__n_components=22;, score=0.875 total time=   0.3s\n",
            "[CV 4/5; 1/1] START knn__metric=l2, knn__n_neighbors=4, knn__weights=distance, pca__n_components=22\n",
            "[CV 4/5; 1/1] END knn__metric=l2, knn__n_neighbors=4, knn__weights=distance, pca__n_components=22;, score=0.844 total time=   0.4s\n",
            "[CV 5/5; 1/1] START knn__metric=l2, knn__n_neighbors=4, knn__weights=distance, pca__n_components=22\n",
            "[CV 5/5; 1/1] END knn__metric=l2, knn__n_neighbors=4, knn__weights=distance, pca__n_components=22;, score=0.812 total time=   0.3s\n",
            "Fitting 5 folds for each of 1 candidates, totalling 5 fits\n",
            "[CV 1/5; 1/1] START knn__metric=l1, knn__n_neighbors=7, knn__weights=distance, pca__n_components=164\n",
            "[CV 1/5; 1/1] END knn__metric=l1, knn__n_neighbors=7, knn__weights=distance, pca__n_components=164;, score=0.828 total time=   0.7s\n",
            "[CV 2/5; 1/1] START knn__metric=l1, knn__n_neighbors=7, knn__weights=distance, pca__n_components=164\n",
            "[CV 2/5; 1/1] END knn__metric=l1, knn__n_neighbors=7, knn__weights=distance, pca__n_components=164;, score=0.844 total time=   0.8s\n",
            "[CV 3/5; 1/1] START knn__metric=l1, knn__n_neighbors=7, knn__weights=distance, pca__n_components=164\n",
            "[CV 3/5; 1/1] END knn__metric=l1, knn__n_neighbors=7, knn__weights=distance, pca__n_components=164;, score=0.812 total time=   0.8s\n",
            "[CV 4/5; 1/1] START knn__metric=l1, knn__n_neighbors=7, knn__weights=distance, pca__n_components=164\n",
            "[CV 4/5; 1/1] END knn__metric=l1, knn__n_neighbors=7, knn__weights=distance, pca__n_components=164;, score=0.734 total time=   0.5s\n",
            "[CV 5/5; 1/1] START knn__metric=l1, knn__n_neighbors=7, knn__weights=distance, pca__n_components=164\n",
            "[CV 5/5; 1/1] END knn__metric=l1, knn__n_neighbors=7, knn__weights=distance, pca__n_components=164;, score=0.781 total time=   0.5s\n",
            "Fitting 5 folds for each of 1 candidates, totalling 5 fits\n",
            "[CV 1/5; 1/1] START knn__metric=l2, knn__n_neighbors=8, knn__weights=uniform, pca__n_components=29\n",
            "[CV 1/5; 1/1] END knn__metric=l2, knn__n_neighbors=8, knn__weights=uniform, pca__n_components=29;, score=0.625 total time=   0.1s\n",
            "[CV 2/5; 1/1] START knn__metric=l2, knn__n_neighbors=8, knn__weights=uniform, pca__n_components=29\n",
            "[CV 2/5; 1/1] END knn__metric=l2, knn__n_neighbors=8, knn__weights=uniform, pca__n_components=29;, score=0.781 total time=   0.1s\n",
            "[CV 3/5; 1/1] START knn__metric=l2, knn__n_neighbors=8, knn__weights=uniform, pca__n_components=29\n",
            "[CV 3/5; 1/1] END knn__metric=l2, knn__n_neighbors=8, knn__weights=uniform, pca__n_components=29;, score=0.641 total time=   0.2s\n",
            "[CV 4/5; 1/1] START knn__metric=l2, knn__n_neighbors=8, knn__weights=uniform, pca__n_components=29\n",
            "[CV 4/5; 1/1] END knn__metric=l2, knn__n_neighbors=8, knn__weights=uniform, pca__n_components=29;, score=0.641 total time=   0.1s\n",
            "[CV 5/5; 1/1] START knn__metric=l2, knn__n_neighbors=8, knn__weights=uniform, pca__n_components=29\n",
            "[CV 5/5; 1/1] END knn__metric=l2, knn__n_neighbors=8, knn__weights=uniform, pca__n_components=29;, score=0.594 total time=   0.2s\n",
            "Fitting 5 folds for each of 1 candidates, totalling 5 fits\n",
            "[CV 1/5; 1/1] START knn__metric=l1, knn__n_neighbors=9, knn__weights=distance, pca__n_components=91\n",
            "[CV 1/5; 1/1] END knn__metric=l1, knn__n_neighbors=9, knn__weights=distance, pca__n_components=91;, score=0.844 total time=   0.4s\n",
            "[CV 2/5; 1/1] START knn__metric=l1, knn__n_neighbors=9, knn__weights=distance, pca__n_components=91\n",
            "[CV 2/5; 1/1] END knn__metric=l1, knn__n_neighbors=9, knn__weights=distance, pca__n_components=91;, score=0.812 total time=   0.6s\n",
            "[CV 3/5; 1/1] START knn__metric=l1, knn__n_neighbors=9, knn__weights=distance, pca__n_components=91\n",
            "[CV 3/5; 1/1] END knn__metric=l1, knn__n_neighbors=9, knn__weights=distance, pca__n_components=91;, score=0.812 total time=   0.5s\n",
            "[CV 4/5; 1/1] START knn__metric=l1, knn__n_neighbors=9, knn__weights=distance, pca__n_components=91\n",
            "[CV 4/5; 1/1] END knn__metric=l1, knn__n_neighbors=9, knn__weights=distance, pca__n_components=91;, score=0.734 total time=   0.5s\n",
            "[CV 5/5; 1/1] START knn__metric=l1, knn__n_neighbors=9, knn__weights=distance, pca__n_components=91\n",
            "[CV 5/5; 1/1] END knn__metric=l1, knn__n_neighbors=9, knn__weights=distance, pca__n_components=91;, score=0.781 total time=   0.4s\n",
            "Fitting 5 folds for each of 1 candidates, totalling 5 fits\n",
            "[CV 1/5; 1/1] START knn__metric=l2, knn__n_neighbors=4, knn__weights=uniform, pca__n_components=45\n",
            "[CV 1/5; 1/1] END knn__metric=l2, knn__n_neighbors=4, knn__weights=uniform, pca__n_components=45;, score=0.734 total time=   0.3s\n",
            "[CV 2/5; 1/1] START knn__metric=l2, knn__n_neighbors=4, knn__weights=uniform, pca__n_components=45\n",
            "[CV 2/5; 1/1] END knn__metric=l2, knn__n_neighbors=4, knn__weights=uniform, pca__n_components=45;, score=0.844 total time=   0.3s\n",
            "[CV 3/5; 1/1] START knn__metric=l2, knn__n_neighbors=4, knn__weights=uniform, pca__n_components=45\n",
            "[CV 3/5; 1/1] END knn__metric=l2, knn__n_neighbors=4, knn__weights=uniform, pca__n_components=45;, score=0.797 total time=   0.3s\n",
            "[CV 4/5; 1/1] START knn__metric=l2, knn__n_neighbors=4, knn__weights=uniform, pca__n_components=45\n",
            "[CV 4/5; 1/1] END knn__metric=l2, knn__n_neighbors=4, knn__weights=uniform, pca__n_components=45;, score=0.750 total time=   0.4s\n",
            "[CV 5/5; 1/1] START knn__metric=l2, knn__n_neighbors=4, knn__weights=uniform, pca__n_components=45\n",
            "[CV 5/5; 1/1] END knn__metric=l2, knn__n_neighbors=4, knn__weights=uniform, pca__n_components=45;, score=0.656 total time=   0.3s\n",
            "Fitting 5 folds for each of 1 candidates, totalling 5 fits\n",
            "[CV 1/5; 1/1] START knn__metric=l1, knn__n_neighbors=4, knn__weights=distance, pca__n_components=62\n",
            "[CV 1/5; 1/1] END knn__metric=l1, knn__n_neighbors=4, knn__weights=distance, pca__n_components=62;, score=0.891 total time=   0.2s\n",
            "[CV 2/5; 1/1] START knn__metric=l1, knn__n_neighbors=4, knn__weights=distance, pca__n_components=62\n",
            "[CV 2/5; 1/1] END knn__metric=l1, knn__n_neighbors=4, knn__weights=distance, pca__n_components=62;, score=0.953 total time=   0.3s\n",
            "[CV 3/5; 1/1] START knn__metric=l1, knn__n_neighbors=4, knn__weights=distance, pca__n_components=62\n",
            "[CV 3/5; 1/1] END knn__metric=l1, knn__n_neighbors=4, knn__weights=distance, pca__n_components=62;, score=0.969 total time=   0.2s\n",
            "[CV 4/5; 1/1] START knn__metric=l1, knn__n_neighbors=4, knn__weights=distance, pca__n_components=62\n",
            "[CV 4/5; 1/1] END knn__metric=l1, knn__n_neighbors=4, knn__weights=distance, pca__n_components=62;, score=0.875 total time=   0.2s\n",
            "[CV 5/5; 1/1] START knn__metric=l1, knn__n_neighbors=4, knn__weights=distance, pca__n_components=62\n",
            "[CV 5/5; 1/1] END knn__metric=l1, knn__n_neighbors=4, knn__weights=distance, pca__n_components=62;, score=0.828 total time=   0.3s\n",
            "Fitting 5 folds for each of 1 candidates, totalling 5 fits\n",
            "[CV 1/5; 1/1] START knn__metric=l1, knn__n_neighbors=1, knn__weights=distance, pca__n_components=200\n",
            "[CV 1/5; 1/1] END knn__metric=l1, knn__n_neighbors=1, knn__weights=distance, pca__n_components=200;, score=0.922 total time=   0.9s\n",
            "[CV 2/5; 1/1] START knn__metric=l1, knn__n_neighbors=1, knn__weights=distance, pca__n_components=200\n",
            "[CV 2/5; 1/1] END knn__metric=l1, knn__n_neighbors=1, knn__weights=distance, pca__n_components=200;, score=0.938 total time=   0.8s\n",
            "[CV 3/5; 1/1] START knn__metric=l1, knn__n_neighbors=1, knn__weights=distance, pca__n_components=200\n",
            "[CV 3/5; 1/1] END knn__metric=l1, knn__n_neighbors=1, knn__weights=distance, pca__n_components=200;, score=0.969 total time=   0.9s\n",
            "[CV 4/5; 1/1] START knn__metric=l1, knn__n_neighbors=1, knn__weights=distance, pca__n_components=200\n",
            "[CV 4/5; 1/1] END knn__metric=l1, knn__n_neighbors=1, knn__weights=distance, pca__n_components=200;, score=0.922 total time=   0.9s\n",
            "[CV 5/5; 1/1] START knn__metric=l1, knn__n_neighbors=1, knn__weights=distance, pca__n_components=200\n",
            "[CV 5/5; 1/1] END knn__metric=l1, knn__n_neighbors=1, knn__weights=distance, pca__n_components=200;, score=0.844 total time=   0.6s\n",
            "Fitting 5 folds for each of 1 candidates, totalling 5 fits\n",
            "[CV 1/5; 1/1] START knn__metric=l1, knn__n_neighbors=1, knn__weights=distance, pca__n_components=12\n",
            "[CV 1/5; 1/1] END knn__metric=l1, knn__n_neighbors=1, knn__weights=distance, pca__n_components=12;, score=0.812 total time=   0.2s\n",
            "[CV 2/5; 1/1] START knn__metric=l1, knn__n_neighbors=1, knn__weights=distance, pca__n_components=12\n",
            "[CV 2/5; 1/1] END knn__metric=l1, knn__n_neighbors=1, knn__weights=distance, pca__n_components=12;, score=0.969 total time=   0.2s\n",
            "[CV 3/5; 1/1] START knn__metric=l1, knn__n_neighbors=1, knn__weights=distance, pca__n_components=12\n",
            "[CV 3/5; 1/1] END knn__metric=l1, knn__n_neighbors=1, knn__weights=distance, pca__n_components=12;, score=0.875 total time=   0.1s\n",
            "[CV 4/5; 1/1] START knn__metric=l1, knn__n_neighbors=1, knn__weights=distance, pca__n_components=12\n",
            "[CV 4/5; 1/1] END knn__metric=l1, knn__n_neighbors=1, knn__weights=distance, pca__n_components=12;, score=0.875 total time=   0.1s\n",
            "[CV 5/5; 1/1] START knn__metric=l1, knn__n_neighbors=1, knn__weights=distance, pca__n_components=12\n",
            "[CV 5/5; 1/1] END knn__metric=l1, knn__n_neighbors=1, knn__weights=distance, pca__n_components=12;, score=0.797 total time=   0.1s\n",
            "Fitting 5 folds for each of 1 candidates, totalling 5 fits\n",
            "[CV 1/5; 1/1] START knn__metric=l1, knn__n_neighbors=1, knn__weights=uniform, pca__n_components=200\n",
            "[CV 1/5; 1/1] END knn__metric=l1, knn__n_neighbors=1, knn__weights=uniform, pca__n_components=200;, score=0.922 total time=   0.4s\n",
            "[CV 2/5; 1/1] START knn__metric=l1, knn__n_neighbors=1, knn__weights=uniform, pca__n_components=200\n",
            "[CV 2/5; 1/1] END knn__metric=l1, knn__n_neighbors=1, knn__weights=uniform, pca__n_components=200;, score=0.938 total time=   0.6s\n",
            "[CV 3/5; 1/1] START knn__metric=l1, knn__n_neighbors=1, knn__weights=uniform, pca__n_components=200\n",
            "[CV 3/5; 1/1] END knn__metric=l1, knn__n_neighbors=1, knn__weights=uniform, pca__n_components=200;, score=0.969 total time=   0.5s\n",
            "[CV 4/5; 1/1] START knn__metric=l1, knn__n_neighbors=1, knn__weights=uniform, pca__n_components=200\n",
            "[CV 4/5; 1/1] END knn__metric=l1, knn__n_neighbors=1, knn__weights=uniform, pca__n_components=200;, score=0.922 total time=   0.5s\n",
            "[CV 5/5; 1/1] START knn__metric=l1, knn__n_neighbors=1, knn__weights=uniform, pca__n_components=200\n",
            "[CV 5/5; 1/1] END knn__metric=l1, knn__n_neighbors=1, knn__weights=uniform, pca__n_components=200;, score=0.859 total time=   0.5s\n",
            "Fitting 5 folds for each of 1 candidates, totalling 5 fits\n",
            "[CV 1/5; 1/1] START knn__metric=l1, knn__n_neighbors=3, knn__weights=distance, pca__n_components=200\n",
            "[CV 1/5; 1/1] END knn__metric=l1, knn__n_neighbors=3, knn__weights=distance, pca__n_components=200;, score=0.875 total time=   0.6s\n",
            "[CV 2/5; 1/1] START knn__metric=l1, knn__n_neighbors=3, knn__weights=distance, pca__n_components=200\n",
            "[CV 2/5; 1/1] END knn__metric=l1, knn__n_neighbors=3, knn__weights=distance, pca__n_components=200;, score=0.922 total time=   0.5s\n",
            "[CV 3/5; 1/1] START knn__metric=l1, knn__n_neighbors=3, knn__weights=distance, pca__n_components=200\n",
            "[CV 3/5; 1/1] END knn__metric=l1, knn__n_neighbors=3, knn__weights=distance, pca__n_components=200;, score=0.938 total time=   0.9s\n",
            "[CV 4/5; 1/1] START knn__metric=l1, knn__n_neighbors=3, knn__weights=distance, pca__n_components=200\n",
            "[CV 4/5; 1/1] END knn__metric=l1, knn__n_neighbors=3, knn__weights=distance, pca__n_components=200;, score=0.875 total time=   0.9s\n",
            "[CV 5/5; 1/1] START knn__metric=l1, knn__n_neighbors=3, knn__weights=distance, pca__n_components=200\n",
            "[CV 5/5; 1/1] END knn__metric=l1, knn__n_neighbors=3, knn__weights=distance, pca__n_components=200;, score=0.781 total time=   0.8s\n",
            "Fitting 5 folds for each of 1 candidates, totalling 5 fits\n",
            "[CV 1/5; 1/1] START knn__metric=l2, knn__n_neighbors=1, knn__weights=distance, pca__n_components=114\n",
            "[CV 1/5; 1/1] END knn__metric=l2, knn__n_neighbors=1, knn__weights=distance, pca__n_components=114;, score=0.875 total time=   0.3s\n",
            "[CV 2/5; 1/1] START knn__metric=l2, knn__n_neighbors=1, knn__weights=distance, pca__n_components=114\n",
            "[CV 2/5; 1/1] END knn__metric=l2, knn__n_neighbors=1, knn__weights=distance, pca__n_components=114;, score=0.953 total time=   0.3s\n",
            "[CV 3/5; 1/1] START knn__metric=l2, knn__n_neighbors=1, knn__weights=distance, pca__n_components=114\n",
            "[CV 3/5; 1/1] END knn__metric=l2, knn__n_neighbors=1, knn__weights=distance, pca__n_components=114;, score=0.922 total time=   0.4s\n",
            "[CV 4/5; 1/1] START knn__metric=l2, knn__n_neighbors=1, knn__weights=distance, pca__n_components=114\n",
            "[CV 4/5; 1/1] END knn__metric=l2, knn__n_neighbors=1, knn__weights=distance, pca__n_components=114;, score=0.875 total time=   0.3s\n",
            "[CV 5/5; 1/1] START knn__metric=l2, knn__n_neighbors=1, knn__weights=distance, pca__n_components=114\n",
            "[CV 5/5; 1/1] END knn__metric=l2, knn__n_neighbors=1, knn__weights=distance, pca__n_components=114;, score=0.812 total time=   0.3s\n"
          ]
        },
        {
          "output_type": "stream",
          "name": "stderr",
          "text": [
            "/usr/local/lib/python3.10/dist-packages/skopt/optimizer/optimizer.py:517: UserWarning: The objective has been evaluated at point ['l1', 1, 'uniform', 200] before, using random point ['l2', 8, 'uniform', 53]\n",
            "  warnings.warn(\n"
          ]
        },
        {
          "output_type": "stream",
          "name": "stdout",
          "text": [
            "Fitting 5 folds for each of 1 candidates, totalling 5 fits\n",
            "[CV 1/5; 1/1] START knn__metric=l2, knn__n_neighbors=8, knn__weights=uniform, pca__n_components=53\n",
            "[CV 1/5; 1/1] END knn__metric=l2, knn__n_neighbors=8, knn__weights=uniform, pca__n_components=53;, score=0.688 total time=   0.2s\n",
            "[CV 2/5; 1/1] START knn__metric=l2, knn__n_neighbors=8, knn__weights=uniform, pca__n_components=53\n",
            "[CV 2/5; 1/1] END knn__metric=l2, knn__n_neighbors=8, knn__weights=uniform, pca__n_components=53;, score=0.812 total time=   0.2s\n",
            "[CV 3/5; 1/1] START knn__metric=l2, knn__n_neighbors=8, knn__weights=uniform, pca__n_components=53\n",
            "[CV 3/5; 1/1] END knn__metric=l2, knn__n_neighbors=8, knn__weights=uniform, pca__n_components=53;, score=0.641 total time=   0.2s\n",
            "[CV 4/5; 1/1] START knn__metric=l2, knn__n_neighbors=8, knn__weights=uniform, pca__n_components=53\n",
            "[CV 4/5; 1/1] END knn__metric=l2, knn__n_neighbors=8, knn__weights=uniform, pca__n_components=53;, score=0.594 total time=   0.2s\n",
            "[CV 5/5; 1/1] START knn__metric=l2, knn__n_neighbors=8, knn__weights=uniform, pca__n_components=53\n",
            "[CV 5/5; 1/1] END knn__metric=l2, knn__n_neighbors=8, knn__weights=uniform, pca__n_components=53;, score=0.609 total time=   0.2s\n"
          ]
        },
        {
          "output_type": "stream",
          "name": "stderr",
          "text": [
            "/usr/local/lib/python3.10/dist-packages/skopt/optimizer/optimizer.py:517: UserWarning: The objective has been evaluated at point ['l1', 1, 'uniform', 200] before, using random point ['l1', 10, 'uniform', 162]\n",
            "  warnings.warn(\n"
          ]
        },
        {
          "output_type": "stream",
          "name": "stdout",
          "text": [
            "Fitting 5 folds for each of 1 candidates, totalling 5 fits\n",
            "[CV 1/5; 1/1] START knn__metric=l1, knn__n_neighbors=10, knn__weights=uniform, pca__n_components=162\n",
            "[CV 1/5; 1/1] END knn__metric=l1, knn__n_neighbors=10, knn__weights=uniform, pca__n_components=162;, score=0.578 total time=   0.4s\n",
            "[CV 2/5; 1/1] START knn__metric=l1, knn__n_neighbors=10, knn__weights=uniform, pca__n_components=162\n",
            "[CV 2/5; 1/1] END knn__metric=l1, knn__n_neighbors=10, knn__weights=uniform, pca__n_components=162;, score=0.672 total time=   0.4s\n",
            "[CV 3/5; 1/1] START knn__metric=l1, knn__n_neighbors=10, knn__weights=uniform, pca__n_components=162\n",
            "[CV 3/5; 1/1] END knn__metric=l1, knn__n_neighbors=10, knn__weights=uniform, pca__n_components=162;, score=0.625 total time=   0.4s\n",
            "[CV 4/5; 1/1] START knn__metric=l1, knn__n_neighbors=10, knn__weights=uniform, pca__n_components=162\n",
            "[CV 4/5; 1/1] END knn__metric=l1, knn__n_neighbors=10, knn__weights=uniform, pca__n_components=162;, score=0.531 total time=   0.4s\n",
            "[CV 5/5; 1/1] START knn__metric=l1, knn__n_neighbors=10, knn__weights=uniform, pca__n_components=162\n",
            "[CV 5/5; 1/1] END knn__metric=l1, knn__n_neighbors=10, knn__weights=uniform, pca__n_components=162;, score=0.594 total time=   0.4s\n"
          ]
        },
        {
          "output_type": "stream",
          "name": "stderr",
          "text": [
            "/usr/local/lib/python3.10/dist-packages/skopt/optimizer/optimizer.py:517: UserWarning: The objective has been evaluated at point ['l1', 1, 'uniform', 200] before, using random point ['l2', 2, 'distance', 173]\n",
            "  warnings.warn(\n"
          ]
        },
        {
          "output_type": "stream",
          "name": "stdout",
          "text": [
            "Fitting 5 folds for each of 1 candidates, totalling 5 fits\n",
            "[CV 1/5; 1/1] START knn__metric=l2, knn__n_neighbors=2, knn__weights=distance, pca__n_components=173\n",
            "[CV 1/5; 1/1] END knn__metric=l2, knn__n_neighbors=2, knn__weights=distance, pca__n_components=173;, score=0.875 total time=   0.7s\n",
            "[CV 2/5; 1/1] START knn__metric=l2, knn__n_neighbors=2, knn__weights=distance, pca__n_components=173\n",
            "[CV 2/5; 1/1] END knn__metric=l2, knn__n_neighbors=2, knn__weights=distance, pca__n_components=173;, score=0.953 total time=   0.7s\n",
            "[CV 3/5; 1/1] START knn__metric=l2, knn__n_neighbors=2, knn__weights=distance, pca__n_components=173\n",
            "[CV 3/5; 1/1] END knn__metric=l2, knn__n_neighbors=2, knn__weights=distance, pca__n_components=173;, score=0.922 total time=   0.8s\n",
            "[CV 4/5; 1/1] START knn__metric=l2, knn__n_neighbors=2, knn__weights=distance, pca__n_components=173\n",
            "[CV 4/5; 1/1] END knn__metric=l2, knn__n_neighbors=2, knn__weights=distance, pca__n_components=173;, score=0.875 total time=   0.7s\n",
            "[CV 5/5; 1/1] START knn__metric=l2, knn__n_neighbors=2, knn__weights=distance, pca__n_components=173\n",
            "[CV 5/5; 1/1] END knn__metric=l2, knn__n_neighbors=2, knn__weights=distance, pca__n_components=173;, score=0.812 total time=   0.5s\n"
          ]
        },
        {
          "output_type": "stream",
          "name": "stderr",
          "text": [
            "/usr/local/lib/python3.10/dist-packages/skopt/optimizer/optimizer.py:517: UserWarning: The objective has been evaluated at point ['l1', 1, 'uniform', 200] before, using random point ['l2', 9, 'uniform', 139]\n",
            "  warnings.warn(\n"
          ]
        },
        {
          "output_type": "stream",
          "name": "stdout",
          "text": [
            "Fitting 5 folds for each of 1 candidates, totalling 5 fits\n",
            "[CV 1/5; 1/1] START knn__metric=l2, knn__n_neighbors=9, knn__weights=uniform, pca__n_components=139\n",
            "[CV 1/5; 1/1] END knn__metric=l2, knn__n_neighbors=9, knn__weights=uniform, pca__n_components=139;, score=0.672 total time=   0.4s\n",
            "[CV 2/5; 1/1] START knn__metric=l2, knn__n_neighbors=9, knn__weights=uniform, pca__n_components=139\n",
            "[CV 2/5; 1/1] END knn__metric=l2, knn__n_neighbors=9, knn__weights=uniform, pca__n_components=139;, score=0.781 total time=   0.3s\n",
            "[CV 3/5; 1/1] START knn__metric=l2, knn__n_neighbors=9, knn__weights=uniform, pca__n_components=139\n",
            "[CV 3/5; 1/1] END knn__metric=l2, knn__n_neighbors=9, knn__weights=uniform, pca__n_components=139;, score=0.609 total time=   0.4s\n",
            "[CV 4/5; 1/1] START knn__metric=l2, knn__n_neighbors=9, knn__weights=uniform, pca__n_components=139\n",
            "[CV 4/5; 1/1] END knn__metric=l2, knn__n_neighbors=9, knn__weights=uniform, pca__n_components=139;, score=0.516 total time=   0.3s\n",
            "[CV 5/5; 1/1] START knn__metric=l2, knn__n_neighbors=9, knn__weights=uniform, pca__n_components=139\n",
            "[CV 5/5; 1/1] END knn__metric=l2, knn__n_neighbors=9, knn__weights=uniform, pca__n_components=139;, score=0.562 total time=   0.3s\n"
          ]
        },
        {
          "output_type": "stream",
          "name": "stderr",
          "text": [
            "/usr/local/lib/python3.10/dist-packages/skopt/optimizer/optimizer.py:517: UserWarning: The objective has been evaluated at point ['l1', 1, 'uniform', 200] before, using random point ['l1', 8, 'distance', 54]\n",
            "  warnings.warn(\n"
          ]
        },
        {
          "output_type": "stream",
          "name": "stdout",
          "text": [
            "Fitting 5 folds for each of 1 candidates, totalling 5 fits\n",
            "[CV 1/5; 1/1] START knn__metric=l1, knn__n_neighbors=8, knn__weights=distance, pca__n_components=54\n",
            "[CV 1/5; 1/1] END knn__metric=l1, knn__n_neighbors=8, knn__weights=distance, pca__n_components=54;, score=0.875 total time=   0.2s\n",
            "[CV 2/5; 1/1] START knn__metric=l1, knn__n_neighbors=8, knn__weights=distance, pca__n_components=54\n",
            "[CV 2/5; 1/1] END knn__metric=l1, knn__n_neighbors=8, knn__weights=distance, pca__n_components=54;, score=0.906 total time=   0.2s\n",
            "[CV 3/5; 1/1] START knn__metric=l1, knn__n_neighbors=8, knn__weights=distance, pca__n_components=54\n",
            "[CV 3/5; 1/1] END knn__metric=l1, knn__n_neighbors=8, knn__weights=distance, pca__n_components=54;, score=0.891 total time=   0.2s\n",
            "[CV 4/5; 1/1] START knn__metric=l1, knn__n_neighbors=8, knn__weights=distance, pca__n_components=54\n",
            "[CV 4/5; 1/1] END knn__metric=l1, knn__n_neighbors=8, knn__weights=distance, pca__n_components=54;, score=0.797 total time=   0.2s\n",
            "[CV 5/5; 1/1] START knn__metric=l1, knn__n_neighbors=8, knn__weights=distance, pca__n_components=54\n",
            "[CV 5/5; 1/1] END knn__metric=l1, knn__n_neighbors=8, knn__weights=distance, pca__n_components=54;, score=0.812 total time=   0.2s\n",
            "Precisión: 92.5% con OrderedDict([('knn__metric', 'l1'), ('knn__n_neighbors', 1), ('knn__weights', 'uniform'), ('pca__n_components', 200)])\n"
          ]
        }
      ]
    }
  ]
}