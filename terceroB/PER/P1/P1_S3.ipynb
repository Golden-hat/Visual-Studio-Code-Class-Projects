{
 "cells": [
  {
   "cell_type": "markdown",
   "metadata": {},
   "source": [
    "# Práctica 1, Sesión 3: Modelos lineales generativos"
   ]
  },
  {
   "cell_type": "markdown",
   "metadata": {},
   "source": [
    "**Notación:** $\\quad\\boldsymbol{x}\\in\\mathbb{R}^D\\;$ y $\\;y\\in\\{1,\\dotsc,C\\}\\;$ salvo que se indique otra cosa\n",
    "\n",
    "**Clasificador generativo:** $\\;$ expresa **posteriors** en función de **priors** y **densidades condicionales** de las clases, las cuales puede muestrearse para **generar** datos sintéticos\n",
    "$$p(y=c\\mid\\boldsymbol{x},\\boldsymbol{\\theta})=\\frac{p(\\boldsymbol{x}\\mid y=c,\\boldsymbol{\\theta})\\,p(y=c,\\boldsymbol{\\theta})}{\\sum_{c'}p(\\boldsymbol{x}\\mid y=c',\\boldsymbol{\\theta})\\,p(y=c',\\boldsymbol{\\theta})}%\n",
    "\\propto p(\\boldsymbol{x}\\mid y=c,\\boldsymbol{\\theta})\\,p(y=c,\\boldsymbol{\\theta})$$\n",
    "\n",
    "**Linealidad:** $\\;$ la log-posterior suele ser lineal con $\\boldsymbol{x},\\,$ aunque en algunos es cuadrática\n",
    "\n",
    "**Ajuste:** $\\;$ la máximización de la log-verosimilitud conjunta suele conducir a estimadores fáciles de calcular mediante conteo y promediado\n",
    "* Los priors de las clases se estiman como frecuencias relativas, $\\,\\hat{\\pi}_c=N_c/N$\n",
    "* Los parámetros de cada clase se estiman con sus datos de entrenamiento (salvo $\\mathbf{\\Sigma}$ en LDA, que se estima con todos)"
   ]
  },
  {
   "cell_type": "markdown",
   "metadata": {},
   "source": [
    "## 1. Naive Bayes"
   ]
  },
  {
   "cell_type": "markdown",
   "metadata": {},
   "source": [
    "**Clasificador naive Bayes Gaussiano (GNB):** $\\;\\boldsymbol{\\theta}_c=(\\boldsymbol{\\theta}_{c1},\\dotsc,\\boldsymbol{\\theta}_{cD})^t,\\,\\boldsymbol{\\theta}_{cd}=(\\mu_{cd},\\sigma_{cd}^2),\\,$ media y varianza de la característica $d$ en $c$\n",
    "$$p(\\boldsymbol{x}\\mid y=c,\\boldsymbol{\\theta}_c)=\\prod_{d=1}^D \\mathcal{N}(x_d\\mid\\mu_{cd},\\sigma_{cd}^2)%\n",
    "\\qquad\\text{con}\\qquad%\n",
    "\\hat{\\mu}_{cd}=\\frac{1}{N_c}\\sum_{n:y_n=c}x_{nd}\\quad\\text{y}\\quad%\n",
    "\\hat{\\sigma}_{cd}^2=\\frac{1}{N_c}\\sum_{n:y_n=c}(x_{nd}-\\hat{\\mu}_{cd})^2$$\n",
    "\n",
    "**Aplicación a iris:** $\\;$ con suavizado de varianzas añadiendo un porcentaje, `var_smoothing`, de la mayor varianza empírica hallada (1e-9 por omisión)"
   ]
  },
  {
   "cell_type": "code",
   "execution_count": 15,
   "metadata": {},
   "outputs": [
    {
     "name": "stdout",
     "output_type": "stream",
     "text": [
      "La precisión de GaussianNB() es 93.3%\n"
     ]
    }
   ],
   "source": [
    "import warnings; warnings.filterwarnings('ignore')\n",
    "from sklearn.datasets import load_iris; from sklearn.model_selection import train_test_split\n",
    "from sklearn.naive_bayes import GaussianNB; from sklearn.metrics import accuracy_score\n",
    "X, y = load_iris(return_X_y=True)\n",
    "X_train, X_test, y_train, y_test = train_test_split(X, y, test_size=0.2, shuffle=True, random_state=23)\n",
    "clf = GaussianNB(var_smoothing=1e-9).fit(X_train, y_train)\n",
    "acc = accuracy_score(y_test, clf.predict(X_test)); print(f'La precisión de {clf!s} es {acc:.1%}')"
   ]
  },
  {
   "cell_type": "markdown",
   "metadata": {},
   "source": [
    "**Ejercicio:** $\\;$ estudia el efecto de `var_smoothing` sobre la precisión de GNB"
   ]
  },
  {
   "cell_type": "code",
   "execution_count": 18,
   "metadata": {},
   "outputs": [
    {
     "name": "stdout",
     "output_type": "stream",
     "text": [
      "La precisión de GaussianNB(var_smoothing=10) es 80.0%\n",
      "La precisión de GaussianNB(var_smoothing=9) es 80.0%\n",
      "La precisión de GaussianNB(var_smoothing=8) es 83.3%\n",
      "La precisión de GaussianNB(var_smoothing=7) es 83.3%\n",
      "La precisión de GaussianNB(var_smoothing=6) es 86.7%\n",
      "La precisión de GaussianNB(var_smoothing=5) es 90.0%\n",
      "La precisión de GaussianNB(var_smoothing=4) es 90.0%\n",
      "La precisión de GaussianNB(var_smoothing=3) es 90.0%\n",
      "La precisión de GaussianNB(var_smoothing=2) es 90.0%\n",
      "La precisión de GaussianNB(var_smoothing=1) es 86.7%\n",
      "La precisión de GaussianNB(var_smoothing=0.001) es 93.3%\n",
      "La precisión de GaussianNB(var_smoothing=1e-06) es 93.3%\n",
      "La precisión de GaussianNB(var_smoothing=1e-12) es 93.3%\n",
      "La precisión de GaussianNB(var_smoothing=1e-16) es 93.3%\n"
     ]
    }
   ],
   "source": [
    "import warnings; warnings.filterwarnings('ignore')\n",
    "from sklearn.datasets import load_iris; from sklearn.model_selection import train_test_split\n",
    "from sklearn.naive_bayes import GaussianNB; from sklearn.metrics import accuracy_score\n",
    "X, y = load_iris(return_X_y=True)\n",
    "X_train, X_test, y_train, y_test = train_test_split(X, y, test_size=0.2, shuffle=True, random_state=23)\n",
    "for i in [10, 9, 8, 7, 6, 5, 4, 3, 2, 1, 1e-3, 1e-6, 1e-12, 1e-16]:\n",
    "    clf = GaussianNB(var_smoothing=i).fit(X_train, y_train)\n",
    "    acc = accuracy_score(y_test, clf.predict(X_test)); print(f'La precisión de {clf!s} es {acc:.1%}')"
   ]
  },
  {
   "cell_type": "markdown",
   "metadata": {},
   "source": [
    "**Ejercicio:** $\\;$ estudia el efecto de `var_smoothing` sobre la precisión de GNB en digits y olivetti"
   ]
  },
  {
   "cell_type": "code",
   "execution_count": 20,
   "metadata": {},
   "outputs": [
    {
     "name": "stdout",
     "output_type": "stream",
     "text": [
      "La precisión de GaussianNB(var_smoothing=10) es 86.1%\n",
      "La precisión de GaussianNB(var_smoothing=9) es 86.1%\n",
      "La precisión de GaussianNB(var_smoothing=8) es 86.1%\n",
      "La precisión de GaussianNB(var_smoothing=7) es 86.4%\n",
      "La precisión de GaussianNB(var_smoothing=6) es 86.7%\n",
      "La precisión de GaussianNB(var_smoothing=5) es 86.7%\n",
      "La precisión de GaussianNB(var_smoothing=4) es 86.7%\n",
      "La precisión de GaussianNB(var_smoothing=3) es 87.2%\n",
      "La precisión de GaussianNB(var_smoothing=2) es 87.8%\n",
      "La precisión de GaussianNB(var_smoothing=1) es 89.4%\n",
      "La precisión de GaussianNB(var_smoothing=0.001) es 89.7%\n",
      "La precisión de GaussianNB(var_smoothing=1e-06) es 87.8%\n",
      "La precisión de GaussianNB(var_smoothing=1e-12) es 75.3%\n",
      "La precisión de GaussianNB(var_smoothing=1e-16) es 67.2%\n"
     ]
    }
   ],
   "source": [
    "import warnings; warnings.filterwarnings('ignore')\n",
    "from sklearn.datasets import load_digits; from sklearn.model_selection import train_test_split\n",
    "from sklearn.naive_bayes import GaussianNB; from sklearn.metrics import accuracy_score\n",
    "X, y = load_digits(return_X_y=True)\n",
    "X_train, X_test, y_train, y_test = train_test_split(X, y, test_size=0.2, shuffle=True, random_state=23)\n",
    "for i in [10, 9, 8, 7, 6, 5, 4, 3, 2, 1, 1e-3, 1e-6, 1e-12, 1e-16]:\n",
    "    clf = GaussianNB(var_smoothing=i).fit(X_train, y_train)\n",
    "    acc = accuracy_score(y_test, clf.predict(X_test)); print(f'La precisión de {clf!s} es {acc:.1%}')"
   ]
  },
  {
   "cell_type": "code",
   "execution_count": 21,
   "metadata": {},
   "outputs": [
    {
     "name": "stdout",
     "output_type": "stream",
     "text": [
      "La precisión de GaussianNB(var_smoothing=10) es 73.8%\n",
      "La precisión de GaussianNB(var_smoothing=9) es 75.0%\n",
      "La precisión de GaussianNB(var_smoothing=8) es 75.0%\n",
      "La precisión de GaussianNB(var_smoothing=7) es 75.0%\n",
      "La precisión de GaussianNB(var_smoothing=6) es 75.0%\n",
      "La precisión de GaussianNB(var_smoothing=5) es 75.0%\n",
      "La precisión de GaussianNB(var_smoothing=4) es 78.8%\n",
      "La precisión de GaussianNB(var_smoothing=3) es 78.8%\n",
      "La precisión de GaussianNB(var_smoothing=2) es 78.8%\n",
      "La precisión de GaussianNB(var_smoothing=1) es 83.8%\n",
      "La precisión de GaussianNB(var_smoothing=0.001) es 87.5%\n",
      "La precisión de GaussianNB(var_smoothing=1e-06) es 85.0%\n",
      "La precisión de GaussianNB(var_smoothing=1e-12) es 85.0%\n",
      "La precisión de GaussianNB(var_smoothing=1e-16) es 85.0%\n"
     ]
    }
   ],
   "source": [
    "import warnings; warnings.filterwarnings('ignore')\n",
    "from sklearn.datasets import fetch_olivetti_faces; from sklearn.model_selection import train_test_split\n",
    "from sklearn.naive_bayes import GaussianNB; from sklearn.metrics import accuracy_score\n",
    "X, y = fetch_olivetti_faces(return_X_y=True)\n",
    "X_train, X_test, y_train, y_test = train_test_split(X, y, test_size=0.2, shuffle=True, random_state=23)\n",
    "for i in [10, 9, 8, 7, 6, 5, 4, 3, 2, 1, 1e-3, 1e-6, 1e-12, 1e-16]:\n",
    "    clf = GaussianNB(var_smoothing=i).fit(X_train, y_train)\n",
    "    acc = accuracy_score(y_test, clf.predict(X_test)); print(f'La precisión de {clf!s} es {acc:.1%}')"
   ]
  },
  {
   "cell_type": "markdown",
   "metadata": {},
   "source": [
    "## 2. Análisis discriminante lineal (LDA)"
   ]
  },
  {
   "cell_type": "markdown",
   "metadata": {},
   "source": [
    "**LDA:** $\\;\\boldsymbol{\\theta}_c=(\\boldsymbol{\\mu}_c^t,\\,\\operatorname{vec}(\\mathbf{\\Sigma}))^t,\\,$ media de la clase $c$ y matriz de varianzas común para todas las clases\n",
    "$$p(\\boldsymbol{x}\\mid y=c,\\boldsymbol{\\theta}_c)=\\mathcal{N}(\\boldsymbol{x}_n\\mid \\boldsymbol{\\mu}_c,\\mathbf{\\Sigma})\n",
    "\\qquad\\text{con}\\qquad%\n",
    "\\hat{\\boldsymbol{\\mu}}_c=\\frac{1}{N_c}\\sum_{n:y_n=c}\\boldsymbol{x}_n\\quad\\text{y}\\quad%\n",
    "\\hat{\\mathbf{\\Sigma}}=\\frac{1}{N}\\sum_c\\sum_{n:y_n=c}(\\boldsymbol{x}_n-\\hat{\\boldsymbol{\\mu}}_c)(\\boldsymbol{x}_n-\\hat{\\boldsymbol{\\mu}}_c)^t$$\n",
    "\n",
    "**Aplicación a iris:** $\\;$ con suavizado de la matriz de varianzas mediante un parámetro `tol` que controla su fuerza (1e-4 por omisión)"
   ]
  },
  {
   "cell_type": "code",
   "execution_count": 2,
   "metadata": {},
   "outputs": [
    {
     "name": "stdout",
     "output_type": "stream",
     "text": [
      "La precisión de LinearDiscriminantAnalysis() es 96.7%\n"
     ]
    }
   ],
   "source": [
    "from sklearn.discriminant_analysis import LinearDiscriminantAnalysis\n",
    "from sklearn.datasets import load_iris; X, y = load_iris(return_X_y=True)\n",
    "X_train, X_test, y_train, y_test = train_test_split(X, y, test_size=0.2, shuffle=True, random_state=23)\n",
    "clf = LinearDiscriminantAnalysis(tol=1e-4).fit(X_train, y_train)\n",
    "acc = accuracy_score(y_test, clf.predict(X_test)); print(f'La precisión de {clf!s} es {acc:.1%}')"
   ]
  },
  {
   "cell_type": "code",
   "execution_count": 26,
   "metadata": {},
   "outputs": [
    {
     "name": "stdout",
     "output_type": "stream",
     "text": [
      "La precisión de LinearDiscriminantAnalysis(tol=1) es 26.7%\n",
      "La precisión de LinearDiscriminantAnalysis(tol=0) es 96.7%\n",
      "La precisión de LinearDiscriminantAnalysis(tol=0.1) es 96.7%\n",
      "La precisión de LinearDiscriminantAnalysis(tol=0.01) es 96.7%\n",
      "La precisión de LinearDiscriminantAnalysis(tol=0.001) es 96.7%\n",
      "La precisión de LinearDiscriminantAnalysis() es 96.7%\n",
      "La precisión de LinearDiscriminantAnalysis(tol=1e-05) es 96.7%\n",
      "La precisión de LinearDiscriminantAnalysis(tol=1e-06) es 96.7%\n"
     ]
    }
   ],
   "source": [
    "from sklearn.discriminant_analysis import LinearDiscriminantAnalysis\n",
    "from sklearn.datasets import load_iris; X, y = load_iris(return_X_y=True)\n",
    "X_train, X_test, y_train, y_test = train_test_split(X, y, test_size=0.2, shuffle=True, random_state=23)\n",
    "for i in [1, 0, 0.1, 0.01, 0.001, 0.0001, 0.00001, 0.000001]:\n",
    "    clf = LinearDiscriminantAnalysis(tol=i).fit(X_train, y_train)\n",
    "    acc = accuracy_score(y_test, clf.predict(X_test)); print(f'La precisión de {clf!s} es {acc:.1%}')"
   ]
  },
  {
   "cell_type": "code",
   "execution_count": 27,
   "metadata": {},
   "outputs": [
    {
     "name": "stdout",
     "output_type": "stream",
     "text": [
      "La precisión de LinearDiscriminantAnalysis(tol=1) es 8.1%\n",
      "La precisión de LinearDiscriminantAnalysis(tol=0) es 80.6%\n",
      "La precisión de LinearDiscriminantAnalysis(tol=0.1) es 95.0%\n",
      "La precisión de LinearDiscriminantAnalysis(tol=0.01) es 95.0%\n",
      "La precisión de LinearDiscriminantAnalysis(tol=0.001) es 95.0%\n",
      "La precisión de LinearDiscriminantAnalysis() es 95.0%\n",
      "La precisión de LinearDiscriminantAnalysis(tol=1e-05) es 95.0%\n",
      "La precisión de LinearDiscriminantAnalysis(tol=1e-06) es 95.0%\n"
     ]
    }
   ],
   "source": [
    "from sklearn.discriminant_analysis import LinearDiscriminantAnalysis\n",
    "from sklearn.datasets import load_digits; X, y = load_digits(return_X_y=True)\n",
    "X_train, X_test, y_train, y_test = train_test_split(X, y, test_size=0.2, shuffle=True, random_state=23)\n",
    "for i in [1, 0, 0.1, 0.01, 0.001, 0.0001, 0.00001, 0.000001]:\n",
    "    clf = LinearDiscriminantAnalysis(tol=i).fit(X_train, y_train)\n",
    "    acc = accuracy_score(y_test, clf.predict(X_test)); print(f'La precisión de {clf!s} es {acc:.1%}')"
   ]
  },
  {
   "cell_type": "code",
   "execution_count": 28,
   "metadata": {},
   "outputs": [
    {
     "name": "stdout",
     "output_type": "stream",
     "text": [
      "La precisión de LinearDiscriminantAnalysis(tol=1) es 0.0%\n",
      "La precisión de LinearDiscriminantAnalysis(tol=0) es 85.0%\n",
      "La precisión de LinearDiscriminantAnalysis(tol=0.1) es 98.8%\n",
      "La precisión de LinearDiscriminantAnalysis(tol=0.01) es 98.8%\n",
      "La precisión de LinearDiscriminantAnalysis(tol=0.001) es 98.8%\n",
      "La precisión de LinearDiscriminantAnalysis() es 98.8%\n",
      "La precisión de LinearDiscriminantAnalysis(tol=1e-05) es 98.8%\n",
      "La precisión de LinearDiscriminantAnalysis(tol=1e-06) es 85.0%\n"
     ]
    }
   ],
   "source": [
    "from sklearn.discriminant_analysis import LinearDiscriminantAnalysis\n",
    "from sklearn.datasets import fetch_olivetti_faces; X, y = fetch_olivetti_faces(return_X_y=True)\n",
    "X_train, X_test, y_train, y_test = train_test_split(X, y, test_size=0.2, shuffle=True, random_state=23)\n",
    "for i in [1, 0, 0.1, 0.01, 0.001, 0.0001, 0.00001, 0.000001]:\n",
    "    clf = LinearDiscriminantAnalysis(tol=i).fit(X_train, y_train)\n",
    "    acc = accuracy_score(y_test, clf.predict(X_test)); print(f'La precisión de {clf!s} es {acc:.1%}')"
   ]
  },
  {
   "cell_type": "markdown",
   "metadata": {},
   "source": [
    "**Ejercicio:** $\\;$ estudia el efecto de `tol` sobre la precisión de LDA en iris, digits y olivetti"
   ]
  },
  {
   "cell_type": "markdown",
   "metadata": {},
   "source": [
    "## 3. Análisis discriminante cuadrático (QDA)"
   ]
  },
  {
   "cell_type": "markdown",
   "metadata": {},
   "source": [
    "**QDA:** $\\;\\boldsymbol{\\theta}_c=(\\boldsymbol{\\mu}_c^t,\\,\\operatorname{vec}(\\mathbf{\\Sigma}_c))^t,\\,$ media y matriz de varianzas de la clase $c$\n",
    "$$p(\\boldsymbol{x}\\mid y=c,\\boldsymbol{\\theta}_c)=\\mathcal{N}(\\boldsymbol{x}_n\\mid \\boldsymbol{\\mu}_c,\\mathbf{\\Sigma}_c)\n",
    "\\qquad\\text{con}\\qquad%\n",
    "\\hat{\\boldsymbol{\\mu}}_c=\\frac{1}{N_c}\\sum_{n:y_n=c}\\boldsymbol{x}_n\\quad\\text{y}\\quad%\n",
    "\\hat{\\mathbf{\\Sigma}}_c=\\frac{1}{N_c}\\sum_{n:y_n=c}(\\boldsymbol{x}_n-\\hat{\\boldsymbol{\\mu}}_c)(\\boldsymbol{x}_n-\\hat{\\boldsymbol{\\mu}}_c)^t$$\n",
    "\n",
    "**Aplicación a iris:** $\\;$ `reg_param` suaviza matrices de varianzas mediante interpolación con $\\mathbf{I}$ (0, valor por omisión, no suaviza; 1 identidad)"
   ]
  },
  {
   "cell_type": "code",
   "execution_count": 3,
   "metadata": {},
   "outputs": [
    {
     "name": "stdout",
     "output_type": "stream",
     "text": [
      "La precisión de QuadraticDiscriminantAnalysis() es 96.7%\n"
     ]
    }
   ],
   "source": [
    "from sklearn.discriminant_analysis import QuadraticDiscriminantAnalysis\n",
    "from sklearn.datasets import load_iris; from sklearn.model_selection import train_test_split\n",
    "X, y = load_iris(return_X_y=True)\n",
    "X_train, X_test, y_train, y_test = train_test_split(X, y, test_size=0.2, shuffle=True, random_state=23)\n",
    "clf = QuadraticDiscriminantAnalysis(reg_param=0.0).fit(X_train, y_train)\n",
    "acc = accuracy_score(y_test, clf.predict(X_test)); print(f'La precisión de {clf!s} es {acc:.1%}')"
   ]
  },
  {
   "cell_type": "markdown",
   "metadata": {},
   "source": [
    "**Ejercicio:** $\\;$ estudia el efecto de `reg_param` sobre la precisión de QDA en iris, digits y olivetti"
   ]
  },
  {
   "cell_type": "code",
   "execution_count": 29,
   "metadata": {},
   "outputs": [
    {
     "name": "stdout",
     "output_type": "stream",
     "text": [
      "La precisión de QuadraticDiscriminantAnalysis() es 96.7%\n",
      "La precisión de QuadraticDiscriminantAnalysis(reg_param=0.1) es 93.3%\n",
      "La precisión de QuadraticDiscriminantAnalysis(reg_param=0.2) es 93.3%\n",
      "La precisión de QuadraticDiscriminantAnalysis(reg_param=0.4) es 93.3%\n",
      "La precisión de QuadraticDiscriminantAnalysis(reg_param=0.6) es 90.0%\n",
      "La precisión de QuadraticDiscriminantAnalysis(reg_param=0.8) es 90.0%\n",
      "La precisión de QuadraticDiscriminantAnalysis(reg_param=1.0) es 90.0%\n"
     ]
    }
   ],
   "source": [
    "from sklearn.discriminant_analysis import QuadraticDiscriminantAnalysis\n",
    "from sklearn.datasets import load_iris; from sklearn.model_selection import train_test_split\n",
    "X, y = load_iris(return_X_y=True)\n",
    "X_train, X_test, y_train, y_test = train_test_split(X, y, test_size=0.2, shuffle=True, random_state=23)\n",
    "for reg_paragm in [0.0, 0.1, 0.2, 0.4, 0.6, 0.8, 1.0]:\n",
    "    clf = QuadraticDiscriminantAnalysis(reg_param=reg_paragm).fit(X_train, y_train)\n",
    "    acc = accuracy_score(y_test, clf.predict(X_test)); print(f'La precisión de {clf!s} es {acc:.1%}')\n"
   ]
  },
  {
   "cell_type": "code",
   "execution_count": 31,
   "metadata": {},
   "outputs": [
    {
     "name": "stdout",
     "output_type": "stream",
     "text": [
      "La precisión de QuadraticDiscriminantAnalysis() es 86.9%\n",
      "La precisión de QuadraticDiscriminantAnalysis(reg_param=0.1) es 96.7%\n",
      "La precisión de QuadraticDiscriminantAnalysis(reg_param=0.2) es 98.1%\n",
      "La precisión de QuadraticDiscriminantAnalysis(reg_param=0.4) es 98.9%\n",
      "La precisión de QuadraticDiscriminantAnalysis(reg_param=0.6) es 99.4%\n",
      "La precisión de QuadraticDiscriminantAnalysis(reg_param=0.8) es 99.4%\n",
      "La precisión de QuadraticDiscriminantAnalysis(reg_param=1.0) es 89.2%\n"
     ]
    }
   ],
   "source": [
    "\n",
    "from sklearn.discriminant_analysis import QuadraticDiscriminantAnalysis\n",
    "from sklearn.datasets import load_digits; from sklearn.model_selection import train_test_split\n",
    "X, y = load_digits(return_X_y=True)\n",
    "X_train, X_test, y_train, y_test = train_test_split(X, y, test_size=0.2, shuffle=True, random_state=23)\n",
    "for reg_paragm in [0.0, 0.1, 0.2, 0.4, 0.6, 0.8, 1.0]:\n",
    "    clf = QuadraticDiscriminantAnalysis(reg_param=reg_paragm).fit(X_train, y_train)\n",
    "    acc = accuracy_score(y_test, clf.predict(X_test)); print(f'La precisión de {clf!s} es {acc:.1%}')"
   ]
  },
  {
   "cell_type": "code",
   "execution_count": 30,
   "metadata": {},
   "outputs": [
    {
     "name": "stdout",
     "output_type": "stream",
     "text": [
      "La precisión de QuadraticDiscriminantAnalysis() es 6.2%\n",
      "La precisión de QuadraticDiscriminantAnalysis(reg_param=0.1) es 6.2%\n",
      "La precisión de QuadraticDiscriminantAnalysis(reg_param=0.2) es 3.8%\n",
      "La precisión de QuadraticDiscriminantAnalysis(reg_param=0.4) es 1.2%\n",
      "La precisión de QuadraticDiscriminantAnalysis(reg_param=0.6) es 1.2%\n",
      "La precisión de QuadraticDiscriminantAnalysis(reg_param=0.8) es 3.8%\n",
      "La precisión de QuadraticDiscriminantAnalysis(reg_param=1.0) es 2.5%\n"
     ]
    }
   ],
   "source": [
    "\n",
    "from sklearn.discriminant_analysis import QuadraticDiscriminantAnalysis\n",
    "from sklearn.datasets import fetch_olivetti_faces; from sklearn.model_selection import train_test_split\n",
    "X, y = fetch_olivetti_faces(return_X_y=True)\n",
    "X_train, X_test, y_train, y_test = train_test_split(X, y, test_size=0.2, shuffle=True, random_state=23)\n",
    "for reg_paragm in [0.0, 0.1, 0.2, 0.4, 0.6, 0.8, 1.0]:\n",
    "    clf = QuadraticDiscriminantAnalysis(reg_param=reg_paragm).fit(X_train, y_train)\n",
    "    acc = accuracy_score(y_test, clf.predict(X_test)); print(f'La precisión de {clf!s} es {acc:.1%}')"
   ]
  },
  {
   "cell_type": "markdown",
   "metadata": {},
   "source": [
    "## 4. Generación de datos sintéticos (opcional)"
   ]
  },
  {
   "cell_type": "markdown",
   "metadata": {},
   "source": [
    "**digits:** $\\;$ QDA con `reg_param=0.9` obtiene un $99.7\\%$ de precisión"
   ]
  },
  {
   "cell_type": "code",
   "execution_count": 4,
   "metadata": {},
   "outputs": [
    {
     "data": {
      "image/png": "[encoded data removed]",
      "text/plain": [
       "<Figure size 1500x1500 with 10 Axes>"
      ]
     },
     "metadata": {},
     "output_type": "display_data"
    }
   ],
   "source": [
    "import matplotlib.pyplot as plt; from scipy.stats import multivariate_normal\n",
    "from sklearn.datasets import load_digits; X, y = load_digits(return_X_y=True)\n",
    "clf = QuadraticDiscriminantAnalysis(reg_param=0.9, store_covariance=True).fit(X, y)\n",
    "fig, axs = plt.subplots(1, 10, figsize=(15, 15))\n",
    "for i in range(10):\n",
    "    ax = axs[i]; ax.set_axis_off()\n",
    "    Z = multivariate_normal(mean=clf.means_[i], cov=clf.covariance_[i], seed=23).rvs(1)\n",
    "    ax.imshow(Z.reshape(8,8), cmap=plt.cm.gray_r, interpolation=\"none\")"
   ]
  },
  {
   "cell_type": "markdown",
   "metadata": {},
   "source": [
    "**Ejercicio:** $\\;$ genera caras sintéticas con olivetti y LDA ($98.8\\%$ de acierto)"
   ]
  },
  {
   "cell_type": "code",
   "execution_count": 33,
   "metadata": {},
   "outputs": [
    {
     "data": {
      "image/png": "[encoded data removed]",
      "text/plain": [
       "<Figure size 1500x1500 with 10 Axes>"
      ]
     },
     "metadata": {},
     "output_type": "display_data"
    },
    {
     "data": {
      "image/png": "[encoded data removed]",
      "text/plain": [
       "<Figure size 1500x1500 with 10 Axes>"
      ]
     },
     "metadata": {},
     "output_type": "display_data"
    },
    {
     "data": {
      "image/png": "[encoded data removed]",
      "text/plain": [
       "<Figure size 1500x1500 with 10 Axes>"
      ]
     },
     "metadata": {},
     "output_type": "display_data"
    },
    {
     "data": {
      "image/png": "[encoded data removed]",
      "text/plain": [
       "<Figure size 1500x1500 with 10 Axes>"
      ]
     },
     "metadata": {},
     "output_type": "display_data"
    },
    {
     "data": {
      "image/png": "[encoded data removed]",
      "text/plain": [
       "<Figure size 1500x1500 with 10 Axes>"
      ]
     },
     "metadata": {},
     "output_type": "display_data"
    }
   ],
   "source": [
    "import matplotlib.pyplot as plt; from scipy.stats import multivariate_normal\n",
    "from sklearn.datasets import load_digits; X, y = load_digits(return_X_y=True)\n",
    "clf = QuadraticDiscriminantAnalysis(reg_param=0.9, store_covariance=True).fit(X, y)\n",
    "for seed in [1,2,3,4,5]:\n",
    "    fig, axs = plt.subplots(1, 10, figsize=(15, 15))\n",
    "    for i in range(10):\n",
    "        ax = axs[i]; ax.set_axis_off()\n",
    "        Z = multivariate_normal(mean=clf.means_[i], cov=clf.covariance_[i], seed=seed).rvs(1)\n",
    "        ax.imshow(Z.reshape(8,8), cmap=plt.cm.gray_r, interpolation=\"none\")"
   ]
  }
 ],
 "metadata": {
  "kernelspec": {
   "display_name": "Python 3",
   "language": "python",
   "name": "python3"
  },
  "language_info": {
   "codemirror_mode": {
    "name": "ipython",
    "version": 3
   },
   "file_extension": ".py",
   "mimetype": "text/x-python",
   "name": "python",
   "nbconvert_exporter": "python",
   "pygments_lexer": "ipython3",
   "version": "3.10.12"
  }
 },
 "nbformat": 4,
 "nbformat_minor": 2
}
