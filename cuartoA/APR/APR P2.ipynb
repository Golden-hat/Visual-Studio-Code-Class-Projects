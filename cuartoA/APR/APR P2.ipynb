{
 "cells": [
  {
   "cell_type": "markdown",
   "metadata": {},
   "source": [
    "# Explicación del Código para Carga, Preprocesamiento y Normalización del Dataset MNIST con Keras\n",
    "\n",
    "Este código prepara el dataset MNIST para su uso en modelos de deep learning mediante el preprocesamiento de las imágenes y las etiquetas. A continuación se explican cada uno de los pasos involucrados:\n",
    "\n",
    "## 1. Importación de Librerías y Configuración de Semilla\n",
    "\n",
    "- **Importación de Librerías**: Se importan las librerías `numpy` para operaciones numéricas, `matplotlib.pyplot` para visualización, `os` para operaciones del sistema, y `keras` para el manejo de deep learning.\n",
    "- **Configuración de Semilla Aleatoria**: Se establece una semilla con `keras.utils.set_random_seed(23)`, lo cual asegura que los resultados sean reproducibles. También se desactiva el nivel de log de TensorFlow (`TF_CPP_MIN_LOG_LEVEL = '2'`) para evitar mensajes de advertencia innecesarios.\n",
    "\n",
    "## 2. Carga del Dataset MNIST\n",
    "\n",
    "- **Carga de Datos**: Se utiliza `keras.datasets.mnist.load_data()` para cargar el conjunto de datos MNIST. Este contiene imágenes de dígitos escritos a mano, divididas en conjuntos de entrenamiento (`x_train`, `y_train`) y prueba (`x_test`, `y_test`).\n",
    "- **Verificación de la Carga**: Se imprime la forma de los datos cargados para verificar que los conjuntos tienen las dimensiones correctas: `(60000, 28, 28)` para `x_train` (60000 imágenes de 28x28 píxeles) y `(10000, 28, 28)` para `x_test`.\n",
    "\n",
    "## 3. Reformateo y Normalización de Datos\n",
    "\n",
    "- **Redimensionamiento de Imágenes**: Las imágenes son reformateadas a vectores 1D. `x_train` y `x_test` se redimensionan de matrices 28x28 a vectores de longitud 784 (28*28) para que cada imagen se represente como un solo vector.\n",
    "- **Normalización de Imágenes**: Se normalizan los valores de los píxeles para que queden en un rango `[0, 1]`. Esto se hace dividiendo cada valor de píxel por el valor máximo (255). La normalización mejora la eficiencia y el rendimiento del modelo.\n",
    "\n",
    "## 4. Conversión de Etiquetas a Formato Categórico\n",
    "\n",
    "- **Conversión a Categórico**: Las etiquetas (dígitos del 0 al 9) se convierten a formato categórico utilizando `keras.utils.to_categorical`, transformando cada etiqueta en un vector binario de 10 posiciones. Esto es necesario para tareas de clasificación multicategoría.\n",
    "- **Verificación de la Conversión**: Se imprime la forma de los datos procesados para confirmar que tanto las imágenes (`x_train` y `x_test`) como las etiquetas (`y_train` y `y_test`) están en el formato adecuado para el entrenamiento del modelo.\n",
    "\n",
    "Este proceso asegura que las imágenes están en un formato vectorial normalizado y que las etiquetas están listas para el modelo de clasificación multicategoría.\n"
   ]
  },
  {
   "cell_type": "code",
   "execution_count": null,
   "metadata": {
    "colab": {
     "base_uri": "https://localhost:8080/"
    },
    "id": "TTEWFSv8loFR",
    "outputId": "9f39877e-6a5f-4eef-b544-7d34c299e40f"
   },
   "outputs": [
    {
     "name": "stderr",
     "output_type": "stream",
     "text": [
      "2024-11-14 23:42:23.176918: E external/local_xla/xla/stream_executor/cuda/cuda_fft.cc:477] Unable to register cuFFT factory: Attempting to register factory for plugin cuFFT when one has already been registered\n",
      "WARNING: All log messages before absl::InitializeLog() is called are written to STDERR\n",
      "E0000 00:00:1731624143.189517   95907 cuda_dnn.cc:8310] Unable to register cuDNN factory: Attempting to register factory for plugin cuDNN when one has already been registered\n",
      "E0000 00:00:1731624143.193200   95907 cuda_blas.cc:1418] Unable to register cuBLAS factory: Attempting to register factory for plugin cuBLAS when one has already been registered\n",
      "2024-11-14 23:42:23.205238: I tensorflow/core/platform/cpu_feature_guard.cc:210] This TensorFlow binary is optimized to use available CPU instructions in performance-critical operations.\n",
      "To enable the following instructions: AVX2 FMA, in other operations, rebuild TensorFlow with the appropriate compiler flags.\n"
     ]
    },
    {
     "name": "stdout",
     "output_type": "stream",
     "text": [
      "Lectura: train (60000, 28, 28) (60000,) test (10000, 28, 28) (10000,)\n",
      "Reformato 1: train (60000, 784) (60000,) test (10000, 784) (10000,)\n",
      "Normalización [0,1]: max = 255.0\n",
      "Reformato 2: train (60000, 784) (60000, 10) test (10000, 784) (10000, 10)\n"
     ]
    }
   ],
   "source": [
    "# Import necessary libraries and set seed\n",
    "import numpy as np\n",
    "import matplotlib.pyplot as plt\n",
    "import os\n",
    "import keras\n",
    "\n",
    "os.environ['TF_CPP_MIN_LOG_LEVEL'] = '2'\n",
    "keras.utils.set_random_seed(23)\n",
    "\n",
    "# Load MNIST dataset\n",
    "(x_train, y_train), (x_test, y_test) = keras.datasets.mnist.load_data()\n",
    "print(f'Lectura: train {x_train.shape} {y_train.shape} test {x_test.shape} {y_test.shape}')\n",
    "\n",
    "# Reshape data and normalize\n",
    "input_dim = x_train.shape[1] * x_train.shape[2]\n",
    "x_train = x_train.reshape(-1, input_dim).astype(\"float32\")\n",
    "x_test = x_test.reshape(-1, input_dim).astype(\"float32\")\n",
    "print(f'Reformato 1: train {x_train.shape} {y_train.shape} test {x_test.shape} {y_test.shape}')\n",
    "\n",
    "# Normalize input data to the range [0,1]\n",
    "# This is done to improve the performance of the model\n",
    "# by reducing the effect of features with large ranges\n",
    "x_train_max = np.max(x_train)\n",
    "x_train /= x_train_max\n",
    "x_test /= x_train_max\n",
    "print(f'Normalización [0,1]: max = {x_train_max}')\n",
    "\n",
    "# Convert labels to categorical format\n",
    "num_classes = 10\n",
    "y_train = keras.utils.to_categorical(y_train, num_classes)\n",
    "y_test = keras.utils.to_categorical(y_test, num_classes)\n",
    "print(f'Reformato 2: train {x_train.shape} {y_train.shape} test {x_test.shape} {y_test.shape}')"
   ]
  },
  {
   "cell_type": "markdown",
   "metadata": {},
   "source": [
    "# Explicación del Código para Definir y Compilar un Modelo MLP Simple para MNIST\n",
    "\n",
    "Este código construye y compila un modelo de red neuronal multicapa (MLP) para clasificar dígitos en el conjunto de datos MNIST. A continuación se explican los pasos principales.\n",
    "\n",
    "## 1. Definición del Modelo MLP\n",
    "\n",
    "Se crea un modelo secuencial `keras.Sequential` compuesto por las siguientes capas:\n",
    "- **Capa de Entrada**: Configurada con el tamaño `input_dim` (784), que corresponde a las dimensiones de cada imagen aplanada de 28x28 píxeles.\n",
    "- **Capa Densa Oculta**: Una capa completamente conectada con 800 neuronas y función de activación `relu`. Esta capa aprende patrones de las imágenes y extrae características relevantes para la clasificación.\n",
    "- **Capa de Salida**: Una capa con `num_classes` (10) neuronas y activación `softmax`, que produce una probabilidad para cada una de las 10 clases del dataset MNIST.\n",
    "\n",
    "El uso de `softmax` en la capa de salida permite al modelo generar probabilidades para cada clase, con una salida que suma 1, adecuada para problemas de clasificación multicategoría.\n",
    "\n",
    "## 2. Resumen del Modelo\n",
    "\n",
    "Se imprime el resumen del modelo con `M.summary()`, lo cual muestra el tipo y tamaño de cada capa y permite verificar la estructura del modelo.\n",
    "\n",
    "## 3. Cálculo del Número de Parámetros\n",
    "\n",
    "Para comprender la complejidad del modelo, se calcula el número de parámetros en cada capa:\n",
    "- **Capa Oculta**: El número de parámetros es `784*800 + 800` (conexiones + bias).\n",
    "- **Capa de Salida**: El número de parámetros es `800*10 + 10`.\n",
    "\n",
    "Estos cálculos ayudan a comprender la cantidad de memoria y capacidad de computación necesarias para entrenar el modelo.\n",
    "\n",
    "Las capas densas en una red neuronal son uno de los tipos de capas más comunes en modelos de aprendizaje profundo. En una capa densa, cada neurona está conectada a todas las neuronas de la capa anterior, de ahí que también se le llame capa totalmente conectada (fully connected layer).\n",
    "\n",
    "En una capa densa:\n",
    "\n",
    "Cada neurona realiza una operación matemática, calculando una combinación lineal de las entradas y aplicando una función de activación (como ReLU, sigmoid, o softmax) al resultado.\n",
    "Las conexiones entre neuronas se representan mediante pesos (parámetros que se ajustan durante el entrenamiento) y sesgos que permiten que cada neurona aprenda patrones específicos.\n",
    "\n",
    "## 4. Compilación del Modelo\n",
    "\n",
    "El modelo se compila con los siguientes ajustes:\n",
    "- **Loss**: Se utiliza `categorical_crossentropy`, una función de pérdida adecuada para problemas de clasificación multicategoría.\n",
    "- **Optimizer**: Se emplea `adam`, un algoritmo de optimización adaptativa eficiente que ajusta los pesos del modelo para minimizar la pérdida.\n",
    "- **Metrics**: Se utiliza `accuracy` como métrica para monitorear el rendimiento del modelo durante el entrenamiento.\n",
    "\n",
    "Este proceso de compilación prepara el modelo para el entrenamiento, estableciendo cómo calcular el error y cómo ajustar los pesos para reducir la pérdida.\n",
    "\n",
    "## Capas, tipos y su significado\n",
    "\n",
    "**Capa Oculta**\n",
    "\n",
    "La capa oculta es cualquier capa que está entre la capa de entrada (la primera capa que recibe los datos) y la capa de salida (la capa que genera la predicción final). Las capas ocultas no interactúan directamente con los datos de entrada o con la salida final, pero son fundamentales para aprender y extraer patrones complejos en los datos.\n",
    "\n",
    "Características de la capa oculta:\n",
    "\n",
    "Contiene neuronas (unidades o nodos) que están conectadas a la capa anterior y la siguiente.\n",
    "Su objetivo es transformar los datos, extrayendo características de mayor nivel o representaciones más complejas.\n",
    "Cada neurona aplica una función de activación (como ReLU o tanh) que introduce no linealidad, permitiendo que la red aprenda relaciones complejas entre los datos de entrada y la salida.\n",
    "\n",
    "En el ejemplo de MNIST, una capa oculta con 800 neuronas toma las características iniciales de los datos (784 en total, para las imágenes de 28x28 píxeles) y aprende patrones que ayudarán en la clasificación.\n",
    "\n",
    "**Capa de Salida**\n",
    "\n",
    "La capa de salida es la última capa de la red neuronal y produce el resultado final del modelo. Este resultado depende del tipo de problema:\n",
    "\n",
    "En problemas de clasificación (como MNIST, donde el objetivo es clasificar dígitos del 0 al 9), la capa de salida normalmente tiene un número de neuronas igual al número de clases (10 en este caso) y utiliza una función de activación softmax. Softmax convierte las salidas en probabilidades, y la clase con mayor probabilidad es la predicción final del modelo.\n",
    "En problemas de regresión (cuando el objetivo es predecir valores continuos), la capa de salida suele tener solo una neurona y no usa softmax, sino que proporciona el valor numérico directamente.\n",
    "\n",
    "En el modelo de MNIST:\n",
    "\n",
    "La capa oculta con 800 neuronas aprende patrones complejos en las imágenes.\n",
    "La capa de salida con 10 neuronas genera una probabilidad para cada dígito (del 0 al 9) y la clase con mayor probabilidad será la predicción del modelo."
   ]
  },
  {
   "cell_type": "code",
   "execution_count": 3,
   "metadata": {
    "colab": {
     "base_uri": "https://localhost:8080/",
     "height": 234
    },
    "id": "FIUnkDLSlv4R",
    "outputId": "75dd5e55-cc45-4890-9936-786b5f62a077"
   },
   "outputs": [
    {
     "name": "stderr",
     "output_type": "stream",
     "text": [
      "I0000 00:00:1731624170.534283   95907 gpu_device.cc:2022] Created device /job:localhost/replica:0/task:0/device:GPU:0 with 5573 MB memory:  -> device: 0, name: NVIDIA GeForce RTX 3060 Ti, pci bus id: 0000:01:00.0, compute capability: 8.6\n"
     ]
    },
    {
     "data": {
      "text/html": [
       "<pre style=\"white-space:pre;overflow-x:auto;line-height:normal;font-family:Menlo,'DejaVu Sans Mono',consolas,'Courier New',monospace\"><span style=\"font-weight: bold\">Model: \"sequential\"</span>\n",
       "</pre>\n"
      ],
      "text/plain": [
       "\u001b[1mModel: \"sequential\"\u001b[0m\n"
      ]
     },
     "metadata": {},
     "output_type": "display_data"
    },
    {
     "data": {
      "text/html": [
       "<pre style=\"white-space:pre;overflow-x:auto;line-height:normal;font-family:Menlo,'DejaVu Sans Mono',consolas,'Courier New',monospace\">┏━━━━━━━━━━━━━━━━━━━━━━━━━━━━━━━━━┳━━━━━━━━━━━━━━━━━━━━━━━━┳━━━━━━━━━━━━━━━┓\n",
       "┃<span style=\"font-weight: bold\"> Layer (type)                    </span>┃<span style=\"font-weight: bold\"> Output Shape           </span>┃<span style=\"font-weight: bold\">       Param # </span>┃\n",
       "┡━━━━━━━━━━━━━━━━━━━━━━━━━━━━━━━━━╇━━━━━━━━━━━━━━━━━━━━━━━━╇━━━━━━━━━━━━━━━┩\n",
       "│ dense (<span style=\"color: #0087ff; text-decoration-color: #0087ff\">Dense</span>)                   │ (<span style=\"color: #00d7ff; text-decoration-color: #00d7ff\">None</span>, <span style=\"color: #00af00; text-decoration-color: #00af00\">800</span>)            │       <span style=\"color: #00af00; text-decoration-color: #00af00\">628,000</span> │\n",
       "├─────────────────────────────────┼────────────────────────┼───────────────┤\n",
       "│ dense_1 (<span style=\"color: #0087ff; text-decoration-color: #0087ff\">Dense</span>)                 │ (<span style=\"color: #00d7ff; text-decoration-color: #00d7ff\">None</span>, <span style=\"color: #00af00; text-decoration-color: #00af00\">10</span>)             │         <span style=\"color: #00af00; text-decoration-color: #00af00\">8,010</span> │\n",
       "└─────────────────────────────────┴────────────────────────┴───────────────┘\n",
       "</pre>\n"
      ],
      "text/plain": [
       "┏━━━━━━━━━━━━━━━━━━━━━━━━━━━━━━━━━┳━━━━━━━━━━━━━━━━━━━━━━━━┳━━━━━━━━━━━━━━━┓\n",
       "┃\u001b[1m \u001b[0m\u001b[1mLayer (type)                   \u001b[0m\u001b[1m \u001b[0m┃\u001b[1m \u001b[0m\u001b[1mOutput Shape          \u001b[0m\u001b[1m \u001b[0m┃\u001b[1m \u001b[0m\u001b[1m      Param #\u001b[0m\u001b[1m \u001b[0m┃\n",
       "┡━━━━━━━━━━━━━━━━━━━━━━━━━━━━━━━━━╇━━━━━━━━━━━━━━━━━━━━━━━━╇━━━━━━━━━━━━━━━┩\n",
       "│ dense (\u001b[38;5;33mDense\u001b[0m)                   │ (\u001b[38;5;45mNone\u001b[0m, \u001b[38;5;34m800\u001b[0m)            │       \u001b[38;5;34m628,000\u001b[0m │\n",
       "├─────────────────────────────────┼────────────────────────┼───────────────┤\n",
       "│ dense_1 (\u001b[38;5;33mDense\u001b[0m)                 │ (\u001b[38;5;45mNone\u001b[0m, \u001b[38;5;34m10\u001b[0m)             │         \u001b[38;5;34m8,010\u001b[0m │\n",
       "└─────────────────────────────────┴────────────────────────┴───────────────┘\n"
      ]
     },
     "metadata": {},
     "output_type": "display_data"
    },
    {
     "data": {
      "text/html": [
       "<pre style=\"white-space:pre;overflow-x:auto;line-height:normal;font-family:Menlo,'DejaVu Sans Mono',consolas,'Courier New',monospace\"><span style=\"font-weight: bold\"> Total params: </span><span style=\"color: #00af00; text-decoration-color: #00af00\">636,010</span> (2.43 MB)\n",
       "</pre>\n"
      ],
      "text/plain": [
       "\u001b[1m Total params: \u001b[0m\u001b[38;5;34m636,010\u001b[0m (2.43 MB)\n"
      ]
     },
     "metadata": {},
     "output_type": "display_data"
    },
    {
     "data": {
      "text/html": [
       "<pre style=\"white-space:pre;overflow-x:auto;line-height:normal;font-family:Menlo,'DejaVu Sans Mono',consolas,'Courier New',monospace\"><span style=\"font-weight: bold\"> Trainable params: </span><span style=\"color: #00af00; text-decoration-color: #00af00\">636,010</span> (2.43 MB)\n",
       "</pre>\n"
      ],
      "text/plain": [
       "\u001b[1m Trainable params: \u001b[0m\u001b[38;5;34m636,010\u001b[0m (2.43 MB)\n"
      ]
     },
     "metadata": {},
     "output_type": "display_data"
    },
    {
     "data": {
      "text/html": [
       "<pre style=\"white-space:pre;overflow-x:auto;line-height:normal;font-family:Menlo,'DejaVu Sans Mono',consolas,'Courier New',monospace\"><span style=\"font-weight: bold\"> Non-trainable params: </span><span style=\"color: #00af00; text-decoration-color: #00af00\">0</span> (0.00 B)\n",
       "</pre>\n"
      ],
      "text/plain": [
       "\u001b[1m Non-trainable params: \u001b[0m\u001b[38;5;34m0\u001b[0m (0.00 B)\n"
      ]
     },
     "metadata": {},
     "output_type": "display_data"
    },
    {
     "name": "stdout",
     "output_type": "stream",
     "text": [
      "Número de parámetros de la capa oculta: 628000\n",
      "Número de parámetros de la capa de salida: 8010\n"
     ]
    }
   ],
   "source": [
    "# Define a simple MLP model for MNIST\n",
    "M = keras.Sequential([\n",
    "    keras.Input(shape=(input_dim,)),\n",
    "    keras.layers.Dense(800, activation='relu'),\n",
    "    keras.layers.Dense(num_classes, activation='softmax')\n",
    "])\n",
    "\n",
    "# Print model summary\n",
    "M.summary()\n",
    "\n",
    "# Calculate number of parameters in each layer\n",
    "print(f'Número de parámetros de la capa oculta: {784*800 + 800}')\n",
    "print(f'Número de parámetros de la capa de salida: {800*10 + 10}')\n",
    "\n",
    "# Compile the model\n",
    "M.compile(loss=\"categorical_crossentropy\", optimizer=\"adam\", metrics=[\"accuracy\"])"
   ]
  },
  {
   "cell_type": "markdown",
   "metadata": {},
   "source": [
    "# Explicación del Código para Entrenamiento y Visualización de Pérdida y Precisión del Modelo\n",
    "\n",
    "Este código entrena el modelo MLP para el dataset MNIST y luego visualiza la evolución de la pérdida y la precisión durante las épocas de entrenamiento. A continuación se detallan los pasos:\n",
    "\n",
    "## 1. Entrenamiento del Modelo\n",
    "\n",
    "Se entrena el modelo con el método `M.fit()`:\n",
    "- **Entrenamiento**: Se utilizan los datos de entrenamiento `x_train` y las etiquetas `y_train`.\n",
    "- **Batch Size**: El tamaño del lote es de 16, lo que significa que los datos se procesan en grupos de 16 imágenes durante cada paso de actualización de los parámetros.\n",
    "- **Épocas**: El entrenamiento se realiza durante 10 épocas, es decir, el modelo pasa por el conjunto de datos de entrenamiento 10 veces.\n",
    "- **Verbose**: Se establece `verbose=0`, lo que significa que no se imprimen detalles del progreso durante el entrenamiento.\n",
    "\n",
    "El objeto `H` contiene el historial de entrenamiento, incluyendo las métricas de pérdida y precisión a lo largo de las épocas.\n",
    "\n",
    "## 2. Visualización de la Pérdida y Precisión\n",
    "\n",
    "Después del entrenamiento, se visualizan dos gráficos para monitorear cómo cambian la pérdida y la precisión con cada época:\n",
    "- **Gráfico de Pérdida**: Se dibuja un gráfico con el valor de la pérdida a lo largo de las épocas, utilizando la información almacenada en `H.history['loss']`. El eje X muestra las épocas y el eje Y muestra los valores de la pérdida.\n",
    "- **Gráfico de Precisión**: Similar al gráfico de pérdida, se dibuja un gráfico de la precisión, utilizando los valores almacenados en `H.history['accuracy']`.\n",
    "\n",
    "Para cada gráfico:\n",
    "- **Configuración de Ejes**: Se configuran los ejes X para que muestren los números de las épocas (1, 2, ..., 10).\n",
    "- **Estilo de Línea**: Los datos se muestran con una línea azul (`color='b'`) y marcadores cuadrados (`marker='s'`), lo que facilita la visualización de los puntos de datos.\n",
    "\n",
    "## 3. Propósito de los Gráficos\n",
    "\n",
    "Estos gráficos son útiles para:\n",
    "- **Pérdida**: Evaluar si el modelo está aprendiendo de manera efectiva. Una disminución constante en la pérdida indica que el modelo se está ajustando bien a los datos.\n",
    "- **Precisión**: Verificar cómo mejora la precisión del modelo a medida que aprende a clasificar correctamente las imágenes.\n",
    "\n",
    "En conjunto, estos gráficos proporcionan una visión clara del rendimiento del modelo a lo largo del entrenamiento.\n"
   ]
  },
  {
   "cell_type": "code",
   "execution_count": 4,
   "metadata": {
    "colab": {
     "base_uri": "https://localhost:8080/",
     "height": 367
    },
    "id": "CTo79JhWl1D3",
    "outputId": "b75fe107-08d8-44b4-aff3-33758a9cac75"
   },
   "outputs": [
    {
     "name": "stderr",
     "output_type": "stream",
     "text": [
      "2024-11-14 23:43:00.642217: W external/local_xla/xla/tsl/framework/cpu_allocator_impl.cc:83] Allocation of 188160000 exceeds 10% of free system memory.\n",
      "2024-11-14 23:43:00.723899: W external/local_xla/xla/tsl/framework/cpu_allocator_impl.cc:83] Allocation of 188160000 exceeds 10% of free system memory.\n",
      "WARNING: All log messages before absl::InitializeLog() is called are written to STDERR\n",
      "I0000 00:00:1731624181.224607  107182 service.cc:148] XLA service 0x7feff8005f90 initialized for platform CUDA (this does not guarantee that XLA will be used). Devices:\n",
      "I0000 00:00:1731624181.224627  107182 service.cc:156]   StreamExecutor device (0): NVIDIA GeForce RTX 3060 Ti, Compute Capability 8.6\n",
      "2024-11-14 23:43:01.239422: I tensorflow/compiler/mlir/tensorflow/utils/dump_mlir_util.cc:268] disabling MLIR crash reproducer, set env var `MLIR_CRASH_REPRODUCER_DIRECTORY` to enable.\n",
      "I0000 00:00:1731624181.287716  107182 cuda_dnn.cc:529] Loaded cuDNN version 90300\n",
      "2024-11-14 23:43:01.305611: W external/local_xla/xla/service/gpu/nvptx_compiler.cc:930] The NVIDIA driver's CUDA version is 12.4 which is older than the PTX compiler version 12.5.82. Because the driver is older than the PTX compiler version, XLA is disabling parallel compilation, which may slow down compilation. You should update your NVIDIA driver or use the NVIDIA-provided CUDA forward compatibility packages.\n",
      "2024-11-14 23:43:01.955889: I external/local_xla/xla/stream_executor/cuda/cuda_asm_compiler.cc:397] ptxas warning : Registers are spilled to local memory in function 'gemm_fusion_dot_111', 144 bytes spill stores, 144 bytes spill loads\n",
      "\n",
      "I0000 00:00:1731624182.560804  107182 device_compiler.h:188] Compiled cluster using XLA!  This line is logged at most once for the lifetime of the process.\n"
     ]
    },
    {
     "data": {
      "text/plain": [
       "[<matplotlib.lines.Line2D at 0x7ff1694d2bd0>]"
      ]
     },
     "execution_count": 4,
     "metadata": {},
     "output_type": "execute_result"
    },
    {
     "data": {
      "image/png": "[encoded data removed]",
      "text/plain": [
       "<Figure size 900x350 with 2 Axes>"
      ]
     },
     "metadata": {},
     "output_type": "display_data"
    }
   ],
   "source": [
    "# Train the model\n",
    "H = M.fit(x_train, y_train, batch_size=16, epochs=10, verbose=0)\n",
    "\n",
    "# Plot training loss and accuracy\n",
    "fig, axes = plt.subplots(1, 2, figsize=(9, 3.5))\n",
    "xx = np.arange(1, len(H.history['loss'])+1)\n",
    "\n",
    "ax = axes[0]\n",
    "ax.grid()\n",
    "ax.set_xlabel('epoch')\n",
    "ax.set_ylabel('loss')\n",
    "ax.set_xticks(xx)\n",
    "ax.plot(xx, H.history['loss'], color='b', marker='s')\n",
    "\n",
    "ax = axes[1]\n",
    "ax.grid()\n",
    "ax.set_xlabel('epoch')\n",
    "ax.set_ylabel('accuracy')\n",
    "ax.set_xticks(xx)\n",
    "ax.plot(xx, H.history['accuracy'], color='b', marker='s')"
   ]
  },
  {
   "cell_type": "code",
   "execution_count": 7,
   "metadata": {
    "colab": {
     "base_uri": "https://localhost:8080/"
    },
    "id": "m4tWA2uUl42B",
    "outputId": "0a1274d4-9666-4915-d893-630ecde8e552"
   },
   "outputs": [
    {
     "name": "stdout",
     "output_type": "stream",
     "text": [
      "Loss: 0.2385\n",
      "Precisión: 97.9%\n"
     ]
    }
   ],
   "source": [
    "# Evaluate the model on test data\n",
    "score = M.evaluate(x_test, y_test, verbose=0)\n",
    "print(f'Loss: {score[0]:.4}\\nPrecisión: {score[1]:.1%}')"
   ]
  },
  {
   "cell_type": "markdown",
   "metadata": {},
   "source": [
    "Hagamos un entrenamiento ahora con un batch de 20 y 20 épocas para fashion-mnist"
   ]
  },
  {
   "cell_type": "code",
   "execution_count": 8,
   "metadata": {},
   "outputs": [
    {
     "name": "stdout",
     "output_type": "stream",
     "text": [
      "Lectura: train (60000, 28, 28) (60000,) test (10000, 28, 28) (10000,)\n",
      "Reformato 1: train (60000, 784) (60000,) test (10000, 784) (10000,)\n",
      "Normalización [0,1]: max = 255.0\n",
      "Reformato 2: train (60000, 784) (60000, 10) test (10000, 784) (10000, 10)\n"
     ]
    }
   ],
   "source": [
    "(x_train, y_train), (x_test, y_test) = keras.datasets.fashion_mnist.load_data()\n",
    "print(f'Lectura: train {x_train.shape} {y_train.shape} test {x_test.shape} {y_test.shape}')\n",
    "\n",
    "input_dim = x_train.shape[1] * x_train.shape[2]\n",
    "x_train = x_train.reshape(-1, input_dim).astype(\"float32\")\n",
    "x_test = x_test.reshape(-1, input_dim).astype(\"float32\")\n",
    "print(f'Reformato 1: train {x_train.shape} {y_train.shape} test {x_test.shape} {y_test.shape}')\n",
    "\n",
    "x_train_max = np.max(x_train)\n",
    "x_train /= x_train_max\n",
    "x_test /= x_train_max\n",
    "print(f'Normalización [0,1]: max = {x_train_max}')\n",
    "\n",
    "um_classes = 10\n",
    "y_train = keras.utils.to_categorical(y_train, num_classes)\n",
    "y_test = keras.utils.to_categorical(y_test, num_classes)\n",
    "print(f'Reformato 2: train {x_train.shape} {y_train.shape} test {x_test.shape} {y_test.shape}')"
   ]
  },
  {
   "cell_type": "code",
   "execution_count": 9,
   "metadata": {},
   "outputs": [
    {
     "data": {
      "text/html": [
       "<pre style=\"white-space:pre;overflow-x:auto;line-height:normal;font-family:Menlo,'DejaVu Sans Mono',consolas,'Courier New',monospace\"><span style=\"font-weight: bold\">Model: \"sequential_1\"</span>\n",
       "</pre>\n"
      ],
      "text/plain": [
       "\u001b[1mModel: \"sequential_1\"\u001b[0m\n"
      ]
     },
     "metadata": {},
     "output_type": "display_data"
    },
    {
     "data": {
      "text/html": [
       "<pre style=\"white-space:pre;overflow-x:auto;line-height:normal;font-family:Menlo,'DejaVu Sans Mono',consolas,'Courier New',monospace\">┏━━━━━━━━━━━━━━━━━━━━━━━━━━━━━━━━━┳━━━━━━━━━━━━━━━━━━━━━━━━┳━━━━━━━━━━━━━━━┓\n",
       "┃<span style=\"font-weight: bold\"> Layer (type)                    </span>┃<span style=\"font-weight: bold\"> Output Shape           </span>┃<span style=\"font-weight: bold\">       Param # </span>┃\n",
       "┡━━━━━━━━━━━━━━━━━━━━━━━━━━━━━━━━━╇━━━━━━━━━━━━━━━━━━━━━━━━╇━━━━━━━━━━━━━━━┩\n",
       "│ dense_2 (<span style=\"color: #0087ff; text-decoration-color: #0087ff\">Dense</span>)                 │ (<span style=\"color: #00d7ff; text-decoration-color: #00d7ff\">None</span>, <span style=\"color: #00af00; text-decoration-color: #00af00\">800</span>)            │       <span style=\"color: #00af00; text-decoration-color: #00af00\">628,000</span> │\n",
       "├─────────────────────────────────┼────────────────────────┼───────────────┤\n",
       "│ dense_3 (<span style=\"color: #0087ff; text-decoration-color: #0087ff\">Dense</span>)                 │ (<span style=\"color: #00d7ff; text-decoration-color: #00d7ff\">None</span>, <span style=\"color: #00af00; text-decoration-color: #00af00\">10</span>)             │         <span style=\"color: #00af00; text-decoration-color: #00af00\">8,010</span> │\n",
       "└─────────────────────────────────┴────────────────────────┴───────────────┘\n",
       "</pre>\n"
      ],
      "text/plain": [
       "┏━━━━━━━━━━━━━━━━━━━━━━━━━━━━━━━━━┳━━━━━━━━━━━━━━━━━━━━━━━━┳━━━━━━━━━━━━━━━┓\n",
       "┃\u001b[1m \u001b[0m\u001b[1mLayer (type)                   \u001b[0m\u001b[1m \u001b[0m┃\u001b[1m \u001b[0m\u001b[1mOutput Shape          \u001b[0m\u001b[1m \u001b[0m┃\u001b[1m \u001b[0m\u001b[1m      Param #\u001b[0m\u001b[1m \u001b[0m┃\n",
       "┡━━━━━━━━━━━━━━━━━━━━━━━━━━━━━━━━━╇━━━━━━━━━━━━━━━━━━━━━━━━╇━━━━━━━━━━━━━━━┩\n",
       "│ dense_2 (\u001b[38;5;33mDense\u001b[0m)                 │ (\u001b[38;5;45mNone\u001b[0m, \u001b[38;5;34m800\u001b[0m)            │       \u001b[38;5;34m628,000\u001b[0m │\n",
       "├─────────────────────────────────┼────────────────────────┼───────────────┤\n",
       "│ dense_3 (\u001b[38;5;33mDense\u001b[0m)                 │ (\u001b[38;5;45mNone\u001b[0m, \u001b[38;5;34m10\u001b[0m)             │         \u001b[38;5;34m8,010\u001b[0m │\n",
       "└─────────────────────────────────┴────────────────────────┴───────────────┘\n"
      ]
     },
     "metadata": {},
     "output_type": "display_data"
    },
    {
     "data": {
      "text/html": [
       "<pre style=\"white-space:pre;overflow-x:auto;line-height:normal;font-family:Menlo,'DejaVu Sans Mono',consolas,'Courier New',monospace\"><span style=\"font-weight: bold\"> Total params: </span><span style=\"color: #00af00; text-decoration-color: #00af00\">636,010</span> (2.43 MB)\n",
       "</pre>\n"
      ],
      "text/plain": [
       "\u001b[1m Total params: \u001b[0m\u001b[38;5;34m636,010\u001b[0m (2.43 MB)\n"
      ]
     },
     "metadata": {},
     "output_type": "display_data"
    },
    {
     "data": {
      "text/html": [
       "<pre style=\"white-space:pre;overflow-x:auto;line-height:normal;font-family:Menlo,'DejaVu Sans Mono',consolas,'Courier New',monospace\"><span style=\"font-weight: bold\"> Trainable params: </span><span style=\"color: #00af00; text-decoration-color: #00af00\">636,010</span> (2.43 MB)\n",
       "</pre>\n"
      ],
      "text/plain": [
       "\u001b[1m Trainable params: \u001b[0m\u001b[38;5;34m636,010\u001b[0m (2.43 MB)\n"
      ]
     },
     "metadata": {},
     "output_type": "display_data"
    },
    {
     "data": {
      "text/html": [
       "<pre style=\"white-space:pre;overflow-x:auto;line-height:normal;font-family:Menlo,'DejaVu Sans Mono',consolas,'Courier New',monospace\"><span style=\"font-weight: bold\"> Non-trainable params: </span><span style=\"color: #00af00; text-decoration-color: #00af00\">0</span> (0.00 B)\n",
       "</pre>\n"
      ],
      "text/plain": [
       "\u001b[1m Non-trainable params: \u001b[0m\u001b[38;5;34m0\u001b[0m (0.00 B)\n"
      ]
     },
     "metadata": {},
     "output_type": "display_data"
    },
    {
     "name": "stdout",
     "output_type": "stream",
     "text": [
      "Número de parámetros de la capa oculta: 628000\n",
      "Número de parámetros de la capa de salida: 8010\n"
     ]
    }
   ],
   "source": [
    "M = keras.Sequential([\n",
    "    keras.Input(shape=(input_dim,)),\n",
    "    keras.layers.Dense(800, activation='relu'),\n",
    "    keras.layers.Dense(num_classes, activation='softmax')\n",
    "])\n",
    "\n",
    "# Print model summary\n",
    "M.summary()\n",
    "\n",
    "# Calculate number of parameters in each layer\n",
    "print(f'Número de parámetros de la capa oculta: {784*800 + 800}')\n",
    "print(f'Número de parámetros de la capa de salida: {800*10 + 10}')\n",
    "\n",
    "# Compile the model\n",
    "M.compile(loss=\"categorical_crossentropy\", optimizer=\"adam\", metrics=[\"accuracy\"])"
   ]
  },
  {
   "cell_type": "code",
   "execution_count": 10,
   "metadata": {},
   "outputs": [
    {
     "name": "stderr",
     "output_type": "stream",
     "text": [
      "2024-11-14 23:45:06.637560: W external/local_xla/xla/tsl/framework/cpu_allocator_impl.cc:83] Allocation of 188160000 exceeds 10% of free system memory.\n"
     ]
    },
    {
     "data": {
      "text/plain": [
       "[<matplotlib.lines.Line2D at 0x7ff10276c290>]"
      ]
     },
     "execution_count": 10,
     "metadata": {},
     "output_type": "execute_result"
    },
    {
     "data": {
      "image/png": "[encoded data removed]",
      "text/plain": [
       "<Figure size 900x350 with 2 Axes>"
      ]
     },
     "metadata": {},
     "output_type": "display_data"
    }
   ],
   "source": [
    "# Train the model\n",
    "H = M.fit(x_train, y_train, batch_size=16, epochs=20, verbose=0)\n",
    "\n",
    "# Plot training loss and accuracy\n",
    "fig, axes = plt.subplots(1, 2, figsize=(9, 3.5))\n",
    "xx = np.arange(1, len(H.history['loss'])+1)\n",
    "\n",
    "ax = axes[0]\n",
    "ax.grid()\n",
    "ax.set_xlabel('epoch')\n",
    "ax.set_ylabel('loss')\n",
    "ax.set_xticks(xx)\n",
    "ax.plot(xx, H.history['loss'], color='b', marker='s')\n",
    "\n",
    "ax = axes[1]\n",
    "ax.grid()\n",
    "ax.set_xlabel('epoch')\n",
    "ax.set_ylabel('accuracy')\n",
    "ax.set_xticks(xx)\n",
    "ax.plot(xx, H.history['accuracy'], color='b', marker='s')"
   ]
  }
 ],
 "metadata": {
  "colab": {
   "provenance": []
  },
  "kernelspec": {
   "display_name": "per",
   "language": "python",
   "name": "python3"
  },
  "language_info": {
   "codemirror_mode": {
    "name": "ipython",
    "version": 3
   },
   "file_extension": ".py",
   "mimetype": "text/x-python",
   "name": "python",
   "nbconvert_exporter": "python",
   "pygments_lexer": "ipython3",
   "version": "3.11.9"
  }
 },
 "nbformat": 4,
 "nbformat_minor": 0
}
