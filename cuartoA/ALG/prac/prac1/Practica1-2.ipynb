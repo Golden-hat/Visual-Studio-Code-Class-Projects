{
 "cells": [
  {
   "cell_type": "markdown",
   "metadata": {},
   "source": [
    "<h1 align=\"center\">Práctica 1. La subsecuencia creciente más larga (LIS) </h1>\n",
    "<h2 style=\"display:block; margin-top:5px;\" align=\"center\">Algorítmica</h3>\n",
    "<h3 style=\"display:block; margin-top:5px;\" align=\"center\">Grado en Ingeniería Informática (Computación)</h3>\n",
    "<h3 style=\"display:block; margin-top:5px;\" align=\"center\">2024-2025</h3>    \n",
    "<h3 style=\"display:block; margin-top:5px;\" align=\"center\">Universitat Politècnica de València</h3>\n",
    "<br>"
   ]
  },
  {
   "cell_type": "markdown",
   "metadata": {},
   "source": [
    "**Pon aquí tú nombre:**\n",
    "- (sustituir por el nombre)"
   ]
  },
  {
   "cell_type": "markdown",
   "metadata": {},
   "source": [
    "## Índice\n",
    "1. ### [Descripción del problema](#descripcion)\n",
    "1. ### [Actividad 1: Plantear una ecuación recursiva](#act_traza)\n",
    "1. ### [Actividad 2: Calcular la longitud con un algoritmo iterativo](#act_iterativo)\n",
    "1. ### [Actividad 3: Recuperar la secuencia con backpointers](#act_con_backpointers)\n",
    "1. ### [Actividad 4: Recuperar la secuencia sin backpointers](#act_sin_backpointers)\n",
    "1. ### [Actividad 5 (opcional): Problemas relacionados](#problemas_relacionados)\n",
    "1. ### [Actividad 6 (opcional): mejora del coste asintótico](#act_opcional)\n"
   ]
  },
  {
   "cell_type": "markdown",
   "metadata": {},
   "source": [
    "<a id='descripcion'></a>\n",
    "\n",
    "# El problema de la subsecuencia creciente más larga\n",
    "\n",
    "**Descripción del problema**\n",
    "\n",
    "Dada una secuencia de $N$ números enteros:\n",
    "\n",
    "$x_1,x_2,\\ldots,x_N$\n",
    "\n",
    "nos piden encontrar una subsecuencia:\n",
    "\n",
    "$x_{i_1}, x_{i_2}, \\ldots x_{i_k}$ (donde $1\\leq i_1 < i_2 < \\cdots < i_k \\leq N$)\n",
    "\n",
    "que sea estrictamente creciente, es decir,\n",
    "$x_{i_1} < x_{i_2} < \\cdots < x_{i_k}$.\n",
    "\n",
    "Además, nos piden encontrar alguna de las subsecuencias crecientes de\n",
    "mayor longitud (decimos *alguna de* porqué no tiene por qué ser\n",
    "única).\n",
    "\n",
    "Por ejemplo, para la secuencia $10,3,5,12,7,20,18$ una posible\n",
    "subsecuencia sería $10,3,20$ pero ésta no es creciente. Un ejemplo de\n",
    "secuencia creciente es $10,12,20$ pero ésta tampoco es la de mayor\n",
    "longitud puesto que es de longitud 3 y existen otras de mayor\n",
    "longitud: $3,5,12,20$ es de mayor longitud (porque no hay otras de\n",
    "longitud mayor a 4) pero no es la única ya que $3,5,12,18$ también es\n",
    "creciente y de la misma longitud.\n",
    "\n",
    "Este problema se puede resolver por programación dinámica. Aunque esta\n",
    "forma de resolver el problema no es asintóticamente óptima (tiene un\n",
    "coste $O(N^2)$ y se conocen soluciones con coste $O(N \\log N)$)\n",
    "resulta bastante sencillo de resolver y es un buen ejemplo para\n",
    "practicar con la técnica de programación dinámica.\n",
    "\n",
    "Como es habitual en la resolución de problemas mediante la técnica de\n",
    "programación dinámica, vamos a preocuparnos inicialmente del problema\n",
    "de encontrar la **longitud** de la subsecuencia creciente más larga y\n",
    "no de qué subsecuencia concreta da lugar a esa longitud máxima.\n",
    "\n",
    "Solamente después de haber resuelto el problema de obtener la longitud de manera\n",
    "iterativa es cuando plantearemos recuperar la subsecuencia mediante la técnica\n",
    "conocida coloquialmente como *recuperar el camino*.\n"
   ]
  },
  {
   "cell_type": "markdown",
   "metadata": {},
   "source": [
    "<a id='act_traza'></a>\n",
    "## Actividad 1: Plantear una ecuación recursiva\n",
    "\n",
    "Volviendo a la secuencia del ejemplo: $10,3,5,12,7,20,18$\n",
    "\n",
    "Nuestro objetivo es calcular, para cada elemento de la secuencia, cuál\n",
    "es la *longitud* de una subsecuencia estrictamente creciente **que\n",
    "termina en dicho elemento**.\n",
    "\n",
    "> Esto es muy importante porque **NO** se trata de obtener la longitud de la mayor subsecuencia creciente en la última casilla del vector sino de obtener la longitud en todas las casillas y luego quedarnos con la de mayor valor.\n",
    "\n",
    "Debes plantear una ecuación recursiva donde:\n",
    "\n",
    "- El primer elemento solamente puede formar parte de una secuencia de longitud 1.\n",
    "- En general, una subsecuencia creciente que termina en $x_N$ tiene\n",
    "  como penúltimo elemento un elemento $x_i$ con $i<N$ tal que $x_i <\n",
    "  X_N$.\n",
    "  \n",
    "La formalización del problema para un vector de talla N corresponde a dar una expresión que, haciendo uso de la ecuación recursiva, indique el valor que nos interesa. En muchos casos será una llamada inicial, pero en este ya ves que hay que maximizar sobre muchos valores.\n"
   ]
  },
  {
   "cell_type": "markdown",
   "metadata": {},
   "source": [
    "\n",
    "La función recursiva que calcula la longitud de la subsecuencia creciente más larga que termina en $i$, $\\text{LIS}(i)$, es:\n",
    "\n",
    "$$\n",
    "\\text{LIS}(i) = \n",
    "\\begin{cases}\n",
    "1 \\;\\;\\; \\nexists j \\;|\\; 0 \\leq j \\leq i \\; \\wedge (X_j \\wedge X_i) \\\\\n",
    "1+ max(LIS(i-1))\n",
    "\\end{cases}\n",
    "$$\n",
    "\n",
    "La longitud de la subsecuencia creciente más larga ($\\text{LIS}$) es:\n",
    "\n",
    "$$\n",
    "\\text{LIS} = completar ...\n",
    "$$\n"
   ]
  },
  {
   "cell_type": "code",
   "execution_count": 121,
   "metadata": {},
   "outputs": [
    {
     "name": "stdout",
     "output_type": "stream",
     "text": [
      "Length of lis is 1\n"
     ]
    }
   ],
   "source": [
    "list = [10,7,8,12,7,20,18,6]\n",
    "\n",
    "def lis(arr, i):\n",
    "    if i == 0:\n",
    "        return 1\n",
    "    mx = 1\n",
    "    for prev in range(i):\n",
    "        if arr[prev] < arr[i]:\n",
    "            mx = max(mx, lis(arr, prev) + 1)\n",
    "    return mx\n",
    "print(\"Length of lis is\", lis(list, 7))\n"
   ]
  },
  {
   "cell_type": "markdown",
   "metadata": {},
   "source": [
    "<a id='act_iterativo'></a>\n",
    "## Actividad 2: Calcular la longitud con un algoritmo iterativo\n",
    "\n",
    "Realiza la transformación de recursiva a iterativa implementado un\n",
    "algoritmo iterativo que calcule, para cada elemento de la secuencia,\n",
    "la longitud de la mayor subsecuencia creciente que termina en cada\n",
    "posición.\n",
    "\n",
    "Por ejemplo, para la siguiente entrada:\n",
    "\n",
    "```\n",
    "ejercicio2([210, 816, 357, 107, 889, 635, 733, 930, 842, 542])\n",
    "```\n",
    "\n",
    "El ejercicio 2 debería calcular el siguiente vector:\n",
    "\n",
    "```\n",
    ">>> [1, 2, 2, 1, 3, 3, 4, 5, 5, 3]\n",
    "```\n"
   ]
  },
  {
   "cell_type": "code",
   "execution_count": 119,
   "metadata": {},
   "outputs": [
    {
     "data": {
      "text/plain": [
       "[1, 2, 2, 1, 3, 3, 4, 5, 5, 3]"
      ]
     },
     "execution_count": 119,
     "metadata": {},
     "output_type": "execute_result"
    }
   ],
   "source": [
    "from typing import List\n",
    "\n",
    "ejemplo = [210, 816, 357, 107, 889, 635, 733, 930, 842, 542]\n",
    "\n",
    "def ejercicio2(x:List[int]) -> List[int]:\n",
    "  lis = [0] * len(x)\n",
    "  \n",
    "  for i in range(len(x)):\n",
    "    idx_list = []\n",
    "    \n",
    "    for j in range(i, -1, -1):\n",
    "      if x[i] > x[j]:\n",
    "        idx_list.append(lis[j])\n",
    "        \n",
    "      if j == 0:\n",
    "        if len(idx_list) == 0: lis[i] += 1; break\n",
    "        idx = lis.index(max(idx_list))\n",
    "        lis[i] += lis[idx]+1\n",
    "        \n",
    "  return lis\n",
    "\n",
    "ejercicio2(ejemplo)\n",
    "#[1, 2, 2, 1, 3, 3, 4, 5, 5, 3]"
   ]
  },
  {
   "cell_type": "markdown",
   "metadata": {},
   "source": [
    "La subsecuencia creciente de mayor longitud no tiene que terminar\n",
    "necesariamente en el último elemento del vector. Una vez resuelto los\n",
    "ejercicios 1 y 2, es obvio que la mayor longitud se puede obtener\n",
    "calculando el máximo del vector generado en el ejercicio anterior.\n",
    "\n",
    "```\n",
    ">>> max([1, 2, 2, 1, 3, 3, 4, 5, 5, 3])\n",
    "5\n",
    "```\n",
    "\n"
   ]
  },
  {
   "cell_type": "code",
   "execution_count": 120,
   "metadata": {},
   "outputs": [
    {
     "data": {
      "text/plain": [
       "5"
      ]
     },
     "execution_count": 120,
     "metadata": {},
     "output_type": "execute_result"
    }
   ],
   "source": [
    "def longitudSubsecuenciaCreciente(x:List[int]) -> int:\n",
    "    return max(ejercicio2(x))\n",
    "\n",
    "longitudSubsecuenciaCreciente(ejemplo)\n",
    "#5"
   ]
  },
  {
   "cell_type": "markdown",
   "metadata": {},
   "source": [
    "<a id='act_con_backpointers'></a>\n",
    "## Actividad 3: Recuperar la secuencia con backpointers\n",
    "\n",
    "Una vez resuelto el problema de obtener la longitud de la subsecuencia\n",
    "creciente más larga, vamos a recuperar una (de las posiblemente más de una) subsecuencias de dicha\n",
    "longitud. Tienes 2 opciones:\n",
    "\n",
    "- Utilizar punteros hacia atrás o *backpointers*: consiste en crear un\n",
    "  vector paralelo al vector solución donde nos apuntamos, para cada\n",
    "  elemento de la secuencia, cuál sería su predecesor en la\n",
    "  subsecuencia creciente más larga. Una vez terminado el proceso de\n",
    "  programación dinámica, basta con recuperar la secuencia desde su\n",
    "  último elemento hacia atrás empezando por la posición donde la\n",
    "  longitud en el  vector solución es máxima.\n",
    "\n",
    "- Calcular el camino sin punteros hacia atrás: Se trata de realizar el\n",
    "  mismo recorrido hacia atrás sin utilizar un vector auxiliar. En ese\n",
    "  caso, hay que recalcular, solamente para los elementos de la\n",
    "  subsecuencia buscada, su predecesor.\n",
    "\n",
    "Vamos a empezar con la versión con backpointers. Ahora debes guardarte en otro vector el índice del elemento responsable de la maximización que hacías en el ejercicio 2. Ten en cuenta que hay elementos que puede que no tengan predecesor (imagina un elemento que es menor que todos sus anteriores):"
   ]
  },
  {
   "cell_type": "code",
   "execution_count": 3,
   "metadata": {},
   "outputs": [
    {
     "data": {
      "text/plain": [
       "(5, [210, 357, 635, 733, 842])"
      ]
     },
     "execution_count": 3,
     "metadata": {},
     "output_type": "execute_result"
    }
   ],
   "source": [
    "def subsecuenciaConBackpointers(x:List[int]) -> (int, List[int]):\n",
    "    N = len(x)\n",
    "    sol, back = [None]*N, [None]*N\n",
    "    # completar    \n",
    "\n",
    "    \n",
    "subsecuenciaConBackpointers(ejemplo)\n",
    "#(5, [210, 357, 635, 733, 842])"
   ]
  },
  {
   "cell_type": "markdown",
   "metadata": {},
   "source": [
    "<a id='act_sin_backpointers'></a>\n",
    "## Actividad 4: Recuperar la secuencia sin backpointers\n",
    "\n",
    "Se trata de realizar el mismo recorrido hacia atrás sin utilizar un vector auxiliar. En ese caso, hay que recalcular, solamente para los elementos de la subsecuencia buscada, su predecesor.\n",
    "\n",
    "Para ello, en la etapa de recuperar el camino hay que recalcular de nuevo de dónde venía ese valor."
   ]
  },
  {
   "cell_type": "code",
   "execution_count": 4,
   "metadata": {},
   "outputs": [
    {
     "data": {
      "text/plain": [
       "(5, [210, 357, 635, 733, 842])"
      ]
     },
     "execution_count": 4,
     "metadata": {},
     "output_type": "execute_result"
    }
   ],
   "source": [
    "def subsecuenciaSinBackpointers(x:List[int]) -> (int, List[int]):\n",
    "    N = len(x)\n",
    "    sol = [None]*N\n",
    "    # completar    \n",
    "\n",
    "    \n",
    "    \n",
    "subsecuenciaSinBackpointers(ejemplo)\n",
    "#(5, [210, 357, 635, 733, 842])"
   ]
  },
  {
   "cell_type": "markdown",
   "metadata": {},
   "source": [
    "<a id='problemas_relacionados'></a>\n",
    "\n",
    "## Actividad 5 (opcional): Problemas relacionados\n",
    "\n",
    "El problema de encontrar la subsecuencia creciente de mayor longitud\n",
    "está directamente relacionado con otros problemas bien conocidos en\n",
    "programación dinámica:\n",
    "\n",
    "- La subsecuencia común más larga (Longest Common Subsequence o LCS).\n",
    "- El camino más largo en un grafo acíclico.\n",
    "\n",
    "Intenta razonar cómo se puede expresar el problema que nos ocupa en\n",
    "términos de alguno de estos dos problemas.\n"
   ]
  },
  {
   "cell_type": "markdown",
   "metadata": {},
   "source": [
    "(opcional, explicar la relación, si no has visto alguno de esos problemas en clase de teoría déjalo en *stand by* y plantéalo cuando se vea)"
   ]
  },
  {
   "cell_type": "markdown",
   "metadata": {},
   "source": [
    "<a id='act_opcional'></a>\n",
    "\n",
    "## Actividad 6 (opcional): mejora del coste asintótico\n",
    "\n",
    "El algoritmo que se os ha propuesto tiene coste cuadrático, con lo que\n",
    "resulta mucho peor que otra solución conocida con coste $O(N \\log N)$).\n",
    "\n",
    "El coste dominante está en la parte de buscar la mayor longitud entre\n",
    "todos los elementos anteriores en el vector que tengan un valor\n",
    "inferior.\n",
    "\n",
    "> El bucle interno, ¡vaya!\n",
    "\n",
    "Se propone utilizar un vector auxiliar `menores` que\n",
    "almacene, para cada posible longitud de la subsecuencia creciente, el\n",
    "**menor** valor asociado a una secuencia de dicha longitud. Ejemplo:\n",
    "\n",
    "Utilizando la secuencia anterior $10,3,5,12,7,20,18$, asignamos el\n",
    "valor $10$ a la secuencia de longitud 1 (`menores = [10]`) y\n",
    "procesamos el resto de elementos:\n",
    "\n",
    "- Cuando visitamos $3$, al ser menor que $10$ no podemos construir una\n",
    "  secuencia creciente de longitud 2 pero actualizamos el menor valor\n",
    "  asociado a una secuencia de longitud 1, que pasa a ser $3$ (`menores = [3]`).\n",
    "  \n",
    "- Cuando visitamos $5$, lo comparamos directamente con $3$ mirando\n",
    "  únicamente el vector `menores`. Como $5$ es mayor, sabemos que la\n",
    "  longitud asociada será 2 y actualizamos el vector `menores` que\n",
    "  pasará a ser `[3,5]`.\n",
    "  \n",
    "- Al visitar `12` buscamos el primer valor en `menores`, desde el\n",
    "  final, que sea menor que `12`, y éste es `5`, con lo que podemos\n",
    "  asociar a `12` la longitud 3 y añadimos 12 a `menores`.\n",
    "\n",
    "- Al procesar `7` buscamos de nuevo en `menores=[3,5,12]` desde el\n",
    "  final, el primer valor inferior es `5`, con lo que actualizamos\n",
    "  `menores` a `[3,5,7]` y asociamos a `7` la longitud 3.\n",
    "  \n",
    "- Y así sucesivamente...\n",
    "\n",
    "Con esto el bucle interno del algoritmo ha de recorrer el vector\n",
    "`menores` y no el vector original, y además basta con parar al llegar\n",
    "a un valor inferior al que estamos visitando.\n",
    "\n",
    "A poco que pienses verás que el vector `menores` permanece siempre\n",
    "ordenado (es estrictamente creciente). La solución óptima se\n",
    "basa en utilizar la búsqueda dicotómica en este vector, aunque una búsqueda lineal también es eficiente $O(N \\cdot M)$, con $N >> M$ en la mayoría de casos.\n",
    "\n"
   ]
  },
  {
   "cell_type": "code",
   "execution_count": 5,
   "metadata": {},
   "outputs": [
    {
     "data": {
      "text/plain": [
       "(5, [210, 357, 635, 733, 842])"
      ]
     },
     "execution_count": 5,
     "metadata": {},
     "output_type": "execute_result"
    }
   ],
   "source": [
    "def ejercicio_opcional(x:List[int]) -> (int, List[int]):\n",
    "    # con o sin búsqueda dicotómica\n",
    "    N = len(x)\n",
    "    sol = [None]*N\n",
    "    # completar\n",
    "\n",
    "    \n",
    "    \n",
    "\n",
    "\n",
    "ejercicio_opcional(ejemplo)\n",
    "#(5, [210, 357, 635, 733, 842])"
   ]
  },
  {
   "cell_type": "code",
   "execution_count": 6,
   "metadata": {},
   "outputs": [
    {
     "data": {
      "text/plain": [
       "(4, [3, 5, 7, 18])"
      ]
     },
     "execution_count": 6,
     "metadata": {},
     "output_type": "execute_result"
    }
   ],
   "source": [
    "ejercicio_opcional([10,3,5,12,7,5,18])\n",
    "#(4, [3, 5, 7, 18])"
   ]
  },
  {
   "cell_type": "code",
   "execution_count": 7,
   "metadata": {},
   "outputs": [
    {
     "name": "stdout",
     "output_type": "stream",
     "text": [
      "Discrepancias: 0\n"
     ]
    },
    {
     "data": {
      "image/png": "[encoded data removed]",
      "text/plain": [
       "<Figure size 640x480 with 1 Axes>"
      ]
     },
     "metadata": {},
     "output_type": "display_data"
    }
   ],
   "source": [
    "import random\n",
    "import time\n",
    "import matplotlib.pyplot as plt\n",
    "\n",
    "talla, mejorado, original = [], [], []\n",
    "error = 0\n",
    "for N in range(10, 10001, 200):\n",
    "    talla.append(N)\n",
    "    instance = [random.randint(1,100000) for i in range(N)]\n",
    "    \n",
    "    # original N*N\n",
    "    tini = time.process_time()\n",
    "    resul1 = subsecuenciaConBackpointers(instance)\n",
    "    tfin = time.process_time()\n",
    "    original.append(tfin-tini)\n",
    "    # opcional N*M o  N*log(M)\n",
    "    tini = time.process_time()\n",
    "    resul2 = ejercicio_opcional(instance)\n",
    "    tfin = time.process_time()\n",
    "    mejorado.append(tfin-tini)\n",
    "    if len(set([resul1[0], resul2[0]])) != 1:\n",
    "        error += 1\n",
    "\n",
    "print('Discrepancias:', error)\n",
    "           \n",
    "plt.plot(talla, original, label='Original')\n",
    "plt.plot(talla, mejorado, label='Mejorado')\n",
    "plt.legend(loc='upper left')\n",
    "plt.show()"
   ]
  },
  {
   "cell_type": "code",
   "execution_count": null,
   "metadata": {},
   "outputs": [],
   "source": []
  }
 ],
 "metadata": {
  "kernelspec": {
   "display_name": "Python 3 (ipykernel)",
   "language": "python",
   "name": "python3"
  },
  "language_info": {
   "codemirror_mode": {
    "name": "ipython",
    "version": 3
   },
   "file_extension": ".py",
   "mimetype": "text/x-python",
   "name": "python",
   "nbconvert_exporter": "python",
   "pygments_lexer": "ipython3",
   "version": "3.11.7"
  }
 },
 "nbformat": 4,
 "nbformat_minor": 2
}
