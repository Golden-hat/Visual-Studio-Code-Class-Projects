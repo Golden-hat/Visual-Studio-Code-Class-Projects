{
 "cells": [
  {
   "cell_type": "markdown",
   "metadata": {},
   "source": [
    "# Programación orientada a objetos en Python"
   ]
  },
  {
   "cell_type": "markdown",
   "metadata": {},
   "source": [
    "No tenemos mucho tiempo para explicar con gran detalle qué es la programación orientada a objetos.\n",
    "\n",
    "Lo primero es saber que ya hemos estado utilizando llamadas a métodos con la sintaxis:\n",
    "\n",
    "```python\n",
    "objeto.metodo(argumentos)\n",
    "```\n",
    "\n",
    "Ejemplo:"
   ]
  },
  {
   "cell_type": "code",
   "execution_count": 2,
   "metadata": {},
   "outputs": [
    {
     "data": {
      "text/plain": [
       "'HOLA'"
      ]
     },
     "execution_count": 2,
     "metadata": {},
     "output_type": "execute_result"
    }
   ],
   "source": [
    "\"hola\".upper() # upper es un MÉTODO de la clase str, \"hola\" es un objeto/INSTANCIA de str"
   ]
  },
  {
   "cell_type": "markdown",
   "metadata": {},
   "source": [
    "`str` es una clase ya existente o *built-in* de Python.\n",
    "\n",
    "Veamos cómo crear una clase nueva hecha por nosotros:"
   ]
  },
  {
   "cell_type": "code",
   "execution_count": 4,
   "metadata": {},
   "outputs": [
    {
     "name": "stdout",
     "output_type": "stream",
     "text": [
      "<class '__main__.MiClase'>\n"
     ]
    }
   ],
   "source": [
    "class MiClase:\n",
    "    pass\n",
    "\n",
    "print(MiClase)"
   ]
  },
  {
   "cell_type": "code",
   "execution_count": 5,
   "metadata": {},
   "outputs": [
    {
     "name": "stdout",
     "output_type": "stream",
     "text": [
      "<__main__.MiClase object at 0x7f787c1685c0>\n"
     ]
    }
   ],
   "source": [
    "objeto = MiClase() # creamos un objeto o INSTANCIA de la clase MiClase\n",
    "print(objeto) # no parece que sea muy útil por el momento:"
   ]
  },
  {
   "cell_type": "markdown",
   "metadata": {},
   "source": [
    "Python es tan flexible que permite añadir nuevos atributos a cualquier instancia:"
   ]
  },
  {
   "cell_type": "code",
   "execution_count": 6,
   "metadata": {},
   "outputs": [],
   "source": [
    "objeto.atributo = 5"
   ]
  },
  {
   "cell_type": "code",
   "execution_count": 7,
   "metadata": {},
   "outputs": [
    {
     "name": "stdout",
     "output_type": "stream",
     "text": [
      "5\n"
     ]
    }
   ],
   "source": [
    "print(objeto.atributo)"
   ]
  },
  {
   "cell_type": "code",
   "execution_count": 8,
   "metadata": {},
   "outputs": [
    {
     "ename": "AttributeError",
     "evalue": "'MiClase' object has no attribute 'atributo'",
     "output_type": "error",
     "traceback": [
      "\u001b[0;31m---------------------------------------------------------------------------\u001b[0m",
      "\u001b[0;31mAttributeError\u001b[0m                            Traceback (most recent call last)",
      "\u001b[0;32m<ipython-input-8-d3bc01bc7db8>\u001b[0m in \u001b[0;36m<module>\u001b[0;34m\u001b[0m\n\u001b[1;32m      1\u001b[0m \u001b[0motroObjeto\u001b[0m \u001b[0;34m=\u001b[0m \u001b[0mMiClase\u001b[0m\u001b[0;34m(\u001b[0m\u001b[0;34m)\u001b[0m\u001b[0;34m\u001b[0m\u001b[0;34m\u001b[0m\u001b[0m\n\u001b[0;32m----> 2\u001b[0;31m \u001b[0mprint\u001b[0m\u001b[0;34m(\u001b[0m\u001b[0motroObjeto\u001b[0m\u001b[0;34m.\u001b[0m\u001b[0matributo\u001b[0m\u001b[0;34m)\u001b[0m \u001b[0;31m# no existe, dará error...\u001b[0m\u001b[0;34m\u001b[0m\u001b[0;34m\u001b[0m\u001b[0m\n\u001b[0m",
      "\u001b[0;31mAttributeError\u001b[0m: 'MiClase' object has no attribute 'atributo'"
     ]
    }
   ],
   "source": [
    "otroObjeto = MiClase()\n",
    "print(otroObjeto.atributo) # no existe, dará error..."
   ]
  },
  {
   "cell_type": "markdown",
   "metadata": {},
   "source": [
    "Lo normal cuando definimos una clase es incluirle métodos, entre ellos hay uno con un nombre especial (llamado `__init__`) que es el **constructor**:"
   ]
  },
  {
   "cell_type": "code",
   "execution_count": 13,
   "metadata": {},
   "outputs": [
    {
     "name": "stdout",
     "output_type": "stream",
     "text": [
      "El area del Circulo(3.5) es 38.48\n"
     ]
    }
   ],
   "source": [
    "import math\n",
    "class Circulo:\n",
    "    def __init__(self, radio): # MÉTODO CONSTRUCTOR\n",
    "        self.radio = radio\n",
    "    def area(self):\n",
    "        return math.pi * (self.radio**2)\n",
    "    def perimetro(self):\n",
    "        return 2 * math.pi * self.radio\n",
    "    def __str__(self):\n",
    "        return f'Circulo({self.radio})' # como se muestra el objeto como cadena\n",
    "\n",
    "uncirculo = Circulo(3.5)\n",
    "print(f'El area del {uncirculo} es {uncirculo.area():.2f}')"
   ]
  },
  {
   "cell_type": "code",
   "execution_count": 14,
   "metadata": {},
   "outputs": [
    {
     "data": {
      "text/plain": [
       "False"
      ]
     },
     "execution_count": 14,
     "metadata": {},
     "output_type": "execute_result"
    }
   ],
   "source": [
    "isinstance(uncirculo,MiClase)"
   ]
  },
  {
   "cell_type": "code",
   "execution_count": 15,
   "metadata": {},
   "outputs": [
    {
     "data": {
      "text/plain": [
       "True"
      ]
     },
     "execution_count": 15,
     "metadata": {},
     "output_type": "execute_result"
    }
   ],
   "source": [
    "isinstance(uncirculo,Circulo)"
   ]
  },
  {
   "cell_type": "code",
   "execution_count": null,
   "metadata": {},
   "outputs": [],
   "source": []
  }
 ],
 "metadata": {
  "kernelspec": {
   "display_name": "Python 3",
   "language": "python",
   "name": "python3"
  },
  "language_info": {
   "codemirror_mode": {
    "name": "ipython",
    "version": 3
   },
   "file_extension": ".py",
   "mimetype": "text/x-python",
   "name": "python",
   "nbconvert_exporter": "python",
   "pygments_lexer": "ipython3",
   "version": "3.8.5"
  }
 },
 "nbformat": 4,
 "nbformat_minor": 2
}
