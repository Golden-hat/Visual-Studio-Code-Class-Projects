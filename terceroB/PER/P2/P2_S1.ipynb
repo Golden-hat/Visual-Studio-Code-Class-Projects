{
 "cells": [
  {
   "cell_type": "markdown",
   "metadata": {},
   "source": [
    "## Práctica 2 - sesión 1\n",
    "\n",
    "El objetivo de esta práctica el empleo de árboles de decisión en diferentes tareas de clasificación. Desde tareás muy sencillas como iris, hasta más complejas como digits y olivetti faces.\n"
   ]
  },
  {
   "cell_type": "markdown",
   "metadata": {},
   "source": [
    "### Arboles de decisión con Iris data-set\n",
    "\n",
    "Empecemos con Iris y exploremos algunos parámetros del clasificador basado en árboles de decisión. Algunos de los parámetros más importnates son:\n",
    "\n",
    "* max_depth\n",
    "* min_samples_split\n",
    "\n",
    "Aquí descritos : [DecisionTrees](https://scikit-learn.org/stable/modules/generated/sklearn.tree.DecisionTreeClassifier.html)\n",
    "\n"
   ]
  },
  {
   "cell_type": "code",
   "execution_count": null,
   "metadata": {},
   "outputs": [],
   "source": [
    "from sklearn.datasets import load_iris\n",
    "from sklearn.model_selection import train_test_split, GridSearchCV\n",
    "from sklearn.tree import DecisionTreeClassifier\n",
    "\n",
    "X, y = load_iris(return_X_y=True)\n",
    "X_train, X_test, y_train, y_test = train_test_split(X, y, test_size=0.2, shuffle=True, random_state=23)\n",
    "\n",
    "\n",
    "dt = DecisionTreeClassifier(max_depth=3, min_samples_split=2, random_state=23)\n",
    "\n",
    "acc=dt.fit(X_train, y_train).score(X_test, y_test)\n",
    "print(f'Precisión: {acc:.1%}')"
   ]
  },
  {
   "cell_type": "markdown",
   "metadata": {},
   "source": [
    "**Ejercicio**: Realiza una búsqueda de los mejores parámetros empleando GridSearch"
   ]
  },
  {
   "cell_type": "markdown",
   "metadata": {},
   "source": [
    "**Ejercicio**: Aplica árboles de decisión a el dataset digits. Prueba a realizar alguna expansión polinómica de las características y PCA. Emplea GridSearch para estimar los mejores parámetros."
   ]
  },
  {
   "cell_type": "markdown",
   "metadata": {},
   "source": [
    "**Ejercicio**: Aplica árboles de decisión a el dataset olivetti faces. Prueba a realizar alguna expansión polinómica de las características y PCA. Emplea GridSearch para estimar los mejores parámetros."
   ]
  }
 ],
 "metadata": {
  "kernelspec": {
   "display_name": "Python 3.7.3 64-bit",
   "language": "python",
   "name": "python3"
  },
  "language_info": {
   "codemirror_mode": {
    "name": "ipython",
    "version": 3
   },
   "file_extension": ".py",
   "mimetype": "text/x-python",
   "name": "python",
   "nbconvert_exporter": "python",
   "pygments_lexer": "ipython3",
   "version": "3.10.12"
  },
  "orig_nbformat": 4,
  "vscode": {
   "interpreter": {
    "hash": "31f2aee4e71d21fbe5cf8b01ff0e069b9275f58929596ceb00d14d90e3e16cd6"
   }
  }
 },
 "nbformat": 4,
 "nbformat_minor": 2
}
