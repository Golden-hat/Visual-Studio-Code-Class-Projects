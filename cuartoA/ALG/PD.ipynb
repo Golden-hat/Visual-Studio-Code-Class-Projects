{
 "cells": [
  {
   "cell_type": "markdown",
   "metadata": {},
   "source": [
    "## _1. Embarcaderos_\n",
    "\n",
    "A lo largo de un río hay 7 embarcaderos conectados de la manera en que se muestra en la imagen. Se quiere obtener el recorrido *óptimo* entre el primer y el último embarcadero, siendo este recorrido el *de menor coste*. Se harán varias implementaciones.\n",
    "\n",
    "<center>\n",
    "<img src=\"../resources/riocongo.png\" alt=\"image\">\n",
    "</center>"
   ]
  },
  {
   "cell_type": "markdown",
   "metadata": {},
   "source": [
    "### Aproximación inicial\n",
    "\n",
    "Se puede pensar que lo mejor sería llegar al embarcadero que menor coste tenga desde el embarcadero actual, pero esto *no siempre consigue la mejor solución al problema ya que hay rutas que no se consideran*"
   ]
  },
  {
   "cell_type": "markdown",
   "metadata": {},
   "source": [
    "### Aproximación recursiva\n",
    "\n",
    "Se puede resolver este problema de manera correcta si lo resolvemos de forma recursiva mediante programación dinámica. Primero plantearemos la ecuación recursiva del problema.\n",
    "\n",
    "Primero necesitamos determinar el **espacio de soluciones del problema**\n",
    "\n",
    "Será toda secuencia de embarcaderos que cumpla lo siguiente:\n",
    "- Empieza por 1 y acaba por el último embarcadero E\n",
    "- Ninguno de los embarcaderos de la secuencia presenta saltos de más de 2 embarcaderos.\n",
    "\n",
    "$$\n",
    "X = \\{(e_1, e_2, \\dots, e_n) \\in [1..E]^+ \\mid e_1 = 1; \\quad e_n = E; \\quad 1 \\leq e_i - e_{i-1} \\leq 2, \\quad 1 < i \\leq n\\}.\n",
    "$$\n",
    "\n",
    "A continuación necesitamos definir una función objetivo que, en este caso **minimizar** para obtener la solución deseada. Usaremos una función C que calcule el coste del camino entre 2 embarcaderos.\n",
    "\n",
    "$$\n",
    "(\\hat{e}_1, \\hat{e}_2, \\dots, \\hat{e}_n) = \\arg \\min_{(e_1, e_2, \\dots, e_n) \\in X} c((e_1, e_2, \\dots, e_n)).\n",
    "$$\n",
    "\n",
    "$$\n",
    "\\min_{(e_1, e_2, \\dots, e_n) \\in X} c((e_1, e_2, \\dots, e_n)).\n",
    "$$\n",
    "\n",
    "Vemos que buscamos tanto el camino de menor coste como el menor coste asociado a dicho camino.\n",
    "\n",
    "**ECUACIÓN RECURSIVA**\n",
    "\n",
    "Necesitamos ahora buscar una expresión recursiva que defina el problema a resolver. Utilizaremos una expresión general que obtiene el coste mínimo posible entre 2 embarcaderos y demostraremos cómo se puede \"desglosar\" en llamadas recursivas de talla menor para obtener una solución válida al problema.\n",
    "\n",
    "$$\n",
    "\\min_{\\substack{e_1, e_2, ..., e_n \\in X \\\\ 1 \\leq i \\leq n}} \\sum_{i=1}^{n} c(e_{i-1}, e_i) = \\min_{\\substack{(e_1, e_2, ..., e_n), \\\\ 1 \\leq i \\leq n \\\\ e_1 = 1, e_n = E \\\\ 1 \\leq e_i - e_{i-1} \\leq 2}} \\sum_{i=1}^{n} c(e_{i-1}, e_i)\n",
    "$$\n",
    "\n",
    "Partiendo de esta expresión, y mediante la propiedad de los sumatorios en la que puedes extraer el último elemento y sumárselo fuera del mismo, extenderemos la expresión a lo siguiente:\n",
    "\n",
    "$$\n",
    "\\min_{\\substack{e_1, e_2, ..., e_n \\in X \\\\ 1 \\leq i \\leq n}} \\sum_{i=1}^{n} c(e_{i-1}, e_i) = \\min_{\\substack{(e_1, e_2, ..., e_n-1), \\\\ 1 \\le i \\leq n-1 \\\\ e_1 = 1, 1 \\leq E - e_{n-1} \\leq 2 ; \\\\ 1 \\leq e_i - e_{i-1} \\leq 2}} ((\\sum_{i=1}^{n-1} c(e_{i-1}, e_i) )+ c(e_{i-1}, E))\n",
    "$$\n",
    "\n",
    "Como sabemos que el penúltimo embarcadero solo puede ser E - 1 o E - 2, podemos describir esta expresión de la manera siguiente:\n",
    "\n",
    "$$\n",
    "\\min_{\\substack{j \\in [E-1, E-2]}} (\\min_{\\substack{(e_1, e_2, ..., e_n-1) | e_1 = 1; e_{n-1} = j; \\\\ 1 \\leq e_i - e_{i-1} \\leq 2 ; 1 \\le i \\leq n-1}} ((\\sum_{i=1}^{n-1} c(e_{i-1}, e_i) )+ c(j, E)))\n",
    "$$\n",
    "\n",
    "Utilizando ahora la propiedad del mínimo donde el mínimo de una suma a+b es igual a el mínimo de a + b... volvemos a reformular para obtener...\n",
    "\n",
    "\n",
    "$$\n",
    "\\min_{\\substack{j \\in [E-1, E-2]}} ((\\min_{\\substack{(e_1, e_2, ..., e_n-1) | e_1 = 1; e_{n-1} = j; \\\\ 1 \\leq e_i - e_{i-1} \\leq 2 ; 1 \\le i \\leq n-1}} \\sum_{i=1}^{n-1} c(e_{i-1}, e_i) )+ c(j, E))\n",
    "$$\n",
    "\n",
    "En la siguiente imagen podremos ver que tanto la parte izquierda de la igualdad como la parte interior de la derecha son muy similares. Solo se diferencian en que la parte izquierda es una expresión **general** para ir del embarcadero 1 al embarcadero E mientras que la parte derecha representa el coste hasta llegar al antepenúltimo o último embarcadero. Llegados a este punto podemos ver la recursión en la fórmula.\n",
    "\n",
    "Si abusamos de la notación para definir una función C(j) que calcula el coste desde el primer embarcadero hasta el embarcadero j...\n",
    "\n",
    "$$\n",
    "C(j) = (\\min_{\\substack{(e_1, e_2, ..., e_n) | e_1 = 1; e_{n} = j; \\\\ 1 \\leq e_i - e_{i-1} \\leq 2 ;  \\; 1 \\le i \\leq n}} \\sum_{i=1}^{n} c(e_{i-1}, e_i) ) \n",
    "$$\n",
    "\n",
    "\n",
    "Podremos obtener el coste para C(E) de la manera siguiente...\n",
    "\n",
    "$$\n",
    "C(E) = \\min \\left\\{ C(E-2) + c(E-2, E), \\; C(E-1) + c(E-1, E) \\right\\}\n",
    "$$\n",
    "\n",
    "El razonamiento para c(E) aplica también para cualquier otro embarcadero. Si queremos calcular el coste del camino más barato entre el primer embarcadero y un embarcadero i cualquiera simplemente cambiamos esa E por una i.\n",
    "\n",
    "Con esta fórmula ya tenemos la base de nuestra recursión. Ahora sólo necesitamos considerar nuestros casos base:\n",
    "- Si la recursión alcanza el embarcadero 1, hemos de devolver 0 ya que es un caso especial de embarcadero donde no hay ningún coste porque es desde el que se empieza.\n",
    "- Si la recursión alcanza el embarcadero 2 se debe añadir el coste que se obitene de viajar del embarcadero 1 al 2, ya que es el único caso posible.\n",
    "\n",
    "$$\n",
    "C(i)= \\begin{cases}0,\\\\c(1,2),\\\\m/n(C(i-2)+c(i-2,i),C(i-1)+c(i-1,i),\\end{cases}\n",
    "$$\n",
    "\n",
    "Veamos ahora la implementación de este método:\n"
   ]
  },
  {
   "cell_type": "code",
   "execution_count": 6,
   "metadata": {},
   "outputs": [],
   "source": [
    "def recursive_cheapest_price(E, c):\n",
    "  def C(i):\n",
    "    if i == 1: return 0\n",
    "    elif i == 2: return c(1,2)\n",
    "    else: return min(C(i-1)+c(i-1,i), C(i-2)+c(i-2,i))\n",
    "  return C(E)"
   ]
  },
  {
   "cell_type": "markdown",
   "metadata": {},
   "source": [
    "Ahora veremos un ejemplo de ejecución..."
   ]
  },
  {
   "cell_type": "code",
   "execution_count": 8,
   "metadata": {},
   "outputs": [
    {
     "name": "stdout",
     "output_type": "stream",
     "text": [
      "14\n"
     ]
    }
   ],
   "source": [
    "def c(i, j):\n",
    "  edges = {\n",
    "    (1, 2): 4,\n",
    "    (1, 3): 6,\n",
    "    (2, 3): 3,\n",
    "    (2, 4): 7,\n",
    "    (3, 4): 1,\n",
    "    (3, 5): 4,\n",
    "    (4, 5): 2,\n",
    "    (4, 6): 7,\n",
    "    (5, 6): 4,\n",
    "    (5, 7): 5,\n",
    "    (6, 7): 9\n",
    "  } \n",
    "  return edges.get((i, j), edges.get((j, i), float('inf')))\n",
    "  \n",
    "print(recursive_cheapest_price(7, c))"
   ]
  },
  {
   "cell_type": "markdown",
   "metadata": {},
   "source": [
    "Se puede hacer también una **versión del método que almacene todos los cálculos de los embarcaderos visitados para así no tener que volverlos a calcular**. Esto ahorra tiempo y espacio ya que **convierte un problema exponencial en uno de orden de E (númer de embarcaderos)**"
   ]
  },
  {
   "cell_type": "code",
   "execution_count": null,
   "metadata": {},
   "outputs": [],
   "source": [
    "def memo_recursive_cheapest_price(E, c):\n",
    "  R = {}\n",
    "  def C(i):\n",
    "    if i == 1: R[1] = 0\n",
    "    elif i == 2: R[2] = c(1,2)\n",
    "    else: \n",
    "      if i-2 not in R: C(i-2)\n",
    "      if i-1 not in R: C(i-1)\n",
    "      R[i] = min(R[i-1]+c(i-1,i), R[i-2]+c(i-2,i))\n",
    "    return R[i]\n",
    "  return C(E)"
   ]
  },
  {
   "cell_type": "markdown",
   "metadata": {},
   "source": [
    "### Aproximación iterativa\n",
    "\n",
    "El algoritmo recursivo paga un sobrecoste por llamadas recursivas. Es posible eliminarlo si hacemos nuestro problema iterativo. Con ello, hemos de analizar y resolver en orden las dependencias del problema, desde el embarcadero 1 hasta el i."
   ]
  },
  {
   "cell_type": "code",
   "execution_count": 9,
   "metadata": {},
   "outputs": [],
   "source": [
    "def iterative_cheapest_price(E, c):\n",
    "  C = {}\n",
    "  C[1] = 0\n",
    "  C[2] = c(1,2)\n",
    "  for i in range(3, E+1):\n",
    "    C[i] = min(C[i-1] + c(i-1,i), C[i-2] + c(i-2,i))\n",
    "  return C[E]"
   ]
  },
  {
   "cell_type": "code",
   "execution_count": 10,
   "metadata": {},
   "outputs": [
    {
     "name": "stdout",
     "output_type": "stream",
     "text": [
      "14\n"
     ]
    }
   ],
   "source": [
    "print(iterative_cheapest_price(7, c))"
   ]
  },
  {
   "cell_type": "markdown",
   "metadata": {},
   "source": [
    "## _2. El problema de la mochila_\n",
    "\n",
    "El problema de la mochila busca **maximizar el valor obtenido de meter una serie de objetos en una mochila con capacidad limitada**. Cada objeto tiene un valor, cuya suma se busca optimizar, pero también tiene un volumen, por lo que no se pueden meter todos los objetos que se quieran en la mochila.\n"
   ]
  },
  {
   "cell_type": "markdown",
   "metadata": {},
   "source": [
    "### Aproximación Recursiva\n",
    "\n",
    "Hemos de buscar la solución utilizando la programación dinámica. Nos damos cuenta que el problema se puede expresar en subproblemas idénticos de talla menor que pueden ser resueltos de manera recursiva.\n",
    "\n",
    "Primero averiguemos el set de soluciones factibles del problema.\n",
    "\n",
    "Será solución todo aquel conjunto de objetos que cumpla las siguientes condiciones:\n",
    "- No debe exceder la capacidad total de la mochila\n",
    "\n",
    "Dado un set de 7 objetos, se dice que un objeto entra en la mochila si el array booleano que representa dicho set tiene un 1 en la posición que representa. Es decir, si hay 7 objetos, tendremos un array tal que [0,0,0,0,0,0,0]. En este caso, ningún objeto entra. si el array fuera [1,0,0,0,0,0,1], el primer y el último objeto entrarían.\n",
    "\n",
    "$$\n",
    "X = [{(x_1, x_2, ..., x_n) \\in [1..N]^* \\mid x_i \\neq x_j, 1 \\leq i \\neq j \\leq n; \\sum_{1 \\leq i \\leq n} w_{x_i} \\leq W }.]\n",
    "$$\n",
    "\n",
    "\n",
    "De manera que buscaremos optimizar el argumento (en este caso sería el subset de objetos que metemos en la mochila) para el cual:\n",
    "- El peso no excede el de la mochila.\n",
    "$$ X = [{(x_1, x_2, ..., x_N) \\in {0,1}^N \\mid \\sum_{1 \\leq i \\leq N} x_i w_i \\leq W }.] $$\n",
    "- Maximiza el valor.\n",
    "$$ [f((x_{1},x_{2},...,x_{N}))=\\sum_{1\\le i\\le N}x_{i}v_{i},] $$\n",
    "\n",
    "De manera que la función objetivo que se busca maximizar es la siguiente:\n",
    "\n",
    "$$ (\\hat{x}_1, \\hat{x}_2, ..., \\hat{x}N) = \\arg \\max{(x_1, x_2, ..., x_N) \\in X} f((x_1, x_2, ..., x_N)). $$\n",
    "\n",
    "**ECUACIÓN RECURSIVA**\n",
    "\n",
    "Para abordar el problema usaremos una estrategia **top-to-down** approach, en la que plantearemos la función recursiva desde el caso con el mayor beneficio posible a obtener. De tal manera...\n",
    "\n",
    "$$\n",
    "\\max_{(x_{1},x_{2},...,x_{N})\\in {0,1}^{N}\\;\\sum_{1\\le i\\le N-1}x_{i}w_{i}\\le W}\\sum_{1\\le i\\le N}x_{i}v_{i}=\\max_{(x_{1},x_{2},...,x_{N})\\in {0,1}^{N}\\; \\sum_{1\\le i\\le N-1}x_{i}w_{i}\\le W}\\left(\\left(\\sum_{1\\le i\\le N-1}x_{i}v_{i}\\right)+x_{N}v_{N}\\right).\n",
    "$$\n",
    "\n",
    "La fórmula es un sumatorio que busca el máximo valor para la suma de los valores de cada objeto seleccionado (con un 1 en la componente que le representa en el array booleano. Nótese que la definición del set válido de soluciones se define siempre en los argumentos de cada función _max_).\n",
    "\n",
    "Se ha avanzado en la explicación y se ha aplicado la propiedad de los sumatorios que permite separar el último término del mismo y sumárselo al final restando 1 del límite de iteración.\n",
    "\n",
    "Cuando decidimos si meter o no un objeto debemos tener en cuenta lo siguiente:\n",
    "- Hay espacio?\n",
    "  - Sí:\n",
    "    - Podemos meterlo y restarle capacidad a la mochila pero sumarle valor.\n",
    "    - Podemos no meterlo y quedarnos con valor y capacidad inalteradas para cuando visitemos el objeto siguiente\n",
    "  - No:\n",
    "    - No lo metemos, no hay opción.\n",
    "\n",
    "**Esta es la base de la recursión**. A priori no sabemos si el objeto que metamos ahora mismo será parte de la solución más óptima. Es por eso que debemos contemplar siempre los dos casos mencionados en caso de poder meterlo (en caso de no poder, no hay opción. Esto también es un caso particular de la fórmula de la recursión para este problema).\n",
    "\n",
    "Para cada paso de la recursión buscaremos siempre el valor máximo entre el valor actual de nuestra mochila y el que tendría si le sumáramos el objeto siendo \"visitado\" pero le restáramos capacidad (posiblemente dejando por ende algunos objetos más valiosos atrás, aunque el algoritmo recursivo asegura siempre la mejor solución).\n",
    "\n",
    "Apliquemos lo mencionado al elemento N-ésimo de los disponibles (esto nos conviene ya que vamos a ir del N-ésimo hasta el primero, por nuestra aproximación top-down). Un uno significa que incluimos el objeto N-ésimo en la mochila, pero solo es posible si su peso es menor al de la capacidad total. Un cero indica que el objeto no se carga, cosa que puede hacerse siempre independientemente de la capacidad total de la mochila. Si el objeto se carga, los siguientes tendrán menos espacio para ser metidos, pero el valor del objeto actual se habrá añadido. Así pues...\n",
    "\n",
    "$$\n",
    "\\max_{x_{N}\\in \\{0,1\\}: x_{N}w_{N}\\le W} \\left( \\max_{(x_{1},x_{2},...,x_{N-1})\\in \\{0,1\\}^{N-1}: \\sum_{1\\le i\\le N-1}x_{i}w_{i}\\le W-x_{N}w_{N}} \\left( \\left( \\sum_{1\\le i\\le N-1}x_{i}v_{i} \\right) + x_{N}v_{N} \\right) \\right).\n",
    "$$\n",
    "\n",
    "Nótese que la elección de meter o no el objeto sí que está representada, ya que un valor de $ X_{N} $ igual a 0 elimina tanto el peso como el valor de la ecuación.\n",
    "\n",
    "Ya puede verse que en los paréntesis interiores del problema se encuentra una instancia reducida del mismo que vuelve a calcular el valor del array de objetos hasta la posición i. Abusando de la notación podemos definir una función $ V(j, W) $ que encapsule este sumatorio y esta minimización para calcular el valor de los objetos hasta la posición j limitados por un peso W, de manera que...\n",
    "\n",
    "$$\n",
    "V(N,W)=\\max_{x_{N}\\in {0,1}:x_{N}w_{N}\\le W}\\left(V(N-1,W-x_{N}w_{N})+x_{N}v_{N}\\right)\n",
    "$$\n",
    "\n",
    "Con esta fórmula podemos establecer limpiamente nuestros casos de recursión de la siguiente manera:\n",
    "\n",
    "$$\n",
    "V(i,c) = \\begin{cases}\n",
    "0, & \\text{si } i=0 \\text{ o } c=0; \\\\\n",
    "\\max(V(i-1,c), V(i-1,c-w_i)+v_i), & \\text{si } i>0, c>0, 0<w_i\\le c; \\\\\n",
    "V(i-1,c), & \\text{si } i>0, c>0, 0<w_i>c.\n",
    "\\end{cases}\n",
    "$$\n",
    "\n",
    "Veamos ahora la implementación de este método:\n",
    "\n",
    "\n"
   ]
  },
  {
   "cell_type": "code",
   "execution_count": 1,
   "metadata": {},
   "outputs": [],
   "source": [
    "def recursive_knapsack_profit(W, v, w):\n",
    "  def V(i, c):\n",
    "    if i==0 or c == 0: return 0\n",
    "    elif c-w[i] >= 0: return max(V(i-1, c), V(i-1, c-w[i]) + v[i])\n",
    "    else: return V(i-1, c)\n",
    "  return V(len(v)-1, W)"
   ]
  },
  {
   "cell_type": "markdown",
   "metadata": {},
   "source": [
    "Y un ejemplo de uso..."
   ]
  },
  {
   "cell_type": "code",
   "execution_count": 6,
   "metadata": {},
   "outputs": [
    {
     "name": "stdout",
     "output_type": "stream",
     "text": [
      "Beneficio máximo al seleccionar objetos de valores [90, 75, 60, 20, 10] y pesos [4, 3, 3, 2, 2] para\n",
      "cargar en una mochila con capacidad 6: 135.\n"
     ]
    }
   ],
   "source": [
    "W = 6\n",
    "v = [90, 75, 60, 20, 10]\n",
    "w = [ 4, 3, 3, 2, 2]\n",
    "print(\"Beneficio máximo al seleccionar objetos de valores %s y pesos %s para\" % (v, w))\n",
    "print(\"cargar en una mochila con capacidad %d: %d.\" % (W, recursive_knapsack_profit(W,v,w)))"
   ]
  }
 ],
 "metadata": {
  "kernelspec": {
   "display_name": "Python 3",
   "language": "python",
   "name": "python3"
  },
  "language_info": {
   "codemirror_mode": {
    "name": "ipython",
    "version": 3
   },
   "file_extension": ".py",
   "mimetype": "text/x-python",
   "name": "python",
   "nbconvert_exporter": "python",
   "pygments_lexer": "ipython3",
   "version": "3.11.7"
  }
 },
 "nbformat": 4,
 "nbformat_minor": 2
}
