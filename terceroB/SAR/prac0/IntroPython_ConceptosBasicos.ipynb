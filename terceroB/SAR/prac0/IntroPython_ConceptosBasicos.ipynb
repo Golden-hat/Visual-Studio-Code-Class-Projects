{
 "cells": [
  {
   "cell_type": "markdown",
   "metadata": {},
   "source": [
    "# Conceptos básicos\n",
    "\n",
    "Tras completar el estudio de este notebook deberías conocer por encima qué es un/una:\n",
    "\n",
    "- **Comentario**\n",
    "- **Tipo de datos**\n",
    "- **Literal** \n",
    "- **Operador**\n",
    "- **Identificador**\n",
    "- **Palabra reservada**\n",
    "- **Variable**\n",
    "- **Expresión**\n",
    "- **Función**\n",
    "- **Instrucción**\n",
    "- **Bloque de instrucciones**\n",
    "- **Concepto de mutable e inmutable**\n"
   ]
  },
  {
   "cell_type": "markdown",
   "metadata": {},
   "source": [
    "## Comentarios en Python\n",
    "\n",
    "Los comentarios son texto en el código fuente que se ignoran por parte del compilador o del intéprete (según sea el caso). Sirven para indicar todo tipo de cosas, normalmente aclarar el significado de algunas instrucciones, etc...\n",
    "\n",
    "Cuando en una línea de Python encontramos una almohadilla, se considera que ésta empieza un comentario que va hasta el final de la línea, ejemplo:"
   ]
  },
  {
   "cell_type": "code",
   "execution_count": 2,
   "metadata": {},
   "outputs": [],
   "source": [
    "# se ignora como si no hubiese escrito nada..."
   ]
  },
  {
   "cell_type": "code",
   "execution_count": 4,
   "metadata": {},
   "outputs": [
    {
     "name": "stdout",
     "output_type": "stream",
     "text": [
      "hola mundo\n"
     ]
    }
   ],
   "source": [
    "\"\"\"\n",
    "una cadena puede utilizarse como un comentario\n",
    "en este caso estamos usando una cadena que abarca varias líneas\n",
    "este tipo de comentario, usando cierta sintaxis y puesta en determinados sitios,\n",
    "puede servir para añadir documentación (docstrings)\n",
    "\"\"\"\n",
    "\n",
    "print(\"hola mundo\") # una sentencia para imprimir \"hola punto\""
   ]
  },
  {
   "cell_type": "code",
   "execution_count": 2,
   "metadata": {},
   "outputs": [
    {
     "name": "stdout",
     "output_type": "stream",
     "text": [
      "obviamente una # dentro de una cadena no inicia un comentario\n"
     ]
    }
   ],
   "source": [
    "print(\"obviamente una # dentro de una cadena no inicia un comentario\")"
   ]
  },
  {
   "cell_type": "markdown",
   "metadata": {},
   "source": [
    "## Qué son los tipos de datos \n",
    "\n",
    "- Suele tener un nombre o \"tipo\". Por ejemplo, el tipo `int` de Python se refiere a los números enteros, `float`a los números que pueden llevar decimales y `str` a las cadenas de texto. Veremos los tipos de datos más relevantes más abajo.\n",
    "- Comprende un conjunto de valores (para los enteros tenemos 0,1,-1,2,-2,...).\n",
    "- Además del conjunto de valores, hay operaciones definidas sobre el tipo de datos. Por ejemplo, algunos operadores básicos para los números enteros son `+ - * % / // **`."
   ]
  },
  {
   "cell_type": "markdown",
   "metadata": {},
   "source": [
    "## Literales\n",
    "\n",
    "- Los valores concretos en el código fuente se llaman **literales**. Ejemplos de literal para valores enteros o de tipo `int`:\n",
    "    - `2`\n",
    "    - `0xFF` (formato **hexadecimal** o base 16 con cifras 0,1,...,9,A,B,C,D,E,F)\n",
    "    - `0b11011` (formato **binario**)\n",
    "    - `0o100` (formato **octal**)\n",
    "- Ejemplos de literal para cadenas de texto (lo veremos con más detalle al hablar de cadenas):\n",
    "    - `'hola'`\n",
    "    - `\"hola\"`\n",
    "    - `\"\"\"hola\"\"\"`\n",
    "    - `r\"hola\"`"
   ]
  },
  {
   "cell_type": "markdown",
   "metadata": {},
   "source": [
    "## Operadores\n",
    "\n",
    "Los operadores como `+` o `*` sirven, junto con los literales, las variables, las llamadas a función... para crear **expresiones**.\n",
    "\n",
    "Un operador:\n",
    "\n",
    "- Tiene una aridad (el número de argumentos que requiere). Ejemplo:\n",
    "    * `-a` devuelve el valor de `a` con el signo cambiado, tiene un solo operando, por tanto, tiene aridad 1 y se le llama *unario*.\n",
    "    * en `a+b` el operador `+` tiene 2 operandos, por tanto, tiene aridad 2 y es un operador *binario*.\n",
    "- Tiene una prioridad. Por ejemplo, cuando escribes `2+5*3` devuelve 17 y no 30 porque el `*` tiene mayor prioridad que `+`. \n"
   ]
  },
  {
   "cell_type": "markdown",
   "metadata": {},
   "source": [
    "## Identificador\n",
    "\n",
    "Es un nombre que le podemos dar a variables, funciones, clases, etc.\n",
    "\n",
    "Hay reglas sobre lo que pueden ser identificadores válidos y cuáles no.\n",
    "\n",
    "Vamos a crear variables para que se vea qué pasa si el nombre de una variable no es un identificador válido:"
   ]
  },
  {
   "cell_type": "code",
   "execution_count": 6,
   "metadata": {},
   "outputs": [],
   "source": [
    "a = 5 # a es un identificador válido"
   ]
  },
  {
   "cell_type": "code",
   "execution_count": 7,
   "metadata": {},
   "outputs": [
    {
     "ename": "SyntaxError",
     "evalue": "invalid syntax (<ipython-input-7-223ac442cc79>, line 1)",
     "output_type": "error",
     "traceback": [
      "\u001b[0;36m  File \u001b[0;32m\"<ipython-input-7-223ac442cc79>\"\u001b[0;36m, line \u001b[0;32m1\u001b[0m\n\u001b[0;31m    2a = 5 # 2a no es identificador válido, no puede empezar con un dígito\u001b[0m\n\u001b[0m     ^\u001b[0m\n\u001b[0;31mSyntaxError\u001b[0m\u001b[0;31m:\u001b[0m invalid syntax\n"
     ]
    }
   ],
   "source": [
    "2a = 5 # 2a no es identificador válido, no puede empezar con un dígito"
   ]
  },
  {
   "cell_type": "code",
   "execution_count": 3,
   "metadata": {},
   "outputs": [
    {
     "ename": "SyntaxError",
     "evalue": "invalid syntax (<ipython-input-3-4847e1a6c47e>, line 1)",
     "output_type": "error",
     "traceback": [
      "\u001b[0;36m  File \u001b[0;32m\"<ipython-input-3-4847e1a6c47e>\"\u001b[0;36m, line \u001b[0;32m1\u001b[0m\n\u001b[0;31m    if = 5 # una palabra reservada como \"if\" tampoco puede ser un identificador\u001b[0m\n\u001b[0m       ^\u001b[0m\n\u001b[0;31mSyntaxError\u001b[0m\u001b[0;31m:\u001b[0m invalid syntax\n"
     ]
    }
   ],
   "source": [
    "if = 5 # una palabra reservada como \"if\" tampoco puede ser un identificador"
   ]
  },
  {
   "cell_type": "markdown",
   "metadata": {},
   "source": [
    "## Keywords o palabras reservadas en Python 3\n",
    "\n",
    "```python\n",
    "False, None, True, and, as, assert, break, class, continue, def, del, elif,\n",
    "else, except, finally, for, from, global, if, import, in, is, lambda,\n",
    "nonlocal, not, or, pass, raise, return, try, while, with, yield\n",
    "```"
   ]
  },
  {
   "cell_type": "markdown",
   "metadata": {},
   "source": [
    "## Variables\n",
    "\n",
    "Una variable:\n",
    "\n",
    "- Tiene por nombre un identificador válido.\n",
    "- Tiene un ámbito o *scope*: no está definida en todas partes. Por ejemplo, si se define fuera de toda función será una variable **global** y si está definida dentro de una función o de un método será una variable **local**.\n",
    "- Se define simplemente asignándole un valor:\n",
    "\n",
    "    ```python\n",
    "    a = 5 # defino a si no existía, le damos el valor 5\n",
    "    ```\n",
    "    \n",
    "- Cuando la defines NO indicas el tipo de valores que puede contener.\n",
    "\n",
    "- Puedes cambiar su contenido con una asignación, etc... y ese contenido puede ser de tipos de dato distinto al anterior.\n",
    "\n",
    "- Se puede eliminar usando `del`:\n",
    "\n",
    "    ```python\n",
    "    del a # borro la variable a\n",
    "    ```"
   ]
  },
  {
   "cell_type": "code",
   "execution_count": 27,
   "metadata": {},
   "outputs": [
    {
     "name": "stdout",
     "output_type": "stream",
     "text": [
      "7\n"
     ]
    }
   ],
   "source": [
    "a = 5\n",
    "a = a+2 # asignación\n",
    "print(a)"
   ]
  },
  {
   "cell_type": "code",
   "execution_count": 28,
   "metadata": {},
   "outputs": [
    {
     "ename": "NameError",
     "evalue": "name 'a' is not defined",
     "output_type": "error",
     "traceback": [
      "\u001b[0;31m---------------------------------------------------------------------------\u001b[0m",
      "\u001b[0;31mNameError\u001b[0m                                 Traceback (most recent call last)",
      "\u001b[0;32m<ipython-input-28-c342333e421e>\u001b[0m in \u001b[0;36m<module>\u001b[0;34m\u001b[0m\n\u001b[1;32m      1\u001b[0m \u001b[0;32mdel\u001b[0m \u001b[0ma\u001b[0m\u001b[0;34m\u001b[0m\u001b[0;34m\u001b[0m\u001b[0m\n\u001b[0;32m----> 2\u001b[0;31m \u001b[0mprint\u001b[0m\u001b[0;34m(\u001b[0m\u001b[0ma\u001b[0m\u001b[0;34m)\u001b[0m\u001b[0;34m\u001b[0m\u001b[0;34m\u001b[0m\u001b[0m\n\u001b[0m",
      "\u001b[0;31mNameError\u001b[0m: name 'a' is not defined"
     ]
    }
   ],
   "source": [
    "del a\n",
    "print(a)"
   ]
  },
  {
   "cell_type": "markdown",
   "metadata": {},
   "source": [
    "### Python es un lenguaje **dinámicamente tipado**\n",
    "\n",
    "Eso significa que:\n",
    "\n",
    "- Todos los valores que manipula Python tienen un tipo de datos concreto (y, además, todos son objetos).\n",
    "- Cuando una **variable** contiene un valor, éste tiene un tipo de datos concreto, pero la variable en sí misma no tiene asociado un tipo.\n",
    "- Es más, una misma variable puede contener valores de un tipo en un momento dado y de otro tipo posteriormente.\n",
    "\n",
    "Ejemplo:"
   ]
  },
  {
   "cell_type": "code",
   "execution_count": 1,
   "metadata": {},
   "outputs": [
    {
     "name": "stdout",
     "output_type": "stream",
     "text": [
      "<class 'int'>\n",
      "<class 'str'>\n"
     ]
    },
    {
     "ename": "NameError",
     "evalue": "name 'a' is not defined",
     "output_type": "error",
     "traceback": [
      "\u001b[0;31m---------------------------------------------------------------------------\u001b[0m",
      "\u001b[0;31mNameError\u001b[0m                                 Traceback (most recent call last)",
      "\u001b[0;32m<ipython-input-1-74e38ae0fa08>\u001b[0m in \u001b[0;36m<module>\u001b[0;34m\u001b[0m\n\u001b[1;32m      4\u001b[0m \u001b[0mprint\u001b[0m\u001b[0;34m(\u001b[0m\u001b[0mtype\u001b[0m\u001b[0;34m(\u001b[0m\u001b[0ma\u001b[0m\u001b[0;34m)\u001b[0m\u001b[0;34m)\u001b[0m \u001b[0;31m# muestra por pantalla \"<class 'str'>\"\u001b[0m\u001b[0;34m\u001b[0m\u001b[0;34m\u001b[0m\u001b[0m\n\u001b[1;32m      5\u001b[0m \u001b[0;32mdel\u001b[0m \u001b[0ma\u001b[0m \u001b[0;31m# le pedimos que elimine la variable a\u001b[0m\u001b[0;34m\u001b[0m\u001b[0;34m\u001b[0m\u001b[0m\n\u001b[0;32m----> 6\u001b[0;31m \u001b[0mprint\u001b[0m\u001b[0;34m(\u001b[0m\u001b[0ma\u001b[0m\u001b[0;34m)\u001b[0m\u001b[0;34m\u001b[0m\u001b[0;34m\u001b[0m\u001b[0m\n\u001b[0m",
      "\u001b[0;31mNameError\u001b[0m: name 'a' is not defined"
     ]
    }
   ],
   "source": [
    "a = 5 # \"a\" es una variable que ahora mismo vale 5\n",
    "print(type(a)) # muestra por pantalla \"<class 'int'>\"\n",
    "a = \"hola\" # ahora la misma variable \"a\" contiene un valor de otro tipo:\n",
    "print(type(a)) # muestra por pantalla \"<class 'str'>\"\n",
    "del a # le pedimos que elimine la variable a\n",
    "print(a) # NameError: name 'a' is not defined"
   ]
  },
  {
   "cell_type": "markdown",
   "metadata": {},
   "source": [
    "## Expresiones\n",
    "\n",
    "Una expresión es una combinación de:\n",
    " - Literales\n",
    " - Variables\n",
    " - Operadores que combinen otras expresiones.\n",
    " - LLamadas a método sobre una expresión que sea un objeto (bueno, en Python todos los valores son objetos).\n",
    " - Llamadas a función\n",
    " - Paréntesis, útiles para cambiar la precedencia de las operaciones...\n",
    " \n",
    " Ejemplos:"
   ]
  },
  {
   "cell_type": "code",
   "execution_count": 9,
   "metadata": {},
   "outputs": [
    {
     "data": {
      "text/plain": [
       "2"
      ]
     },
     "execution_count": 9,
     "metadata": {},
     "output_type": "execute_result"
    }
   ],
   "source": [
    "2 # un literal es una expresion"
   ]
  },
  {
   "cell_type": "code",
   "execution_count": 11,
   "metadata": {},
   "outputs": [
    {
     "data": {
      "text/plain": [
       "7"
      ]
     },
     "execution_count": 11,
     "metadata": {},
     "output_type": "execute_result"
    }
   ],
   "source": [
    "a = 5\n",
    "a+2 # esta expresión tiene una variable, un operador, un literal"
   ]
  },
  {
   "cell_type": "code",
   "execution_count": 12,
   "metadata": {},
   "outputs": [
    {
     "data": {
      "text/plain": [
       "'HOLA'"
      ]
     },
     "execution_count": 12,
     "metadata": {},
     "output_type": "execute_result"
    }
   ],
   "source": [
    "\"hola\".upper() # llamada a un método sobre un objeto de la clase str"
   ]
  },
  {
   "cell_type": "code",
   "execution_count": 14,
   "metadata": {},
   "outputs": [
    {
     "data": {
      "text/plain": [
       "-1.0"
      ]
     },
     "execution_count": 14,
     "metadata": {},
     "output_type": "execute_result"
    }
   ],
   "source": [
    "import math\n",
    "math.cos(math.pi) # coseno de pi, math es un módulo, es llamada a función..."
   ]
  },
  {
   "cell_type": "code",
   "execution_count": 16,
   "metadata": {},
   "outputs": [
    {
     "data": {
      "text/plain": [
       "12.0"
      ]
     },
     "execution_count": 16,
     "metadata": {},
     "output_type": "execute_result"
    }
   ],
   "source": [
    "2 + a*math.sqrt(4) # literal, operador, función ..."
   ]
  },
  {
   "cell_type": "code",
   "execution_count": 18,
   "metadata": {},
   "outputs": [
    {
     "data": {
      "text/plain": [
       "17"
      ]
     },
     "execution_count": 18,
     "metadata": {},
     "output_type": "execute_result"
    }
   ],
   "source": [
    "2+3*5"
   ]
  },
  {
   "cell_type": "code",
   "execution_count": 17,
   "metadata": {},
   "outputs": [
    {
     "data": {
      "text/plain": [
       "25"
      ]
     },
     "execution_count": 17,
     "metadata": {},
     "output_type": "execute_result"
    }
   ],
   "source": [
    "(2+3)*5  "
   ]
  },
  {
   "cell_type": "markdown",
   "metadata": {},
   "source": [
    "## Funciones\n",
    "\n",
    "Se pueden llamar o invocar pasándoles (si lo requieren) argumentos.\n",
    "\n",
    "Devuelven un valor (a veces devuelven el valor `None`)\n",
    "\n",
    "Pueden realizar 'efectos laterales' (se llama así a **cualquier cosa** aparte de devolver un valor).\n",
    "\n",
    "Ejemplos:"
   ]
  },
  {
   "cell_type": "code",
   "execution_count": 4,
   "metadata": {},
   "outputs": [
    {
     "name": "stdout",
     "output_type": "stream",
     "text": [
      "hola\n",
      "None\n"
     ]
    }
   ],
   "source": [
    "a = print(\"hola\") # print no devuelve nada (es decir, devuelve None)\n",
    "# además de devolver None, print genera como 'efecto lateral' mostrar algo por pantalla\n",
    "print(a) # para comprobar que el primer print devolvía el valor None"
   ]
  },
  {
   "cell_type": "code",
   "execution_count": 5,
   "metadata": {},
   "outputs": [
    {
     "name": "stdout",
     "output_type": "stream",
     "text": [
      "Desde mifuncion me pasan 2 3\n",
      "v =  5\n"
     ]
    }
   ],
   "source": [
    "# podemos crear nuestras propias funciones, esto lo veremos con más detalle en otro\n",
    "# notebook.\n",
    "\n",
    "def mifuncion(x, y):\n",
    "    z = x+y\n",
    "    print(\"Desde mifuncion me pasan\",x,y)\n",
    "    return z # return sirve para devolver un valor de una función\n",
    "    print(\"eso no se imprime nunca\") # el return FINALIZA la ejecución de la función\n",
    "\n",
    "v = mifuncion(2,3)\n",
    "print(\"v = \",v)"
   ]
  },
  {
   "cell_type": "markdown",
   "metadata": {},
   "source": [
    "## Instrucciones en Python\n",
    "\n",
    "* Una sentencia por línea.\n",
    "  - No se utiliza separadores de línea.\n",
    "* Una sentencia en varias líneas.\n",
    "  - Es posible poner ‘\\’ al final de línea para indicar que la sentencia continua en la línea siguiente, aunque en muchos casos no hace falta nada o, de hacer falta indicarlo, mejor usar paréntesis (lo veremos luego con ejemplos).\n",
    "  - Listas, tuplas y diccionarios pueden seguir en varias líneas sin marca de final de línea.\n",
    "* Varias sentencias en la misma línea (‘;’). ¡No es habitual y tiene limitaciones!\n",
    "\n",
    "### Bloques en Python\n",
    "\n",
    "Los bloques de código vienen marcados por la indentación (o sangrado):\n",
    "\n",
    "```python\n",
    "\n",
    "if a>5:\n",
    "    print(\"a es mayor que 5\")\n",
    "    a = a*2 # otra instrucción dentro del mismo bloque\n",
    "a = a+1 # esto ya está fuera del bloque anterior\n",
    "\n",
    "for i in range(1,11):\n",
    "    resto = i % 2\n",
    "    if resto == 0:\n",
    "        print(\"%i es par\" % i)\n",
    "print(\"fin del bucle\")\n",
    "```\n",
    "\n",
    "**Observa** que, como regla general:\n",
    "\n",
    "- Siempre que se abre un bloque la línea termina con el símbolo de dos puntos \":\".\n",
    "- Después de los \":\" se marca el bloque añadiendo más espacios o tabuladores,\n",
    "- El bloque termina cuando volvemos a la indentación previa.\n",
    "- Da error si no se respeta la secuencia exacta de espacios y tabuladores, de ahí que resulte totalmente **desaconsejable** utilizar tabuladores y se prefiera el uso exclusivo de espacios.\n",
    "- Hay normas de estilo que indican el número correcto de espacios, si bien no es obligatorio (*mandatory*).\n",
    "- Si en un momento se espera un bloque, **no podemos dejarlo vacío**, en lugar de dejarlo vacío podemos utilizar la instrucción `pass` que no hace nada pero sirve para evitar el error de sintaxis antes mencionado:\n",
    "\n",
    "```python\n",
    "if a>5:\n",
    "    pass # no hace nada pero sintácticamente válidoi\n",
    "```"
   ]
  },
  {
   "cell_type": "markdown",
   "metadata": {},
   "source": [
    "## Concepto de mutable e inmutable\n",
    "\n",
    "Este concepto es MUY IMPORTANTE pero, afortunadamente, es fácil de ver con un ejemplo utilizando algún tipo de datos que sea mutable en Python, como las listas:"
   ]
  },
  {
   "cell_type": "code",
   "execution_count": 37,
   "metadata": {},
   "outputs": [
    {
     "name": "stdout",
     "output_type": "stream",
     "text": [
      "[100, 200, 300]\n"
     ]
    }
   ],
   "source": [
    "a = [100,200,300] # esto es una lista en Python\n",
    "print(a)"
   ]
  },
  {
   "cell_type": "code",
   "execution_count": 38,
   "metadata": {},
   "outputs": [
    {
     "data": {
      "text/plain": [
       "100"
      ]
     },
     "execution_count": 38,
     "metadata": {},
     "output_type": "execute_result"
    }
   ],
   "source": [
    "a[0] # primer elemento de la lista"
   ]
  },
  {
   "cell_type": "code",
   "execution_count": 40,
   "metadata": {},
   "outputs": [
    {
     "name": "stdout",
     "output_type": "stream",
     "text": [
      "[12345, 200, 300]\n"
     ]
    }
   ],
   "source": [
    "a[0] = 12345 # podemos modificar el valor de la lista con una asignación\n",
    "print(a) # en a ha cambiado el primer elemento"
   ]
  },
  {
   "cell_type": "code",
   "execution_count": 41,
   "metadata": {},
   "outputs": [
    {
     "name": "stdout",
     "output_type": "stream",
     "text": [
      "[12345, 200, 300] [12345, 200, 300]\n"
     ]
    }
   ],
   "source": [
    "b = a # ahora la variable b vale lo mismo que la variable a\n",
    "print(a,b)"
   ]
  },
  {
   "cell_type": "code",
   "execution_count": 42,
   "metadata": {},
   "outputs": [
    {
     "name": "stdout",
     "output_type": "stream",
     "text": [
      "[557799, 200, 300] [557799, 200, 300]\n"
     ]
    }
   ],
   "source": [
    "# aquí viene la parte de \"mutable\", modificamos a PERO NO b:\n",
    "a[0] = 557799\n",
    "print(a,b) # ¿¿¿saldrá [557799, 200, 300], [12345, 200, 300] ????"
   ]
  },
  {
   "cell_type": "markdown",
   "metadata": {},
   "source": [
    "- Tanto `a` como `b` son REFERENCIAS **A LA MISMA** LISTA\n",
    "- Un objeto es MUTABLE si es posible modificarlo.\n",
    "- Las listas de Python son mutables.\n",
    "- Pero hay tipos de datos que NO son mutables (son inmutables), como las tuplas o las cadenas."
   ]
  },
  {
   "cell_type": "code",
   "execution_count": 6,
   "metadata": {},
   "outputs": [
    {
     "name": "stdout",
     "output_type": "stream",
     "text": [
      "<class 'tuple'>\n"
     ]
    }
   ],
   "source": [
    "a = (10,20,30) # parece una lista pero es una TUPLA, el detalle es usar () en lugar de []\n",
    "print(type(a))"
   ]
  },
  {
   "cell_type": "code",
   "execution_count": 7,
   "metadata": {},
   "outputs": [
    {
     "ename": "TypeError",
     "evalue": "'tuple' object does not support item assignment",
     "output_type": "error",
     "traceback": [
      "\u001b[0;31m---------------------------------------------------------------------------\u001b[0m",
      "\u001b[0;31mTypeError\u001b[0m                                 Traceback (most recent call last)",
      "\u001b[0;32m<ipython-input-7-78b0e8e12952>\u001b[0m in \u001b[0;36m<module>\u001b[0;34m\u001b[0m\n\u001b[0;32m----> 1\u001b[0;31m \u001b[0ma\u001b[0m\u001b[0;34m[\u001b[0m\u001b[0;36m0\u001b[0m\u001b[0;34m]\u001b[0m \u001b[0;34m=\u001b[0m \u001b[0;36m40\u001b[0m \u001b[0;31m# intentamos modificar una tupla\u001b[0m\u001b[0;34m\u001b[0m\u001b[0;34m\u001b[0m\u001b[0m\n\u001b[0m",
      "\u001b[0;31mTypeError\u001b[0m: 'tuple' object does not support item assignment"
     ]
    }
   ],
   "source": [
    "a[0] = 40 # intentamos modificar una tupla, da ERROR:"
   ]
  },
  {
   "cell_type": "markdown",
   "metadata": {},
   "source": [
    "# Detalle de los tipos de datos en Python\n",
    "\n",
    "### Numéricos:\n",
    "\n",
    "- Los enteros o `int` son lo que en otros lenguajes de programación se denominan \"big integers\" porque en principio no tienen un tope máximo o rango predefinido. Es decir, pueden ser *arbitrariamente grandes*, como veremos en los. ejemplos más abajo.\n",
    "\n",
    "- Valores en coma flotante o `float` corresponden a los valores en coma flotante de 64 bits (en otros lenguajes se llaman *double*).\n",
    "\n",
    "- Pero, si utilizas la biblioteca `numpy`, es posible crear vectores, matrices, etc. que tengan valores de muchos otros tipos numéricos, incluyendo tipos enteros que ocupen un tamaño predeterminado (ejemplo `np.int8`, `np.int16`, `np.int32`, ... habiendo importado `numpy` como `np`, se entiende) y, por tanto, tengan un rango limitado. Ver este enlace https://numpy.org/doc/stable/user/basics.types.html\n",
    "\n",
    "- Otros tipos numéricos que en principio no se van a utilizar en nuestro contexto:\n",
    "\n",
    "    - Números complejos utilizando `j` como $\\sqrt{-1}$.\n",
    "\n",
    "    - Números fraccionarios con el módulo `Fractions` https://docs.python.org/3/library/fractions.html\n",
    "\n",
    "    - Valores decimales con el módulo `Decimal` https://docs.python.org/3/library/decimal.html Pueden tener interés en ámbitos bancarios donde \"por ley\" se obliga en algunos casos a redondeos decimales...\n",
    "\n",
    "Ejemplos:\n",
    "\n",
    "```python\n",
    ">>> 10/3\n",
    "3.3333333333333335\n",
    ">>> 10 // 3\n",
    "3\n",
    ">>> int('12')\n",
    "12\n",
    ">>> str(12)\n",
    "'12'\n",
    ">>> 12345**123\n",
    "179227478536797075276952162319434197129926964430623405351403914666844095303193142386105303128935260661331482166609669142646381589155256961299625923906846736377224598990446854741893321648522851663303862851165879753724272728386042804116173040017014488023693807547724950916588058455499429272048326934098750367364004488112819439755556403443027523561951313385041616743787240003466700321402142800004483416756392021359457461719905854364181525061772982959380338841234880410679952689179117442108690738677978515625\n",
    "\n",
    "```"
   ]
  },
  {
   "cell_type": "code",
   "execution_count": 2,
   "metadata": {},
   "outputs": [
    {
     "data": {
      "text/plain": [
       "3.3333333333333335"
      ]
     },
     "execution_count": 2,
     "metadata": {},
     "output_type": "execute_result"
    }
   ],
   "source": [
    "10/3"
   ]
  },
  {
   "cell_type": "code",
   "execution_count": 3,
   "metadata": {},
   "outputs": [
    {
     "data": {
      "text/plain": [
       "3"
      ]
     },
     "execution_count": 3,
     "metadata": {},
     "output_type": "execute_result"
    }
   ],
   "source": [
    "10//3"
   ]
  },
  {
   "cell_type": "code",
   "execution_count": 8,
   "metadata": {},
   "outputs": [
    {
     "data": {
      "text/plain": [
       "179227478536797075276952162319434197129926964430623405351403914666844095303193142386105303128935260661331482166609669142646381589155256961299625923906846736377224598990446854741893321648522851663303862851165879753724272728386042804116173040017014488023693807547724950916588058455499429272048326934098750367364004488112819439755556403443027523561951313385041616743787240003466700321402142800004483416756392021359457461719905854364181525061772982959380338841234880410679952689179117442108690738677978515625"
      ]
     },
     "execution_count": 8,
     "metadata": {},
     "output_type": "execute_result"
    }
   ],
   "source": [
    "12345**123 # el resultado no cabe en un entero de 64 bits ni de lejos:"
   ]
  },
  {
   "cell_type": "code",
   "execution_count": 15,
   "metadata": {},
   "outputs": [
    {
     "name": "stdout",
     "output_type": "stream",
     "text": [
      "2147483648 -2147483648\n",
      "<class 'int'> <class 'numpy.int32'>\n"
     ]
    }
   ],
   "source": [
    "import numpy as np\n",
    "v1 = 2147483648\n",
    "v2 = np.int32(v1)\n",
    "print(v1,v2) # OPSSS ¿qué ha pasado?\n",
    "print(type(v1),type(v2)) # observa que no son del mismo tipo"
   ]
  },
  {
   "cell_type": "markdown",
   "metadata": {},
   "source": [
    "### El valor `None`\n",
    "\n",
    "`None` es el único valor de la clase `NoneType`, el literal es `None`. Este valor es el que devuelve una función que llega al final sin encontrar una instrucción de tipo `return`.\n",
    "\n",
    "```python\n",
    ">>> type(None)\n",
    "<class 'NoneType'>\n",
    "```\n",
    "\n",
    "### Booleanos\n",
    "\n",
    "Se corresponde a la clase `bool`, cuyos literales para denotar cierto y falso son, respectivamente, `True` y `False`:\n",
    "\n",
    "```python\n",
    ">>> type(2+2 == 4)\n",
    "<class 'bool'>\n",
    ">>> 2+2 == 4\n",
    "True\n",
    ">>> not True\n",
    "False\n",
    "```\n",
    "\n",
    "Además de los valores `True` y `False` están los conceptos más abstractos de *\"Truthy\"* y *\"Falsy\"*:\n",
    "\n",
    "- Un valor python `x` es *Truthy* si al hacer `bool(x)` devuelve `True`\n",
    "- Un valor python `x` es *Falsy* si al hacer `bool(x)` devuelve `False`\n",
    "\n",
    "Esto es relevante, por ejemplo, cuando veamos los operadores `or` y `and`, y también cuando utilicemos instrucciones para controlar el flujo de ejecución de un programa (instrucciones de tipo condicional o de tipo iterativo), que veremos un poco más abajo.\n",
    "\n",
    "La forma más directa de obtener valores de tipo `bool`es mediante la función `bool()` y con los operadores **relacionales**:\n",
    "\n",
    "```python\n",
    ">>> 'a' == 'b'\n",
    "False\n",
    ">>> 5 > 3\n",
    "True\n",
    "```\n",
    "\n",
    "Valores que son considerados Falsy:\n",
    "\n",
    "- El número cero tanto `int` (el 0) como `float` (el 0.0)\n",
    "- La cadena de texto vacía `\"\"`\n",
    "- Una tupla vacía `()`\n",
    "- Una lista vacía `[]`\n",
    "- Un diccionario vacío `{}`\n",
    "- Un conjunto vacío `set()`\n",
    "- El valor `None`\n",
    "\n",
    "(salvo que me haya dejado algún valor Falsy) el resto de valores buit-in en Python se consideran Truthy:\n",
    "\n",
    "- Números distintos de 0\n",
    "- Cadenas no vacías.\n",
    "- Tupla no vacía.\n",
    "- Lista no vacía.\n",
    "- Diccionario no vacío.\n",
    "- Conjunto no vacío.\n",
    "\n",
    "Para más detalles ver https://docs.python.org/3/library/stdtypes.html#truth-value-testing\n",
    "\n",
    "Los valores de tipo `bool` se pueden combinar utilizando las operaciones `and`, `or`, `not`, `^`, `==`, `!=`, `>=`,...\n",
    "\n",
    "En particular, tanto `and` como `or` se evaluan en **cortocircuito** o de forma **perezosa**:\n",
    "\n",
    "- `and` es un operador de tipo *infijo* (es decir, está entre sus dos argumentos) de manera que si el primer operando (a su izquierda) es *falsy*, lo devuelve **sin llegar a evaluar el segundo operando**. En cambio, si el primer operando es *truthy*, devuelve el resultado de evaluar el segundo operando.\n",
    "- `or` evalua el primer operando y lo devuelve si es *truthy* (**sin evaluar el segundo operando**). En cambio, si el primer operando es *falsy*, devuelve el resultado de evaluar el segundo operando.\n",
    "\n",
    "En particular, `and` y `or` funcionan como la \"y lógica\" y la \"o lógica\" del álgebra de Boole:\n",
    "\n",
    "```python\n",
    ">>> True and True\n",
    "True\n",
    ">>> True and False\n",
    "False\n",
    ">>> False and True\n",
    "False\n",
    ">>> False and False\n",
    "False\n",
    "\n",
    "```\n",
    "\n",
    "En el siguiente ejemplo se observa cómo funciona la evaluación por cortocircuito:"
   ]
  },
  {
   "cell_type": "code",
   "execution_count": 2,
   "metadata": {},
   "outputs": [
    {
     "name": "stdout",
     "output_type": "stream",
     "text": [
      "Ejemplo 1:\n",
      "Se está ejecutando la función f\n",
      "Ejemplo 2:\n",
      "Ejemplo 3:\n",
      "Ejemplo 1:\n",
      "Se está ejecutando la función f\n"
     ]
    },
    {
     "data": {
      "text/plain": [
       "True"
      ]
     },
     "execution_count": 2,
     "metadata": {},
     "output_type": "execute_result"
    }
   ],
   "source": [
    "def f():\n",
    "    print(\"Se está ejecutando la función f\")\n",
    "    return True\n",
    "\n",
    "print(\"Ejemplo 1:\")\n",
    "True and f() # sí ejecuta f\n",
    "print(\"Ejemplo 2:\")\n",
    "False and f() # en este caso NO ejecuta f\n",
    "print(\"Ejemplo 3:\")\n",
    "True or f() # NO ejecuta f\n",
    "print(\"Ejemplo 1:\")\n",
    "False or f() # sí ejecuta f"
   ]
  },
  {
   "cell_type": "markdown",
   "metadata": {},
   "source": [
    "Pero no debe extrañarnos que `or` y `and` no sólo no den error sino que funcionen con valores que no son de tipo `bool`:"
   ]
  },
  {
   "cell_type": "code",
   "execution_count": 4,
   "metadata": {},
   "outputs": [
    {
     "name": "stdout",
     "output_type": "stream",
     "text": [
      "hola\n"
     ]
    }
   ],
   "source": [
    "print(\"hola\" or \"mundo\") # devuelve \"hola\" porque \"hola\" es Truthy"
   ]
  },
  {
   "cell_type": "code",
   "execution_count": 6,
   "metadata": {},
   "outputs": [
    {
     "name": "stdout",
     "output_type": "stream",
     "text": [
      "Como te llamas (enter para Juan): Pepe\n",
      "Pepe\n"
     ]
    }
   ],
   "source": [
    "nombre = input(\"Como te llamas (enter para Juan): \")\n",
    "print(nombre or \"Juan\")"
   ]
  },
  {
   "cell_type": "markdown",
   "metadata": {},
   "source": [
    "**Nota:** Puedes ignorar completamente la diferencia entre True/False y Truthy/Falsy, lo importante es no dar por supuesto que `and` y `or` siempre devuelven un valor de tipo `bool`."
   ]
  },
  {
   "cell_type": "markdown",
   "metadata": {},
   "source": [
    "# Cómo invocar Python desde la línea de comandos\n",
    "\n",
    "Las opciones más relevantes:\n",
    "\n",
    "```\n",
    "python3 [ -i ] [ -t ] [ -u ] [ -c orden | script | - ] [ argumentos ] \n",
    "```\n",
    "\n",
    "\n",
    "- `-i`\tCuando se pasa un script como primer argumento o se utiliza la opción -c, entrar en el modo interactivo tras ejecutar el script u orden. N\n",
    "- `-t`\tActivar una alarma cuando un fichero fuente mezcla tabuladores y espacios para el sangrado de modo tal que lo haga depender del valor del tabulador en espacios. Activar un error si la opción se duplica.\n",
    "- `-u`\tForzar que los flujos de entrada, salida y errores estándares (stdin, stdout, stderr) no utilicen buffer.\n",
    "- `-c orden` Especifica la orden que hay que ejecutar\n"
   ]
  },
  {
   "cell_type": "markdown",
   "metadata": {},
   "source": [
    "## Las dos primeras líneas de un programa en Python\n",
    "\n",
    "```bash\n",
    "#!/usr/bin/env python\n",
    "#! -*- encoding: utf8 -*-\n",
    "```\n",
    "\n",
    "- La primera línea sirve para que se pueda ejecutar el script Python directamente cuando se ejecuta desde un shell script (bash en entornos Unix/Linux).\n",
    "- La segunda línea conviene utilizarla incluso cuando no necestiemos la funcionalidad de la primera. Sirve para que Python sepa qué **encoding** tiene el código fuente (el código, vaya) de ese fichero.\n",
    "\n",
    "> **NOTA:** El problema de la codificaicón o de los *encodings* se verá con algo más de detalle en el notebook sobre cadenas (y en el de ficheros).\n"
   ]
  }
 ],
 "metadata": {
  "kernelspec": {
   "display_name": "Python 3",
   "language": "python",
   "name": "python3"
  },
  "language_info": {
   "codemirror_mode": {
    "name": "ipython",
    "version": 3
   },
   "file_extension": ".py",
   "mimetype": "text/x-python",
   "name": "python",
   "nbconvert_exporter": "python",
   "pygments_lexer": "ipython3",
   "version": "3.8.5"
  }
 },
 "nbformat": 4,
 "nbformat_minor": 2
}
