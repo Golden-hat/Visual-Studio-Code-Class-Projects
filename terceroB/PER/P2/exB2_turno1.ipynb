{
  "cells": [
    {
      "cell_type": "markdown",
      "metadata": {
        "id": "S-eUsSKcIms3"
      },
      "source": [
        "# Examen de prácticas Bloque 2 - Turno 1\n",
        "\n",
        " Se propone un problema de clasificación binaria sobre un conjunto de datos que representa escenas, scene recognition dataset (id=312). Se han obtenido 299 características de diferentes imágenes que represetan dichas escenas y hay que clasificarlas como pertenecientes o no a escenas \"urbanas\". Por lo tanto es un problema de clasificación binaria. Hay un total de 2407 muestras que partiremos en train y validación al 70% y 30% respectivamente."
      ]
    },
    {
      "cell_type": "code",
      "execution_count": 1,
      "metadata": {
        "colab": {
          "base_uri": "https://localhost:8080/"
        },
        "id": "M-9ZLQviHwgF",
        "outputId": "250264e6-1493-4d26-8624-bbaefcf6ae5b"
      },
      "outputs": [
        {
          "name": "stderr",
          "output_type": "stream",
          "text": [
            "/home/yassin/anaconda3/envs/per/lib/python3.11/site-packages/sklearn/datasets/_openml.py:968: FutureWarning: The default value of `parser` will change from `'liac-arff'` to `'auto'` in 1.4. You can set `parser='auto'` to silence this warning. Therefore, an `ImportError` will be raised from 1.4 if the dataset is dense and pandas is not installed. Note that the pandas parser may return different data types. See the Notes Section in fetch_openml's API doc for details.\n",
            "  warn(\n"
          ]
        },
        {
          "name": "stdout",
          "output_type": "stream",
          "text": [
            "(2407, 299)\n"
          ]
        }
      ],
      "source": [
        "from sklearn.datasets import fetch_openml\n",
        "\n",
        "## Descarga del dataset Scene recognition\n",
        "X, y = fetch_openml(data_id=312, as_frame=False, cache=True, return_X_y=True)\n",
        "print(X.shape)\n"
      ]
    },
    {
      "cell_type": "code",
      "execution_count": 4,
      "metadata": {},
      "outputs": [
        {
          "name": "stdout",
          "output_type": "stream",
          "text": [
            "Fitting 5 folds for each of 1 candidates, totalling 5 fits\n",
            "[CV 1/5; 1/1] START metric=l2, n_neighbors=8, weights=uniform...................\n",
            "[CV 1/5; 1/1] END metric=l2, n_neighbors=8, weights=uniform;, score=0.961 total time=   0.1s\n",
            "[CV 2/5; 1/1] START metric=l2, n_neighbors=8, weights=uniform...................\n",
            "[CV 2/5; 1/1] END metric=l2, n_neighbors=8, weights=uniform;, score=0.947 total time=   0.1s\n",
            "[CV 3/5; 1/1] START metric=l2, n_neighbors=8, weights=uniform...................\n",
            "[CV 3/5; 1/1] END metric=l2, n_neighbors=8, weights=uniform;, score=0.950 total time=   0.0s\n",
            "[CV 4/5; 1/1] START metric=l2, n_neighbors=8, weights=uniform...................\n",
            "[CV 4/5; 1/1] END metric=l2, n_neighbors=8, weights=uniform;, score=0.944 total time=   0.0s\n",
            "[CV 5/5; 1/1] START metric=l2, n_neighbors=8, weights=uniform...................\n",
            "[CV 5/5; 1/1] END metric=l2, n_neighbors=8, weights=uniform;, score=0.943 total time=   0.0s\n",
            "Fitting 5 folds for each of 1 candidates, totalling 5 fits\n",
            "[CV 1/5; 1/1] START metric=l2, n_neighbors=4, weights=distance..................\n",
            "[CV 1/5; 1/1] END metric=l2, n_neighbors=4, weights=distance;, score=0.947 total time=   0.0s\n",
            "[CV 2/5; 1/1] START metric=l2, n_neighbors=4, weights=distance..................\n",
            "[CV 2/5; 1/1] END metric=l2, n_neighbors=4, weights=distance;, score=0.926 total time=   0.0s\n",
            "[CV 3/5; 1/1] START metric=l2, n_neighbors=4, weights=distance..................\n",
            "[CV 3/5; 1/1] END metric=l2, n_neighbors=4, weights=distance;, score=0.932 total time=   0.0s\n",
            "[CV 4/5; 1/1] START metric=l2, n_neighbors=4, weights=distance..................\n",
            "[CV 4/5; 1/1] END metric=l2, n_neighbors=4, weights=distance;, score=0.958 total time=   0.0s\n",
            "[CV 5/5; 1/1] START metric=l2, n_neighbors=4, weights=distance..................\n",
            "[CV 5/5; 1/1] END metric=l2, n_neighbors=4, weights=distance;, score=0.920 total time=   0.0s\n",
            "Fitting 5 folds for each of 1 candidates, totalling 5 fits\n",
            "[CV 1/5; 1/1] START metric=l1, n_neighbors=9, weights=distance..................\n",
            "[CV 1/5; 1/1] END metric=l1, n_neighbors=9, weights=distance;, score=0.947 total time=   0.0s\n",
            "[CV 2/5; 1/1] START metric=l1, n_neighbors=9, weights=distance..................\n",
            "[CV 2/5; 1/1] END metric=l1, n_neighbors=9, weights=distance;, score=0.926 total time=   0.0s\n",
            "[CV 3/5; 1/1] START metric=l1, n_neighbors=9, weights=distance..................\n",
            "[CV 3/5; 1/1] END metric=l1, n_neighbors=9, weights=distance;, score=0.917 total time=   0.0s\n",
            "[CV 4/5; 1/1] START metric=l1, n_neighbors=9, weights=distance..................\n",
            "[CV 4/5; 1/1] END metric=l1, n_neighbors=9, weights=distance;, score=0.935 total time=   0.0s\n",
            "[CV 5/5; 1/1] START metric=l1, n_neighbors=9, weights=distance..................\n",
            "[CV 5/5; 1/1] END metric=l1, n_neighbors=9, weights=distance;, score=0.908 total time=   0.0s\n",
            "Fitting 5 folds for each of 1 candidates, totalling 5 fits\n",
            "[CV 1/5; 1/1] START metric=l2, n_neighbors=5, weights=uniform...................\n",
            "[CV 1/5; 1/1] END metric=l2, n_neighbors=5, weights=uniform;, score=0.941 total time=   0.0s\n",
            "[CV 2/5; 1/1] START metric=l2, n_neighbors=5, weights=uniform...................\n",
            "[CV 2/5; 1/1] END metric=l2, n_neighbors=5, weights=uniform;, score=0.953 total time=   0.0s\n",
            "[CV 3/5; 1/1] START metric=l2, n_neighbors=5, weights=uniform...................\n",
            "[CV 3/5; 1/1] END metric=l2, n_neighbors=5, weights=uniform;, score=0.953 total time=   0.0s\n",
            "[CV 4/5; 1/1] START metric=l2, n_neighbors=5, weights=uniform...................\n",
            "[CV 4/5; 1/1] END metric=l2, n_neighbors=5, weights=uniform;, score=0.953 total time=   0.0s\n",
            "[CV 5/5; 1/1] START metric=l2, n_neighbors=5, weights=uniform...................\n",
            "[CV 5/5; 1/1] END metric=l2, n_neighbors=5, weights=uniform;, score=0.932 total time=   0.0s\n",
            "Fitting 5 folds for each of 1 candidates, totalling 5 fits\n",
            "[CV 1/5; 1/1] START metric=l1, n_neighbors=5, weights=uniform...................\n",
            "[CV 1/5; 1/1] END metric=l1, n_neighbors=5, weights=uniform;, score=0.908 total time=   0.0s\n",
            "[CV 2/5; 1/1] START metric=l1, n_neighbors=5, weights=uniform...................\n",
            "[CV 2/5; 1/1] END metric=l1, n_neighbors=5, weights=uniform;, score=0.908 total time=   0.0s\n",
            "[CV 3/5; 1/1] START metric=l1, n_neighbors=5, weights=uniform...................\n",
            "[CV 3/5; 1/1] END metric=l1, n_neighbors=5, weights=uniform;, score=0.905 total time=   0.0s\n",
            "[CV 4/5; 1/1] START metric=l1, n_neighbors=5, weights=uniform...................\n",
            "[CV 4/5; 1/1] END metric=l1, n_neighbors=5, weights=uniform;, score=0.926 total time=   0.0s\n",
            "[CV 5/5; 1/1] START metric=l1, n_neighbors=5, weights=uniform...................\n",
            "[CV 5/5; 1/1] END metric=l1, n_neighbors=5, weights=uniform;, score=0.926 total time=   0.0s\n",
            "Fitting 5 folds for each of 1 candidates, totalling 5 fits\n",
            "[CV 1/5; 1/1] START metric=l2, n_neighbors=8, weights=uniform...................\n",
            "[CV 1/5; 1/1] END metric=l2, n_neighbors=8, weights=uniform;, score=0.961 total time=   0.0s\n",
            "[CV 2/5; 1/1] START metric=l2, n_neighbors=8, weights=uniform...................\n",
            "[CV 2/5; 1/1] END metric=l2, n_neighbors=8, weights=uniform;, score=0.947 total time=   0.1s\n",
            "[CV 3/5; 1/1] START metric=l2, n_neighbors=8, weights=uniform...................\n",
            "[CV 3/5; 1/1] END metric=l2, n_neighbors=8, weights=uniform;, score=0.950 total time=   0.0s\n",
            "[CV 4/5; 1/1] START metric=l2, n_neighbors=8, weights=uniform...................\n",
            "[CV 4/5; 1/1] END metric=l2, n_neighbors=8, weights=uniform;, score=0.944 total time=   0.0s\n",
            "[CV 5/5; 1/1] START metric=l2, n_neighbors=8, weights=uniform...................\n",
            "[CV 5/5; 1/1] END metric=l2, n_neighbors=8, weights=uniform;, score=0.943 total time=   0.0s\n",
            "Fitting 5 folds for each of 1 candidates, totalling 5 fits\n",
            "[CV 1/5; 1/1] START metric=l2, n_neighbors=9, weights=uniform...................\n",
            "[CV 1/5; 1/1] END metric=l2, n_neighbors=9, weights=uniform;, score=0.958 total time=   0.0s\n",
            "[CV 2/5; 1/1] START metric=l2, n_neighbors=9, weights=uniform...................\n",
            "[CV 2/5; 1/1] END metric=l2, n_neighbors=9, weights=uniform;, score=0.947 total time=   0.0s\n",
            "[CV 3/5; 1/1] START metric=l2, n_neighbors=9, weights=uniform...................\n",
            "[CV 3/5; 1/1] END metric=l2, n_neighbors=9, weights=uniform;, score=0.938 total time=   0.0s\n",
            "[CV 4/5; 1/1] START metric=l2, n_neighbors=9, weights=uniform...................\n",
            "[CV 4/5; 1/1] END metric=l2, n_neighbors=9, weights=uniform;, score=0.947 total time=   0.0s\n",
            "[CV 5/5; 1/1] START metric=l2, n_neighbors=9, weights=uniform...................\n",
            "[CV 5/5; 1/1] END metric=l2, n_neighbors=9, weights=uniform;, score=0.929 total time=   0.0s\n",
            "Fitting 5 folds for each of 1 candidates, totalling 5 fits\n",
            "[CV 1/5; 1/1] START metric=l2, n_neighbors=7, weights=uniform...................\n",
            "[CV 1/5; 1/1] END metric=l2, n_neighbors=7, weights=uniform;, score=0.953 total time=   0.0s\n",
            "[CV 2/5; 1/1] START metric=l2, n_neighbors=7, weights=uniform...................\n",
            "[CV 2/5; 1/1] END metric=l2, n_neighbors=7, weights=uniform;, score=0.944 total time=   0.0s\n",
            "[CV 3/5; 1/1] START metric=l2, n_neighbors=7, weights=uniform...................\n",
            "[CV 3/5; 1/1] END metric=l2, n_neighbors=7, weights=uniform;, score=0.947 total time=   0.0s\n",
            "[CV 4/5; 1/1] START metric=l2, n_neighbors=7, weights=uniform...................\n",
            "[CV 4/5; 1/1] END metric=l2, n_neighbors=7, weights=uniform;, score=0.947 total time=   0.0s\n",
            "[CV 5/5; 1/1] START metric=l2, n_neighbors=7, weights=uniform...................\n",
            "[CV 5/5; 1/1] END metric=l2, n_neighbors=7, weights=uniform;, score=0.935 total time=   0.0s\n",
            "Fitting 5 folds for each of 1 candidates, totalling 5 fits\n",
            "[CV 1/5; 1/1] START metric=l1, n_neighbors=4, weights=uniform...................\n",
            "[CV 1/5; 1/1] END metric=l1, n_neighbors=4, weights=uniform;, score=0.914 total time=   0.1s\n",
            "[CV 2/5; 1/1] START metric=l1, n_neighbors=4, weights=uniform...................\n",
            "[CV 2/5; 1/1] END metric=l1, n_neighbors=4, weights=uniform;, score=0.926 total time=   0.0s\n",
            "[CV 3/5; 1/1] START metric=l1, n_neighbors=4, weights=uniform...................\n",
            "[CV 3/5; 1/1] END metric=l1, n_neighbors=4, weights=uniform;, score=0.923 total time=   0.0s\n",
            "[CV 4/5; 1/1] START metric=l1, n_neighbors=4, weights=uniform...................\n",
            "[CV 4/5; 1/1] END metric=l1, n_neighbors=4, weights=uniform;, score=0.914 total time=   0.0s\n",
            "[CV 5/5; 1/1] START metric=l1, n_neighbors=4, weights=uniform...................\n",
            "[CV 5/5; 1/1] END metric=l1, n_neighbors=4, weights=uniform;, score=0.917 total time=   0.0s\n",
            "Fitting 5 folds for each of 1 candidates, totalling 5 fits\n",
            "[CV 1/5; 1/1] START metric=l2, n_neighbors=4, weights=uniform...................\n",
            "[CV 1/5; 1/1] END metric=l2, n_neighbors=4, weights=uniform;, score=0.950 total time=   0.1s\n",
            "[CV 2/5; 1/1] START metric=l2, n_neighbors=4, weights=uniform...................\n",
            "[CV 2/5; 1/1] END metric=l2, n_neighbors=4, weights=uniform;, score=0.944 total time=   0.0s\n",
            "[CV 3/5; 1/1] START metric=l2, n_neighbors=4, weights=uniform...................\n",
            "[CV 3/5; 1/1] END metric=l2, n_neighbors=4, weights=uniform;, score=0.947 total time=   0.0s\n",
            "[CV 4/5; 1/1] START metric=l2, n_neighbors=4, weights=uniform...................\n",
            "[CV 4/5; 1/1] END metric=l2, n_neighbors=4, weights=uniform;, score=0.955 total time=   0.0s\n",
            "[CV 5/5; 1/1] START metric=l2, n_neighbors=4, weights=uniform...................\n",
            "[CV 5/5; 1/1] END metric=l2, n_neighbors=4, weights=uniform;, score=0.949 total time=   0.0s\n",
            "Fitting 5 folds for each of 1 candidates, totalling 5 fits\n",
            "[CV 1/5; 1/1] START metric=l2, n_neighbors=10, weights=distance.................\n",
            "[CV 1/5; 1/1] END metric=l2, n_neighbors=10, weights=distance;, score=0.961 total time=   0.1s\n",
            "[CV 2/5; 1/1] START metric=l2, n_neighbors=10, weights=distance.................\n",
            "[CV 2/5; 1/1] END metric=l2, n_neighbors=10, weights=distance;, score=0.953 total time=   0.0s\n",
            "[CV 3/5; 1/1] START metric=l2, n_neighbors=10, weights=distance.................\n",
            "[CV 3/5; 1/1] END metric=l2, n_neighbors=10, weights=distance;, score=0.941 total time=   0.0s\n",
            "[CV 4/5; 1/1] START metric=l2, n_neighbors=10, weights=distance.................\n",
            "[CV 4/5; 1/1] END metric=l2, n_neighbors=10, weights=distance;, score=0.947 total time=   0.0s\n",
            "[CV 5/5; 1/1] START metric=l2, n_neighbors=10, weights=distance.................\n",
            "[CV 5/5; 1/1] END metric=l2, n_neighbors=10, weights=distance;, score=0.929 total time=   0.0s\n",
            "Fitting 5 folds for each of 1 candidates, totalling 5 fits\n",
            "[CV 1/5; 1/1] START metric=l2, n_neighbors=1, weights=uniform...................\n",
            "[CV 1/5; 1/1] END metric=l2, n_neighbors=1, weights=uniform;, score=0.923 total time=   0.1s\n",
            "[CV 2/5; 1/1] START metric=l2, n_neighbors=1, weights=uniform...................\n",
            "[CV 2/5; 1/1] END metric=l2, n_neighbors=1, weights=uniform;, score=0.920 total time=   0.0s\n",
            "[CV 3/5; 1/1] START metric=l2, n_neighbors=1, weights=uniform...................\n",
            "[CV 3/5; 1/1] END metric=l2, n_neighbors=1, weights=uniform;, score=0.908 total time=   0.0s\n",
            "[CV 4/5; 1/1] START metric=l2, n_neighbors=1, weights=uniform...................\n",
            "[CV 4/5; 1/1] END metric=l2, n_neighbors=1, weights=uniform;, score=0.941 total time=   0.0s\n",
            "[CV 5/5; 1/1] START metric=l2, n_neighbors=1, weights=uniform...................\n",
            "[CV 5/5; 1/1] END metric=l2, n_neighbors=1, weights=uniform;, score=0.917 total time=   0.0s\n",
            "Fitting 5 folds for each of 1 candidates, totalling 5 fits\n",
            "[CV 1/5; 1/1] START metric=l2, n_neighbors=8, weights=distance..................\n",
            "[CV 1/5; 1/1] END metric=l2, n_neighbors=8, weights=distance;, score=0.955 total time=   0.1s\n",
            "[CV 2/5; 1/1] START metric=l2, n_neighbors=8, weights=distance..................\n",
            "[CV 2/5; 1/1] END metric=l2, n_neighbors=8, weights=distance;, score=0.947 total time=   0.0s\n",
            "[CV 3/5; 1/1] START metric=l2, n_neighbors=8, weights=distance..................\n",
            "[CV 3/5; 1/1] END metric=l2, n_neighbors=8, weights=distance;, score=0.953 total time=   0.0s\n",
            "[CV 4/5; 1/1] START metric=l2, n_neighbors=8, weights=distance..................\n",
            "[CV 4/5; 1/1] END metric=l2, n_neighbors=8, weights=distance;, score=0.947 total time=   0.0s\n",
            "[CV 5/5; 1/1] START metric=l2, n_neighbors=8, weights=distance..................\n",
            "[CV 5/5; 1/1] END metric=l2, n_neighbors=8, weights=distance;, score=0.935 total time=   0.0s\n",
            "Fitting 5 folds for each of 1 candidates, totalling 5 fits\n",
            "[CV 1/5; 1/1] START metric=l1, n_neighbors=1, weights=distance..................\n",
            "[CV 1/5; 1/1] END metric=l1, n_neighbors=1, weights=distance;, score=0.884 total time=   0.1s\n",
            "[CV 2/5; 1/1] START metric=l1, n_neighbors=1, weights=distance..................\n",
            "[CV 2/5; 1/1] END metric=l1, n_neighbors=1, weights=distance;, score=0.905 total time=   0.0s\n",
            "[CV 3/5; 1/1] START metric=l1, n_neighbors=1, weights=distance..................\n",
            "[CV 3/5; 1/1] END metric=l1, n_neighbors=1, weights=distance;, score=0.899 total time=   0.0s\n",
            "[CV 4/5; 1/1] START metric=l1, n_neighbors=1, weights=distance..................\n",
            "[CV 4/5; 1/1] END metric=l1, n_neighbors=1, weights=distance;, score=0.905 total time=   0.0s\n",
            "[CV 5/5; 1/1] START metric=l1, n_neighbors=1, weights=distance..................\n",
            "[CV 5/5; 1/1] END metric=l1, n_neighbors=1, weights=distance;, score=0.890 total time=   0.0s\n",
            "Fitting 5 folds for each of 1 candidates, totalling 5 fits\n",
            "[CV 1/5; 1/1] START metric=l2, n_neighbors=10, weights=uniform..................\n",
            "[CV 1/5; 1/1] END metric=l2, n_neighbors=10, weights=uniform;, score=0.958 total time=   0.1s\n",
            "[CV 2/5; 1/1] START metric=l2, n_neighbors=10, weights=uniform..................\n",
            "[CV 2/5; 1/1] END metric=l2, n_neighbors=10, weights=uniform;, score=0.953 total time=   0.0s\n",
            "[CV 3/5; 1/1] START metric=l2, n_neighbors=10, weights=uniform..................\n",
            "[CV 3/5; 1/1] END metric=l2, n_neighbors=10, weights=uniform;, score=0.935 total time=   0.0s\n",
            "[CV 4/5; 1/1] START metric=l2, n_neighbors=10, weights=uniform..................\n",
            "[CV 4/5; 1/1] END metric=l2, n_neighbors=10, weights=uniform;, score=0.950 total time=   0.0s\n",
            "[CV 5/5; 1/1] START metric=l2, n_neighbors=10, weights=uniform..................\n",
            "[CV 5/5; 1/1] END metric=l2, n_neighbors=10, weights=uniform;, score=0.938 total time=   0.0s\n"
          ]
        },
        {
          "name": "stderr",
          "output_type": "stream",
          "text": [
            "/home/yassin/anaconda3/envs/per/lib/python3.11/site-packages/skopt/optimizer/optimizer.py:517: UserWarning: The objective has been evaluated at point ['l2', 10, 'uniform'] before, using random point ['l2', 1, 'uniform']\n",
            "  warnings.warn(\n"
          ]
        },
        {
          "name": "stdout",
          "output_type": "stream",
          "text": [
            "Fitting 5 folds for each of 1 candidates, totalling 5 fits\n",
            "[CV 1/5; 1/1] START metric=l2, n_neighbors=1, weights=uniform...................\n",
            "[CV 1/5; 1/1] END metric=l2, n_neighbors=1, weights=uniform;, score=0.923 total time=   0.1s\n",
            "[CV 2/5; 1/1] START metric=l2, n_neighbors=1, weights=uniform...................\n",
            "[CV 2/5; 1/1] END metric=l2, n_neighbors=1, weights=uniform;, score=0.920 total time=   0.0s\n",
            "[CV 3/5; 1/1] START metric=l2, n_neighbors=1, weights=uniform...................\n",
            "[CV 3/5; 1/1] END metric=l2, n_neighbors=1, weights=uniform;, score=0.908 total time=   0.0s\n",
            "[CV 4/5; 1/1] START metric=l2, n_neighbors=1, weights=uniform...................\n",
            "[CV 4/5; 1/1] END metric=l2, n_neighbors=1, weights=uniform;, score=0.941 total time=   0.0s\n",
            "[CV 5/5; 1/1] START metric=l2, n_neighbors=1, weights=uniform...................\n",
            "[CV 5/5; 1/1] END metric=l2, n_neighbors=1, weights=uniform;, score=0.917 total time=   0.0s\n",
            "Fitting 5 folds for each of 1 candidates, totalling 5 fits\n",
            "[CV 1/5; 1/1] START metric=l2, n_neighbors=3, weights=uniform...................\n",
            "[CV 1/5; 1/1] END metric=l2, n_neighbors=3, weights=uniform;, score=0.944 total time=   0.1s\n",
            "[CV 2/5; 1/1] START metric=l2, n_neighbors=3, weights=uniform...................\n",
            "[CV 2/5; 1/1] END metric=l2, n_neighbors=3, weights=uniform;, score=0.926 total time=   0.0s\n",
            "[CV 3/5; 1/1] START metric=l2, n_neighbors=3, weights=uniform...................\n",
            "[CV 3/5; 1/1] END metric=l2, n_neighbors=3, weights=uniform;, score=0.926 total time=   0.0s\n",
            "[CV 4/5; 1/1] START metric=l2, n_neighbors=3, weights=uniform...................\n",
            "[CV 4/5; 1/1] END metric=l2, n_neighbors=3, weights=uniform;, score=0.961 total time=   0.0s\n",
            "[CV 5/5; 1/1] START metric=l2, n_neighbors=3, weights=uniform...................\n",
            "[CV 5/5; 1/1] END metric=l2, n_neighbors=3, weights=uniform;, score=0.923 total time=   0.0s\n"
          ]
        },
        {
          "name": "stderr",
          "output_type": "stream",
          "text": [
            "/home/yassin/anaconda3/envs/per/lib/python3.11/site-packages/skopt/optimizer/optimizer.py:517: UserWarning: The objective has been evaluated at point ['l2', 10, 'uniform'] before, using random point ['l2', 3, 'distance']\n",
            "  warnings.warn(\n"
          ]
        },
        {
          "name": "stdout",
          "output_type": "stream",
          "text": [
            "Fitting 5 folds for each of 1 candidates, totalling 5 fits\n",
            "[CV 1/5; 1/1] START metric=l2, n_neighbors=3, weights=distance..................\n",
            "[CV 1/5; 1/1] END metric=l2, n_neighbors=3, weights=distance;, score=0.944 total time=   0.1s\n",
            "[CV 2/5; 1/1] START metric=l2, n_neighbors=3, weights=distance..................\n",
            "[CV 2/5; 1/1] END metric=l2, n_neighbors=3, weights=distance;, score=0.926 total time=   0.0s\n",
            "[CV 3/5; 1/1] START metric=l2, n_neighbors=3, weights=distance..................\n",
            "[CV 3/5; 1/1] END metric=l2, n_neighbors=3, weights=distance;, score=0.926 total time=   0.0s\n",
            "[CV 4/5; 1/1] START metric=l2, n_neighbors=3, weights=distance..................\n",
            "[CV 4/5; 1/1] END metric=l2, n_neighbors=3, weights=distance;, score=0.961 total time=   0.0s\n",
            "[CV 5/5; 1/1] START metric=l2, n_neighbors=3, weights=distance..................\n",
            "[CV 5/5; 1/1] END metric=l2, n_neighbors=3, weights=distance;, score=0.923 total time=   0.0s\n"
          ]
        },
        {
          "name": "stderr",
          "output_type": "stream",
          "text": [
            "/home/yassin/anaconda3/envs/per/lib/python3.11/site-packages/skopt/optimizer/optimizer.py:517: UserWarning: The objective has been evaluated at point ['l2', 10, 'uniform'] before, using random point ['l1', 6, 'distance']\n",
            "  warnings.warn(\n"
          ]
        },
        {
          "name": "stdout",
          "output_type": "stream",
          "text": [
            "Fitting 5 folds for each of 1 candidates, totalling 5 fits\n",
            "[CV 1/5; 1/1] START metric=l1, n_neighbors=6, weights=distance..................\n",
            "[CV 1/5; 1/1] END metric=l1, n_neighbors=6, weights=distance;, score=0.914 total time=   0.1s\n",
            "[CV 2/5; 1/1] START metric=l1, n_neighbors=6, weights=distance..................\n",
            "[CV 2/5; 1/1] END metric=l1, n_neighbors=6, weights=distance;, score=0.908 total time=   0.0s\n",
            "[CV 3/5; 1/1] START metric=l1, n_neighbors=6, weights=distance..................\n",
            "[CV 3/5; 1/1] END metric=l1, n_neighbors=6, weights=distance;, score=0.917 total time=   0.0s\n",
            "[CV 4/5; 1/1] START metric=l1, n_neighbors=6, weights=distance..................\n",
            "[CV 4/5; 1/1] END metric=l1, n_neighbors=6, weights=distance;, score=0.932 total time=   0.0s\n",
            "[CV 5/5; 1/1] START metric=l1, n_neighbors=6, weights=distance..................\n",
            "[CV 5/5; 1/1] END metric=l1, n_neighbors=6, weights=distance;, score=0.911 total time=   0.0s\n"
          ]
        },
        {
          "name": "stderr",
          "output_type": "stream",
          "text": [
            "/home/yassin/anaconda3/envs/per/lib/python3.11/site-packages/skopt/optimizer/optimizer.py:517: UserWarning: The objective has been evaluated at point ['l2', 10, 'uniform'] before, using random point ['l1', 4, 'uniform']\n",
            "  warnings.warn(\n"
          ]
        },
        {
          "name": "stdout",
          "output_type": "stream",
          "text": [
            "Fitting 5 folds for each of 1 candidates, totalling 5 fits\n",
            "[CV 1/5; 1/1] START metric=l1, n_neighbors=4, weights=uniform...................\n",
            "[CV 1/5; 1/1] END metric=l1, n_neighbors=4, weights=uniform;, score=0.914 total time=   0.1s\n",
            "[CV 2/5; 1/1] START metric=l1, n_neighbors=4, weights=uniform...................\n",
            "[CV 2/5; 1/1] END metric=l1, n_neighbors=4, weights=uniform;, score=0.926 total time=   0.0s\n",
            "[CV 3/5; 1/1] START metric=l1, n_neighbors=4, weights=uniform...................\n",
            "[CV 3/5; 1/1] END metric=l1, n_neighbors=4, weights=uniform;, score=0.923 total time=   0.0s\n",
            "[CV 4/5; 1/1] START metric=l1, n_neighbors=4, weights=uniform...................\n",
            "[CV 4/5; 1/1] END metric=l1, n_neighbors=4, weights=uniform;, score=0.914 total time=   0.0s\n",
            "[CV 5/5; 1/1] START metric=l1, n_neighbors=4, weights=uniform...................\n",
            "[CV 5/5; 1/1] END metric=l1, n_neighbors=4, weights=uniform;, score=0.917 total time=   0.0s\n",
            "Precisión: 96.8% con OrderedDict([('metric', 'l2'), ('n_neighbors', 4), ('weights', 'uniform')])\n"
          ]
        }
      ],
      "source": [
        "# Solución\n",
        "from skopt import BayesSearchCV\n",
        "from skopt.space import Real, Categorical, Integer\n",
        "from sklearn.neighbors import KNeighborsClassifier\n",
        "from sklearn.model_selection import train_test_split;\n",
        "from skopt import BayesSearchCV;\n",
        "\n",
        "X_train, X_test, y_train, y_test = train_test_split(X, y, test_size=0.3, shuffle=True, random_state=23)\n",
        "\n",
        "G = {\"n_neighbors\": Integer(1,10),\n",
        "     \"metric\": Categorical([\"l1\",\"l2\"]),\n",
        "     \"weights\": Categorical([\"uniform\",\"distance\"])}\n",
        "\n",
        "BS = BayesSearchCV(KNeighborsClassifier(), G, scoring='accuracy', n_iter=20, refit=True, cv=5,verbose=10)\n",
        "\n",
        "acc = BS.fit(X_train, y_train).score(X_test, y_test)\n",
        "print(f'Precisión: {acc:.1%} con {BS.best_params_}')"
      ]
    },
    {
      "cell_type": "markdown",
      "metadata": {
        "id": "V8ToLIvMJQJK"
      },
      "source": [
        "## Ejercicio\n",
        "\n",
        "- Hasta 1.5 puntos:\n",
        "\n",
        "    Se pide emplear un clasificador basado en los KVecinos más cercanos. Explorar los parámetros más importantes del clasificador así como de las técnicas de preproceso necesarias mediante optimización bayesiana.\n",
        "\n",
        "    Se debería obtener un acierto cercano o superior al 90%.\n",
        "\n",
        "- Hasta 2 puntos: \n",
        "\n",
        "    si **además** empleamos Bagging como técnica de ensemble. O sea, realizar un ensemble de clasificadores por los k-vecinos más cercanos donde cada uno de ellos emplea un submuestreo con remplazamiento de los datos de entrenamiento."
      ]
    },
    {
      "cell_type": "code",
      "execution_count": null,
      "metadata": {},
      "outputs": [],
      "source": [
        "GS = # Solución\n",
        "from skopt import BayesSearchCV\n",
        "from skopt.space import Real, Categorical, Integer\n",
        "from sklearn.neighbors import KNeighborsClassifier\n",
        "from sklearn.model_selection import train_test_split;\n",
        "from skopt import BayesSearchCV;\n",
        "\n",
        "X_train, X_test, y_train, y_test = train_test_split(X, y, test_size=0.3, shuffle=True, random_state=23)\n",
        "\n",
        "G = {\"n_neighbors\": Integer(1,10),\n",
        "     \"metric\": Categorical([\"l1\",\"l2\"]),\n",
        "     \"weights\": Categorical([\"uniform\",\"distance\"])}\n",
        "\n",
        "BS = BayesSearchCV(estimator=BagginKNeighborsClassifier(), G, scoring='accuracy', n_iter=20, refit=True, cv=5,verbose=10)\n",
        "\n",
        "acc = BS.fit(X_train, y_train).score(X_test, y_test)\n",
        "print(f'Precisión: {acc:.1%} con {BS.best_params_}')"
      ]
    }
  ],
  "metadata": {
    "colab": {
      "provenance": []
    },
    "kernelspec": {
      "display_name": "Python 3",
      "name": "python3"
    },
    "language_info": {
      "codemirror_mode": {
        "name": "ipython",
        "version": 3
      },
      "file_extension": ".py",
      "mimetype": "text/x-python",
      "name": "python",
      "nbconvert_exporter": "python",
      "pygments_lexer": "ipython3",
      "version": "3.11.9"
    }
  },
  "nbformat": 4,
  "nbformat_minor": 0
}
