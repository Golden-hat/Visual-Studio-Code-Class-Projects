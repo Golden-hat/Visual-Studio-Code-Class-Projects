{
 "cells": [
  {
   "cell_type": "markdown",
   "metadata": {},
   "source": [
    "## _1. Embarcaderos_\n",
    "\n",
    "A lo largo de un río hay 7 embarcaderos conectados de la manera en que se muestra en la imagen. Se quiere obtener el recorrido *óptimo* entre el primer y el último embarcadero, siendo este recorrido el *de menor coste*. Se harán varias implementaciones.\n",
    "\n",
    "<center>\n",
    "<img src=\"../resources/riocongo.png\" alt=\"image\">\n",
    "</center>"
   ]
  },
  {
   "cell_type": "markdown",
   "metadata": {},
   "source": [
    "### Aproximación inicial\n",
    "\n",
    "Se puede pensar que lo mejor sería llegar al embarcadero que menor coste tenga desde el embarcadero actual, pero esto *no siempre consigue la mejor solución al problema ya que hay rutas que no se consideran*"
   ]
  },
  {
   "cell_type": "markdown",
   "metadata": {},
   "source": [
    "### Aproximación recursiva\n",
    "\n",
    "Se puede resolver este problema de manera correcta si lo resolvemos de forma recursiva mediante programación dinámica. Primero plantearemos la ecuación recursiva del problema.\n",
    "\n",
    "Primero necesitamos determinar el **espacio de soluciones del problema**\n",
    "\n",
    "Será toda secuencia de embarcaderos que cumpla lo siguiente:\n",
    "- Empieza por 1 y acaba por el último embarcadero E\n",
    "- Ninguno de los embarcaderos de la secuencia presenta saltos de más de 2 embarcaderos.\n",
    "\n",
    "<center>\n",
    "<img src=\"../resources/X.png\" alt=\"image\">\n",
    "</center>\n",
    "\n",
    "A continuación necesitamos definir una función objetivo que, en este caso **minimizar** para obtener la solución deseada. Usaremos una función C que calcule el coste del camino entre 2 embarcaderos.\n",
    "\n",
    "<center>\n",
    "<img src=\"../resources/congoarg.png\" alt=\"image\">\n",
    "</center>\n",
    "<center>\n",
    "<img src=\"../resources/congomin.png\" alt=\"image\">\n",
    "</center>\n",
    "\n",
    "Vemos que buscamos tanto el camino de menor coste como el menor coste asociado a dicho camino.\n",
    "\n",
    "**ECUACIÓN RECURSIVA**\n",
    "\n",
    "Necesitamos ahora buscar una expresión recursiva que defina el problema a resolver. Utilizaremos una expresión general que obtiene el coste mínimo posible entre 2 embarcaderos y demostraremos cómo se puede \"desglosar\" en llamadas recursivas de talla menor para obtener una solución válida al problema.\n",
    "\n",
    "<img src=\"../resources/defrec.png\" alt=\"image\">\n",
    "\n",
    "Partiendo de esta expresión, y mediante la propiedad de los sumatorios en la que puedes extraer el último elemento y sumárselo fuera del mismo, extenderemos la expresión a lo siguiente:\n",
    "\n",
    "<img src=\"../resources/defrec2.png\" alt=\"image\">\n",
    "\n",
    "Como sabemos que el penúltimo embarcadero solo puede ser E - 1 o E - 2, podemos describir esta expresión de la manera siguiente:\n",
    "\n",
    "<img src=\"../resources/e1e2.png\" alt=\"image\">\n",
    "\n",
    "Utilizando ahora la propiedad del mínimo donde el mínimo de una suma a+b es igual a el mínimo de a + b... volvemos a reformular para obtener...\n",
    "\n",
    "<img src=\"../resources/min2.png\" alt=\"image\">\n",
    "\n",
    "En la siguiente imagen podremos ver que tanto la parte izquierda de la igualdad como la parte interior de la derecha son muy similares. Solo se diferencian en que la parte izquierda es una expresión **general** para ir del embarcadero 1 al embarcadero E mientras que la parte derecha representa el coste hasta llegar al antepenúltimo o último embarcadero. Llegados a este punto podemos ver la recursión en la fórmula.\n",
    "\n",
    "<center>\n",
    "<img src=\"../resources/equal.png\" alt=\"image\">\n",
    "</center>\n",
    "\n",
    "Si abusamos de la notación para definir una función C(j) que calcula el coste desde el primer embarcadero hasta el embarcadero j...\n",
    "\n",
    "<center>\n",
    "<img src=\"../resources/abuse.png\" alt=\"image\">\n",
    "</center>\n",
    "\n",
    "Podremos obtener el coste para C(E) de la manera siguiente...\n",
    "\n",
    "<center>\n",
    "<img src=\"../resources/c(E).png\" alt=\"image\">\n",
    "</center>\n",
    "\n",
    "El razonamiento para c(E) aplica también para cualquier otro embarcadero. Si queremos calcular el coste del camino más barato entre el primer embarcadero y un embarcadero i cualquiera simplemente cambiamos esa E por una i.\n",
    "\n",
    "Con esta fórmula ya tenemos la base de nuestra recursión. Ahora sólo necesitamos considerar nuestros casos base:\n",
    "- Si la recursión alcanza el embarcadero 1, hemos de devolver 0 ya que es un caso especial de embarcadero donde no hay ningún coste porque es desde el que se empieza.\n",
    "- Si la recursión alcanza el embarcadero 2 se debe añadir el coste que se obitene de viajar del embarcadero 1 al 2, ya que es el único caso posible.\n",
    "\n",
    "<center>\n",
    "<img src=\"../resources/recusrion.png\" alt=\"image\">\n",
    "</center>\n",
    "\n",
    "Veamos ahora la implementación de este método:\n"
   ]
  },
  {
   "cell_type": "code",
   "execution_count": 6,
   "metadata": {},
   "outputs": [],
   "source": [
    "def recursive_cheapest_price(E, c):\n",
    "  def C(i):\n",
    "    if i == 1: return 0\n",
    "    elif i == 2: return c(1,2)\n",
    "    else: return min(C(i-1)+c(i-1,i), C(i-2)+c(i-2,i))\n",
    "  return C(E)"
   ]
  },
  {
   "cell_type": "markdown",
   "metadata": {},
   "source": [
    "Ahora veremos un ejemplo de ejecución..."
   ]
  },
  {
   "cell_type": "code",
   "execution_count": 8,
   "metadata": {},
   "outputs": [
    {
     "name": "stdout",
     "output_type": "stream",
     "text": [
      "14\n"
     ]
    }
   ],
   "source": [
    "def c(i, j):\n",
    "  edges = {\n",
    "    (1, 2): 4,\n",
    "    (1, 3): 6,\n",
    "    (2, 3): 3,\n",
    "    (2, 4): 7,\n",
    "    (3, 4): 1,\n",
    "    (3, 5): 4,\n",
    "    (4, 5): 2,\n",
    "    (4, 6): 7,\n",
    "    (5, 6): 4,\n",
    "    (5, 7): 5,\n",
    "    (6, 7): 9\n",
    "  } \n",
    "  return edges.get((i, j), edges.get((j, i), float('inf')))\n",
    "  \n",
    "print(recursive_cheapest_price(7, c))"
   ]
  },
  {
   "cell_type": "markdown",
   "metadata": {},
   "source": [
    "Se puede hacer también una **versión del método que almacene todos los cálculos de los embarcaderos visitados para así no tener que volverlos a calcular**. Esto ahorra tiempo y espacio ya que **convierte un problema exponencial en uno de orden de E (númer de embarcaderos)**"
   ]
  },
  {
   "cell_type": "code",
   "execution_count": null,
   "metadata": {},
   "outputs": [],
   "source": [
    "def memo_recursive_cheapest_price(E, c):\n",
    "  R = {}\n",
    "  def C(i):\n",
    "    if i == 1: R[1] = 0\n",
    "    elif i == 2: R[2] = c(1,2)\n",
    "    else: \n",
    "      if i-2 not in R: C(i-2)\n",
    "      if i-1 not in R: C(i-1)\n",
    "      R[i] = min(R[i-1]+c(i-1,i), R[i-2]+c(i-2,i))\n",
    "    return R[i]\n",
    "  return C(E)"
   ]
  },
  {
   "cell_type": "markdown",
   "metadata": {},
   "source": [
    "### Aproximación iterativa\n",
    "\n",
    "El algoritmo recursivo paga un sobrecoste por llamadas recursivas. Es posible eliminarlo si hacemos nuestro problema iterativo. Con ello, hemos de analizar y resolver en orden las dependencias del problema, desde el embarcadero 1 hasta el i."
   ]
  },
  {
   "cell_type": "code",
   "execution_count": 9,
   "metadata": {},
   "outputs": [],
   "source": [
    "def iterative_cheapest_price(E, c):\n",
    "  C = {}\n",
    "  C[1] = 0\n",
    "  C[2] = c(1,2)\n",
    "  for i in range(3, E+1):\n",
    "    C[i] = min(C[i-1] + c(i-1,i), C[i-2] + c(i-2,i))\n",
    "  return C[E]"
   ]
  },
  {
   "cell_type": "code",
   "execution_count": 10,
   "metadata": {},
   "outputs": [
    {
     "name": "stdout",
     "output_type": "stream",
     "text": [
      "14\n"
     ]
    }
   ],
   "source": [
    "print(iterative_cheapest_price(7, c))"
   ]
  }
 ],
 "metadata": {
  "kernelspec": {
   "display_name": "Python 3",
   "language": "python",
   "name": "python3"
  },
  "language_info": {
   "codemirror_mode": {
    "name": "ipython",
    "version": 3
   },
   "file_extension": ".py",
   "mimetype": "text/x-python",
   "name": "python",
   "nbconvert_exporter": "python",
   "pygments_lexer": "ipython3",
   "version": "3.11.7"
  }
 },
 "nbformat": 4,
 "nbformat_minor": 2
}
