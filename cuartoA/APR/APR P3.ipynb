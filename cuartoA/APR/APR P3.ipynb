{
 "cells": [
  {
   "cell_type": "markdown",
   "metadata": {},
   "source": [
    "Este código es parte de una implementación de un modelo de red neuronal usando Keras para clasificar dígitos del conjunto de datos MNIST. Aquí está el desglose de cada bloque de código en detalle.\n",
    "\n",
    "1. Importación de Bibliotecas y Configuración de la Semilla Aleatoria\n",
    "\n",
    "Se importan varias bibliotecas necesarias:\n",
    "\n",
    "- numpy para manipulación de arreglos y datos.\n",
    "- matplotlib.pyplot para visualización de datos (si se requiere).\n",
    "- os para configuraciones del entorno.\n",
    "- keras y keras_tuner, bibliotecas de alto nivel para construir y entrenar redes neuronales.\n",
    "\n",
    "## Carga del Conjunto de Datos MNIST\n",
    "\n",
    "`keras.utils.set_random_seed(23)`\n",
    "\n",
    "Aquí se establece una semilla aleatoria para los generadores aleatorios en Keras. Esto garantiza que los resultados sean reproducibles; en este caso, la semilla está fijada en 23, de manera que si se vuelve a ejecutar este código, los resultados serán los mismos cada vez.\n",
    "\n",
    "`(x_train_val, y_train_val), (x_test, y_test) = keras.datasets.mnist.load_data()`\n",
    "\n",
    "El conjunto de datos MNIST contiene imágenes de dígitos escritos a mano (del 0 al 9) en escala de grises. Este código carga los datos en cuatro conjuntos:\n",
    "\n",
    "- x_train_val y y_train_val: Datos de entrada y etiquetas para entrenamiento y validación combinados.\n",
    "- x_test y y_test: Datos de entrada y etiquetas para pruebas.\n",
    "\n",
    "El conjunto `x_train_val` contiene imágenes de entrenamiento y validación combinadas, que luego se dividirán en subconjuntos más adelante en el código.\n",
    "\n",
    "## Preprocesamiento de los datos\n",
    "\n",
    "Las imágenes originales en MNIST son de 28x28 píxeles (784 píxeles en total).\n",
    "\n",
    "``` python\n",
    "input_dim = 784\n",
    "x_train_val = x_train_val.reshape(-1, input_dim).astype(\"float32\") / 255.0\n",
    "x_test = x_test.reshape(-1, input_dim).astype(\"float32\") / 255.0\n",
    "```\n",
    "\n",
    "- La dimensión input_dim se establece en 784 para que cada imagen se convierta en un vector unidimensional de longitud 784.\n",
    "- reshape(-1, input_dim): Cambia la forma de cada imagen 28x28 a un vector de 784 valores, adecuado para un modelo de red neuronal densa.\n",
    "- astype(\"float32\") / 255.0: Convierte los valores de enteros (0 a 255) a flotantes (0.0 a 1.0) dividiendo por 255. Esto normaliza los datos, lo cual es beneficioso para el entrenamiento de redes neuronales.\n",
    "\n",
    "```python\n",
    "num_classes = 10\n",
    "y_train_val = keras.utils.to_categorical(y_train_val, num_classes)\n",
    "y_test = keras.utils.to_categorical(y_test, num_classes)\n",
    "```\n",
    "\n",
    "Se define num_classes como 10 porque hay 10 clases (dígitos del 0 al 9).\n",
    "to_categorical convierte las etiquetas (por ejemplo, el número 5) en etiquetas categóricas o one-hot encoded (por ejemplo, [0, 0, 0, 0, 0, 1, 0, 0, 0, 0]). Esto transforma las etiquetas para que sean compatibles con la salida del modelo en la clasificación.\n",
    "\n",
    "```python\n",
    "x_train = x_train_val[:-10000]\n",
    "x_val = x_train_val[-10000:]\n",
    "y_train = y_train_val[:-10000]\n",
    "y_val = y_train_val[-10000:]\n",
    "```\n",
    "\n",
    "Este código divide el conjunto x_train_val en dos partes:\n",
    "\n",
    "- x_train: La mayor parte de los datos para el entrenamiento.\n",
    "- x_val: Los últimos 10,000 ejemplos de x_train_val se utilizan para validación.\n",
    "\n",
    "La validación es importante para evaluar el rendimiento del modelo en datos que no ha visto durante el entrenamiento. Las etiquetas correspondientes (y_train y y_val) se dividen de la misma manera.\n",
    "\n",
    "**Keras Tuner es una biblioteca de código abierto desarrollada para ajustar automáticamente los hiperparámetros de modelos de redes neuronales en Keras. Los hiperparámetros son configuraciones del modelo que afectan su rendimiento, como el número de capas, el tamaño de las capas, la tasa de aprendizaje, etc. Ajustar estos hiperparámetros manualmente puede ser tedioso y consumir mucho tiempo, por lo que Keras Tuner facilita esta tarea mediante técnicas de búsqueda como búsqueda aleatoria, búsqueda en hiperband y optimizaciones bayesianas.**\n"
   ]
  },
  {
   "cell_type": "code",
   "execution_count": 1,
   "metadata": {
    "colab": {
     "base_uri": "https://localhost:8080/"
    },
    "id": "ne7ZXWZsOqj5",
    "outputId": "76643a10-a72b-4c97-85ea-1af688be2e21"
   },
   "outputs": [
    {
     "name": "stderr",
     "output_type": "stream",
     "text": [
      "2024-11-15 00:27:30.644867: E external/local_xla/xla/stream_executor/cuda/cuda_fft.cc:477] Unable to register cuFFT factory: Attempting to register factory for plugin cuFFT when one has already been registered\n",
      "WARNING: All log messages before absl::InitializeLog() is called are written to STDERR\n",
      "E0000 00:00:1731626850.657519  461628 cuda_dnn.cc:8310] Unable to register cuDNN factory: Attempting to register factory for plugin cuDNN when one has already been registered\n",
      "E0000 00:00:1731626850.661296  461628 cuda_blas.cc:1418] Unable to register cuBLAS factory: Attempting to register factory for plugin cuBLAS when one has already been registered\n",
      "2024-11-15 00:27:30.673623: I tensorflow/core/platform/cpu_feature_guard.cc:210] This TensorFlow binary is optimized to use available CPU instructions in performance-critical operations.\n",
      "To enable the following instructions: AVX2 FMA, in other operations, rebuild TensorFlow with the appropriate compiler flags.\n"
     ]
    }
   ],
   "source": [
    "# Import necessary libraries and set seed\n",
    "import numpy as np\n",
    "import matplotlib.pyplot as plt\n",
    "import os\n",
    "import keras\n",
    "import keras_tuner\n",
    "\n",
    "os.environ['TF_CPP_MIN_LOG_LEVEL'] = '2'\n",
    "keras.utils.set_random_seed(23)\n",
    "\n",
    "# Load MNIST dataset\n",
    "(x_train_val, y_train_val), (x_test, y_test) = keras.datasets.mnist.load_data()\n",
    "\n",
    "# Preprocess data\n",
    "input_dim = 784\n",
    "x_train_val = x_train_val.reshape(-1, input_dim).astype(\"float32\") / 255.0\n",
    "x_test = x_test.reshape(-1, input_dim).astype(\"float32\") / 255.0\n",
    "num_classes = 10\n",
    "y_train_val = keras.utils.to_categorical(y_train_val, num_classes)\n",
    "y_test = keras.utils.to_categorical(y_test, num_classes)\n",
    "\n",
    "# Train-validation split\n",
    "x_train = x_train_val[:-10000]\n",
    "x_val = x_train_val[-10000:]\n",
    "y_train = y_train_val[:-10000]\n",
    "y_val = y_train_val[-10000:]\n"
   ]
  },
  {
   "cell_type": "markdown",
   "metadata": {},
   "source": [
    "Este código utiliza Keras Tuner para optimizar los hiperparámetros de un modelo de red neuronal para clasificar dígitos en el conjunto de datos MNIST. A continuación, se explica cada sección del código.\n",
    "\n",
    "## Definición del Espacio de Búsqueda para la Arquitectura del Modelo\n",
    "\n",
    "La función `build_model(hp)` define la arquitectura del modelo y el espacio de búsqueda de hiperparámetros.\n",
    "\n",
    "- Argumento hp: Es un objeto proporcionado por Keras Tuner para definir los valores de los hiperparámetros, permitiendo la exploración de diferentes configuraciones.\n",
    "\n",
    "- Crea un modelo secuencial y define la capa de entrada con una dimensión de 784, adecuada para el conjunto de datos MNIST (28x28 píxeles aplanados).\n",
    "\n",
    "```python\n",
    "for L in range(hp.Int(\"num_layers\", 1, 3)):\n",
    "    M.add(keras.layers.Dense(\n",
    "        units=hp.Int(f\"units_{L}\", min_value=700, max_value=900, step=100),\n",
    "        activation='relu'))\n",
    "```\n",
    "\n",
    "- Bucle de Capas Ocultas: Permite que el modelo tenga entre 1 y 3 capas ocultas.\n",
    "  - Para cada capa, se define el número de unidades en un rango de 700 a 900, con incrementos de 100 (700, 800, o 900). Este número de unidades se selecciona mediante hp.Int, que explora diferentes opciones en el espacio de búsqueda.\n",
    "  - La función de activación `relu` se utiliza para cada capa oculta, introduciendo no linealidad en el modelo.\n",
    "\n",
    "Los valores máximos y mínimos indican cuántas neuronas como máximo y como mínimo puede tener cada capa.\n",
    "\n",
    "```python\n",
    "M.add(keras.layers.Dense(10, activation='softmax'))\n",
    "M.compile(loss=\"categorical_crossentropy\", optimizer=\"adam\", metrics=[\"accuracy\"])\n",
    "```\n",
    "\n",
    "- Capa de Salida: Es una capa densa con 10 neuronas (una por cada clase de dígito), con softmax como función de activación para generar probabilidades de clasificación.\n",
    "\n",
    "- Compilación del Modelo: Se usa categorical_crossentropy como función de pérdida (dado que es un problema de clasificación multicategoría), adam como optimizador, y se evalúa el modelo mediante la métrica de precisión (accuracy).\n",
    "\n",
    "## Definición del Tuner con Optimización Bayesiana\n",
    "\n",
    "```python\n",
    "tuner = keras_tuner.BayesianOptimization(\n",
    "    hypermodel=build_model,\n",
    "    objective=\"val_accuracy\",\n",
    "    max_trials=10,\n",
    "    executions_per_trial=1,\n",
    "    overwrite=True,\n",
    "    directory=\"/tmp\",\n",
    "    project_name=\"MNIST\"\n",
    ")\n",
    "```\n",
    "\n",
    "El objeto tuner usa la clase BayesianOptimization para optimizar los hiperparámetros del modelo.\n",
    "\n",
    "- hypermodel=build_model: Define el modelo a optimizar utilizando la función build_model.\n",
    "- objective=\"val_accuracy\": Optimiza los hiperparámetros para maximizar la precisión en el conjunto de validación (val_accuracy).\n",
    "- max_trials=10: Realiza un máximo de 10 pruebas o configuraciones de hiperparámetros.\n",
    "- executions_per_trial=1: Ejecuta una vez cada prueba.\n",
    "- directory=\"/tmp\" y project_name=\"MNIST\": Almacena los resultados en un directorio temporal llamado tmp bajo el nombre de proyecto MNIST.\n",
    "\n",
    "tuner.search_space_summary() -> muestra una línea de resumen de los hiperparámetros definidos en build_model.\n",
    "\n",
    "**La optimización bayesiana es una técnica que selecciona inteligentemente los hiperparámetros basándose en el rendimiento de pruebas anteriores, en lugar de realizar búsquedas completamente aleatorias o exhaustivas. Esto permite una exploración más eficiente del espacio de hiperparámetros.**"
   ]
  },
  {
   "cell_type": "code",
   "execution_count": 2,
   "metadata": {
    "colab": {
     "base_uri": "https://localhost:8080/"
    },
    "id": "QpA4xylzOwN1",
    "outputId": "947374f6-85f7-40d1-9554-6485b58a45a4"
   },
   "outputs": [
    {
     "name": "stderr",
     "output_type": "stream",
     "text": [
      "I0000 00:00:1731629190.855885  461628 gpu_device.cc:2022] Created device /job:localhost/replica:0/task:0/device:GPU:0 with 5604 MB memory:  -> device: 0, name: NVIDIA GeForce RTX 3060 Ti, pci bus id: 0000:01:00.0, compute capability: 8.6\n"
     ]
    },
    {
     "name": "stdout",
     "output_type": "stream",
     "text": [
      "Search space summary\n",
      "Default search space size: 2\n",
      "num_layers (Int)\n",
      "{'default': None, 'conditions': [], 'min_value': 1, 'max_value': 3, 'step': 1, 'sampling': 'linear'}\n",
      "units_0 (Int)\n",
      "{'default': None, 'conditions': [], 'min_value': 700, 'max_value': 900, 'step': 100, 'sampling': 'linear'}\n"
     ]
    }
   ],
   "source": [
    "# Define the search space for tuning the number of layers and units\n",
    "def build_model(hp):\n",
    "    M = keras.Sequential()\n",
    "    M.add(keras.Input(shape=(784,)))\n",
    "\n",
    "    for L in range(hp.Int(\"num_layers\", 1, 3)):\n",
    "        M.add(keras.layers.Dense(\n",
    "            units=hp.Int(f\"units_{L}\", min_value=700, max_value=900, step=100),\n",
    "            activation='relu'))\n",
    "\n",
    "    M.add(keras.layers.Dense(10, activation='softmax'))\n",
    "    M.compile(loss=\"categorical_crossentropy\", optimizer=\"adam\", metrics=[\"accuracy\"])\n",
    "\n",
    "    return M\n",
    "\n",
    "# Define the tuner using Bayesian Optimization\n",
    "tuner = keras_tuner.BayesianOptimization(\n",
    "    hypermodel=build_model,\n",
    "    objective=\"val_accuracy\",\n",
    "    max_trials=10,\n",
    "    executions_per_trial=1,\n",
    "    overwrite=True,\n",
    "    directory=\"/tmp\",\n",
    "    project_name=\"MNIST\"\n",
    ")\n",
    "\n",
    "# Display search space summary\n",
    "tuner.search_space_summary()\n"
   ]
  },
  {
   "cell_type": "markdown",
   "metadata": {},
   "source": [
    "This section of code performs the hyperparameter tuning, displays a summary of the tuning results, retrieves the best model found, and evaluates it on the test dataset. Here's a step-by-step explanation:\n",
    "\n",
    "This line initiates the search for the best hyperparameters:\n",
    "\n",
    "```python\n",
    "tuner.search(x_train, y_train, batch_size=16, epochs=10, validation_data=(x_val, y_val))\n",
    "```\n",
    "\n",
    "- x_train and y_train are the training data and labels.\n",
    "- batch_size=16: Sets the batch size, meaning the model will process 16 samples at a time before updating weights.\n",
    "- epochs=10: Specifies that each model configuration will train for 10 epochs.\n",
    "- validation_data=(x_val, y_val): The validation set (x_val, y_val) is used to evaluate each model configuration after each epoch. The model aims to maximize validation accuracy, which helps prevent overfitting.\n",
    "\n",
    "tuner.get_best_models(num_models=1): Retrieves the best model found during the tuning process. num_models=1 specifies that only the single best-performing model should be returned."
   ]
  },
  {
   "cell_type": "code",
   "execution_count": 3,
   "metadata": {
    "colab": {
     "base_uri": "https://localhost:8080/"
    },
    "id": "y6ry-t_yPDUX",
    "outputId": "52d9fa77-16bc-4db1-df76-3728d78f2877"
   },
   "outputs": [
    {
     "name": "stdout",
     "output_type": "stream",
     "text": [
      "Trial 10 Complete [00h 00m 32s]\n",
      "val_accuracy: 0.9775000214576721\n",
      "\n",
      "Best val_accuracy So Far: 0.9812999963760376\n",
      "Total elapsed time: 00h 05m 43s\n",
      "Results summary\n",
      "Results in /tmp/MNIST\n",
      "Showing 1 best trials\n",
      "Objective(name=\"val_accuracy\", direction=\"max\")\n",
      "\n",
      "Trial 06 summary\n",
      "Hyperparameters:\n",
      "num_layers: 1\n",
      "units_0: 800\n",
      "units_1: 800\n",
      "units_2: 700\n",
      "Score: 0.9812999963760376\n"
     ]
    },
    {
     "name": "stderr",
     "output_type": "stream",
     "text": [
      "/home/yassin/anaconda3/envs/per/lib/python3.11/site-packages/keras/src/saving/saving_lib.py:719: UserWarning: Skipping variable loading for optimizer 'adam', because it has 2 variables whereas the saved optimizer has 10 variables. \n",
      "  saveable.load_own_variables(weights_store.get(inner_path))\n",
      "2024-11-15 01:27:09.414363: I external/local_xla/xla/stream_executor/cuda/cuda_asm_compiler.cc:397] ptxas warning : Registers are spilled to local memory in function 'gemm_fusion_dot_45', 144 bytes spill stores, 144 bytes spill loads\n",
      "\n",
      "2024-11-15 01:27:09.555293: I external/local_xla/xla/stream_executor/cuda/cuda_asm_compiler.cc:397] ptxas warning : Registers are spilled to local memory in function 'gemm_fusion_dot_45', 512 bytes spill stores, 512 bytes spill loads\n",
      "\n"
     ]
    },
    {
     "name": "stdout",
     "output_type": "stream",
     "text": [
      "Loss: 0.1028\n",
      "Precisión: 98.2%\n"
     ]
    }
   ],
   "source": [
    "# Perform the search for the best hyperparameters\n",
    "tuner.search(x_train, y_train, batch_size=16, epochs=10, validation_data=(x_val, y_val))\n",
    "\n",
    "# Display the results summary\n",
    "tuner.results_summary(num_trials=1)\n",
    "\n",
    "# Get the best model and evaluate it on the test data\n",
    "best = tuner.get_best_models(num_models=1)[0]\n",
    "score = best.evaluate(x_test, y_test, verbose=0)\n",
    "print(f'Loss: {score[0]:.4}\\nPrecisión: {score[1]:.1%}')\n"
   ]
  },
  {
   "cell_type": "markdown",
   "metadata": {},
   "source": [
    "This section of code retrains the model using the best hyperparameters identified during the tuning process on the combined train-validation dataset (x_train_val and y_train_val). The purpose of this retraining step is to fully leverage the available data, maximizing the model’s generalization before it is tested on unseen data. Here’s a detailed explanation:\n",
    "\n",
    "```python\n",
    "M = build_model(tuner.get_best_hyperparameters(1)[0])\n",
    "H = M.fit(x_train_val, y_train_val, batch_size=16, epochs=10, verbose=0)\n",
    "```\n",
    "\n",
    "\n",
    "- x_train_val and y_train_val: The model is now trained on the entire combined train-validation set, maximizing the amount of data used for learning.\n",
    "\n",
    "- batch_size=16: The batch size is set to 16, as specified in the tuning process.\n",
    "\n",
    "- epochs=10: The model trains for 10 epochs.\n",
    "\n",
    "- verbose=0: Setting this to 0 suppresses the output details for each epoch.\n",
    "\n",
    "- Resulting H Object: The fit method returns a History object (H), which contains information about the training process, including loss and accuracy per epoch. This object can be useful if you wish to analyze the training dynamics or plot the learning curve.\n",
    "\n",
    "In summary, this retraining step applies the best model configuration on the full train-validation set, ensuring the model has the best chance to learn from the maximum amount of data before evaluation on the test set.\n"
   ]
  },
  {
   "cell_type": "code",
   "execution_count": 4,
   "metadata": {
    "id": "22boVjGSPEDq"
   },
   "outputs": [
    {
     "name": "stdout",
     "output_type": "stream",
     "text": [
      "Loss: 0.1118\n",
      "Precisión: 97.7%\n"
     ]
    },
    {
     "data": {
      "image/png": "[encoded data removed]",
      "text/plain": [
       "<Figure size 900x350 with 2 Axes>"
      ]
     },
     "metadata": {},
     "output_type": "display_data"
    }
   ],
   "source": [
    "# Retrain the model using the best hyperparameters on the full train-validation set\n",
    "M = build_model(tuner.get_best_hyperparameters(1)[0])\n",
    "H = M.fit(x_train_val, y_train_val, batch_size=16, epochs=10, verbose=0)\n",
    "\n",
    "# Plot training loss and accuracy\n",
    "fig, axes = plt.subplots(1, 2, figsize=(9, 3.5))\n",
    "xx = np.arange(1, len(H.history['loss'])+1)\n",
    "\n",
    "ax = axes[0]\n",
    "ax.grid()\n",
    "ax.set_xlabel('epoch')\n",
    "ax.set_ylabel('loss')\n",
    "ax.set_xticks(xx)\n",
    "ax.plot(xx, H.history['loss'], color='b', marker='s')\n",
    "\n",
    "ax = axes[1]\n",
    "ax.grid()\n",
    "ax.set_xlabel('epoch')\n",
    "ax.set_ylabel('accuracy')\n",
    "ax.set_xticks(xx)\n",
    "ax.plot(xx, H.history['accuracy'], color='b', marker='s')\n",
    "\n",
    "# Evaluate on test set\n",
    "score = M.evaluate(x_test, y_test, verbose=0)\n",
    "print(f'Loss: {score[0]:.4}\\nPrecisión: {score[1]:.1%}')\n"
   ]
  }
 ],
 "metadata": {
  "colab": {
   "provenance": []
  },
  "kernelspec": {
   "display_name": "per",
   "language": "python",
   "name": "python3"
  },
  "language_info": {
   "codemirror_mode": {
    "name": "ipython",
    "version": 3
   },
   "file_extension": ".py",
   "mimetype": "text/x-python",
   "name": "python",
   "nbconvert_exporter": "python",
   "pygments_lexer": "ipython3",
   "version": "3.11.9"
  }
 },
 "nbformat": 4,
 "nbformat_minor": 0
}
