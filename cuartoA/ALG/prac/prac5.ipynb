{
 "cells": [
  {
   "cell_type": "markdown",
   "metadata": {},
   "source": [
    "<h1 align=\"center\">Práctica 5. El problema del ensamblaje (Voraces - Ramificación y Poda)</h1>\n",
    "<h3 style=\"display:block; margin-top:5px;\" align=\"center\">Algorítmica</h3>\n",
    "<h3 style=\"display:block; margin-top:5px;\" align=\"center\">Grado en Ingeniería Informática</h3>\n",
    "<h3 style=\"display:block; margin-top:5px;\" align=\"center\">2024-2025</h3>    \n",
    "<h3 style=\"display:block; margin-top:5px;\" align=\"center\">Universitat Politècnica de València</h3>\n",
    "<br>"
   ]
  },
  {
   "cell_type": "markdown",
   "metadata": {},
   "source": [
    "**Pon/poned aquí tú/vuestros nombre(s):**\n",
    "- (sustituir por el nombre)"
   ]
  },
  {
   "cell_type": "markdown",
   "metadata": {},
   "source": [
    "## Índice\n",
    "1. ### [El problema del ensamblaje](#introduccion)\n",
    "1. ### [Actividad 1: Solución voraz](#actividad1)\n",
    "1. ### [Actividad 2: Ramificación](#actividad2)\n",
    "1. ### [Actividad 3: Calcular estadísticas](#actividad3)\n",
    "1. ### [Código a completar](#codigo)\n"
   ]
  },
  {
   "cell_type": "markdown",
   "metadata": {},
   "source": [
    "<a id='introduccion'></a>"
   ]
  },
  {
   "cell_type": "markdown",
   "metadata": {},
   "source": [
    "# El problema del ensamblaje\n",
    "\n",
    "Se trata del problema descrito en los apuntes de teoría en la sección 9.4. Lo mejor es ir directamente al pdf para ver la descripción del problema, pero resumimos aquí algunos datos:\n",
    "\n",
    "- Hay que ensamblar un total de $M$ piezas con el menor coste posible.\n",
    "- El coste de ensamblar la pieza $i$ depende del número de piezas ya ensambladas.\n",
    "- Los datos de entrada se resumen en una matriz `costes` de tamaño $M \\times M$ con valores positivos (no hace falta que sean enteros). El valor `costes[i,j]` representa el coste de situar la pieza `i` (un identificador entre `0` y `M-1`) cuando ya se han ensamblado `j` piezas.\n",
    "- Las soluciones son tuplas de la forma $(x_0,x_1,\\ldots,x_{M-1})$ donde $x_i$ es el nº piezas ya montadas en el momento en que se decide montar la pieza que identificamos con el índice $i$.\n",
    "- La función objetivo es: $f((x_0,x_1,\\ldots,x_{M-1})) = \\sum_{0 \\leq i < M} \\mbox{costes}[i,x_i]$\n",
    "- Todas las permutaciones serían factibles, se trata de encontrar una que corresponda a un coste mínimo (podría haber empates).\n",
    "- Se trata de un problema conocido en teoría de grafos, el [Problema de la asignación](https://es.wikipedia.org/wiki/Problema_de_la_asignaci%C3%B3n) o [Assignment problem](https://en.wikipedia.org/wiki/Assignment_problem) para el que existen algoritmos como [Kuhn Munkres](https://en.wikipedia.org/wiki/Hungarian_algorithm) con un coste polinómico ($O(|V|^3)$)."
   ]
  },
  {
   "cell_type": "markdown",
   "metadata": {},
   "source": [
    "## Generación de instancias\n",
    "\n",
    "Para generar instancias concretas para una talla dada, vamos a recurrir a la generación de números aleatorios utilizando la siguiente función de la biblioteca `numpy`:"
   ]
  },
  {
   "cell_type": "code",
   "execution_count": 1,
   "metadata": {},
   "outputs": [],
   "source": [
    "import numpy as np\n",
    "def genera_instancia(M, low=1, high=1000):\n",
    "    return np.random.randint(low=low,high=high,\n",
    "                             size=(M,M),dtype=np.int32)"
   ]
  },
  {
   "cell_type": "code",
   "execution_count": 16,
   "metadata": {},
   "outputs": [
    {
     "data": {
      "text/plain": [
       "array([[2, 6, 2, 9],\n",
       "       [5, 2, 3, 9],\n",
       "       [7, 1, 4, 2],\n",
       "       [8, 9, 1, 8]], dtype=int32)"
      ]
     },
     "execution_count": 16,
     "metadata": {},
     "output_type": "execute_result"
    }
   ],
   "source": [
    "costes = genera_instancia(4,high=10)\n",
    "costes"
   ]
  },
  {
   "cell_type": "markdown",
   "metadata": {},
   "source": [
    "Con una matriz como ésta (cada vez que lo ejecutes dará normalmente otra distinta):\n",
    "\n",
    "```python\n",
    "array([[7, 3, 7, 2],\n",
    "       [9, 9, 4, 1],\n",
    "       [9, 4, 8, 1],\n",
    "       [3, 4, 8, 4]])\n",
    "```\n",
    "\n",
    "el coste de ensamblar la pieza 0 en la cuarta posición (después de haber ensamblado 3 piezas) es `costes[0,3]` que vale `2`.\n"
   ]
  },
  {
   "cell_type": "markdown",
   "metadata": {},
   "source": [
    "## Representación de los estados\n",
    "Un estado intermedio $(x_0,x_1,\\ldots,x_{k-1})$ se representará mediante una lista Python con esos mismos valores. El estado inicial será la lista vacía `[]`. Un estado solución será una lista de talla $M$."
   ]
  },
  {
   "cell_type": "markdown",
   "metadata": {},
   "source": [
    "## Cota optimista\n",
    "\n",
    "Vamos a utilizar como cota optimista (cota inferior en este caso, pues es un problema de minimización) la suma de:\n",
    "\n",
    "- La parte conocida.\n",
    "- Una estimación optimista del coste de situar las piezas que faltan.\n",
    "\n",
    "Concretamente, la estimación utilizada es una de las descritas en los apuntes de teoría que permite su cálculo de forma incremental:\n",
    "\n",
    "> Suponer que para cada pieza que queda por ensamblar se selecciona la posición en la que cueste menos ensamblar, **sin importar que esa posición ya haya sido utilizada.**.\n",
    "\n",
    "\n",
    "$optimistic((x_0,x_1,\\ldots,x_{k-1})) = \\sum_{0\\leq i<k} costes[i,x_i] + \\sum_{k  \\leq i < M} min_{0 \\leq j < M} costes[i,j] $\n",
    "\n",
    "Es decir, completamos la parte desconocida con el menor coste posible para cada una de las piezas que quedan por ensamblar.\n",
    "\n",
    "Obviamente, podemos precalcular esos mínimos al inicio para reutilizarlos a lo largo del algoritmo.\n",
    "\n",
    "Esta cota se puede actualizar **de forma incremental** (teniendo en cuenta el valor de la cota del padre) al ramificar un estado.\n",
    "\n",
    "> **Nota:** Esta cota **NO** es la más informada para podar por cota optimista. Existe otra más informada consistente en no tener en cuenta los instantes utilizados por las piezas que ya forman parte de la solución parcial. El problema de esta cota alternativa es que resulta más cara de calcular.\n"
   ]
  },
  {
   "cell_type": "markdown",
   "metadata": {},
   "source": [
    "## Almacenamiento del conjunto de estados activos\n",
    "\n",
    "El conjunto de estados activos será una cola de prioridad implementada mediante un *minheap*. Vamos a utilizar una biblioteca estándar de python llamada `heapq`. El siguiente código ilustra las 2 funciones básicas para utilizar un `heapq` como cola de prioridad.\n",
    "\n",
    "Observa que guardamos tuplas donde el primer campo es el *score* para que así se ordenen por *score* de menor a mayor (nos sirve porque estamos en un problema de **minimización**):"
   ]
  },
  {
   "cell_type": "code",
   "execution_count": 20,
   "metadata": {},
   "outputs": [
    {
     "name": "stdout",
     "output_type": "stream",
     "text": [
      "[(3, [2]), (10, [1]), (100, [0, 1])]\n",
      "3 [2]\n",
      "10 [1]\n",
      "100 [0, 1]\n"
     ]
    }
   ],
   "source": [
    "import heapq\n",
    "\n",
    "A = [] # conjunto vacío de estados activos, es una lista Python normal y corriente\n",
    "for score,s in [(10,[1]),(3,[2]),(100,[0,1])]:\n",
    "    heapq.heappush(A,(score,s)) # insertar i en la cola de prioridad A\n",
    "print(A) # no sale ordenado necesariamente, es un minheap...\n",
    "while len(A)>0:\n",
    "    score,s = heapq.heappop(A) # extraer el menor elemento de la cola de prioridad A\n",
    "    print(score,s)"
   ]
  },
  {
   "cell_type": "markdown",
   "metadata": {},
   "source": [
    "## Esquema de ramificación y poda, funciones auxiliares\n",
    "\n",
    "Podemos implementar el esquema de ramificación y poda o *branch and bound* de dos formas alternativas e igualmente válidas (entre otras formas más):\n",
    "\n",
    "- Utilizar una clase y métodos (como en los apuntes de teoría).\n",
    "- Utilizar una función y poner dentro otras funciones (clausuras o *closure* en inglés).\n",
    "\n",
    "Vamos a optar por esta segunda opción ya que básicamente podemos ver el problema del ensamblaje como una función que recibe la matriz de costes y nos devuelve la mejor solución encontrada (es decir, tiene un punto de entrada y uno de salida).\n",
    "\n",
    "Las funciones auxiliares utilizadas son:\n",
    "\n",
    "- `greedy_solution` calcula una solución *arbitraria* para inicializar la mejor solución en curso. Esto es importante para empezar a podar tan pronto como sea posible. Aunque serviría \"cualquier\" solución (ejemplo: `[0,1,2,...,M-1]`) cuanto mejor sea esta primera solución, tanto mejor. La restricción es que no debe ser demasiado costosa de calcular. Veremos varias formas de implementar una solución voraz.\n",
    "\n",
    "- `branch` recibe una solución parcial (un estado intermedio) y su score asociado y va generando soluciones hijas (y su respectivos score) consistentes en añadir un nuevo $x_k$. Se trata de determinar cuántas piezas se han ensamblado en el momento de ensamblar la pieza $k$-ésima. El score asociado **se debe calcular de manera incremental**.\n",
    "\n",
    "- `is_complete` se limita a decir si una solución parcial es solución o estado terminal. Se proporciona ya implementada puesto que es tan fácil como ver si la longitud de la solución parcial es igual a $M$.\n",
    "\n",
    "El bucle principal de ramificación y poda es como sigue:\n",
    "\n",
    "```python\n",
    "    ...\n",
    "    while len(A)>0 and A[0][0] < fx:\n",
    "        s_score, s = heapq.heappop(A)\n",
    "        for child_score, child in branch(s_score, s):\n",
    "            if is_complete(child): # si es terminal\n",
    "                # es factible (pq branch solo genera factibles)\n",
    "                # falta ver si mejora la mejor solucion en curso\n",
    "                if child_score < fx:\n",
    "                    fx, x = child_score, child\n",
    "            else: # no es terminal\n",
    "                # lo metemos en el cjt de estados activos si supera\n",
    "                # la poda por cota optimista:\n",
    "                if child_score < fx:\n",
    "                    heapq.heappush(A, (child_score, child) )\n",
    "    return x,fx\n",
    "```\n",
    "\n",
    "Observa que se trata de la estrategia conocida como **poda implícita**:\n",
    "\n",
    "- Cuando se encuentra una solución que mejora a la mejor hasta el momento se actualiza la mejor solución pero no se revisa el conjunto de estados activos `A`. Es decir, `A` puede contener soluciones que se podrían eliminar con una poda pero que cuando se introdujeron en su momento no se podaron porque el rasero o criterio era distinto. La poda explícita (no la utilizamos en esta práctica) aprovecharía este momento para eliminar esas soluciones podables.\n",
    "\n",
    "- Por otra parte, no basta con poner `while len(A)>0` sino que hace falta añadir `and A[0][0] < fx:` porque incluso sin vaciar el conjunto de estados activos si sacamos una solución peor que `fx` (score de la mejor solución hasta el momento) todas las que queden en `A` también son podables y no tiene interés procesarlas. Esto NO haría falta con poda explícita.\n",
    "\n",
    "A continuación mostramos las 3 actividades a realizar y posteriormente el código donde hay que implementar o codificar esas actividades."
   ]
  },
  {
   "cell_type": "markdown",
   "metadata": {},
   "source": [
    "<a id='actividad1'></a>"
   ]
  },
  {
   "cell_type": "markdown",
   "metadata": {},
   "source": [
    "# Actividad 1: Solución voraz\n",
    "\n",
    "Se trata de obtener una solución con la que inicializar la variable `x` (mejor solución encontrada hasta el momento) y su score correspondiente `fx`.\n",
    "\n",
    "En el problema del ensamblaje es trivial obtener una solución porque cualquier permutación de índices entre `0` y `M-1` es una solución válida. Es decir, podríamos hacer algo así:\n",
    "\n",
    "```python\n",
    "def ensamblaje(costes,\n",
    "               verbosity=1):\n",
    "\n",
    "    ...\n",
    "    \n",
    "    def naive_solution():\n",
    "        score, solution = 0, []\n",
    "        for i in range(M):\n",
    "            solution.append(i)\n",
    "            score += costes[i,i]\n",
    "        return score,solution\n",
    "```\n",
    "\n",
    "Es decir, cada $x_i$ es igual a $i$ (los objetos se ponen en orden 0,1,2,...).\n",
    "\n",
    "Pero cuanto mejor sea la solución inicial antes empezaremos a podar mejor, sin llegar al extremo de calcularla de forma exacta porque, en ese caso ¿para qué usar luego ramificación y poda?\n",
    "\n",
    "En esta primera actividad debes completar las siguentes funciones `greedy_solution`:\n",
    "\n",
    "1. Ir por orden pieza a pieza (fila $i$ de la matriz) y elegir el valor $x_i$ (el momento de colocación de esa pieza) que resulte más barato de los que siguen disponibles. Es decir, ir fila por fila de la matriz y elegir (para esa fila) la columna menor de las columnas previamente no elegidas.\n",
    "2. Ir por orden instante a instante (columna de la matriz) y elegir para cada una la pieza (fila de la matriz) que sea más barata de colocar en ese instante (de entre las piezas que queden por ensamblar).\n",
    "3. Ordenar de menor a mayor todos valores de la matriz de costes recordando sus coordenadas. Después se recorre utilizando los valores que correspondan a piezas e instantes válidos (descartando el resto) hasta haber situado todas las piezas.\n",
    "4. Cualquier combinación de los anteriores (se calculan soluciones con varios algoritmos y nos quedamos con la mejor solución).\n",
    "\n",
    "Debes implementar las funciones voraces y copiarlas en la función principal."
   ]
  },
  {
   "cell_type": "markdown",
   "metadata": {},
   "source": [
    "# NOTA: Copia las soluciones voraces de la práctica 4 en el código de la Actividad 3"
   ]
  },
  {
   "cell_type": "markdown",
   "metadata": {},
   "source": [
    "<a id='actividad2'></a>"
   ]
  },
  {
   "cell_type": "markdown",
   "metadata": {},
   "source": [
    "# Actividad 2: Función de ramificación\n",
    "\n",
    "Se trata de completar la función `branch` que recibe 2 argumentos:\n",
    "\n",
    "- El score del estado padre.\n",
    "- El estado padre $[x_0,x_1,\\ldots,x_{k-1}]$.\n",
    "\n",
    "Podemos asumir que dicha lista tiene una longitud menor a `M` porque sólo se utiliza `branch` si el estado no es terminal.\n",
    "\n",
    "Esta función puede hacer una de estas dos cosas:\n",
    "\n",
    "- Ir devolviendo los estados hijos usando `yield`.\n",
    "- Generar una lista de los estados hijos y devolver dicha lista.\n",
    "\n",
    "Ambas aproximaciones son válidas en la medida en que ambas se pueden utilizar desde la función principal en el bucle que hemos descrito arriba y que repetimos a continuación:\n",
    "\n",
    "```python\n",
    "    ...\n",
    "    while len(A)>0 and A[0][0] < fx:\n",
    "        s_score, s = heapq.heappop(A)\n",
    "        for child_score, child in branch(s_score, s):\n",
    "            ...\n",
    "```\n",
    "\n",
    "Es importante calcular el valor `child_score` de manera **incremental** a partir del valor `s_score`. Para ello, observa que preprocesamos el mínimo coste de ensamblar cada pieza en un vector llamado `minCoste`."
   ]
  },
  {
   "cell_type": "markdown",
   "metadata": {},
   "source": [
    "<a id='actividad3'></a>"
   ]
  },
  {
   "cell_type": "markdown",
   "metadata": {},
   "source": [
    "# Actividad 3: Obtención de estadísticas\n",
    "\n",
    "En esta parte básicamente debes añadir unos contadores en el cuerpo principal de \"Ramificación y Poda\" para calcular las siguientes cosas:\n",
    "\n",
    "- La variable `iterations` cuenta el nº de iteraciones del bucle `while` principal.\n",
    "- La variable `maxA` contabiliza el tamaño máximo que ha llegado a alcanzar el conjunto de estados activos a lo largo de la ejecución.\n",
    "- `gen_states` cuenta el número total de estados generados por `branch` a lo largo de toda la ejecución.\n",
    "- `podas_opt` contabiliza el nº de podas por cota optimista (estados que se han generado, que no son terminales y que no se incluyen en el conjunto de estados activos porque no pueden dar lugar a soluciones mejores que la que tenemos hasta el momento).\n",
    "\n",
    "Esas variables ya están declaradas y se muestra el resultado por salida estándar. Falta actualizar estas variables donde corresponda."
   ]
  },
  {
   "cell_type": "markdown",
   "metadata": {},
   "source": [
    "<a id='codigo'></a>"
   ]
  },
  {
   "cell_type": "markdown",
   "metadata": {},
   "source": [
    "# Código a completar\n",
    "\n",
    "Debes realizar las 3 actividades anteriores en la siguiente celda de código:"
   ]
  },
  {
   "cell_type": "code",
   "execution_count": 31,
   "metadata": {},
   "outputs": [],
   "source": [
    "def ensamblaje(costes, verbosity=1, initial='greedy1'):\n",
    "    \"\"\"\n",
    "    costes es una matriz numpy de talla MxM con valores positivos\n",
    "\n",
    "    costes[i,j] es el coste de ensamblar la pieza i cuando ya se han\n",
    "    ensamblado j piezas.\n",
    "\n",
    "    Devuelve la mejor solución (una de ellas si hay empates) y su\n",
    "    valor.\n",
    "    \"\"\"\n",
    "\n",
    "    # no haría falta pero por si acaso comprobamos que costes es una\n",
    "    # matriz numpy cuadrada y de costes positivos\n",
    "    assert(type(costes) is np.ndarray and len(costes.shape) == 2\n",
    "           and costes.shape[0] == costes.shape[1] and costes.dtype == np.int32\n",
    "           and costes.min()>=0)\n",
    "\n",
    "    # variables accesibles desde las funciones/clausuras definidas\n",
    "    # dentro de ensamblaje:\n",
    "    M = costes.shape[0]\n",
    "    # la forma más barata de ensamblar la pieza i si podemos elegir el\n",
    "    # momento de ensamblaje que más nos convenga:\n",
    "    minCoste = [costes[i,:].min() for i in range(M)]\n",
    "    # .min() es un método de numpy, también serviría min(costes[:,j])\n",
    "    if verbosity>1:\n",
    "        print(\"minCoste:\", minCoste)\n",
    "\n",
    "    def branch(s_score, s):\n",
    "        \"\"\"\n",
    "        s_score es el score de s\n",
    "        s es una solución parcial\n",
    "        \"\"\"\n",
    "        for j in range(M): # todos los instantes\n",
    "            if j not in s: \n",
    "                new_score = s_score - minCoste[len(s)] + costes[len(s),j]\n",
    "                yield (new_score, s + [j])\n",
    "\n",
    "    def is_complete(s):\n",
    "        \"\"\"\n",
    "        s es una solución parcial\n",
    "        \"\"\"\n",
    "        return len(s) == M\n",
    "\n",
    "    def naive_solution():\n",
    "        score, solution = 0, []\n",
    "        for i in range(M):\n",
    "            solution.append(i)\n",
    "            score += costes[i,i]\n",
    "        return score,solution        \n",
    "\n",
    "    def greedy_solution1():\n",
    "        \"\"\"\n",
    "        En este caso vamos fila por fila y elegimos la columna de\n",
    "        menor valor de entre las que queden disponibles.\n",
    "        \"\"\"\n",
    "        score, solution, chosen = 0, [None]*len(costes), set()\n",
    "        for i in range(M):\n",
    "            subset = [j for j in range(M) if j not in chosen]\n",
    "            chosen.add(subset[np.argmin(costes[i,subset])])\n",
    "            solution[i] = subset[np.argmin(costes[i,subset])]\n",
    "            score = score + costes[i,subset[np.argmin(costes[i,subset])]]\n",
    "        return int(score), solution\n",
    "        \n",
    "    def greedy_solution2():\n",
    "        \"\"\"\n",
    "        Algoritmo voraz para inicializar a una \"solución cualquiera\"\n",
    "        (la mejor que se pueda en un tiempo razonable)\n",
    "\n",
    "        En este caso vamos columna por columna y elegimos la fila de\n",
    "        menor valor de entre las que queden disponibles.\n",
    "        \"\"\"\n",
    "        score, solution, chosen = 0, [None]*M, set()\n",
    "        for i in range(M):\n",
    "            subset = [j for j in range(M) if j not in chosen]\n",
    "            chosen.add(subset[np.argmin(costes[subset, i])])\n",
    "            solution[i] = subset[np.argmin(costes[subset, i])]\n",
    "            score = score + costes[subset[np.argmin(costes[subset, i])],i]\n",
    "        return int(score), solution\n",
    "\n",
    "    def greedy_solution3():\n",
    "        \"\"\"\n",
    "        Ordenar de menor a mayor todos los valores de la matriz de costes recordando sus coordenadas.\n",
    "        Después se recorre utilizando los valores que correspondan a piezas e instantes válidos.\n",
    "        \"\"\"\n",
    "        M = costes.shape[0] # nº piezas\n",
    "\n",
    "        # Inicializar la solución con -1\n",
    "        solution = [-1] * M\n",
    "        solution_aux = [-1] * M\n",
    "        filas = [-1] * M\n",
    "        cols = [-1] * M\n",
    "        min=100000\n",
    "        # Ordenar las tareas por coste\n",
    "        #sorted_tasks = sorted(range(M), key=lambda i: costes[i,0])\n",
    "        # Iterar a través de las tareas ordenadas por coste\n",
    "        for k in range(M):\n",
    "            for i in range(M):\n",
    "                for j in range(M):\n",
    "                    # Encuentra el intervalo de tiempo con el menor coste para la tarea actual\n",
    "                    if(costes[i,j]<min and i not in filas and j not in cols):\n",
    "                        min=costes[i,j]\n",
    "                        col=j\n",
    "                        fila=i\n",
    "            min=10000\n",
    "            filas[k]=fila\n",
    "            cols[k]=col \n",
    "            # Asignar la tarea actual al intervalo de tiempo con el menor coste\n",
    "            solution_aux[k]=(fila,col)\n",
    "\n",
    "        solution_aux=sorted(solution_aux, key=lambda i: i[0])\n",
    "\n",
    "        for i in range(M):\n",
    "            solution[i]=solution_aux[i][1]\n",
    "\n",
    "        # Calcular el coste total de la solución\n",
    "        return ((sum(int(costes[pieza,instante])\n",
    "        for pieza,instante in enumerate(solution)), solution))\n",
    "        \n",
    "    def greedy_solution4():\n",
    "        \"\"\"\n",
    "        La mejor de las tres\n",
    "        \"\"\"\n",
    "        return sorted([greedy_solution1(), greedy_solution2(), greedy_solution3()])[0]\n",
    "\n",
    "    if initial == 'greedy1':\n",
    "        initial_solution = greedy_solution1\n",
    "    elif initial == 'greedy2':\n",
    "        initial_solution = greedy_solution2\n",
    "    elif initial == 'greedy3':\n",
    "        initial_solution = greedy_solution3\n",
    "    elif initial == 'greedy4':\n",
    "        initial_solution = greedy_solution4\n",
    "    elif initial == 'naif':\n",
    "        initial_solution = naive_solution\n",
    "    else:\n",
    "        raise Exception('initial option not supported')\n",
    "\n",
    "    A = [] # cola de prioridad usando heapq\n",
    "    fx, x = initial_solution() # inicializamos la mejor solución hasta el momento\n",
    "    if verbosity > 0:\n",
    "        print(f\"Solución inicial ({initial}):\",x,\"de coste\",fx)\n",
    "\n",
    "    # añadimos el estado inicial:\n",
    "    heapq.heappush(A, (sum(minCoste), []) )\n",
    "\n",
    "    iterations = 0 # nº iteraciones\n",
    "    gen_states = 0 # nº estados generados\n",
    "    podas_opt  = 0 # nº podas por cota optimista\n",
    "    maxA = 0 # tamaño máximo alzanzado por lista de estados activos\n",
    "    # bucle principal de ramificacion y poda con PODA IMPLICITA\n",
    "    while len(A)>0 and A[0][0] < fx:\n",
    "        iterations += 1\n",
    "        lenA = len(A)\n",
    "        maxA = max(maxA,lenA)\n",
    "        s_score, s = heapq.heappop(A)\n",
    "        if verbosity > 1:\n",
    "            print(f\"Iter. {iterations:05} |A|={lenA:05} max|A|={maxA:05}\"+\n",
    "                  f\" fx={fx:04} len(s)={len(s):02} score_s={s_score:04}\")\n",
    "        for child_score, child in branch(s_score, s):\n",
    "            gen_states += 1\n",
    "            if is_complete(child): # si es terminal\n",
    "                # es factible (pq branch solo genera factibles)\n",
    "                # falta ver si mejora la mejor solucion en curso\n",
    "                if child_score < fx:\n",
    "                    if verbosity > 0:\n",
    "                        print(\"MEJORAMOS\",x, fx, \"CON\", child,child_score)\n",
    "                    fx, x = child_score, child\n",
    "            else: # no es terminal\n",
    "                # lo metemos en el cjt de estados activos si supera\n",
    "                # la poda por cota optimista:\n",
    "                if child_score < fx:\n",
    "                    heapq.heappush(A, (child_score, child) )\n",
    "                else:\n",
    "                    podas_opt += 1\n",
    "    if verbosity > 0:\n",
    "        print(f\"{iterations} iteraciones, max|A|={maxA}, \"+\n",
    "              f\"estados_generados={gen_states}, estados_podados={podas_opt}\")\n",
    "    return x, fx"
   ]
  },
  {
   "cell_type": "markdown",
   "metadata": {},
   "source": [
    "## Prueba con una matriz conocida"
   ]
  },
  {
   "cell_type": "code",
   "execution_count": 26,
   "metadata": {},
   "outputs": [
    {
     "name": "stdout",
     "output_type": "stream",
     "text": [
      "minCoste: [3, 1, 3, 4]\n",
      "Solución inicial (greedy1): [3, 0, 2, 1] de coste 17\n",
      "Iter. 00001 |A|=00001 max|A|=00001 fx=0017 len(s)=00 score_s=0011\n",
      "Iter. 00002 |A|=00004 max|A|=00004 fx=0017 len(s)=01 score_s=0011\n",
      "Iter. 00003 |A|=00004 max|A|=00004 fx=0017 len(s)=01 score_s=0012\n",
      "Iter. 00004 |A|=00004 max|A|=00004 fx=0017 len(s)=02 score_s=0012\n",
      "Iter. 00005 |A|=00004 max|A|=00004 fx=0017 len(s)=01 score_s=0012\n",
      "Iter. 00006 |A|=00005 max|A|=00005 fx=0017 len(s)=02 score_s=0012\n",
      "Iter. 00007 |A|=00006 max|A|=00006 fx=0017 len(s)=02 score_s=0012\n",
      "Iter. 00008 |A|=00006 max|A|=00006 fx=0017 len(s)=02 score_s=0013\n",
      "Iter. 00009 |A|=00007 max|A|=00007 fx=0017 len(s)=03 score_s=0013\n",
      "MEJORAMOS [3, 0, 2, 1] 17 CON [1, 0, 3, 2] 16\n",
      "Iter. 00010 |A|=00006 max|A|=00007 fx=0016 len(s)=01 score_s=0013\n",
      "Iter. 00011 |A|=00007 max|A|=00007 fx=0016 len(s)=02 score_s=0013\n",
      "Iter. 00012 |A|=00006 max|A|=00007 fx=0016 len(s)=02 score_s=0014\n",
      "Iter. 00013 |A|=00006 max|A|=00007 fx=0016 len(s)=03 score_s=0014\n",
      "Iter. 00014 |A|=00005 max|A|=00007 fx=0016 len(s)=03 score_s=0015\n",
      "Iter. 00015 |A|=00004 max|A|=00007 fx=0016 len(s)=03 score_s=0015\n",
      "Iter. 00016 |A|=00003 max|A|=00007 fx=0016 len(s)=03 score_s=0015\n",
      "MEJORAMOS [1, 0, 3, 2] 16 CON [1, 3, 2, 0] 15\n",
      "16 iteraciones, max|A|=7, estados_generados=33, estados_podados=11\n"
     ]
    },
    {
     "data": {
      "text/plain": [
       "([1, 3, 2, 0], 15)"
      ]
     },
     "execution_count": 26,
     "metadata": {},
     "output_type": "execute_result"
    }
   ],
   "source": [
    "prueba = np.array([[4, 4, 5, 3],\n",
    "                   [2, 8, 9, 1],\n",
    "                   [6, 9, 6, 3],\n",
    "                   [4, 6, 7, 7]],dtype=np.int32)\n",
    "ensamblaje(prueba, initial='greedy1', verbosity=2)"
   ]
  },
  {
   "cell_type": "markdown",
   "metadata": {},
   "source": [
    "Si los cambios realizados son correctos (y nosotros tampoco nos hemos equivocado por nuestra parte), el resultado de la ejecución anterior sería:\n",
    "\n",
    "```python\n",
    "minCoste: [3, 1, 3, 4]\n",
    "MEJORAMOS [3, 0, 2, 1] 17 CON [1, 0, 3, 2] 16\n",
    "MEJORAMOS [1, 0, 3, 2] 16 CON [1, 3, 2, 0] 15\n",
    "16 iteraciones, max|A|=7, estados_generados=33, estados_podados=11\n",
    "```\n",
    "\n",
    "y el resultado devuelto sería:\n",
    "\n",
    "```python\n",
    "([1, 3, 2, 0], 15)\n",
    "```\n",
    "\n",
    "Compara los valores reportados con la siguiente ejecución que inicializa la mejor solución con la solución *naif*:"
   ]
  },
  {
   "cell_type": "code",
   "execution_count": 30,
   "metadata": {},
   "outputs": [
    {
     "name": "stdout",
     "output_type": "stream",
     "text": [
      "minCoste: [3, 1, 3, 4]\n",
      "Solución inicial (naif): [0, 1, 2, 3] de coste 25\n",
      "Iter. 00001 |A|=00001 max|A|=00001 fx=0025 len(s)=00 score_s=0011\n",
      "[]\n",
      "Iter. 00002 |A|=00004 max|A|=00004 fx=0025 len(s)=01 score_s=0011\n",
      "[3]\n",
      "Iter. 00003 |A|=00006 max|A|=00006 fx=0025 len(s)=01 score_s=0012\n",
      "[0]\n",
      "Iter. 00004 |A|=00008 max|A|=00008 fx=0025 len(s)=02 score_s=0012\n",
      "[0, 3]\n",
      "Iter. 00005 |A|=00009 max|A|=00009 fx=0025 len(s)=01 score_s=0012\n",
      "[1]\n",
      "Iter. 00006 |A|=00011 max|A|=00011 fx=0025 len(s)=02 score_s=0012\n",
      "[1, 3]\n",
      "Iter. 00007 |A|=00012 max|A|=00012 fx=0025 len(s)=02 score_s=0012\n",
      "[3, 0]\n",
      "Iter. 00008 |A|=00013 max|A|=00013 fx=0025 len(s)=02 score_s=0013\n",
      "[1, 0]\n",
      "Iter. 00009 |A|=00014 max|A|=00014 fx=0025 len(s)=03 score_s=0013\n",
      "[1, 0, 3]\n",
      "MEJORAMOS [0, 1, 2, 3] 25 CON [1, 0, 3, 2] 16\n",
      "Iter. 00010 |A|=00013 max|A|=00014 fx=0016 len(s)=01 score_s=0013\n",
      "[2]\n",
      "Iter. 00011 |A|=00014 max|A|=00014 fx=0016 len(s)=02 score_s=0013\n",
      "[2, 3]\n",
      "Iter. 00012 |A|=00013 max|A|=00014 fx=0016 len(s)=02 score_s=0014\n",
      "[2, 0]\n",
      "Iter. 00013 |A|=00013 max|A|=00014 fx=0016 len(s)=03 score_s=0014\n",
      "[2, 0, 3]\n",
      "Iter. 00014 |A|=00012 max|A|=00014 fx=0016 len(s)=03 score_s=0015\n",
      "[0, 3, 2]\n",
      "Iter. 00015 |A|=00011 max|A|=00014 fx=0016 len(s)=03 score_s=0015\n",
      "[1, 3, 0]\n",
      "Iter. 00016 |A|=00010 max|A|=00014 fx=0016 len(s)=03 score_s=0015\n",
      "[1, 3, 2]\n",
      "MEJORAMOS [1, 0, 3, 2] 16 CON [1, 3, 2, 0] 15\n",
      "16 iteraciones, max|A|=14, estados_generados=33, estados_podados=4\n"
     ]
    },
    {
     "data": {
      "text/plain": [
       "([1, 3, 2, 0], 15)"
      ]
     },
     "execution_count": 30,
     "metadata": {},
     "output_type": "execute_result"
    }
   ],
   "source": [
    "ensamblaje(prueba, initial='naif', verbosity=2)"
   ]
  },
  {
   "cell_type": "markdown",
   "metadata": {},
   "source": [
    "¿Influye la solución inicial en el número de estados generados? ¿por qué?"
   ]
  },
  {
   "cell_type": "markdown",
   "metadata": {},
   "source": [
    "## Prueba con generador de instancias\n",
    "\n",
    "A continuación se utiliza la función `genera_instancia` definida al inicio del boletín y que nos permite generar instancias de tallas que puedes controlar para realizar experimentos y comparar el uso de la función `"
   ]
  },
  {
   "cell_type": "code",
   "execution_count": 28,
   "metadata": {},
   "outputs": [
    {
     "name": "stdout",
     "output_type": "stream",
     "text": [
      "Solución inicial (naif): [0, 1, 2, 3, 4, 5, 6, 7, 8, 9, 10, 11, 12, 13, 14, 15, 16, 17, 18, 19] de coste 10258\n",
      "MEJORAMOS [0, 1, 2, 3, 4, 5, 6, 7, 8, 9, 10, 11, 12, 13, 14, 15, 16, 17, 18, 19] 10258 CON [5, 0, 18, 6, 3, 4, 12, 8, 7, 2, 17, 10, 13, 9, 15, 14, 19, 16, 1, 11] 2108\n",
      "MEJORAMOS [5, 0, 18, 6, 3, 4, 12, 8, 7, 2, 17, 10, 13, 9, 15, 14, 19, 16, 1, 11] 2108 CON [5, 11, 18, 6, 8, 4, 12, 7, 0, 2, 17, 10, 13, 9, 15, 14, 19, 16, 1, 3] 1913\n",
      "MEJORAMOS [5, 11, 18, 6, 8, 4, 12, 7, 0, 2, 17, 10, 13, 9, 15, 14, 19, 16, 1, 3] 1913 CON [5, 11, 18, 6, 3, 4, 2, 8, 7, 0, 17, 14, 13, 9, 15, 12, 19, 16, 1, 10] 1858\n",
      "MEJORAMOS [5, 11, 18, 6, 3, 4, 2, 8, 7, 0, 17, 14, 13, 9, 15, 12, 19, 16, 1, 10] 1858 CON [5, 11, 18, 6, 3, 4, 2, 8, 7, 0, 17, 10, 13, 9, 15, 12, 19, 16, 1, 14] 1820\n",
      "1068003 iteraciones, max|A|=2666176, estados_generados=10074174, estados_podados=6363273\n",
      "([5, 11, 18, 6, 3, 4, 2, 8, 7, 0, 17, 10, 13, 9, 15, 12, 19, 16, 1, 14], 1820)\n",
      "\n",
      "\n",
      "Solución inicial (greedy1): [5, 0, 18, 17, 8, 4, 2, 7, 9, 1, 15, 13, 16, 12, 14, 3, 10, 6, 11, 19] de coste 3615\n",
      "MEJORAMOS [5, 0, 18, 17, 8, 4, 2, 7, 9, 1, 15, 13, 16, 12, 14, 3, 10, 6, 11, 19] 3615 CON [5, 0, 18, 6, 3, 4, 12, 8, 7, 2, 17, 10, 13, 9, 15, 14, 19, 16, 1, 11] 2108\n",
      "MEJORAMOS [5, 0, 18, 6, 3, 4, 12, 8, 7, 2, 17, 10, 13, 9, 15, 14, 19, 16, 1, 11] 2108 CON [5, 11, 18, 6, 8, 4, 12, 7, 0, 2, 17, 10, 13, 9, 15, 14, 19, 16, 1, 3] 1913\n",
      "MEJORAMOS [5, 11, 18, 6, 8, 4, 12, 7, 0, 2, 17, 10, 13, 9, 15, 14, 19, 16, 1, 3] 1913 CON [5, 11, 18, 6, 3, 4, 2, 8, 7, 0, 17, 14, 13, 9, 15, 12, 19, 16, 1, 10] 1858\n",
      "MEJORAMOS [5, 11, 18, 6, 3, 4, 2, 8, 7, 0, 17, 14, 13, 9, 15, 12, 19, 16, 1, 10] 1858 CON [5, 11, 18, 6, 3, 4, 2, 8, 7, 0, 17, 10, 13, 9, 15, 12, 19, 16, 1, 14] 1820\n",
      "1068003 iteraciones, max|A|=2666176, estados_generados=10074174, estados_podados=6363273\n",
      "([5, 11, 18, 6, 3, 4, 2, 8, 7, 0, 17, 10, 13, 9, 15, 12, 19, 16, 1, 14], 1820)\n",
      "\n",
      "\n",
      "Solución inicial (greedy2): [1, 9, 6, 4, 5, 0, 17, 8, 7, 14, 19, 16, 15, 2, 11, 10, 3, 13, 12, 18] de coste 3217\n",
      "MEJORAMOS [1, 9, 6, 4, 5, 0, 17, 8, 7, 14, 19, 16, 15, 2, 11, 10, 3, 13, 12, 18] 3217 CON [5, 0, 18, 6, 3, 4, 12, 8, 7, 2, 17, 10, 13, 9, 15, 14, 19, 16, 1, 11] 2108\n",
      "MEJORAMOS [5, 0, 18, 6, 3, 4, 12, 8, 7, 2, 17, 10, 13, 9, 15, 14, 19, 16, 1, 11] 2108 CON [5, 11, 18, 6, 8, 4, 12, 7, 0, 2, 17, 10, 13, 9, 15, 14, 19, 16, 1, 3] 1913\n",
      "MEJORAMOS [5, 11, 18, 6, 8, 4, 12, 7, 0, 2, 17, 10, 13, 9, 15, 14, 19, 16, 1, 3] 1913 CON [5, 11, 18, 6, 3, 4, 2, 8, 7, 0, 17, 14, 13, 9, 15, 12, 19, 16, 1, 10] 1858\n",
      "MEJORAMOS [5, 11, 18, 6, 3, 4, 2, 8, 7, 0, 17, 14, 13, 9, 15, 12, 19, 16, 1, 10] 1858 CON [5, 11, 18, 6, 3, 4, 2, 8, 7, 0, 17, 10, 13, 9, 15, 12, 19, 16, 1, 14] 1820\n",
      "1068003 iteraciones, max|A|=2666176, estados_generados=10074174, estados_podados=6363273\n",
      "([5, 11, 18, 6, 3, 4, 2, 8, 7, 0, 17, 10, 13, 9, 15, 12, 19, 16, 1, 14], 1820)\n",
      "\n",
      "\n",
      "Solución inicial (greedy3): [5, 0, 18, 1, 17, 4, 12, 8, 7, 2, 15, 13, 6, 3, 9, 14, 19, 16, 11, 10] de coste 2606\n",
      "MEJORAMOS [5, 0, 18, 1, 17, 4, 12, 8, 7, 2, 15, 13, 6, 3, 9, 14, 19, 16, 11, 10] 2606 CON [5, 0, 18, 6, 3, 4, 12, 8, 7, 2, 17, 10, 13, 9, 15, 14, 19, 16, 1, 11] 2108\n",
      "MEJORAMOS [5, 0, 18, 6, 3, 4, 12, 8, 7, 2, 17, 10, 13, 9, 15, 14, 19, 16, 1, 11] 2108 CON [5, 11, 18, 6, 8, 4, 12, 7, 0, 2, 17, 10, 13, 9, 15, 14, 19, 16, 1, 3] 1913\n",
      "MEJORAMOS [5, 11, 18, 6, 8, 4, 12, 7, 0, 2, 17, 10, 13, 9, 15, 14, 19, 16, 1, 3] 1913 CON [5, 11, 18, 6, 3, 4, 2, 8, 7, 0, 17, 14, 13, 9, 15, 12, 19, 16, 1, 10] 1858\n",
      "MEJORAMOS [5, 11, 18, 6, 3, 4, 2, 8, 7, 0, 17, 14, 13, 9, 15, 12, 19, 16, 1, 10] 1858 CON [5, 11, 18, 6, 3, 4, 2, 8, 7, 0, 17, 10, 13, 9, 15, 12, 19, 16, 1, 14] 1820\n",
      "1068003 iteraciones, max|A|=2661037, estados_generados=10074174, estados_podados=6368412\n",
      "([5, 11, 18, 6, 3, 4, 2, 8, 7, 0, 17, 10, 13, 9, 15, 12, 19, 16, 1, 14], 1820)\n",
      "\n",
      "\n"
     ]
    }
   ],
   "source": [
    "costes = genera_instancia(M=20, high=1000)\n",
    "for ini in ('naif', 'greedy1', 'greedy2', 'greedy3'):\n",
    "    #print(f\"Con inicialización {ini}:\")\n",
    "    sol = ensamblaje(costes, verbosity=1, initial=ini)\n",
    "    print(sol)\n",
    "    print(\"\\n\")\n",
    "\n",
    "# nota: las soluciones no necesariamente han de coincidir (podría haber empates), pero los costes asociados sí"
   ]
  },
  {
   "cell_type": "markdown",
   "metadata": {},
   "source": [
    "## Volvemos a probar"
   ]
  },
  {
   "cell_type": "code",
   "execution_count": 10,
   "metadata": {},
   "outputs": [
    {
     "name": "stdout",
     "output_type": "stream",
     "text": [
      "Solución inicial (naif): [0, 1, 2, 3, 4, 5, 6, 7, 8, 9, 10, 11, 12, 13, 14, 15, 16, 17, 18, 19] de coste 11809\n",
      "MEJORAMOS [0, 1, 2, 3, 4, 5, 6, 7, 8, 9, 10, 11, 12, 13, 14, 15, 16, 17, 18, 19] 11809 CON [4, 14, 9, 5, 19, 10, 13, 18, 15, 17, 8, 6, 0, 3, 1, 2, 12, 11, 7, 16] 2415\n",
      "MEJORAMOS [4, 14, 9, 5, 19, 10, 13, 18, 15, 17, 8, 6, 0, 3, 1, 2, 12, 11, 7, 16] 2415 CON [4, 14, 9, 5, 19, 10, 13, 18, 15, 17, 8, 6, 0, 3, 16, 2, 12, 11, 7, 1] 1928\n",
      "MEJORAMOS [4, 14, 9, 5, 19, 10, 13, 18, 15, 17, 8, 6, 0, 3, 16, 2, 12, 11, 7, 1] 1928 CON [4, 14, 9, 2, 19, 10, 13, 18, 15, 17, 8, 6, 0, 3, 16, 1, 12, 11, 7, 5] 1856\n",
      "329869 iteraciones, max|A|=1165957, estados_generados=3453549, estados_podados=1961062\n",
      "([4, 14, 9, 2, 19, 10, 13, 18, 15, 17, 8, 6, 0, 3, 16, 1, 12, 11, 7, 5], 1856)\n",
      "\n",
      "\n",
      "Solución inicial (greedy1): [4, 17, 2, 5, 8, 10, 13, 18, 15, 7, 14, 6, 0, 3, 19, 1, 12, 11, 9, 16] de coste 2746\n",
      "MEJORAMOS [4, 17, 2, 5, 8, 10, 13, 18, 15, 7, 14, 6, 0, 3, 19, 1, 12, 11, 9, 16] 2746 CON [4, 14, 9, 5, 19, 10, 13, 18, 15, 17, 8, 6, 0, 3, 1, 2, 12, 11, 7, 16] 2415\n",
      "MEJORAMOS [4, 14, 9, 5, 19, 10, 13, 18, 15, 17, 8, 6, 0, 3, 1, 2, 12, 11, 7, 16] 2415 CON [4, 14, 9, 5, 19, 10, 13, 18, 15, 17, 8, 6, 0, 3, 16, 2, 12, 11, 7, 1] 1928\n",
      "MEJORAMOS [4, 14, 9, 5, 19, 10, 13, 18, 15, 17, 8, 6, 0, 3, 16, 2, 12, 11, 7, 1] 1928 CON [4, 14, 9, 2, 19, 10, 13, 18, 15, 17, 8, 6, 0, 3, 16, 1, 12, 11, 7, 5] 1856\n",
      "329869 iteraciones, max|A|=1165957, estados_generados=3453549, estados_podados=1961062\n",
      "([4, 14, 9, 2, 19, 10, 13, 18, 15, 17, 8, 6, 0, 3, 16, 1, 12, 11, 7, 5], 1856)\n",
      "\n",
      "\n",
      "Solución inicial (greedy2): [13, 14, 9, 2, 8, 19, 11, 18, 10, 17, 15, 6, 0, 3, 16, 1, 12, 5, 7, 4] de coste 2393\n",
      "MEJORAMOS [13, 14, 9, 2, 8, 19, 11, 18, 10, 17, 15, 6, 0, 3, 16, 1, 12, 5, 7, 4] 2393 CON [4, 14, 9, 5, 19, 10, 13, 18, 15, 17, 8, 6, 0, 3, 16, 2, 12, 11, 7, 1] 1928\n",
      "MEJORAMOS [4, 14, 9, 5, 19, 10, 13, 18, 15, 17, 8, 6, 0, 3, 16, 2, 12, 11, 7, 1] 1928 CON [4, 14, 9, 2, 19, 10, 13, 18, 15, 17, 8, 6, 0, 3, 16, 1, 12, 11, 7, 5] 1856\n",
      "329869 iteraciones, max|A|=931012, estados_generados=3453549, estados_podados=2196007\n",
      "([4, 14, 9, 2, 19, 10, 13, 18, 15, 17, 8, 6, 0, 3, 16, 1, 12, 11, 7, 5], 1856)\n",
      "\n",
      "\n",
      "Solución inicial (greedy3): [4, 14, 9, 2, 8, 11, 13, 18, 10, 16, 15, 1, 0, 3, 19, 6, 12, 17, 7, 5] de coste 2961\n",
      "MEJORAMOS [4, 14, 9, 2, 8, 11, 13, 18, 10, 16, 15, 1, 0, 3, 19, 6, 12, 17, 7, 5] 2961 CON [4, 14, 9, 5, 19, 10, 13, 18, 15, 17, 8, 6, 0, 3, 1, 2, 12, 11, 7, 16] 2415\n",
      "MEJORAMOS [4, 14, 9, 5, 19, 10, 13, 18, 15, 17, 8, 6, 0, 3, 1, 2, 12, 11, 7, 16] 2415 CON [4, 14, 9, 5, 19, 10, 13, 18, 15, 17, 8, 6, 0, 3, 16, 2, 12, 11, 7, 1] 1928\n",
      "MEJORAMOS [4, 14, 9, 5, 19, 10, 13, 18, 15, 17, 8, 6, 0, 3, 16, 2, 12, 11, 7, 1] 1928 CON [4, 14, 9, 2, 19, 10, 13, 18, 15, 17, 8, 6, 0, 3, 16, 1, 12, 11, 7, 5] 1856\n",
      "329869 iteraciones, max|A|=1165957, estados_generados=3453549, estados_podados=1961062\n",
      "([4, 14, 9, 2, 19, 10, 13, 18, 15, 17, 8, 6, 0, 3, 16, 1, 12, 11, 7, 5], 1856)\n",
      "\n",
      "\n"
     ]
    }
   ],
   "source": [
    "costes = genera_instancia(M=20, high=1000)\n",
    "for ini in ('naif', 'greedy1', 'greedy2', 'greedy3'):\n",
    "    #print(f\"Con inicialización {ini}:\")\n",
    "    sol = ensamblaje(costes, verbosity=1, initial=ini)\n",
    "    print(sol)\n",
    "    print(\"\\n\")\n",
    "\n",
    "# nota: las soluciones no necesariamente han de coincidir (podría haber empates), pero los costes asociados sí"
   ]
  },
  {
   "cell_type": "code",
   "execution_count": null,
   "metadata": {},
   "outputs": [],
   "source": []
  }
 ],
 "metadata": {
  "kernelspec": {
   "display_name": "base",
   "language": "python",
   "name": "python3"
  },
  "language_info": {
   "codemirror_mode": {
    "name": "ipython",
    "version": 3
   },
   "file_extension": ".py",
   "mimetype": "text/x-python",
   "name": "python",
   "nbconvert_exporter": "python",
   "pygments_lexer": "ipython3",
   "version": "3.11.7"
  }
 },
 "nbformat": 4,
 "nbformat_minor": 2
}
