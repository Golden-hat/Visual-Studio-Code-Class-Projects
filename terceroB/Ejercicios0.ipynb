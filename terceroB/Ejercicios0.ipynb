{
 "cells": [
  {
   "cell_type": "markdown",
   "metadata": {},
   "source": [
    "Ejercicio 1."
   ]
  },
  {
   "cell_type": "code",
   "execution_count": 2,
   "metadata": {},
   "outputs": [
    {
     "data": {
      "text/plain": [
       "True"
      ]
     },
     "execution_count": 2,
     "metadata": {},
     "output_type": "execute_result"
    }
   ],
   "source": [
    "import string\n",
    "\n",
    "def isPanagram(str):\n",
    "    lowercased_set= set(string.ascii_lowercase)\n",
    "    str = set(str.lower())\n",
    "    if str.__contains__(\" \"):\n",
    "        str.remove(\" \")\n",
    "\n",
    "    if lowercased_set == str:\n",
    "        return True\n",
    "    return False\n",
    "\n",
    "isPanagram(\"The quick brown fox jumps over the lazy dog\")"
   ]
  },
  {
   "cell_type": "markdown",
   "metadata": {},
   "source": [
    "Ejercicio 2."
   ]
  },
  {
   "cell_type": "code",
   "execution_count": 3,
   "metadata": {},
   "outputs": [
    {
     "data": {
      "text/plain": [
       "True"
      ]
     },
     "execution_count": 3,
     "metadata": {},
     "output_type": "execute_result"
    }
   ],
   "source": [
    "def checkOnlyOnce(str):\n",
    "    i = 0\n",
    "    for i in range(0,len(str)):\n",
    "        for j in range(0,len(str)):\n",
    "            if i != j:\n",
    "                if str[i] == str[j]:\n",
    "                    return False\n",
    "    return True\n",
    "                \n",
    "def isPerfectPanagram(str):\n",
    "    if checkOnlyOnce(str) == False:\n",
    "        return False\n",
    "    \n",
    "    lowercased_set= set(string.ascii_lowercase)\n",
    "    str = set(str.lower())\n",
    "    if str.__contains__(\" \"):\n",
    "        str.remove(\" \")\n",
    "\n",
    "    if lowercased_set == str:\n",
    "        return True\n",
    "    return False\n",
    "\n",
    "isPerfectPanagram(\"asdfghjklzxcvbnmqwertyuipo\")"
   ]
  },
  {
   "cell_type": "markdown",
   "metadata": {},
   "source": [
    "Ejercicio 3."
   ]
  },
  {
   "cell_type": "code",
   "execution_count": 9,
   "metadata": {},
   "outputs": [
    {
     "data": {
      "text/plain": [
       "False"
      ]
     },
     "execution_count": 9,
     "metadata": {},
     "output_type": "execute_result"
    }
   ],
   "source": [
    "def isAnagram(str1, str2):\n",
    "    str1 = list(str1)\n",
    "    str2 = list(str2)\n",
    "    if str1.__contains__(\" \"):\n",
    "        str.remove(\" \")\n",
    "    if str2.__contains__(\" \"):\n",
    "        str.remove(\" \")\n",
    "    if str1.__contains__(\",\"):\n",
    "        str.remove(\",\")\n",
    "    if str2.__contains__(\",\"):\n",
    "        str.remove(\",\")\n",
    "    if str1.__contains__(\".\"):\n",
    "        str.remove(\".\")\n",
    "    if str2.__contains__(\".\"):\n",
    "        str.remove(\".\")\n",
    "    \n",
    "    for i in range(0,len(str1)):\n",
    "        for j in range(0,len(str2)):\n",
    "            if str1[i] == str2[j]:\n",
    "                if str1.__contains__(str2[j]):\n",
    "                    str2 = list(str2)\n",
    "                    str2[j] == \"\"\n",
    "                    print(str2)\n",
    "\n",
    "    if str2.count == 0:\n",
    "        return True\n",
    "    return False\n",
    "    \n",
    "isAnagram(\"abc\", \"cba\")"
   ]
  },
  {
   "cell_type": "code",
   "execution_count": null,
   "metadata": {},
   "outputs": [],
   "source": []
  }
 ],
 "metadata": {
  "kernelspec": {
   "display_name": "Python 3",
   "language": "python",
   "name": "python3"
  },
  "language_info": {
   "codemirror_mode": {
    "name": "ipython",
    "version": 3
   },
   "file_extension": ".py",
   "mimetype": "text/x-python",
   "name": "python",
   "nbconvert_exporter": "python",
   "pygments_lexer": "ipython3",
   "version": "3.11.6"
  }
 },
 "nbformat": 4,
 "nbformat_minor": 2
}
