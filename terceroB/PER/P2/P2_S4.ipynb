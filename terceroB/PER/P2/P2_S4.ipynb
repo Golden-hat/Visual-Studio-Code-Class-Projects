{
  "cells": [
    {
      "cell_type": "markdown",
      "metadata": {
        "id": "58B27Xk_RkUS"
      },
      "source": [
        "# KVecinos en un dataset de detección de spam\n",
        "\n",
        "Se propone emplear un clasificador basado en distancias sobre el dataset id=44 de openml de detección de Spam. Son un total de 4601 muestras con 57 características."
      ]
    },
    {
      "cell_type": "code",
      "execution_count": 1,
      "metadata": {
        "id": "ol4-XMphRR0o"
      },
      "outputs": [
        {
          "name": "stdout",
          "output_type": "stream",
          "text": [
            "(4601, 57)\n"
          ]
        }
      ],
      "source": [
        "from sklearn.datasets import fetch_openml\n",
        "from sklearn.model_selection import train_test_split\n",
        "\n",
        "## Descarga del dataset Spam\n",
        "X, y = fetch_openml(data_id=44, as_frame=False, cache=True, return_X_y=True)\n",
        "print(X.shape)\n",
        "\n",
        "## Partición train/test\n",
        "X_train, X_test, y_train, y_test = train_test_split(X, y, test_size=0.2, shuffle=True, random_state=23)\n"
      ]
    },
    {
      "cell_type": "markdown",
      "metadata": {
        "id": "ylTk-2JuSJyD"
      },
      "source": [
        "## El clasificador por los vecinos más cercanos"
      ]
    },
    {
      "cell_type": "code",
      "execution_count": 2,
      "metadata": {
        "colab": {
          "base_uri": "https://localhost:8080/"
        },
        "id": "9fwMFShNRfKk",
        "outputId": "c0c027af-78f8-4f85-c551-68ff804cda2e"
      },
      "outputs": [
        {
          "name": "stdout",
          "output_type": "stream",
          "text": [
            "Precisión: 79.5%\n"
          ]
        }
      ],
      "source": [
        "from sklearn.neighbors import KNeighborsClassifier\n",
        "\n",
        "kv = KNeighborsClassifier()\n",
        "acc=kv.fit(X_train,y_train).score(X_test,y_test)\n",
        "\n",
        "print(f'Precisión: {acc:.1%}')"
      ]
    },
    {
      "cell_type": "markdown",
      "metadata": {
        "id": "IMCCldnbSR9g"
      },
      "source": [
        "**Ejercicio:** Explora el principal parámetros del KNN (n_neighbors) y realiza una búsqueda mediante alguna técnica de optimización ya vista en la práctica anterior"
      ]
    },
    {
      "cell_type": "code",
      "execution_count": 3,
      "metadata": {},
      "outputs": [
        {
          "name": "stdout",
          "output_type": "stream",
          "text": [
            "Precisión: 82.1%\n"
          ]
        }
      ],
      "source": [
        "# Solución\n",
        "\n",
        "from sklearn.model_selection import GridSearchCV\n",
        "\n",
        "G = {\"n_neighbors\":[1,3,4,5,10]}\n",
        "\n",
        "GS = GridSearchCV(KNeighborsClassifier(), G, scoring='accuracy', refit=True, cv=5)\n",
        "\n",
        "acc=GS.fit(X_train,y_train).score(X_test,y_test)\n",
        "print(f'Precisión: {acc:.1%}')"
      ]
    },
    {
      "cell_type": "markdown",
      "metadata": {
        "id": "pUGR1U0CTSyV"
      },
      "source": [
        "## Mejoras\n",
        "\n",
        "La función de distancia empleada por defecto es la distancia euclídea. Dicha distancia requiere un preproceso de las muestras para que tengan una escala similar todas ellas. Además KNN podría beneficiarse de una proyección mediante PCA con el fin de reducir la dimensionalidad.\n",
        "\n",
        "**Ejercicio:** Implementa un pipeline con la normalización (ESO SIGNIFICA USAR SCALER) de los datos y un PCA, seguido del KNN. Busca los mejores parámetros. Se podría conseguir una tasa de acierto >90%.\n"
      ]
    },
    {
      "cell_type": "code",
      "execution_count": 4,
      "metadata": {},
      "outputs": [
        {
          "name": "stdout",
          "output_type": "stream",
          "text": [
            "Precisión: 91.1% con {'kn__n_neighbors': 7, 'pca__n_components': 16}\n"
          ]
        }
      ],
      "source": [
        "import warnings; warnings.filterwarnings('ignore')\n",
        "from sklearn.discriminant_analysis import StandardScaler\n",
        "from sklearn.model_selection import GridSearchCV\n",
        "from sklearn.model_selection import train_test_split, GridSearchCV;\n",
        "from sklearn.decomposition import PCA;\n",
        "from sklearn.pipeline import Pipeline;\n",
        "\n",
        "X, y = fetch_openml(data_id=44, as_frame=False, cache=True, return_X_y=True)\n",
        "\n",
        "X_train, X_test, y_train, y_test = train_test_split(X, y, test_size=0.2, shuffle=True, random_state=23)\n",
        "pca = PCA(); kn = KNeighborsClassifier(); scaler = StandardScaler();\n",
        "pipe = Pipeline(steps=[(\"scaler\", scaler), (\"pca\", pca), (\"kn\", kn)])\n",
        "\n",
        "G = {\"pca__n_components\": [4,8,16,32,64,128], \"kn__n_neighbors\":[2,3,4,5,6,7,8,9,10,24]}\n",
        "\n",
        "GS = GridSearchCV(pipe, G, scoring='accuracy', refit=True, cv=5)\n",
        "\n",
        "acc=GS.fit(X_train,y_train).score(X_test,y_test)\n",
        "print(f'Precisión: {acc:.1%} con {GS.best_params_}')"
      ]
    },
    {
      "cell_type": "markdown",
      "metadata": {
        "id": "w8r-aW7yWMru"
      },
      "source": [
        "También podríamos probar diferentes funciones de distancia [sklearn distances](https://scikit-learn.org/stable/modules/generated/sklearn.metrics.pairwise.distance_metrics.html#sklearn.metrics.pairwise.distance_metrics) a emplear en el parámetro \"metric\". Así mismo podríamos explorar el parámetro \"weights\" que pondera el voto de cada vecino de forma diferente según el parámetro escogido.\n",
        "\n",
        "**Ejercicio:** prueba también diferentes métricas y \"weights\" junto con todo lo anterior. Emplea el BayessianOpt visto en la práctica anterior."
      ]
    },
    {
      "cell_type": "code",
      "execution_count": 8,
      "metadata": {},
      "outputs": [
        {
          "name": "stdout",
          "output_type": "stream",
          "text": [
            "Precisión: 92.3% con OrderedDict([('kn__metric', 'manhattan'), ('kn__n_neighbors', 7), ('kn__weights', 'distance'), ('pca__n_components', 16)])\n"
          ]
        }
      ],
      "source": [
        "import warnings; warnings.filterwarnings('ignore')\n",
        "from sklearn.datasets import fetch_openml\n",
        "from sklearn.neighbors import KNeighborsClassifier\n",
        "from sklearn.discriminant_analysis import StandardScaler\n",
        "from sklearn.model_selection import GridSearchCV\n",
        "from sklearn.model_selection import train_test_split, GridSearchCV;\n",
        "from sklearn.decomposition import PCA;\n",
        "from sklearn.pipeline import Pipeline;\n",
        "from skopt import BayesSearchCV;\n",
        "\n",
        "X, y = fetch_openml(data_id=44, as_frame=False, cache=True, return_X_y=True)\n",
        "\n",
        "X_train, X_test, y_train, y_test = train_test_split(X, y, test_size=0.2, shuffle=True, random_state=23)\n",
        "pca = PCA(); kn = KNeighborsClassifier(); scaler = StandardScaler();\n",
        "pipe = Pipeline(steps=[(\"scaler\", scaler), (\"pca\", pca), (\"kn\", kn)])\n",
        "\n",
        "G = {\"pca__n_components\": [4,8,16,32,50], \"kn__n_neighbors\":[2,3,4,5,6,7,8,9,10], \"kn__weights\":['uniform', 'distance'], \"kn__metric\":['euclidean', 'manhattan']}\n",
        "GS = BayesSearchCV(pipe, G, scoring='accuracy', refit=True, cv=5)\n",
        "\n",
        "acc=GS.fit(X_train,y_train).score(X_test,y_test)\n",
        "print(f'Precisión: {acc:.1%} con {GS.best_params_}')"
      ]
    },
    {
      "cell_type": "markdown",
      "metadata": {
        "id": "eCSmzF9XZXE2"
      },
      "source": [
        "## Olivetti Faces\n",
        "\n",
        "Prueba ahora el clasificador KNN junto con todos los parámetros y preprocesos que creas convenientes sobre el dataset de reconocimiento facial de Olivetti."
      ]
    },
    {
      "cell_type": "code",
      "execution_count": 10,
      "metadata": {},
      "outputs": [
        {
          "name": "stdout",
          "output_type": "stream",
          "text": [
            "downloading Olivetti faces from https://ndownloader.figshare.com/files/5976027 to /home/yassin/scikit_learn_data\n",
            "Precisión: 93.8% con OrderedDict([('kn__metric', 'manhattan'), ('kn__n_neighbors', 2), ('kn__weights', 'distance'), ('pca__n_components', 50)])\n"
          ]
        }
      ],
      "source": [
        "import warnings; warnings.filterwarnings('ignore')\n",
        "from sklearn.datasets import fetch_olivetti_faces\n",
        "from sklearn.neighbors import KNeighborsClassifier\n",
        "from sklearn.discriminant_analysis import StandardScaler\n",
        "from sklearn.model_selection import GridSearchCV\n",
        "from sklearn.model_selection import train_test_split, GridSearchCV;\n",
        "from sklearn.decomposition import PCA;\n",
        "from sklearn.pipeline import Pipeline;\n",
        "from skopt import BayesSearchCV;\n",
        "\n",
        "X, y = fetch_olivetti_faces(return_X_y=True)\n",
        "\n",
        "X_train, X_test, y_train, y_test = train_test_split(X, y, test_size=0.2, shuffle=True, random_state=23)\n",
        "pca = PCA(); kn = KNeighborsClassifier(); scaler = StandardScaler();\n",
        "pipe = Pipeline(steps=[(\"scaler\", scaler), (\"pca\", pca), (\"kn\", kn)])\n",
        "\n",
        "G = {\"pca__n_components\": [4,8,16,32,50], \"kn__n_neighbors\":[2,3,4,5,6,7,8,9,10], \"kn__weights\":['uniform', 'distance'], \"kn__metric\":['euclidean', 'manhattan']}\n",
        "GS = BayesSearchCV(pipe, G, scoring='accuracy', refit=True, cv=5)\n",
        "\n",
        "acc=GS.fit(X_train,y_train).score(X_test,y_test)\n",
        "print(f'Precisión: {acc:.1%} con {GS.best_params_}')"
      ]
    }
  ],
  "metadata": {
    "colab": {
      "provenance": []
    },
    "kernelspec": {
      "display_name": "Python 3",
      "name": "python3"
    },
    "language_info": {
      "codemirror_mode": {
        "name": "ipython",
        "version": 3
      },
      "file_extension": ".py",
      "mimetype": "text/x-python",
      "name": "python",
      "nbconvert_exporter": "python",
      "pygments_lexer": "ipython3",
      "version": "3.11.7"
    }
  },
  "nbformat": 4,
  "nbformat_minor": 0
}
