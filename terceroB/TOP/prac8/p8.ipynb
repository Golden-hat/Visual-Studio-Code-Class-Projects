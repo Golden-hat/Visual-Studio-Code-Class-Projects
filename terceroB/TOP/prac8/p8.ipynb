{
  "cells": [
    {
      "cell_type": "markdown",
      "metadata": {
        "id": "C42sToH05ncI"
      },
      "source": [
        "<div align=\"left\">\n",
        "<img src=\"https://licensebuttons.net/l/by-nc-sa/3.0/88x31.png\" align=\"right\">\n",
        "<p align=\"left\"><b>Victor Sanchez Anguix - Pilar Tormos - Antonio Lova</b></p>\n",
        "</div>\n",
        "<img align=\"left\" width=\"30%\" src=\"https://www.inf.upv.es/www/etsinf/wp-content/uploads/2017/02/ETSInf_PRINCIPAL_V-horizontal.png\"/> <img width=\"30%\" src=\"https://www.upv.es/perfiles/pas-pdi/imagenes/marca_UPV_principal_negro150.png\" align=\"right\"/>\n"
      ]
    },
    {
      "cell_type": "markdown",
      "metadata": {
        "id": "wXkQslVrh2mS"
      },
      "source": [
        "# **OR Tools** con **Phyton**"
      ]
    },
    {
      "cell_type": "markdown",
      "metadata": {
        "id": "DDD1TcMGhYyB"
      },
      "source": [
        "Una de las suites de optimización disponibles en Python para la programación y resolución de problemas de optimización es Google OR-Tools. Tal y como indica su nombre, esta librería está desarrollada por Google como proyecto de código libre (código disponible [aquí](https://github.com/google/or-tools)). Para más información sobre el proyecto, consultar [web](https://developers.google.com/optimization).\n",
        "\n",
        "<figure style=\"text-align:center\">\n",
        "  <center>\n",
        "  <img src=\"https://developers.google.com/optimization/images/orLogo_72.png\"/>\n",
        "  <figcaption align=\"center\">Logotipo de Google OR-Tools</figcaption>\n",
        "  </center>\n",
        "</figure>\n",
        "\n",
        "Google OR-Tools  es un paquete de software portable de código abierto para resolución de problemas de optimización . Así mismo, cuenta con metaheurísticas que buscan encontrar la mejor solución a un problema entre un conjunto de posibles soluciones.\n",
        "\n",
        "OR-Tools es una herramienta potente, diseñada para abordar los problemas más difíciles en el enrutamiento de vehículos, problemas de redes y la programación matemática con variables continuas y discretas.\n",
        "\n",
        "Una de las mayores ventajas que presenta Google OR-Tools es que se trata de un software de código abierto, de manera que su modelo de desarrollo se basa en la colaboración. Esto representa un beneficio potencial, ya que cientos de personas están diariamente formulando modelos de optimización en diversos lenguajes de programación.\n",
        "\n",
        "Otra de las ventajas potenciales de Google OR-Tools consiste en que, a pesar de estar desarrollado en lenguaje C++, permite la formulación de modelos matemáticos de problemas reales en múltiples lenguajes de programación, y del mismo modo, cuenta con múltiples solucionadores específicos para resolverlos, algunos comerciales y algunos de código abierto.\n",
        "\n",
        "\n",
        "<figure style=\"text-align:center\">\n",
        "  <center>\n",
        "  <img src=\"https://poliformat.upv.es/access/content/user/25390446/Imagenes_Examenes/TOP-OR_Tools/LENGUAJES%20EN%20OR%20TOOLS.jpg\"/>\n",
        "  <figcaption align=\"center\"></figcaption>\n",
        "  </center>\n",
        "</figure>\n",
        "\n",
        "\n",
        "La obtención, el procesamiento y la disposición de un volumen considerable de datos, su convergencia en un modelo de optimización y su eventual integración hacia un solucionador, son procesos complejos, que implican a menudo el uso de herramientas poco compatibles.\n",
        "\n",
        "Google OR-Tools, al permitir el modelamiento en diversos lenguajes de programación, ofrece un sinfín de posibilidades de integración entre herramientas de obtención y tratamiento de información; así mismo, ofrece posibilidades ilimitadas de desarrollo de soluciones, como por ejemplo interfaces de usuario amigables, o integración con sistemas de integración de recursos, app’s, plataformas webs, dispositivos con un sistema de conexión a internet de las cosas (IoT), y mucho más.\n",
        "\n",
        "OR-Tools es compatible con sistemas Linux, Mac y Windows; sin embargo, su instalación varía de acuerdo al lenguaje de programación que se desea utilizar (https://developers.google.com/optimization/install).\n"
      ]
    },
    {
      "cell_type": "markdown",
      "metadata": {
        "id": "0FgAqrSshUZw"
      },
      "source": [
        "# Instalación de **OR Tools**\n"
      ]
    },
    {
      "cell_type": "markdown",
      "metadata": {
        "id": "8Gb_jGHop0yZ"
      },
      "source": [
        "Por defecto, Google  OR Tools  no está instalado como parte del entorno Google Colab, así como tampoco lo está para las instalaciones por defecto de Python. Por ello, lo primero que haremos en este notebook es encargarnos de instalar la suite de optimización OR-Tools para Python con el comando de instalación de módulos **pip**.\n",
        "\n",
        "Ejecuta la siguiente instrucción en este propio notebook. Nótese que en las máquinas virtuales de Google Colab es necesario realizarlo cada vez que volvemos a iniciar el notebook.\n",
        "\n",
        "Para ejecutar código debes pulsar el icono:\n",
        "<figure style=\"text-align:center\">\n",
        "  <center>\n",
        "  <img src=\"https://poliformat.upv.es/access/content/user/25390446/Imagenes_Examenes/TOP-OR_Tools/ejecuci%C3%B3n%20off.jpg\"/>\n",
        "  <figcaption align=\"center\"></figcaption>\n",
        "  </center>\n",
        "</figure>\n",
        "\n"
      ]
    },
    {
      "cell_type": "code",
      "execution_count": null,
      "metadata": {
        "colab": {
          "base_uri": "https://localhost:8080/"
        },
        "id": "E4OIWNcL5RKf",
        "outputId": "c86c0dc0-be33-449a-a106-46e8e62530fa"
      },
      "outputs": [
        {
          "name": "stdout",
          "output_type": "stream",
          "text": [
            "Looking in indexes: https://pypi.org/simple, https://us-python.pkg.dev/colab-wheels/public/simple/\n",
            "Collecting ortools\n",
            "  Downloading ortools-9.6.2534-cp310-cp310-manylinux_2_17_x86_64.manylinux2014_x86_64.whl (16.4 MB)\n",
            "\u001b[2K     \u001b[90m━━━━━━━━━━━━━━━━━━━━━━━━━━━━━━━━━━━━━━━━\u001b[0m \u001b[32m16.4/16.4 MB\u001b[0m \u001b[31m53.1 MB/s\u001b[0m eta \u001b[36m0:00:00\u001b[0m\n",
            "\u001b[?25hRequirement already satisfied: absl-py>=0.13 in /usr/local/lib/python3.10/dist-packages (from ortools) (1.4.0)\n",
            "Requirement already satisfied: numpy>=1.13.3 in /usr/local/lib/python3.10/dist-packages (from ortools) (1.22.4)\n",
            "Collecting protobuf>=4.21.12 (from ortools)\n",
            "  Downloading protobuf-4.23.1-cp37-abi3-manylinux2014_x86_64.whl (304 kB)\n",
            "\u001b[2K     \u001b[90m━━━━━━━━━━━━━━━━━━━━━━━━━━━━━━━━━━━━━━\u001b[0m \u001b[32m304.5/304.5 kB\u001b[0m \u001b[31m18.3 MB/s\u001b[0m eta \u001b[36m0:00:00\u001b[0m\n",
            "\u001b[?25hRequirement already satisfied: scipy>=1.10.0 in /usr/local/lib/python3.10/dist-packages (from ortools) (1.10.1)\n",
            "Installing collected packages: protobuf, ortools\n",
            "  Attempting uninstall: protobuf\n",
            "    Found existing installation: protobuf 3.20.3\n",
            "    Uninstalling protobuf-3.20.3:\n",
            "      Successfully uninstalled protobuf-3.20.3\n",
            "Successfully installed ortools-9.6.2534 protobuf-4.23.1\n"
          ]
        }
      ],
      "source": [
        "!pip install ortools"
      ]
    },
    {
      "cell_type": "markdown",
      "metadata": {
        "id": "Fv8AjpxKhajk"
      },
      "source": [
        "# Google Linear Optimizer (Glop)"
      ]
    },
    {
      "cell_type": "markdown",
      "metadata": {
        "id": "mDYotvFkv7Sc"
      },
      "source": [
        "La suite de optimización de Google OR-Tools cuenta con varios solvers y algoritmos de optimización que vienen instalados de forma nativa con la suite. También proporciona una API para la interacción con solvers de terceras partes como SCIP y Gurobi.\n",
        "\n",
        "En el caso de los problemas de programación lineal, OR-Tools cuenta con su propio solver instalado de forma nativa, además de contar con una API para interactuar con otros solvers de programación lineal como ahora *GLPK* o *CLP*. En esta práctica vamos a trabajar con el solver nativo de la suite, *Google Linear Optimizer* o también conocido como *GLOP*. Al igual que la propia suite, *GLOP* es un proyecto de código libre cuyo código libre se encuentra disponible en la siguiente [web](https://github.com/google/or-tools/tree/stable/ortools/glop).\n",
        "\n",
        "En principio, este solver se instala cuando también instalamos OR-Tools, por lo que no requiere de configuración adicional. Este solver es capaz de resolver una gran variedad de problemas de programación lineal, además de contar con muchas características que facilitan el modelado y desarrollo de problemas de programación lineal.\n",
        "\n",
        "En la siguiente sección vamos a ver cómo podemos emplear GLOP para programar la resolución de un sencillo problema de programación lineal."
      ]
    },
    {
      "cell_type": "markdown",
      "metadata": {
        "id": "-9AXH6IejzQT"
      },
      "source": [
        "# Resolviendo un problema de programación lineal con GLOP"
      ]
    },
    {
      "cell_type": "markdown",
      "metadata": {
        "id": "HJxzg20m4uhZ"
      },
      "source": [
        "En este tutorial guiado vamos a resolver el problema de producción de placas base con el que hemos trabajado durante el curso:\n",
        "\n",
        "*Una empresa de producción de componentes informáticos dispone de 3 departamentos. La fabricación de los componentes se hace en el departamento 1 (producción), el test de los mismos se realiza en el departamento 2 (control de calidad) y en el departamento 3 (montaje) se realiza el ensamblado.*\n",
        "\n",
        "*Debido a la disminución en los beneficios, la gerencia ha decidido reorganizar la producción de la empresa.*\n",
        "\n",
        "*Se interrumpirá la producción de componentes no rentables para comenzar la producción de dos nuevas placas base*\n",
        "* *Placa base 1 (más sencilla, se testea en el departamento de producción)*\n",
        "* *Placa base 2 (fabricada por otra empresa)*\n",
        "\n",
        "*La placa base 1 requiere parte de la capacidad de producción en los departamentos 1 y 3 y nada en el departamento 2.*\n",
        "\n",
        "*La placa base 2 sólo necesita trabajo en los departamentos 2 y 3*\n",
        "\n",
        "<figure style=\"text-align:center\">\n",
        "  <center>\n",
        "  <img src=\"https://poliformat.upv.es/access/content/user/25390446/Imagenes_Examenes/TOP-OR_Tools/placasbase.jpg\"/>\n",
        "  <figcaption align=\"center\"></figcaption>\n",
        "  </center>\n",
        "</figure>\n",
        "\n",
        "*Teniendo en cuenta la capacidad de producción de los departamentos y que el beneficio por lote es 3000 y 5000 € respectivamente,*\n",
        "\n",
        "**¿Cuál es la producción que maximiza el beneficio total de la compañía?**\n"
      ]
    },
    {
      "cell_type": "markdown",
      "metadata": {
        "id": "B1khzfR9-fjT"
      },
      "source": [
        "## 1. Modelando el problema formalmente"
      ]
    },
    {
      "cell_type": "markdown",
      "metadata": {
        "id": "4t14SHIH8GhB"
      },
      "source": [
        "El problema consiste en determinar los valores de las variables:\n",
        "\n",
        "*X1: Lotes de Placa base 1 a fabricar semanalmente*\n",
        "\n",
        "*X2: Lotes de Placa base 2 a fabricar semanalmente*\n",
        "\n",
        "\tX1 ≥ 0  y  X2 ≥ 0\n",
        "\n",
        "que optimicen (maximicen en este caso, en miles de euros) la función objetivo:\n",
        "\n",
        "\tMax  3 X1 +  5 X2\n",
        "\n",
        "y verifiquen las restricciones:\n",
        "```python\n",
        "X1 ≤ 4\n",
        "\n",
        "2 X2 ≤  12\n",
        "\n",
        "3 X1 + 2 X2 ≤ 18\n",
        "\n"
      ]
    },
    {
      "cell_type": "markdown",
      "metadata": {
        "id": "CnxxrnVr-mJ7"
      },
      "source": [
        "## 2. Importando el wrapper de OR Tools para trabajar con solvers de programación lineal"
      ]
    },
    {
      "cell_type": "markdown",
      "metadata": {
        "id": "u8JADwSf2KDO"
      },
      "source": [
        "Cuando programemos un script de Python y deseemos emplear GLOP para la resolución de un problema de programación lineal, primero tendremos que importar *pywraplp*. Éste es el módulo de OR-Tools que contiene las funciones que nos van a permitir tanto modelar el propio problema de programación lineal, así como interactuar con el solver que estemos trabajando.\n",
        "\n",
        "Este módulo se encuentra dentro de la suite de OR-Tools y dentro del módulo *linear_solver*. Por tanto, deberemos emplear una instrucción de importación como la que sigue:\n",
        "\n",
        "\n"
      ]
    },
    {
      "cell_type": "code",
      "execution_count": 2,
      "metadata": {
        "id": "WHo5i6cEj6GR"
      },
      "outputs": [],
      "source": [
        "from ortools.linear_solver import pywraplp"
      ]
    },
    {
      "cell_type": "markdown",
      "metadata": {
        "id": "2xZsUWV4_OTu"
      },
      "source": [
        "Una vez importado *pywraplp*, podremos interactuar con las funciones y clases definidas dentro de él para la resolución de problemas de optimización."
      ]
    },
    {
      "cell_type": "markdown",
      "metadata": {
        "id": "KhPnZXJ5_dNf"
      },
      "source": [
        "## 3. Creando una instancia válida de la clase Solver"
      ]
    },
    {
      "cell_type": "markdown",
      "metadata": {
        "id": "vGK8gsrh_qyX"
      },
      "source": [
        "Para poder modelar y resolver un problema de optimización lineal, necesitamos instanciar la clase *Solver*. Esto generará un objeto de dicha clase, que será con el que interactuaremos para modelar el problema (crear variables, restricciones, etc.) y resolverlo. Por regla general, tendremos que crear una instancia de este objeto por cada problema de optimización lineal que queramos resolver.\n",
        "\n",
        "Con el fin de instanciar un objeto de la clase *Solver*, llamaremos al método estático *CreateSolver* que se encuentra definido dentro de la clase."
      ]
    },
    {
      "cell_type": "code",
      "execution_count": 3,
      "metadata": {
        "id": "ruDBZgD_kQsr"
      },
      "outputs": [],
      "source": [
        "solver = pywraplp.Solver.CreateSolver('GLOP')"
      ]
    },
    {
      "cell_type": "markdown",
      "metadata": {
        "id": "HSxs2qL0CLFC"
      },
      "source": [
        "## 4. Creando variables de decisión"
      ]
    },
    {
      "cell_type": "markdown",
      "metadata": {
        "id": "ErwM6ee0CSgr"
      },
      "source": [
        "El siguiente paso natural para modelar el problema de optimización con OR-Tools es el de definir las variables de decisión. Recuerda que las **variables de decisión** representan aquellos aspectos sobre los cuales nosotros **tenemos poder de decisión** y que por tanto podemos definir su valor final. En el ejemplo de la producción de placas base, podemos decidir por un lado cuantos lotes de placas base tipo 1 a fabricar semanalmente y también cuantos lotes de placa base 2 fabricar semanalmente.\n",
        "\n",
        "Nunca podemos fabricar cantidades negativas, por lo que el valor mínimo para cada variable será de cero.\n",
        "\n",
        "Por tanto, ambas variables pueden ser modeladas como:\n",
        "\n",
        "$X1,X2\\geq 0$\n",
        "\n",
        "En OR-Tools, las variables de decisión están asociadas a una instancia concreta de la clase *Solver*, por lo que su creación se realiza mediante métodos asociados a objetos de dicha clase. Para poder crear una variable de decisión de tipo real, empleamos el método *NumVar* en la instancia de solver que hemos creado. Cuando creamos una variable, definimos primero su *lower bound* o cota inferior para el valor mínimo que puede tomar la variable (i.e., 0 en nuestro caso) y su *upper bound* o cota superior para acotar el valor máximo que puede tomar la variable. Tanto en el caso de X1 como de X2, no tienen una cota superior por lo que representaremos este valor con infinito (representado internamente por el método *infinity*). Opcionalmente, podemos otorgar un nombre interno a cada una de estas variables con el parámetro opcional *name*.\n",
        "\n",
        "En el siguiente ejemplo creamos las variables X1 y X2, establecemos su límite inferior (i.e., cero), su límite superior (i.e., infinito), y les damos nombre interno a cada una de las variable.\n",
        "\n",
        "Ejecuta el siguiente ejemplo para definir cada una de las variables."
      ]
    },
    {
      "cell_type": "code",
      "execution_count": 4,
      "metadata": {
        "id": "y7BbHf2HkecT"
      },
      "outputs": [],
      "source": [
        "# Creamos las variables X1 y X2.\n",
        "X1 = solver.NumVar(0,  solver.infinity(), name='X1')\n",
        "X2 = solver.NumVar(0,  solver.infinity(), name='X2')"
      ]
    },
    {
      "cell_type": "markdown",
      "metadata": {
        "id": "euD8_Kc0Fqbb"
      },
      "source": [
        "## 5. Creando restricciones"
      ]
    },
    {
      "cell_type": "markdown",
      "metadata": {
        "id": "JmWzH6C_GD0b"
      },
      "source": [
        "Una vez definidas todas las variables de decisión del problema, podemos pasar a definir las **restricciones** del problema. Cabe recordar que en el caso de programación lineal, éstas vienen especificadas como **desigualdades** matemáticas sobre las variables de decisión. Para nuestro sencillo ejemplo, habíamos definido las siguientes restricciones:\n",
        "\n",
        "$[Depto1]: X1 \\leq 4$\n",
        "\n",
        "$[Depto2]: 2X2 \\leq 12$\n",
        "\n",
        "$[Depto3]: 3 X1 + 2 X2 \\leq 18$\n"
      ]
    },
    {
      "cell_type": "code",
      "execution_count": 5,
      "metadata": {
        "id": "wcaAiUEXk_NY"
      },
      "outputs": [],
      "source": [
        "solver.Add(1 * X1 + 0 * X2 <= 4);\n",
        "solver.Add(0 * X1 + 2 * X2 <= 12);\n",
        "solver.Add(3 * X1 + 2 * X2 <= 18);"
      ]
    },
    {
      "cell_type": "markdown",
      "metadata": {
        "id": "dR0y8wF5MJ7Y"
      },
      "source": [
        "## 6. Creando la función objetivo"
      ]
    },
    {
      "cell_type": "markdown",
      "metadata": {
        "id": "XlBXE2teMdSC"
      },
      "source": [
        "Uno de los últimos pasos es el de la creación de la **función objetivo**. En los problemas de programación lineal, la función objetivo es una **combinación lineal** de las variables de decisión. Esta función deberá ser minimizada o maximizada dependiendo del problema concreto a resolver.\n",
        "\n",
        "En nuestro caso, la función objetivo busca **maximizar** los beneficios de la producción (i.e., a más beneficios mejor). Por cada lote de placas base tipo 1 fabricados generamos 3 (miles de euros) de beneficio, mientras que para los lotes de placa base 2 es de 5.\n",
        "\n",
        "$\\max \\;\\;Z = 3 X1 + 5 X2$\n",
        "\n",
        "En el siguiente fragmento de código generamos el objetivo del problema, ajustamos los coeficientes para las variables X1 y X2, y finalmente definimos que queremos maximizar dicho objetivo."
      ]
    },
    {
      "cell_type": "code",
      "execution_count": 6,
      "metadata": {
        "id": "GqeMuK7GopW0"
      },
      "outputs": [],
      "source": [
        "solver.Maximize(3 * X1 + 5 * X2)"
      ]
    },
    {
      "cell_type": "markdown",
      "metadata": {
        "id": "WBgZcULAPL4l"
      },
      "source": [
        "## 7. Resolviendo el problema"
      ]
    },
    {
      "cell_type": "markdown",
      "metadata": {
        "id": "lLQElsmmPVHt"
      },
      "source": [
        "Una vez hemos terminado de modelar el problema, podemos emplear nuestra instancia de solver para resolverlo. Para ello, es tan sencillo como invocar el método *Solve* dentro de la instancia del solver. El proceso de resolución del problema puede tardar cuestión de milisegundos, segundos, minutos, horas o incluso días dependiendo de la envergadura del problema a resolver así como las prestaciones de la máquina sobre la cual se ejecuta. Para este ejemplo sencillo, debería ser cuestión de milisegundos."
      ]
    },
    {
      "cell_type": "code",
      "execution_count": 7,
      "metadata": {
        "colab": {
          "base_uri": "https://localhost:8080/"
        },
        "id": "hy1M4eN7p2cF",
        "outputId": "bce901d6-6f2d-4171-d682-fc42ee134b70"
      },
      "outputs": [
        {
          "name": "stdout",
          "output_type": "stream",
          "text": [
            "0\n"
          ]
        }
      ],
      "source": [
        "tipo_resultado=solver.Solve()\n",
        "print(tipo_resultado)"
      ]
    },
    {
      "cell_type": "markdown",
      "metadata": {
        "id": "lsOkgQMmQliE"
      },
      "source": [
        "Nótese que hemos almacenado el resultado devuelto por el método *Solve* en una variable llamada *tipo_resultado*. Esto es importante, ya que tal y como hemos estudiado en la asignatura existen varias formas de finalizar el proceso de optimización:\n",
        "\n",
        "*    Solución óptima única\n",
        "*    Infinitas soluciones óptimas\n",
        "*    Solución no acotada\n",
        "*    No existe solución\n",
        "\n",
        "*GLOP* nos informa del tipo de solución encontrada con el valor devuelto por el método *Solve*. Existen constantes definidas para cada uno de estos estados:\n",
        "\n",
        "| Constante | Estado |\n",
        "| --- | --- |\n",
        "| *ABNORMAL*  |  Se ha terminado por algún error o problema |\n",
        "| *FEASIBLE* | Al terminar se tiene una solución factible, aunque no es necesariamente óptima.\n",
        "| *INFEASIBLE* | No existe solución al problema |\n",
        "| *NOT_SOLVED* | No se ha resuelto el problema |\n",
        "| *OPTIMAL*    | Se ha encontrado una solución óptima |\n",
        "| *UNBOUNDED*  | La solución no está acotada |\n",
        "\n",
        "Estas constantes se encuentran definidas en la propia instancia del objeto *Solver*. Por lo general, los estados *FEASIBLE* y *NOT_SOLVED* se pueden dar cuando establecemos algún límite de tiempo para la ejecución del solver. Cuando se agota ese tiempo puede que tengamos una solución (que no tiene por qué ser óptima) o que no haya podido encontrar ninguna solución todavía.\n",
        "\n",
        "Por regla general, es buena práctica comprobar el tipo de resultado obtenido antes de pasar a interpretarlo. En el siguiente bloque de código hacemos estas comprobaciones.\n",
        "\n"
      ]
    },
    {
      "cell_type": "code",
      "execution_count": 8,
      "metadata": {
        "colab": {
          "base_uri": "https://localhost:8080/"
        },
        "id": "Me5cGGlhf9Fi",
        "outputId": "386ea16d-77c0-4cb6-e93a-0cbdc83fce82"
      },
      "outputs": [
        {
          "name": "stdout",
          "output_type": "stream",
          "text": [
            "Tipo resultado: 0\n",
            "-----------------------------\n",
            "Número de variables = 2\n",
            "Número de restricciones = 3\n",
            "-----------------------------\n",
            "SE HA ENCONTRADO LA SOLUCIÓN ÓPTIMA\n",
            "----------------------------------------\n",
            "Valor óptimo de la variable X1 es de 2.0\n",
            "Valor óptimo de la variable X2 es de 6.0\n",
            "----------------------------------------\n",
            "Valor óptimo de la función objetivo es 36.0\n",
            "----------------------------------------------\n"
          ]
        }
      ],
      "source": [
        "#Resolución del problema e interpretación del resultado\n",
        "tipo_resultado=solver.Solve()\n",
        "print(\"Tipo resultado:\", tipo_resultado)\n",
        "print(\"-----------------------------\")\n",
        "print('Número de variables =', solver.NumVariables())\n",
        "print('Número de restricciones =', solver.NumConstraints())\n",
        "print(\"-----------------------------\")\n",
        "\n",
        "if tipo_resultado == solver.ABNORMAL :\n",
        "  print(\"Se ha producido un error mientras se ejecutaba el solver\")\n",
        "if tipo_resultado == solver.FEASIBLE :\n",
        "  print(\"Se ha encontrado una solución factible\")\n",
        "  print(\"--------------------------------------\")\n",
        "  print(\"Valor óptimo de la variable\", X1.name(), 'es de', X1.solution_value())\n",
        "  print(\"Valor óptimo de la variable\", X2.name(), 'es de', X2.solution_value())\n",
        "  print(\"El valor de la solución es de\", solver.Objective().Value())\n",
        "if tipo_resultado == solver.INFEASIBLE :\n",
        "  print(\"El problema no tiene solución posible\")\n",
        "if tipo_resultado == solver.NOT_SOLVED :\n",
        "  print(\"No se ha podido encontrar ninguna solución en el tiempo proporcionado\")\n",
        "if tipo_resultado == solver.OPTIMAL :\n",
        "  print(\"SE HA ENCONTRADO LA SOLUCIÓN ÓPTIMA\")\n",
        "  print(\"----------------------------------------\")\n",
        "  print(\"Valor óptimo de la variable\", X1.name(), 'es de', X1.solution_value())\n",
        "  print(\"Valor óptimo de la variable\", X2.name(), 'es de', X2.solution_value())\n",
        "  print(\"----------------------------------------\")\n",
        "  print(\"Valor óptimo de la función objetivo es\", solver.Objective().Value())\n",
        "  print(\"----------------------------------------------\")\n",
        "if tipo_resultado == solver.UNBOUNDED :\n",
        "  print(\"Solución no acotada por las restricciones\")"
      ]
    },
    {
      "cell_type": "markdown",
      "metadata": {
        "id": "ABzjx1tDVPP3"
      },
      "source": [
        "Hay varias cosas que deben ser comentadas sobre el fragmento de código anterior.\n",
        "\n",
        "Fijémonos que una vez ejecutado el solver, podemos obtener el valor de la variable de decisión en la solución obtenida empleando el método *solution_value*.\n",
        "\n",
        "```python\n",
        "x1.solution_value()\n",
        "x2.solution_value()\n",
        "```\n",
        "\n",
        "El valor de la función objetivo en la solución encontrada puede ser calculado automáticamente con el método *Value()* definido sobre el objetivo tras ejecutar el solver.\n",
        "\n",
        "```python\n",
        "Objective().Value()\n",
        "```\n"
      ]
    },
    {
      "cell_type": "markdown",
      "metadata": {
        "id": "jrdZeMqKW3b-"
      },
      "source": [
        "## 8. Resumen del código ejecutado"
      ]
    },
    {
      "cell_type": "markdown",
      "metadata": {
        "id": "QBxWoclkW_h3"
      },
      "source": [
        "A continuación ponemos todo el código desarrollado para la resolución del ejemplo anterior"
      ]
    },
    {
      "cell_type": "code",
      "execution_count": 9,
      "metadata": {
        "colab": {
          "base_uri": "https://localhost:8080/"
        },
        "id": "b1BlFpeJFqNB",
        "outputId": "bd0c5583-2881-4f46-83a5-3de28bc9dff7"
      },
      "outputs": [
        {
          "name": "stdout",
          "output_type": "stream",
          "text": [
            "Tipo resultado: 0\n",
            "-----------------------------\n",
            "Número de variables = 2\n",
            "Número de restricciones = 3\n",
            "-----------------------------\n",
            "SE HA ENCONTRADO LA SOLUCIÓN ÓPTIMA\n",
            "----------------------------------------\n",
            "Valor óptimo de la variable X1 es de 2.0\n",
            "Valor óptimo de la variable X2 es de 6.0\n",
            "----------------------------------------\n",
            "Valor óptimo de la función objetivo es 36.0\n",
            "----------------------------------------------\n"
          ]
        }
      ],
      "source": [
        "#Creación de la instancia del solver\n",
        "solver = pywraplp.Solver.CreateSolver('GLOP')\n",
        "\n",
        "#Creación de las variables de decisión\n",
        "X1 = solver.NumVar(0,  solver.infinity(), name='X1')\n",
        "X2 = solver.NumVar(0,  solver.infinity(), name='X2')\n",
        "\n",
        "#Creación de las restricciones del problema\n",
        "solver.Add(1 * X1 + 0 * X2 <= 4);\n",
        "solver.Add(0 * X1 + 2 * X2 <= 12);\n",
        "solver.Add(3 * X1 + 2 * X2 <= 18);\n",
        "\n",
        "#Creación de la función objetivo\n",
        "solver.Maximize(3 * X1 + 5 * X2)\n",
        "\n",
        "#Resolución del problema e interpretación del resultado\n",
        "tipo_resultado=solver.Solve()\n",
        "print(\"Tipo resultado:\", tipo_resultado)\n",
        "print(\"-----------------------------\")\n",
        "print('Número de variables =', solver.NumVariables())\n",
        "print('Número de restricciones =', solver.NumConstraints())\n",
        "print(\"-----------------------------\")\n",
        "\n",
        "if tipo_resultado == solver.ABNORMAL :\n",
        "  print(\"Se ha producido un error mientras se ejecutaba el solver\")\n",
        "if tipo_resultado == solver.FEASIBLE :\n",
        "  print(\"Se ha encontrado una solución factible\")\n",
        "  print(\"--------------------------------------\")\n",
        "  print(\"Valor óptimo de la variable\", X1.name(), 'es de', X1.solution_value())\n",
        "  print(\"Valor óptimo de la variable\", X2.name(), 'es de', X2.solution_value())\n",
        "  print(\"El valor de la solución es de\", solver.Objective().Value())\n",
        "if tipo_resultado == solver.INFEASIBLE :\n",
        "  print(\"El problema no tiene solución posible\")\n",
        "if tipo_resultado == solver.NOT_SOLVED :\n",
        "  print(\"No se ha podido encontrar ninguna solución en el tiempo proporcionado\")\n",
        "if tipo_resultado == solver.OPTIMAL :\n",
        "  print(\"SE HA ENCONTRADO LA SOLUCIÓN ÓPTIMA\")\n",
        "  print(\"----------------------------------------\")\n",
        "  print(\"Valor óptimo de la variable\", X1.name(), 'es de', X1.solution_value())\n",
        "  print(\"Valor óptimo de la variable\", X2.name(), 'es de', X2.solution_value())\n",
        "  print(\"----------------------------------------\")\n",
        "  print(\"Valor óptimo de la función objetivo es\", solver.Objective().Value())\n",
        "  print(\"----------------------------------------------\")\n",
        "if tipo_resultado == solver.UNBOUNDED :\n",
        "  print(\"Solución no acotada por las restricciones\")"
      ]
    },
    {
      "cell_type": "markdown",
      "metadata": {
        "id": "i3Z9ma2KZ9vu"
      },
      "source": [
        "______________**HAZLO TU MISMO**________________________________________________________"
      ]
    },
    {
      "cell_type": "markdown",
      "metadata": {
        "id": "vRlRgLz6gwTK"
      },
      "source": [
        "## Un problema de CUBRIMIENTO"
      ]
    },
    {
      "cell_type": "markdown",
      "metadata": {
        "id": "eh3zr4HMg1Pj"
      },
      "source": [
        "> En una explotación agropecuaria se está modernizando el sistema de regadío de un riego de superficie a un moderno sistema de riego por aspersión de tipo estacionario fijo enterrado.\n",
        "La parcela es muy irregular y es necesario instalar un número elevado de aspersores. La parcela se ha dividido en 6 sectores diferentes y existen 8 posibles puntos donde se puede instalar un aspersor. Existen dos tipos de aspersores, el de tipo medio, con un coste de 300 €/unidad y el de tipo grande con un coste de 490 €/unidad. Dependiendo del tipo de aspersor que se instale, más o menos sectores de la parcela quedarán cubiertos.\n",
        "La tabla siguiente nos indica los sectores de la parcela que quedan cubiertos según se instale un aspersor medio o grande en cada uno de los 8 posibles puntos:\n",
        "\n",
        "<figure style=\"text-align:center\">\n",
        "  <center>\n",
        "  <img src=\"https://poliformat.upv.es/access/content/user/25390446/Imagenes_Examenes/TOP-OR_Tools/ModeloEjercicio.jpg\"/>\n",
        "  <figcaption align=\"center\"></figcaption>\n",
        "  </center>\n",
        "</figure>\n",
        "\n",
        "> En un punto dado sólo se puede instalar un aspersor, sea de tipo mediano o de tipo grande.\n",
        "Adicionalmente, debido a restricciones del caudal máximo de agua se deben tener en cuenta las siguientes condiciones:\n",
        "\n",
        "*   Tan sólo se pueden instalar como mucho 2 aspersores de tipo grande.\n",
        "\n",
        "*   Si se instala un aspersor de tipo medio en el punto 3 también se debe instalar un aspersor del mismo tipo en el punto 6.\n",
        "\n",
        "*   La empresa proveedora de los aspersores aplicaría un descuento de 300 euros en la factura total en el caso de que se instalen al menos 3 aspersores de tipo medio.\n",
        "\n",
        "Plantea un modelo de programación lineal, (explicando con claridad **variables**, **función objetivo** y **restricciones**), que permita determinar los puntos de aspersión a ocupar y con qué tipos de aspersores, de manera que se **minimice el coste total** de instalación y se tengan en cuenta todas las condiciones indicadas.\n",
        "\n",
        "**NOTA 1**\n",
        "\n",
        "Para definir variables binarias:\n",
        "***X1 = solver.BoolVar('X1')***\n",
        "\n",
        "**NOTA 2**\n",
        "\n",
        "Al tratarse de un modelo con variables enteras (binarias), utilizaremos el optimizador ***SCIP*** en vez de GLOP.\n",
        "\n",
        "INTRODUCE EL CÓDIGO QUE NECESITES EN LA SIGUIENTE CAJA:\n",
        "--------------------------------------------------------------------------"
      ]
    },
    {
      "cell_type": "code",
      "execution_count": 12,
      "metadata": {
        "id": "2ONSUGosg6RL"
      },
      "outputs": [
        {
          "name": "stdout",
          "output_type": "stream",
          "text": [
            "El valor de la solución es de 0.0\n"
          ]
        }
      ],
      "source": [
        "#Creación de la instancia del solver\n",
        "solver = pywraplp.Solver.CreateSolver('SCIP')\n",
        "\n",
        "#Creación de las variables de decisión\n",
        "\n",
        "aGrande = []\n",
        "aMed = []\n",
        "for i in range(0, 8):\n",
        "  aGrande.append(solver.BoolVar('aGrande'+str(i)))\n",
        "  aMed.append(solver.BoolVar('aMed'+str(i))) \n",
        "\n",
        "MD3 = solver.BoolVar('MD3')\n",
        "\n",
        "#Creación de las restricciones del problema\n",
        "solver.Add(aMed[3] <= aGrande[6])\n",
        "\n",
        "solver.Add(sum(aGrande) <= 2)\n",
        "solver.Add(sum(aGrande) + sum(aMed) <= 8)\n",
        "solver.Add(MD3*3 <= sum(aMed))\n",
        "\n",
        "# Zona 1\n",
        "solver.Add(aGrande[0] + aMed[0] >= 1)\n",
        "# Zona 2\n",
        "solver.Add(aMed[2] + aMed[4] + aGrande[1] + aGrande[2] + aGrande[3] + aGrande[4] >= 1)\n",
        "# Zona 3\n",
        "solver.Add(aMed[6] + aGrande[5] + aGrande[6] + aGrande[7] >= 1)\n",
        "# Zona 4\n",
        "solver.Add(aMed[1] + aMed[3] + aGrande[1] + aGrande[3] >= 1)\n",
        "# Zona 5\n",
        "solver.Add(aMed[2] + aMed[3] + aMed[5] + aGrande[1] + aGrande[3] + aGrande[4] >= 1)\n",
        "# Zona 6\n",
        "solver.Add(aMed[5] + aMed[6] + aMed[7] + aGrande[5] + aGrande[6] + aGrande[7] >= 1)\n",
        "\n",
        "#Creación de la función objetivo\n",
        "solver.Minimize(490 * sum(aGrande) + 300 * sum(aMed) - 300*MD3)\n",
        "\n",
        "#Resolución del problema e interpretación del resultado\n",
        "tipo_resultado=solver.Solve()\n",
        "\n",
        "print(\"El valor de la solución es de\", solver.Objective().Value())\n",
        "\n"
      ]
    },
    {
      "cell_type": "code",
      "execution_count": null,
      "metadata": {},
      "outputs": [],
      "source": []
    }
  ],
  "metadata": {
    "colab": {
      "provenance": []
    },
    "kernelspec": {
      "display_name": "Python 3",
      "name": "python3"
    },
    "language_info": {
      "codemirror_mode": {
        "name": "ipython",
        "version": 3
      },
      "file_extension": ".py",
      "mimetype": "text/x-python",
      "name": "python",
      "nbconvert_exporter": "python",
      "pygments_lexer": "ipython3",
      "version": "3.10.14"
    }
  },
  "nbformat": 4,
  "nbformat_minor": 0
}
