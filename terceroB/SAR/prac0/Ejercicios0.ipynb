{
 "cells": [
  {
   "cell_type": "markdown",
   "metadata": {},
   "source": [
    "Ejercicio 1."
   ]
  },
  {
   "cell_type": "code",
   "execution_count": 1,
   "metadata": {},
   "outputs": [
    {
     "data": {
      "text/plain": [
       "True"
      ]
     },
     "execution_count": 1,
     "metadata": {},
     "output_type": "execute_result"
    }
   ],
   "source": [
    "import string\n",
    "\n",
    "def isPanagram(str):\n",
    "    lowercased_set= set(string.ascii_lowercase)\n",
    "    str = set(str.lower())\n",
    "    if str.__contains__(\" \"):\n",
    "        str.remove(\" \")\n",
    "\n",
    "    if lowercased_set == str:\n",
    "        return True\n",
    "    return False\n",
    "\n",
    "isPanagram(\"The quick brown fox jumps over the lazy dog\")"
   ]
  },
  {
   "cell_type": "markdown",
   "metadata": {},
   "source": [
    "Ejercicio 2."
   ]
  },
  {
   "cell_type": "code",
   "execution_count": 2,
   "metadata": {},
   "outputs": [
    {
     "data": {
      "text/plain": [
       "True"
      ]
     },
     "execution_count": 2,
     "metadata": {},
     "output_type": "execute_result"
    }
   ],
   "source": [
    "def checkOnlyOnce(str):\n",
    "    i = 0\n",
    "    for i in range(0,len(str)):\n",
    "        for j in range(0,len(str)):\n",
    "            if i != j:\n",
    "                if str[i] == str[j]:\n",
    "                    return False\n",
    "    return True\n",
    "                \n",
    "def isPerfectPanagram(str):\n",
    "    if checkOnlyOnce(str) == False:\n",
    "        return False\n",
    "    \n",
    "    lowercased_set= set(string.ascii_lowercase)\n",
    "    str = set(str.lower())\n",
    "    if str.__contains__(\" \"):\n",
    "        str.remove(\" \")\n",
    "\n",
    "    if lowercased_set == str:\n",
    "        return True\n",
    "    return False\n",
    "\n",
    "isPerfectPanagram(\"asdfghjklzxcvbnmqwertyuipo\")"
   ]
  },
  {
   "cell_type": "markdown",
   "metadata": {},
   "source": [
    "Ejercicio 3."
   ]
  },
  {
   "cell_type": "code",
   "execution_count": 3,
   "metadata": {},
   "outputs": [
    {
     "name": "stdout",
     "output_type": "stream",
     "text": [
      "['a', 'r', 'z', 'r', 'e', 'b', 'b', 'e', 't', 'r', 'r', 'a', 'a']\n",
      "['a', 'a', 'z', 'e', 'b', 'r', 'r', 'b', 'e', 't', 'r', 'r', 'a']\n",
      "\n",
      "['r', 'z', 'r', 'e', 'b', 'b', 'e', 't', 'r', 'r', 'a', 'a']\n",
      "['a', 'z', 'e', 'b', 'r', 'r', 'b', 'e', 't', 'r', 'r', 'a']\n",
      "\n",
      "['z', 'r', 'e', 'b', 'b', 'e', 't', 'r', 'r', 'a', 'a']\n",
      "['a', 'z', 'e', 'b', 'r', 'b', 'e', 't', 'r', 'r', 'a']\n",
      "\n",
      "['r', 'e', 'b', 'b', 'e', 't', 'r', 'r', 'a', 'a']\n",
      "['a', 'e', 'b', 'r', 'b', 'e', 't', 'r', 'r', 'a']\n",
      "\n",
      "['e', 'b', 'b', 'e', 't', 'r', 'r', 'a', 'a']\n",
      "['a', 'e', 'b', 'b', 'e', 't', 'r', 'r', 'a']\n",
      "\n",
      "['b', 'b', 'e', 't', 'r', 'r', 'a', 'a']\n",
      "['a', 'b', 'b', 'e', 't', 'r', 'r', 'a']\n",
      "\n",
      "['b', 'e', 't', 'r', 'r', 'a', 'a']\n",
      "['a', 'b', 'e', 't', 'r', 'r', 'a']\n",
      "\n",
      "['e', 't', 'r', 'r', 'a', 'a']\n",
      "['a', 'e', 't', 'r', 'r', 'a']\n",
      "\n",
      "['t', 'r', 'r', 'a', 'a']\n",
      "['a', 't', 'r', 'r', 'a']\n",
      "\n",
      "['r', 'r', 'a', 'a']\n",
      "['a', 'r', 'r', 'a']\n",
      "\n",
      "['r', 'a', 'a']\n",
      "['a', 'r', 'a']\n",
      "\n",
      "['a', 'a']\n",
      "['a', 'a']\n",
      "\n",
      "['a']\n",
      "['a']\n",
      "\n",
      "[]\n",
      "[]\n"
     ]
    },
    {
     "data": {
      "text/plain": [
       "True"
      ]
     },
     "execution_count": 3,
     "metadata": {},
     "output_type": "execute_result"
    }
   ],
   "source": [
    "def isAnagram(str1, str2):\n",
    "    str1 = str1.replace(\",\", \"\")\n",
    "    str2 = str2.replace(\",\", \"\")\n",
    "    str1 = str1.replace(\".\", \"\")\n",
    "    str2 = str2.replace(\".\", \"\")\n",
    "    str1 = str1.replace(\" \", \"\")\n",
    "    str2 = str2.replace(\" \", \"\")\n",
    "\n",
    "    strcp1 = list(str1)\n",
    "    strcp2 = list(str2)\n",
    "\n",
    "    print(strcp1)\n",
    "    print(strcp2)\n",
    "\n",
    "    while len(strcp1) != 0 and len(strcp2) != 0:\n",
    "        for j in range(0,len(strcp2)):\n",
    "            if strcp1[0] == strcp2[j]:\n",
    "                strcp2.pop(j)\n",
    "                break\n",
    "        strcp1.pop(0)\n",
    "\n",
    "        print()\n",
    "        print(strcp1)\n",
    "        print(strcp2)\n",
    "    \n",
    "    if len(strcp1) == 0 and len(strcp2) == 0: return True\n",
    "    return False\n",
    "\n",
    "isAnagram(\"ar,zrebbetr, raa\", \"aazebrrbet ,r,ra\")"
   ]
  },
  {
   "cell_type": "markdown",
   "metadata": {},
   "source": [
    "Ejercicio 4."
   ]
  },
  {
   "cell_type": "code",
   "execution_count": 4,
   "metadata": {},
   "outputs": [
    {
     "name": "stdout",
     "output_type": "stream",
     "text": [
      "['hola, esta es la primera línea\\n', 'la segunda línea del fichero prueba.txt\\n', 'por fin termina este fichero de 4 líneas hola hola']\n"
     ]
    }
   ],
   "source": [
    "def grep(txt, str):\n",
    "    file = open(txt)\n",
    "    aux = file.readlines()\n",
    "    retList = []\n",
    "    \n",
    "    for line in aux:\n",
    "        if line.__contains__(str):\n",
    "            retList.append(line)\n",
    "    print(retList)\n",
    "\n",
    "grep(\"ejemplo.txt\", \"la\")"
   ]
  },
  {
   "cell_type": "markdown",
   "metadata": {},
   "source": [
    "Ejercicio 5."
   ]
  },
  {
   "cell_type": "code",
   "execution_count": 5,
   "metadata": {},
   "outputs": [
    {
     "name": "stdout",
     "output_type": "stream",
     "text": [
      "Counter({'b': 14, 'a': 7, 'c': 3, 'd': 3})\n"
     ]
    }
   ],
   "source": [
    "import collections\n",
    "\n",
    "def charFreq(str):\n",
    "    str = list(str)\n",
    "    count = collections.Counter()\n",
    "    for word in str:\n",
    "        count[word] += 1\n",
    "    print(count)\n",
    "\n",
    "charFreq(\"abbabcbdbabdbdbabababcbcbab\")"
   ]
  },
  {
   "cell_type": "markdown",
   "metadata": {},
   "source": [
    "Ejercicio 6."
   ]
  },
  {
   "cell_type": "code",
   "execution_count": 6,
   "metadata": {},
   "outputs": [
    {
     "data": {
      "text/plain": [
       "True"
      ]
     },
     "execution_count": 6,
     "metadata": {},
     "output_type": "execute_result"
    }
   ],
   "source": [
    "def isBalancedSqBrack(br):\n",
    "    brackets = br\n",
    "    brackets = list(brackets)\n",
    "    counter = 0\n",
    "\n",
    "    while len(brackets) != 0:\n",
    "        if counter < 0:\n",
    "            return False\n",
    "        if brackets[0] == \"[\":\n",
    "            counter = counter + 1\n",
    "        if brackets[0] == \"]\":\n",
    "            counter = counter - 1\n",
    "        brackets.pop(0)\n",
    "    \n",
    "    if counter != 0:\n",
    "        return False\n",
    "    return True\n",
    "        \n",
    "isBalancedSqBrack(\"[[][][[][][[][[]][[][][kasjdflaksjdflksj[[][[]]]]]]]]\")"
   ]
  }
 ],
 "metadata": {
  "kernelspec": {
   "display_name": "Python 3",
   "language": "python",
   "name": "python3"
  },
  "language_info": {
   "codemirror_mode": {
    "name": "ipython",
    "version": 3
   },
   "file_extension": ".py",
   "mimetype": "text/x-python",
   "name": "python",
   "nbconvert_exporter": "python",
   "pygments_lexer": "ipython3",
   "version": "3.10.6"
  }
 },
 "nbformat": 4,
 "nbformat_minor": 2
}
