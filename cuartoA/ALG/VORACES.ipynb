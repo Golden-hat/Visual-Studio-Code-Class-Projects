{
 "cells": [
  {
   "cell_type": "markdown",
   "metadata": {},
   "source": [
    "# Introducción\n",
    "\n",
    "Un problema de **optimización** es uno en el que, además de proporcionar unos requisitos para que una solución sea factible, se proporciona un criterio para _cuantificar lo buena o lo mala que es cada solución factible hasta obtener una solución_\n",
    "\n",
    "### Los **algoritmos voraces** suelen funcionar muy bien para resolver algunos problemas de optimización...\n",
    "Pero requieren del cumplimiento de ciertas condiciones:\n",
    "- Como son algoritmos **miopes**, que no ven a largo plazo, necesitan tomar la mejor decisión local y que..\n",
    "- Esta elección conduzca eventualmente a una optimización global del problema.\n",
    "\n",
    "Podemos clasificar los **tipos de algoritmos voraces**\n",
    "- Si no consiguen una solución óptima pero se acercan, decimos que son algoritmos de aproximación.\n",
    "- Si la consiguen diremos que el algoritmo es **heurístico** (porque la heurística que siguen es la correcta hacia una resolución óptima del problema)."
   ]
  },
  {
   "cell_type": "markdown",
   "metadata": {},
   "source": [
    "# Problemas"
   ]
  },
  {
   "cell_type": "markdown",
   "metadata": {},
   "source": [
    "## _1. Mochila con fraccionamiento_\n"
   ]
  },
  {
   "cell_type": "markdown",
   "metadata": {},
   "source": [
    "Una variante del problema de la mochila en la que tenemos una \"espada mágica\" con la que partir los objetos para llevarnos sólo una fracción de los mismos. Esto nos permite llenar la mochila por completo **siempre**.\n",
    "\n",
    "Definamos como es costumbre el espacio de soluciones:\n",
    "\n",
    "$ X = \\left\\{ x_1, x_2, x_3, ..., x_N \\right\\} \\in \\left[0,1\\right]^\\mathbb{N} | \\sum\\limits_{1 \\leq i \\leq N}{x_iw_i} \\leq C$\n",
    "\n",
    "Es decir, serán soluciones al problema aquellos arreglos de N elementos de 0s y 1s (referenciando ésto a los objetos seleccionados) cuya suma de pesos sea menor a la capacidad total de la mochila.\n",
    "\n",
    "Se intenta maximizar la función siguiente:\n",
    "\n",
    "$ f(x_1, x_2, ... x_N) = \\sum\\limits_{1 \\leq i \\leq N}{x_iv_i}$\n",
    "\n",
    "Donde $ v_i $ es el valor de cada objeto del array.\n",
    "\n",
    "Para maximizarla...\n",
    "\n",
    "$ \\hat{x} = \\argmax\\limits_{x_1, x_2, ... x_N} = f(x_1, x_2, ... x_N)$"
   ]
  },
  {
   "cell_type": "markdown",
   "metadata": {},
   "source": [
    "La solución óptima de la mochila con fraccionamiento tiene un coste que viene dominado por la ordenación de los objetos por su beneficio unitario (**relación valor/peso**). Por tanto, para una entrada con N objetos, el coste del algoritmo es $ O(N \\log N) $.\n",
    "\n",
    "Aquí presentamos el código:"
   ]
  },
  {
   "cell_type": "code",
   "execution_count": 22,
   "metadata": {},
   "outputs": [],
   "source": [
    "def coste_unit(wv):\n",
    "  w,v= wv\n",
    "  return v/w\n",
    "\n",
    "def mochila_frac_optima(w,v,W):\n",
    "  B = 0\n",
    "  for wi, vi in sorted(zip(w, v), key=coste_unit, reverse=True):\n",
    "    # Esto nos asegura tomar siempre o bien el objeto entero (1),\n",
    "    # o parte del objeto (W/wi), pero nunca más de 1.\n",
    "    ri = min(1, W/wi)\n",
    "    # print(W/wi). Comprobar el comentario previo descomentando este print.\n",
    "    W -= wi*ri\n",
    "    B += ri*vi\n",
    "  return B"
   ]
  },
  {
   "cell_type": "markdown",
   "metadata": {},
   "source": [
    "Cuando usas simplemente `sorted(zip(w, v), reverse=True)`, **la ordenación se basa en las tuplas `(wi, vi)` directamente**. Específicamente:\n",
    "\n",
    "- Primero, las tuplas se comparan por su primer elemento (`wi`), que corresponde a los valores de la lista `w`.\n",
    "- Si hay empates en el primer elemento, se comparan por el segundo (`vi`).\n",
    "\n",
    "En este caso, la ordenación prioriza los valores en `w`, no en la relación entre `w` y `v`.\n",
    "\n",
    "Al usar `key=coste_unit`, le indicas a `sorted` que, en lugar de usar las tuplas directamente, debe calcular un valor derivado usando la función `coste_unit`. Supongamos que `coste_unit` está definida como:\n",
    "\n",
    "```python\n",
    "def coste_unit(pair):\n",
    "    wi, vi = pair\n",
    "    return vi / wi"
   ]
  },
  {
   "cell_type": "code",
   "execution_count": 23,
   "metadata": {},
   "outputs": [
    {
     "data": {
      "text/plain": [
       "163.33333333333331"
      ]
     },
     "execution_count": 23,
     "metadata": {},
     "output_type": "execute_result"
    }
   ],
   "source": [
    "w = [3, 4, 5, 9, 10]\n",
    "v = [10, 40, 30, 50, 60]\n",
    "W = 25\n",
    "\n",
    "mochila_frac_optima(w,v,W)"
   ]
  },
  {
   "cell_type": "markdown",
   "metadata": {},
   "source": [
    "## _2.Selección de actividades_ \n",
    "\n",
    "Imaginemos que queremos obtener el mayor beneficio posible alquilando una sala para realizar actividades.\n",
    "- Cada actividad ocupa un intervalo de tiempo con hora de inicio $ s $ y una hora de terminación $ t $.\n",
    "- Sólo puede llevarse a cabo una actividad en cada instante, pero podemos empezar una actividad justo cuando otra termina.\n",
    "- El beneficio que nos reporta cada actividad es **el mismo independientemente de su duración**.\n",
    "\n",
    "Podemos expresar estas actividades de la manera siguiente...\n",
    "\n",
    "$ C = \\left\\{ (s_1, t_1), (s_2, t_2), ..., (s_N, t_N)\\right\\} $\n",
    "\n",
    "El conjunto de soluciones factibles X está formado por los subconjuntos de C tales que si $ (s_i, t_i),(s_j, t_j) $ son elementos del conjunto, entonces **no se solapan**. Es decir, $ s_i \\le t_i \\leq s_j \\le t_j $ \n",
    "\n",
    "Queremos **maximizar** el número de actividades que se lleven a cabo.\n",
    "\n",
    "Ahora mostramos el código que resuelve el problema:"
   ]
  },
  {
   "cell_type": "code",
   "execution_count": 25,
   "metadata": {},
   "outputs": [],
   "source": [
    "def coste_unit(st):\n",
    "  s,t= st\n",
    "  return t-s\n",
    "\n",
    "def mochila_frac_optima(C):\n",
    "  MAX = max(C, key=lambda x: x[1])[1]; \n",
    "  list = []; left = []; right = [];\n",
    "  for si, ti in sorted(C, key=coste_unit, reverse=True):\n",
    "    for l, r in zip(left, right):\n",
    "      if (l < si and ti < r): continue\n",
    "      list.append((si, ti))\n",
    "      left.append(si); right.append(ti)\n",
    "      break\n",
    "  return \n",
    "\n",
    "  # Como esta solución es bastante mala, aquí dejamos otra"
   ]
  },
  {
   "cell_type": "markdown",
   "metadata": {},
   "source": [
    "En esta solución se opta por ordenar el set en función del **orden de finalización de menor a mayor**. Nos fijamos en la condicón t_prev <= s que nos asegura seleccionar tareas cuyo tiempo de inicio sea MAYOR al anterior (siempre registrado por cada tarea que añadimos a la lista de solución). Si no son mayores, pasamos de largo.\n",
    "\n",
    "El valor de inicialización de t_prev debe ser el menor de la lista SIEMPRE, ya que lógicamente todos los valores terminales de cada tarea serán mayores que este y **ordenar la lista por orden de terminación de menor a mayor nos asegura encontrar la tarea más corta con respecto al inicio de la planificación**.\n",
    "\n",
    "A partir de este punto las iteraciones posteriores pueden verse como subestancias del problema, que intentan resolver lo mismo en un espacio de soluciones menor."
   ]
  },
  {
   "cell_type": "code",
   "execution_count": 26,
   "metadata": {},
   "outputs": [],
   "source": [
    "def seleccion_actividades(C):\n",
    "  x, t_prev = set(), min(s for(s,t) in C)\n",
    "  for s, t in sorted(C, key=lambda x: x[1]):\n",
    "    if t_prev <= s:\n",
    "      x.add((s,t))\n",
    "      t_prev = t\n",
    "  return x"
   ]
  },
  {
   "cell_type": "markdown",
   "metadata": {},
   "source": [
    "<center>\n",
    "<img src=\"./resources/voraz_actividades.png\" alt=\"image\">\n",
    "</center>\n"
   ]
  },
  {
   "cell_type": "markdown",
   "metadata": {},
   "source": [
    "## _3. El repostaje_\n",
    "\n",
    "Un camión puede hacer $ n $ kms  con el depósito lleno.\n",
    "\n",
    "Queremos hacer un viaje y conocemos la distancia entre cada gasolinera y la siguiente, ya que sabemos que todas están a menos de $ n $ kms entre sí.\n",
    "\n",
    "El objetivo es parar el **mínimo número de veces a repostar**."
   ]
  },
  {
   "cell_type": "code",
   "execution_count": 34,
   "metadata": {},
   "outputs": [],
   "source": [
    "def gas_stations(M, d, n):\n",
    "  stop = [0]\n",
    "  km = n\n",
    "  for i in range(M):\n",
    "    if d[i] >= km:\n",
    "      stop.append(i)\n",
    "      km = n\n",
    "    km -= d[i]\n",
    "  stop.append(M+1)\n",
    "  return stop"
   ]
  },
  {
   "cell_type": "code",
   "execution_count": 35,
   "metadata": {},
   "outputs": [
    {
     "data": {
      "text/plain": [
       "[0, 3, 7]"
      ]
     },
     "execution_count": 35,
     "metadata": {},
     "output_type": "execute_result"
    }
   ],
   "source": [
    "gas_stations(6, [65, 23, 45, 62, 12, 56, 26], 150)"
   ]
  },
  {
   "cell_type": "markdown",
   "metadata": {},
   "source": [
    "Como es habitual con la estrategia voraz, hemos diseñado un algoritmo muy rápido: lineal con el número de gasolineras."
   ]
  }
 ],
 "metadata": {
  "kernelspec": {
   "display_name": "base",
   "language": "python",
   "name": "python3"
  },
  "language_info": {
   "codemirror_mode": {
    "name": "ipython",
    "version": 3
   },
   "file_extension": ".py",
   "mimetype": "text/x-python",
   "name": "python",
   "nbconvert_exporter": "python",
   "pygments_lexer": "ipython3",
   "version": "3.11.7"
  }
 },
 "nbformat": 4,
 "nbformat_minor": 2
}
