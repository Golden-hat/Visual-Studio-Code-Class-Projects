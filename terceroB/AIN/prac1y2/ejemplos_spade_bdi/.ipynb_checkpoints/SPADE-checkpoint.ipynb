{
 "cells": [
  {
   "cell_type": "markdown",
   "id": "4e1e582d-1212-44a0-844d-41295ef48773",
   "metadata": {},
   "source": [
    "# [SPADE](https://spade-mas.readthedocs.io/en/latest/index.html): Smart Python Agent Development Environment "
   ]
  },
  {
   "cell_type": "markdown",
   "id": "7f8d6572-08b4-4173-b961-def07b66ab1f",
   "metadata": {},
   "source": [
    "## Instalar SPADE"
   ]
  },
  {
   "cell_type": "code",
   "execution_count": 1,
   "id": "44f96948-f32b-4f81-86f7-3d70d63f7924",
   "metadata": {},
   "outputs": [],
   "source": [
    "try:\n",
    "    import spade\n",
    "except:\n",
    "    !pip install spade"
   ]
  },
  {
   "cell_type": "markdown",
   "id": "6aa76e60-026f-421f-ac0e-2d9345cad3c7",
   "metadata": {},
   "source": [
    "## Ejemplo 1: Dummy Agent - `dummyagent.py`"
   ]
  },
  {
   "cell_type": "markdown",
   "id": "1d0b5e97-c1a9-4b8a-8ba2-c0eaf4ee39fd",
   "metadata": {},
   "source": [
    "Los agentes SPADE usan comunicación mediante un servidor XMPP. Para ello, tienen que, igual que cualquier usuario, registrarse en el servidor mediante un jid y una clave.\n",
    "\n",
    "El JID contiene el nombre del agente (antes de la @) y el DNS o IP del servidor XMPP (después de la @)."
   ]
  },
  {
   "cell_type": "markdown",
   "id": "60d64364-3d9a-4b68-a2a3-2d0b2800a13f",
   "metadata": {},
   "source": [
    "<div class=\"alert alert-block alert-danger\">\n",
    "<b>NOTA: MUY IMPORTANTE:</b> \n",
    "\n",
    "Un agente se distingue del resto por su identificador, por lo que debe ser único. Antes de ejecutar cualquier ejemplo o agente, cambia su identificador para que, al menos, incluya tu login y así pueda identificarse del resto. \n",
    "    \n",
    "Ejemplo: En el ejemplo siguiente, el agente a ejecutar se llama `Prueba_SPADE@gtirouter.dsic.upv.es`. En mi caso, le cambiaría el nombre para que se llamase `Prueba_SPADE_carrasco@gtirouter.dsic.upv.es`.  \n",
    "</div>"
   ]
  },
  {
   "cell_type": "code",
   "execution_count": 2,
   "id": "d9905dc0-1dc2-4f02-a47a-616bd0666ba8",
   "metadata": {},
   "outputs": [
    {
     "name": "stdout",
     "output_type": "stream",
     "text": [
      "Hello World! I'm agent prueba_spade@gtirouter.dsic.upv.es\n",
      "Prueba\n",
      "False\n"
     ]
    }
   ],
   "source": [
    "import spade\n",
    "\n",
    "class DummyAgent(spade.agent.Agent):\n",
    "    async def setup(self):\n",
    "        print(\"Hello World! I'm agent {}\".format(str(self.jid)))\n",
    "\n",
    "\n",
    "dummy = DummyAgent(\"Prueba_SPADE@gtirouter.dsic.upv.es\", \"SPADE\")\n",
    "await dummy.start()\n",
    "await dummy.stop()\n",
    "print('Prueba')\n",
    "print(dummy.is_alive())"
   ]
  },
  {
   "cell_type": "markdown",
   "id": "22775dcf-89b1-45c5-bc7a-b47851f3688b",
   "metadata": {},
   "source": [
    "<div class=\"alert alert-block alert-info\">\n",
    "<b>NOTA:</b> \n",
    "\n",
    "Para ejecutar el programa desde una terminal fuera del notebook, en la carpeta donde tenéis el fichero `dummyagent.py` haced: `$ python dummyagent.py`\n",
    "</div>"
   ]
  },
  {
   "cell_type": "markdown",
   "id": "0a950256-c3b0-4fad-873b-f76dcb98f842",
   "metadata": {},
   "source": [
    "Un agente SPADE es un agente asíncrono. Esto significa que todo el código para correr un agente debe ejecutarse en un bucle asíncrono. Este bucle, denominado bucle de eventos (event loop) es el núcleo de cualquier aplicación asíncrona. Los bucles de eventos ejecutan asíncronamente tareas y callbacks, realizan operaciones de E/S y ejecutan subprocesos. \n",
    "\n"
   ]
  },
  {
   "cell_type": "markdown",
   "id": "087721ad-4da6-4c78-8d33-552478734a0a",
   "metadata": {},
   "source": [
    "### [Async IO](https://realpython.com/async-io-python/)\n",
    "\n",
    "Async IO es un paradigma (modelo) de diseño de programación concurrente que tiene implementaciones en una gran cantidad de lenguajes de programación, entre ellos Python.\n",
    "\n",
    " - `asyncio` : el paquete de Python que proporciona una base y una API para ejecutar y gestionar corutinas\n",
    " - `async` / `await` : dos nuevas palabras clave de Python que se utilizan para definir corutinas.\n",
    "     - `async def` introduce una corutina nativa. Puede utilizar `await`, `return` o `yield`, pero todos ellos son opcionales. Declarar `async def noop(): pass` es válido:\n",
    "         - El uso de `await` y/o `return` crea una función corutina. Para llamar a una función corutina, debes esperarla (`await`) para obtener sus resultados.\n",
    "         - Es menos común usar `yield` en un bloque `async def`. Esto crea un generador asíncrono, sobre el que iteras con `async for`.\n",
    "         - Cualquier cosa definida con `async def` no puede usar `yield from`, lo que lanzará un `SyntaxError`.\n",
    "     - Al igual que es un `SyntaxError` usar `yield` fuera de una función `def`, es un `SyntaxError` usar `await` fuera de una corutina `async def`. Sólo puedes usar `await` en el cuerpo de las corutinas.\n",
    "\n",
    "\n",
    "     - `await` devuelve el control de la función al bucle de eventos. (Suspende la ejecución de la corutina circundante). Si Python encuentra una expresión `await f()` en el ámbito de `g()`, así es como `await` le dice al bucle de eventos, \"Suspende la ejecución de `g()` hasta que lo que estoy esperando -el resultado de `f()`- sea devuelto. Mientras tanto, deja que se ejecute otra cosa\".\n",
    "\n"
   ]
  },
  {
   "cell_type": "markdown",
   "id": "5b0166e0-6116-4074-a490-b0237bda6768",
   "metadata": {},
   "source": [
    "`asyncio` es una biblioteca para escribir código concurrente. Sin embargo, async IO no es *threading*, ni multiprocesamiento. No se basa en ninguno de ellos.\n",
    "\n",
    "De hecho, `async IO` es un diseño de un solo hilo y un solo proceso: usa **multitarea cooperativa**. Es decir, `async IO` da una sensación de concurrencia a pesar de usar un único hilo en un único proceso. Las corutinas (una característica central de `async IO`) pueden programarse concurrentemente, pero no son inherentemente concurrentes.\n",
    "\n",
    "Para reiterar, `async IO` es un estilo de programación concurrente, pero no es paralelismo. \n",
    "\n",
    "Las rutinas asíncronas son capaces de \"hacer una pausa\" mientras esperan su resultado final y dejar que otras rutinas se ejecuten mientras tanto.\n",
    "El código asíncrono, a través del mecanismo anterior, facilita la ejecución concurrente. Dicho de otro modo, el código asíncrono da la apariencia de concurrencia."
   ]
  },
  {
   "cell_type": "markdown",
   "id": "3af2f939-43ef-426a-b9c9-df8f6c3187e1",
   "metadata": {},
   "source": [
    "#### Ejemplo de funcionamiento asíncrono.\n",
    "\n",
    "La maestra de ajedrez Judit Polgár organiza una exhibición de ajedrez en la que se enfrenta a varios jugadores aficionados. Tiene dos formas de llevar a cabo la exhibición: de forma sincrónica y de forma asincrónica.\n",
    "        \n",
    "Supuestos:\n",
    "        \n",
    "- 24 adversarios\n",
    "- Judit realiza cada movimiento de ajedrez en 5 segundos\n",
    "- Cada oponente tarda 55 segundos en realizar un movimiento.\n",
    "- Las partidas tienen una media de 30 movimientos por pareja (60 movimientos en total)\n",
    "        \n",
    "**Versión sincrónica** : Judit juega una partida cada vez, nunca dos al mismo tiempo, hasta completar la partida. Cada partida dura (55 + 5) * 30 == 1800 segundos, es decir, 30 minutos. La exhibición completa dura 24 * 30 == 720 minutos, es decir, 12 horas.\n",
    "        \n",
    "**Versión asíncrona** : Judit se mueve de mesa en mesa, haciendo un movimiento en cada mesa. Abandona la mesa y deja que el oponente haga su siguiente movimiento durante el tiempo de espera. Un movimiento en las 24 partidas le lleva a Judit 24 * 5 == 120 segundos, o 2 minutos. La exhibición completa se reduce ahora a 120 * 30 == 3600 segundos, es decir, sólo 1 hora."
   ]
  },
  {
   "cell_type": "markdown",
   "id": "c650e559-d374-4d6c-927d-c8ad6de97e68",
   "metadata": {},
   "source": [
    "Así pues, la multitarea cooperativa es una forma elegante de decir que el bucle de eventos de un programa se comunica con múltiples tareas para permitir que cada una de ellas se ejecute por turnos en el momento óptimo.\n",
    "\n",
    "La IO asíncrona se encarga de los largos periodos de espera en los que las funciones estarían bloqueándose y permite que otras funciones se ejecuten durante ese tiempo de inactividad. (Una función que se bloquea efectivamente prohíbe que otras se ejecuten desde el momento en que se inicia hasta el momento en que regresa)."
   ]
  },
  {
   "cell_type": "markdown",
   "id": "45536a2c-a5d0-4ab4-b5a1-4c918cd1125a",
   "metadata": {},
   "source": [
    "Asyncio proporciona a las tareas la capacidad de ceder explícitamente el control bajo demanda durmiendo mediante `asyncio.sleep()`.\n",
    "\n",
    "Se denomina \"no bloqueante\", lo que significa que no bloquea la ejecución del subproceso actual. Esto significa que mientras una coroutina o tarea está durmiendo, otras tareas y coroutinas pueden ejecutarse.\n",
    "\n",
    "También podemos dormir durante cero segundos.\n",
    "\n",
    "Se trata de un periodo de reposo especial. Significa que la tarea o coroutina actual se suspenderá y el bucle de eventos de asyncio permitirá que otras tareas o coroutinas se ejecuten.\n",
    "\n",
    "La coroutina o tarea actual se reanudará tan pronto como sea posible, que puede ser más de 0 segundos.\n",
    "\n",
    "Es una forma de que una tarea pueda ceder el control por un momento para permitir que otras tareas se ejecuten."
   ]
  },
  {
   "cell_type": "markdown",
   "id": "bce0b705-b4c9-4cf4-87f2-edab83b99b9a",
   "metadata": {},
   "source": [
    "La diferencia importante entre `asyncio.sleep()` y `time.sleep()` es que `asyncio.sleep()` es no bloqueante y `time.sleep()` es bloqueante:\n",
    "\n",
    "- `time.sleep()`: bloquea el hilo actual. Mientras está bloqueado, otros hilos pueden ejecutarse. En la mayoría de ocasiones, esto supone bloquear el agente completo.\n",
    "- `asyncio.sleep()`: bloquea la corutina actual (tarea `asyncio`). Mientras está bloqueada, otras corutinas pueden ejecutarse. Esto va a suponer, normalmente, bloquear el comportamiento actual del agente, permitiendo entrar otros comportamientos."
   ]
  },
  {
   "cell_type": "markdown",
   "id": "75affe05-130c-4e46-9c62-e2fd46a69ddc",
   "metadata": {},
   "source": [
    "## Ejemplo 2: Un agente con un comportamiento - `dummyagent_behav_self_kill.py`"
   ]
  },
  {
   "cell_type": "markdown",
   "id": "6006a194-8a19-4960-b140-f44b86030f8f",
   "metadata": {},
   "source": [
    "La programación de agentes SPADE se realiza en su mayoría mediante comportamientos (`behaviors`).\n",
    "\n",
    "Vamos a crear un comportamiento cíclico que realiza una tarea (un contador simple). Para ello definimos un comportamiento llamado `MyBehav`que hereda de la clase `spade.behaviour.CyclicBehaviour`. Esta clase representa un comportamiento cíclico que no tiene un periodo especificado, es decir, un comportamiento tipo bucle. \n",
    "\n",
    "Hay dos métodos especiales en el comportamiento:\n",
    "\n",
    "- `on_start()`: Este método es similar al método `setup()` de la clase agente. Se ejecuta antes de que comience la iteración principal del comportamiento y se usa para el código de inicialización. En este caso, imprimimos una línea e inicializamos la variable contador.\n",
    "- `on_end()`: Se ejecuta cuando el comportamiento se ha realizado o eliminado.\n",
    "- `run()`: Éste es el método donde se realiza el núcleo de la programación del comportamient, porque es el que se llama en cada iteración del ciclo del comportamiento. Actúa como el cuerpo del bucle. En nuestro ejemplo, imprime el valor actual del contador, lo incrementa y si dicho contador es mayor que 3, mata el comportamiento. En otro caso, espera por un segundo (para iterar de nuevo)."
   ]
  },
  {
   "cell_type": "markdown",
   "id": "3fd75b26-983c-48db-9ab3-8ea315519ec9",
   "metadata": {},
   "source": [
    "El método `run()` es una corutina asíncrona. Esto es muy importante, ya que SPADE es una biblioteca asíncrona basada en `asyncio` de python. Por eso podemos llamar a métodos asíncronos desde dentro del método `run()`, como `await asyncio.sleep(1)`, que permite dormir durante un segundo el comportamiento sin bloquear el bucle de eventos."
   ]
  },
  {
   "cell_type": "code",
   "execution_count": 3,
   "id": "625b027d-47d5-4d4e-b768-45995be7d971",
   "metadata": {},
   "outputs": [
    {
     "name": "stdout",
     "output_type": "stream",
     "text": [
      "Agent starting . . .\n",
      "Starting behaviour . . .\n",
      "Counter: 0\n",
      "Counter: 1\n",
      "Counter: 2\n",
      "Counter: 3\n",
      "Behaviour finished with exit code 10.\n"
     ]
    }
   ],
   "source": [
    "import asyncio\n",
    "import spade\n",
    "from spade.agent import Agent\n",
    "from spade.behaviour import CyclicBehaviour\n",
    "\n",
    "class DummyAgent(Agent):\n",
    "    class MyBehav(CyclicBehaviour):\n",
    "        async def on_start(self):\n",
    "            print(\"Starting behaviour . . .\")\n",
    "            self.counter = 0\n",
    "\n",
    "        async def run(self):\n",
    "            print(\"Counter: {}\".format(self.counter))\n",
    "            self.counter += 1\n",
    "            if self.counter > 3:\n",
    "                self.kill(exit_code=10)\n",
    "                return\n",
    "            await asyncio.sleep(1)\n",
    "\n",
    "        async def on_end(self):\n",
    "            print(\"Behaviour finished with exit code {}.\".format(self.exit_code))\n",
    "\n",
    "    async def setup(self):\n",
    "        print(\"Agent starting . . .\")\n",
    "        self.my_behav = self.MyBehav()\n",
    "        self.add_behaviour(self.my_behav)\n",
    "\n",
    "dummy = DummyAgent(\"Prueba_SPADE@gtirouter.dsic.upv.es\", \"SPADE\")\n",
    "await dummy.start()\n",
    "\n",
    "# wait until user interrupts with ctrl+C\n",
    "while not dummy.my_behav.is_killed():\n",
    "    try:\n",
    "        await asyncio.sleep(1)\n",
    "    except KeyboardInterrupt:\n",
    "        break\n",
    "\n",
    "assert dummy.my_behav.exit_code == 10\n",
    "\n",
    "await dummy.stop()"
   ]
  },
  {
   "cell_type": "code",
   "execution_count": null,
   "id": "7dece546-307a-45d0-8b9f-e442594027f4",
   "metadata": {},
   "outputs": [],
   "source": []
  },
  {
   "cell_type": "code",
   "execution_count": null,
   "id": "072b2842-3fdf-4f31-80f0-0d1e50dfa5b6",
   "metadata": {},
   "outputs": [],
   "source": []
  },
  {
   "cell_type": "code",
   "execution_count": null,
   "id": "0d9ec542-1bca-4ac1-bad0-49902e30a71f",
   "metadata": {},
   "outputs": [],
   "source": []
  },
  {
   "cell_type": "code",
   "execution_count": null,
   "id": "94c0c236-8f0d-4f97-9840-9d8d45f2f148",
   "metadata": {},
   "outputs": [],
   "source": []
  },
  {
   "cell_type": "markdown",
   "id": "f3e2cb33-c6a9-43b3-a95d-45960a9d2da7",
   "metadata": {},
   "source": [
    "## Instalar SPADE BDI"
   ]
  },
  {
   "cell_type": "code",
   "execution_count": 4,
   "id": "aaeef2f4-7bfb-4da0-b8ea-2d46b01b8ec2",
   "metadata": {},
   "outputs": [],
   "source": [
    "try:\n",
    "    import spade_bdi\n",
    "except:\n",
    "    !pip install spade_bdi"
   ]
  },
  {
   "cell_type": "markdown",
   "id": "e87f50e4-2c01-49ba-bf7e-b5d3e98983dd",
   "metadata": {},
   "source": [
    "### Ejemplo básico de un agente SPADE - BDI que carga un fichero ASL con un conocimiento en AgentSpeak - `basic_bdi.py`"
   ]
  },
  {
   "cell_type": "markdown",
   "id": "0dc03e87-a532-4a32-9163-fb821e6b1e64",
   "metadata": {},
   "source": [
    "Creamos el fichero `basic.asl`: "
   ]
  },
  {
   "cell_type": "code",
   "execution_count": 15,
   "id": "75eddc54-eabc-4272-b139-64adedd1f0ec",
   "metadata": {},
   "outputs": [],
   "source": [
    "with open('basic.asl', 'w') as fp:\n",
    "    fp.write('!start.\\n')\n",
    "    fp.write('+!start <-\\n')\n",
    "    fp.write('    +car(rojo);\\n')\n",
    "    fp.write('    +truck(azul).\\n')\n",
    "\n",
    "    fp.write('+car(Color)\\n') \n",
    "    fp.write('    <- .print(\"El carro es \",Color).!start.\\n')\n",
    "\n",
    "    fp.write('+!start <-\\n')\n",
    "    fp.write('    +car(rojo);\\n')\n",
    "    fp.write('    +truck(azul).\\n')\n",
    "\n",
    "    fp.write('+car(Color) \\n')\n",
    "    fp.write('    <- .print(\"El carro es \",Color).\\n')"
   ]
  },
  {
   "cell_type": "code",
   "execution_count": 16,
   "id": "72f51a66-0256-4f1c-afd0-a7b43212dbe8",
   "metadata": {},
   "outputs": [
    {
     "name": "stdout",
     "output_type": "stream",
     "text": [
      "!start.\n",
      "+!start <-\n",
      "    +car(rojo);\n",
      "    +truck(azul).\n",
      "+car(Color)\n",
      "    <- .print(\"El carro es \",Color).!start.\n",
      "+!start <-\n",
      "    +car(rojo);\n",
      "    +truck(azul).\n",
      "+car(Color) \n",
      "    <- .print(\"El carro es \",Color).\n"
     ]
    }
   ],
   "source": [
    "!cat basic.asl"
   ]
  },
  {
   "cell_type": "markdown",
   "id": "46c26ca8-3730-483b-88c8-d9ae4c0a8848",
   "metadata": {},
   "source": [
    "Creamos el agente y lo ejecutamos (cargando `basic.asl` como conocimiento deliberativo del agente):"
   ]
  },
  {
   "cell_type": "code",
   "execution_count": 17,
   "id": "556b211a-cea3-447c-a432-76259403af57",
   "metadata": {},
   "outputs": [
    {
     "name": "stdout",
     "output_type": "stream",
     "text": [
      "basicagent_bdi@gtirouter.dsic.upv.es El carro es  rojo\n",
      "basicagent_bdi@gtirouter.dsic.upv.es El carro es  rojo\n",
      "car(rojo)\n",
      "truck(azul)\n",
      "GETTING FIRST CAR BELIEF\n",
      "car(rojo)\n",
      "car(rojo)\n",
      "truck(azul)\n",
      "car(rojo)\n",
      "truck(azul)\n",
      "['car(rojo)', 'truck(azul)']\n"
     ]
    }
   ],
   "source": [
    "import asyncio\n",
    "\n",
    "import time\n",
    "\n",
    "import spade\n",
    "\n",
    "from spade_bdi.bdi import BDIAgent\n",
    "\n",
    "a = BDIAgent(\"BasicAgent_BDI@gtirouter.dsic.upv.es\", \"SPADE\", \"basic.asl\")\n",
    "\n",
    "await a.start()\n",
    "\n",
    "await asyncio.sleep(1)\n",
    "\n",
    "a.bdi.set_belief(\"car\", \"azul\", \"big\")\n",
    "a.bdi.print_beliefs()\n",
    "print(\"GETTING FIRST CAR BELIEF\")\n",
    "print(a.bdi.get_belief(\"car\"))\n",
    "a.bdi.print_beliefs()\n",
    "a.bdi.remove_belief(\"car\", 'azul', \"big\")\n",
    "a.bdi.print_beliefs()\n",
    "print(a.bdi.get_beliefs())\n",
    "a.bdi.set_belief(\"car\", 'amarillo')\n",
    "\n",
    "time.sleep(1)\n",
    "\n",
    "await a.stop()   "
   ]
  }
 ],
 "metadata": {
  "kernelspec": {
   "display_name": "Python 3 (ipykernel)",
   "language": "python",
   "name": "python3"
  },
  "language_info": {
   "codemirror_mode": {
    "name": "ipython",
    "version": 3
   },
   "file_extension": ".py",
   "mimetype": "text/x-python",
   "name": "python",
   "nbconvert_exporter": "python",
   "pygments_lexer": "ipython3",
   "version": "3.11.7"
  }
 },
 "nbformat": 4,
 "nbformat_minor": 5
}
