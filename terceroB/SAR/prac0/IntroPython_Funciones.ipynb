{
 "cells": [
  {
   "cell_type": "markdown",
   "metadata": {},
   "source": [
    "# Funciones en Python"
   ]
  },
  {
   "cell_type": "markdown",
   "metadata": {},
   "source": [
    "Es posible definir funciones con la palabra reservada `def` así:\n",
    "\n",
    "```python\n",
    "def nombreFuncion( argumentos ):\n",
    "    # cuerpo de la función\n",
    "    # aquí podemos encontrar variables locales\n",
    "    # y la instrucción return\n",
    "```\n",
    "\n",
    "Ejemplo:"
   ]
  },
  {
   "cell_type": "code",
   "execution_count": 1,
   "metadata": {},
   "outputs": [],
   "source": [
    "import math\n",
    "def hipotenusa(cateto1, cateto2):\n",
    "    return math.sqrt(cateto1**2 + cateto2**2)"
   ]
  },
  {
   "cell_type": "markdown",
   "metadata": {},
   "source": [
    "Observa que NO indicamos:\n",
    "\n",
    "- El tipo de datos de los argumentos\n",
    "- El tipo de datos de lo que devuelve la función"
   ]
  },
  {
   "cell_type": "markdown",
   "metadata": {},
   "source": [
    "## Valores por defecto:\n",
    "\n",
    "```python\n",
    "def funcion(argumento1, argumento2, argumento3=valor, argumento4=valor):\n",
    "    ...\n",
    "```\n",
    "\n",
    "- Los valores por defecto se ejecutan en tiempo de 'compilación'\n",
    "- Los argumentos por defecto tienen que ser los últimos, esto daría error:\n",
    "\n",
    "    ```python\n",
    "    def f(x, y, z=100, w): # ERROR!!!!\n",
    "        ...\n",
    "    ```\n",
    "\n",
    "Ejemplo:"
   ]
  },
  {
   "cell_type": "code",
   "execution_count": 1,
   "metadata": {},
   "outputs": [
    {
     "data": {
      "text/plain": [
       "['hola', 'mundo|hola', 'hola']"
      ]
     },
     "execution_count": 1,
     "metadata": {},
     "output_type": "execute_result"
    }
   ],
   "source": [
    "\"hola mundo|hola hola\".split() # por defecto utiliza espacios"
   ]
  },
  {
   "cell_type": "code",
   "execution_count": 2,
   "metadata": {},
   "outputs": [
    {
     "data": {
      "text/plain": [
       "['hola mundo', 'hola hola']"
      ]
     },
     "execution_count": 2,
     "metadata": {},
     "output_type": "execute_result"
    }
   ],
   "source": [
    "\"hola mundo|hola hola\".split(\"|\") # pero podemos variarlo..."
   ]
  },
  {
   "cell_type": "code",
   "execution_count": 5,
   "metadata": {},
   "outputs": [
    {
     "name": "stdout",
     "output_type": "stream",
     "text": [
      "' '\n",
      "'\\n'\n"
     ]
    }
   ],
   "source": [
    "def separar(separador=\" \"):\n",
    "    # cuerpo de la función\n",
    "    print(repr(separador))\n",
    "    \n",
    "separar()\n",
    "separar('\\n')"
   ]
  },
  {
   "cell_type": "code",
   "execution_count": null,
   "metadata": {},
   "outputs": [],
   "source": []
  }
 ],
 "metadata": {
  "kernelspec": {
   "display_name": "Python 3",
   "language": "python",
   "name": "python3"
  },
  "language_info": {
   "codemirror_mode": {
    "name": "ipython",
    "version": 3
   },
   "file_extension": ".py",
   "mimetype": "text/x-python",
   "name": "python",
   "nbconvert_exporter": "python",
   "pygments_lexer": "ipython3",
   "version": "3.8.5"
  }
 },
 "nbformat": 4,
 "nbformat_minor": 2
}
