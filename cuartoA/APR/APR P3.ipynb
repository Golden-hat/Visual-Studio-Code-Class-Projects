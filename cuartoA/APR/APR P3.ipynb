{
  "cells": [
    {
      "cell_type": "code",
      "execution_count": 3,
      "metadata": {
        "colab": {
          "base_uri": "https://localhost:8080/"
        },
        "id": "ne7ZXWZsOqj5",
        "outputId": "76643a10-a72b-4c97-85ea-1af688be2e21"
      },
      "outputs": [
        {
          "name": "stderr",
          "output_type": "stream",
          "text": [
            "2024-10-16 13:02:28.588362: I tensorflow/core/util/port.cc:153] oneDNN custom operations are on. You may see slightly different numerical results due to floating-point round-off errors from different computation orders. To turn them off, set the environment variable `TF_ENABLE_ONEDNN_OPTS=0`.\n",
            "2024-10-16 13:02:28.600836: I external/local_xla/xla/tsl/cuda/cudart_stub.cc:32] Could not find cuda drivers on your machine, GPU will not be used.\n",
            "2024-10-16 13:02:28.603371: I external/local_xla/xla/tsl/cuda/cudart_stub.cc:32] Could not find cuda drivers on your machine, GPU will not be used.\n",
            "2024-10-16 13:02:28.610521: E external/local_xla/xla/stream_executor/cuda/cuda_fft.cc:485] Unable to register cuFFT factory: Attempting to register factory for plugin cuFFT when one has already been registered\n",
            "2024-10-16 13:02:28.621612: E external/local_xla/xla/stream_executor/cuda/cuda_dnn.cc:8454] Unable to register cuDNN factory: Attempting to register factory for plugin cuDNN when one has already been registered\n",
            "2024-10-16 13:02:28.624941: E external/local_xla/xla/stream_executor/cuda/cuda_blas.cc:1452] Unable to register cuBLAS factory: Attempting to register factory for plugin cuBLAS when one has already been registered\n",
            "2024-10-16 13:02:28.633786: I tensorflow/core/platform/cpu_feature_guard.cc:210] This TensorFlow binary is optimized to use available CPU instructions in performance-critical operations.\n",
            "To enable the following instructions: AVX2 AVX512F AVX512_VNNI FMA, in other operations, rebuild TensorFlow with the appropriate compiler flags.\n",
            "2024-10-16 13:02:29.327860: W tensorflow/compiler/tf2tensorrt/utils/py_utils.cc:38] TF-TRT Warning: Could not find TensorRT\n"
          ]
        },
        {
          "name": "stdout",
          "output_type": "stream",
          "text": [
            "Downloading data from https://storage.googleapis.com/tensorflow/tf-keras-datasets/mnist.npz\n",
            "\u001b[1m11490434/11490434\u001b[0m \u001b[32m━━━━━━━━━━━━━━━━━━━━\u001b[0m\u001b[37m\u001b[0m \u001b[1m1s\u001b[0m 0us/step\n"
          ]
        }
      ],
      "source": [
        "# Import necessary libraries and set seed\n",
        "import numpy as np\n",
        "import matplotlib.pyplot as plt\n",
        "import os\n",
        "import keras\n",
        "import keras_tuner\n",
        "\n",
        "os.environ['TF_CPP_MIN_LOG_LEVEL'] = '2'\n",
        "keras.utils.set_random_seed(23)\n",
        "\n",
        "# Load MNIST dataset\n",
        "(x_train_val, y_train_val), (x_test, y_test) = keras.datasets.mnist.load_data()\n",
        "\n",
        "# Preprocess data\n",
        "input_dim = 784\n",
        "x_train_val = x_train_val.reshape(-1, input_dim).astype(\"float32\") / 255.0\n",
        "x_test = x_test.reshape(-1, input_dim).astype(\"float32\") / 255.0\n",
        "num_classes = 10\n",
        "y_train_val = keras.utils.to_categorical(y_train_val, num_classes)\n",
        "y_test = keras.utils.to_categorical(y_test, num_classes)\n",
        "\n",
        "# Train-validation split\n",
        "x_train = x_train_val[:-10000]\n",
        "x_val = x_train_val[-10000:]\n",
        "y_train = y_train_val[:-10000]\n",
        "y_val = y_train_val[-10000:]\n"
      ]
    },
    {
      "cell_type": "code",
      "execution_count": 4,
      "metadata": {
        "colab": {
          "base_uri": "https://localhost:8080/"
        },
        "id": "QpA4xylzOwN1",
        "outputId": "947374f6-85f7-40d1-9554-6485b58a45a4"
      },
      "outputs": [
        {
          "name": "stdout",
          "output_type": "stream",
          "text": [
            "Search space summary\n",
            "Default search space size: 2\n",
            "num_layers (Int)\n",
            "{'default': None, 'conditions': [], 'min_value': 1, 'max_value': 3, 'step': 1, 'sampling': 'linear'}\n",
            "units_0 (Int)\n",
            "{'default': None, 'conditions': [], 'min_value': 700, 'max_value': 900, 'step': 100, 'sampling': 'linear'}\n"
          ]
        }
      ],
      "source": [
        "# Define the search space for tuning the number of layers and units\n",
        "def build_model(hp):\n",
        "    M = keras.Sequential()\n",
        "    M.add(keras.Input(shape=(784,)))\n",
        "\n",
        "    for L in range(hp.Int(\"num_layers\", 1, 3)):\n",
        "        M.add(keras.layers.Dense(\n",
        "            units=hp.Int(f\"units_{L}\", min_value=700, max_value=900, step=100),\n",
        "            activation='relu'))\n",
        "\n",
        "    M.add(keras.layers.Dense(10, activation='softmax'))\n",
        "    M.compile(loss=\"categorical_crossentropy\", optimizer=\"adam\", metrics=[\"accuracy\"])\n",
        "\n",
        "    return M\n",
        "\n",
        "# Define the tuner using Bayesian Optimization\n",
        "tuner = keras_tuner.BayesianOptimization(\n",
        "    hypermodel=build_model,\n",
        "    objective=\"val_accuracy\",\n",
        "    max_trials=10,\n",
        "    executions_per_trial=1,\n",
        "    overwrite=True,\n",
        "    directory=\"/tmp\",\n",
        "    project_name=\"MNIST\"\n",
        ")\n",
        "\n",
        "# Display search space summary\n",
        "tuner.search_space_summary()\n"
      ]
    },
    {
      "cell_type": "code",
      "execution_count": 5,
      "metadata": {
        "colab": {
          "base_uri": "https://localhost:8080/"
        },
        "id": "y6ry-t_yPDUX",
        "outputId": "52d9fa77-16bc-4db1-df76-3728d78f2877"
      },
      "outputs": [
        {
          "name": "stdout",
          "output_type": "stream",
          "text": [
            "Trial 10 Complete [00h 01m 17s]\n",
            "val_accuracy: 0.9781000018119812\n",
            "\n",
            "Best val_accuracy So Far: 0.9796000123023987\n",
            "Total elapsed time: 00h 24m 19s\n",
            "Results summary\n",
            "Results in /tmp/MNIST\n",
            "Showing 1 best trials\n",
            "Objective(name=\"val_accuracy\", direction=\"max\")\n",
            "\n",
            "Trial 04 summary\n",
            "Hyperparameters:\n",
            "num_layers: 1\n",
            "units_0: 900\n",
            "units_1: 800\n",
            "units_2: 900\n",
            "Score: 0.9796000123023987\n"
          ]
        },
        {
          "name": "stderr",
          "output_type": "stream",
          "text": [
            "/home/yassin/anaconda3/envs/per/lib/python3.11/site-packages/keras/src/saving/saving_lib.py:719: UserWarning: Skipping variable loading for optimizer 'adam', because it has 2 variables whereas the saved optimizer has 10 variables. \n",
            "  saveable.load_own_variables(weights_store.get(inner_path))\n"
          ]
        },
        {
          "name": "stdout",
          "output_type": "stream",
          "text": [
            "Loss: 0.1195\n",
            "Precisión: 98.0%\n"
          ]
        }
      ],
      "source": [
        "# Perform the search for the best hyperparameters\n",
        "tuner.search(x_train, y_train, batch_size=16, epochs=10, validation_data=(x_val, y_val))\n",
        "\n",
        "# Display the results summary\n",
        "tuner.results_summary(num_trials=1)\n",
        "\n",
        "# Get the best model and evaluate it on the test data\n",
        "best = tuner.get_best_models(num_models=1)[0]\n",
        "score = best.evaluate(x_test, y_test, verbose=0)\n",
        "print(f'Loss: {score[0]:.4}\\nPrecisión: {score[1]:.1%}')\n"
      ]
    },
    {
      "cell_type": "code",
      "execution_count": 6,
      "metadata": {
        "id": "22boVjGSPEDq"
      },
      "outputs": [
        {
          "name": "stdout",
          "output_type": "stream",
          "text": [
            "Loss: 0.1308\n",
            "Precisión: 97.8%\n"
          ]
        },
        {
          "data": {
            "image/png": "[encoded data removed]",
            "text/plain": [
              "<Figure size 900x350 with 2 Axes>"
            ]
          },
          "metadata": {},
          "output_type": "display_data"
        }
      ],
      "source": [
        "# Retrain the model using the best hyperparameters on the full train-validation set\n",
        "M = build_model(tuner.get_best_hyperparameters(1)[0])\n",
        "H = M.fit(x_train_val, y_train_val, batch_size=16, epochs=10, verbose=0)\n",
        "\n",
        "# Plot training loss and accuracy\n",
        "fig, axes = plt.subplots(1, 2, figsize=(9, 3.5))\n",
        "xx = np.arange(1, len(H.history['loss'])+1)\n",
        "\n",
        "ax = axes[0]\n",
        "ax.grid()\n",
        "ax.set_xlabel('epoch')\n",
        "ax.set_ylabel('loss')\n",
        "ax.set_xticks(xx)\n",
        "ax.plot(xx, H.history['loss'], color='b', marker='s')\n",
        "\n",
        "ax = axes[1]\n",
        "ax.grid()\n",
        "ax.set_xlabel('epoch')\n",
        "ax.set_ylabel('accuracy')\n",
        "ax.set_xticks(xx)\n",
        "ax.plot(xx, H.history['accuracy'], color='b', marker='s')\n",
        "\n",
        "# Evaluate on test set\n",
        "score = M.evaluate(x_test, y_test, verbose=0)\n",
        "print(f'Loss: {score[0]:.4}\\nPrecisión: {score[1]:.1%}')\n"
      ]
    },
    {
      "cell_type": "code",
      "execution_count": 7,
      "metadata": {
        "id": "9Sf8UUsmPGsk"
      },
      "outputs": [
        {
          "name": "stdout",
          "output_type": "stream",
          "text": [
            "Downloading data from https://storage.googleapis.com/tensorflow/tf-keras-datasets/train-labels-idx1-ubyte.gz\n",
            "\u001b[1m29515/29515\u001b[0m \u001b[32m━━━━━━━━━━━━━━━━━━━━\u001b[0m\u001b[37m\u001b[0m \u001b[1m0s\u001b[0m 0us/step\n",
            "Downloading data from https://storage.googleapis.com/tensorflow/tf-keras-datasets/train-images-idx3-ubyte.gz\n",
            "\u001b[1m26421880/26421880\u001b[0m \u001b[32m━━━━━━━━━━━━━━━━━━━━\u001b[0m\u001b[37m\u001b[0m \u001b[1m1s\u001b[0m 0us/step\n",
            "Downloading data from https://storage.googleapis.com/tensorflow/tf-keras-datasets/t10k-labels-idx1-ubyte.gz\n",
            "\u001b[1m5148/5148\u001b[0m \u001b[32m━━━━━━━━━━━━━━━━━━━━\u001b[0m\u001b[37m\u001b[0m \u001b[1m0s\u001b[0m 0us/step\n",
            "Downloading data from https://storage.googleapis.com/tensorflow/tf-keras-datasets/t10k-images-idx3-ubyte.gz\n",
            "\u001b[1m4422102/4422102\u001b[0m \u001b[32m━━━━━━━━━━━━━━━━━━━━\u001b[0m\u001b[37m\u001b[0m \u001b[1m0s\u001b[0m 0us/step\n"
          ]
        }
      ],
      "source": [
        "# Initialize and preprocess Fashion-MNIST dataset\n",
        "(x_train_val, y_train_val), (x_test, y_test) = keras.datasets.fashion_mnist.load_data()\n",
        "\n",
        "input_dim = 784\n",
        "x_train_val = x_train_val.reshape(-1, input_dim).astype(\"float32\") / 255.0\n",
        "x_test = x_test.reshape(-1, input_dim).astype(\"float32\") / 255.0\n",
        "\n",
        "num_classes = 10\n",
        "y_train_val = keras.utils.to_categorical(y_train_val, num_classes)\n",
        "y_test = keras.utils.to_categorical(y_test, num_classes)\n",
        "\n",
        "# Train-validation split for Fashion-MNIST\n",
        "x_train = x_train_val[:-10000]\n",
        "x_val = x_train_val[-10000:]\n",
        "y_train = y_train_val[:-10000]\n",
        "y_val = y_train_val[-10000:]\n"
      ]
    }
  ],
  "metadata": {
    "colab": {
      "provenance": []
    },
    "kernelspec": {
      "display_name": "per",
      "language": "python",
      "name": "python3"
    },
    "language_info": {
      "codemirror_mode": {
        "name": "ipython",
        "version": 3
      },
      "file_extension": ".py",
      "mimetype": "text/x-python",
      "name": "python",
      "nbconvert_exporter": "python",
      "pygments_lexer": "ipython3",
      "version": "3.11.9"
    }
  },
  "nbformat": 4,
  "nbformat_minor": 0
}
