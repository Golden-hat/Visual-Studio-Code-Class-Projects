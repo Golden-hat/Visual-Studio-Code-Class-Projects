{
 "cells": [
  {
   "cell_type": "markdown",
   "metadata": {},
   "source": [
    "# Diccionarios en Python3"
   ]
  },
  {
   "cell_type": "markdown",
   "metadata": {},
   "source": [
    "Vamos a repasar algunos usos típicos de los diccionarios en Python3 y, en particular, veremos que es posible guardar funciones Python como valores de los diccionarios y que estas funciones se pueden pasar como argumentos a otras funciones."
   ]
  },
  {
   "cell_type": "markdown",
   "metadata": {},
   "source": [
    "### Creación de un diccionario"
   ]
  },
  {
   "cell_type": "code",
   "execution_count": 1,
   "metadata": {},
   "outputs": [
    {
     "name": "stdout",
     "output_type": "stream",
     "text": [
      "{'primera': <function funcion1 at 0x7f6ed013d730>, 'segunda': <function funcion2 at 0x7f6ed013d7b8>}\n"
     ]
    }
   ],
   "source": [
    "# Vamos a crear una serie de funciones:\n",
    "def funcion1():\n",
    "    print(\"Soy la función 1\")\n",
    "\n",
    "def funcion2():\n",
    "    print(\"Soy la función 2\")\n",
    "\n",
    "# y ahora creamos un diccionario que tiene como valores las funciones\n",
    "# definidas anteriormente:\n",
    "d = { 'primera':funcion1, 'segunda':funcion2 }\n",
    "\n",
    "print(d)"
   ]
  },
  {
   "cell_type": "markdown",
   "metadata": {},
   "source": [
    "### Recorrido de un diccionario"
   ]
  },
  {
   "cell_type": "code",
   "execution_count": 9,
   "metadata": {},
   "outputs": [
    {
     "name": "stdout",
     "output_type": "stream",
     "text": [
      "primera\n",
      "segunda\n",
      "\n",
      "Ahora usando keys:\n",
      "primera\n",
      "segunda\n"
     ]
    }
   ],
   "source": [
    "# sobre un diccionario podemos obtener varias cosas\n",
    "# y realizar varios tipos de recorrido, lo más inmediato\n",
    "# es:\n",
    "for clave in d:\n",
    "    print(clave)\n",
    "\n",
    "# es equivalente a usar keys:\n",
    "print(\"\\nAhora usando keys:\")\n",
    "for clave in d.keys():\n",
    "    print(clave)"
   ]
  },
  {
   "cell_type": "code",
   "execution_count": 12,
   "metadata": {},
   "outputs": [
    {
     "name": "stdout",
     "output_type": "stream",
     "text": [
      "primera <function funcion1 at 0x7f6ed013d730>\n",
      "Lo ejecuto:\n",
      "Soy la función 1\n",
      "segunda <function funcion2 at 0x7f6ed013d7b8>\n",
      "Lo ejecuto:\n",
      "Soy la función 2\n"
     ]
    }
   ],
   "source": [
    "# y en ese bucle podemos acceder a sus valores así:\n",
    "for clave in d:\n",
    "    f = d[clave]\n",
    "    print(clave, f)\n",
    "    print(\"Lo ejecuto:\")\n",
    "    f() # en este caso basta con poner () tras una ref. a la función\n",
    "    # también se podría poner d[clave]()"
   ]
  },
  {
   "cell_type": "code",
   "execution_count": 13,
   "metadata": {},
   "outputs": [
    {
     "name": "stdout",
     "output_type": "stream",
     "text": [
      "primera <function funcion1 at 0x7f6ed013d730>\n",
      "Lo ejecuto:\n",
      "Soy la función 1\n",
      "segunda <function funcion2 at 0x7f6ed013d7b8>\n",
      "Lo ejecuto:\n",
      "Soy la función 2\n"
     ]
    }
   ],
   "source": [
    "for clave,f in d.items():\n",
    "    print(clave, f)\n",
    "    print(\"Lo ejecuto:\")\n",
    "    f()\n",
    "    "
   ]
  },
  {
   "cell_type": "code",
   "execution_count": null,
   "metadata": {},
   "outputs": [],
   "source": []
  }
 ],
 "metadata": {
  "kernelspec": {
   "display_name": "Python 3",
   "language": "python",
   "name": "python3"
  },
  "language_info": {
   "codemirror_mode": {
    "name": "ipython",
    "version": 3
   },
   "file_extension": ".py",
   "mimetype": "text/x-python",
   "name": "python",
   "nbconvert_exporter": "python",
   "pygments_lexer": "ipython3",
   "version": "3.8.5"
  }
 },
 "nbformat": 4,
 "nbformat_minor": 2
}
