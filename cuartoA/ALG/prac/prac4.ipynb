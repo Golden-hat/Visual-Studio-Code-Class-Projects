{
 "cells": [
  {
   "cell_type": "markdown",
   "metadata": {},
   "source": [
    "<h1 align=\"center\">Práctica 4. El problema del ensamblaje (Cota Voraz)</h1>\n",
    "<h3 style=\"display:block; margin-top:5px;\" align=\"center\">Algorítmica</h3>\n",
    "<h3 style=\"display:block; margin-top:5px;\" align=\"center\">Grado en Ingeniería Informática</h3>\n",
    "<h3 style=\"display:block; margin-top:5px;\" align=\"center\">2024-2025</h3>    \n",
    "<h3 style=\"display:block; margin-top:5px;\" align=\"center\">Universitat Politècnica de València</h3>\n",
    "<br>"
   ]
  },
  {
   "cell_type": "markdown",
   "metadata": {},
   "source": [
    "**Pon/poned aquí tú/vuestros nombre(s):**\n",
    "- Yassin Pellicer Lamla"
   ]
  },
  {
   "cell_type": "markdown",
   "metadata": {},
   "source": [
    "## Índice\n",
    "1. ### [El problema del ensamblaje](#introduccion)\n",
    "1. ### [Actividad 1: Solución voraz](#actividad1)"
   ]
  },
  {
   "cell_type": "markdown",
   "metadata": {},
   "source": [
    "# El problema del ensamblaje\n",
    "\n",
    "Se trata del problema descrito en los apuntes de teoría en la sección 9.4. Lo mejor es ir directamente al pdf para ver la descripción del problema, pero resumimos aquí algunos datos:\n",
    "\n",
    "- Hay que ensamblar un total de $M$ piezas con el menor coste posible.\n",
    "- El coste de ensamblar la pieza $i$ depende del número de piezas ya ensambladas.\n",
    "- Los datos de entrada se resumen en una matriz `costes` de tamaño $M \\times M$ con valores positivos (no hace falta que sean enteros). El valor `costes[i,j]` representa el coste de situar la pieza `i` (un identificador entre `0` y `M-1`) cuando ya se han ensamblado `j` piezas.\n",
    "- Las soluciones son tuplas de la forma $(x_0,x_1,\\ldots,x_{M-1})$ donde $x_i$ es el nº piezas ya montadas en el momento en que se decide montar la pieza que identificamos con el índice $i$.\n",
    "- La función objetivo es: $f((x_0,x_1,\\ldots,x_{M-1})) = \\sum_{0 \\leq i < M} costes [i,x_i]$\n",
    "- Todas las permutaciones serían factibles, se trata de encontrar una que corresponda a un coste mínimo (podría haber empates).\n",
    "- Se trata de un problema conocido en teoría de grafos, el [Problema de la asignación](https://es.wikipedia.org/wiki/Problema_de_la_asignaci%C3%B3n) o [Assignment problem](https://en.wikipedia.org/wiki/Assignment_problem) para el que existen algoritmos como [Kuhn Munkres](https://en.wikipedia.org/wiki/Hungarian_algorithm) con un coste polinómico ($O(|V|^3)$). Sería interesante comparar los algoritmos de ramificación y poda de esta práctica con estos otros, pero en una sola sesión no da tiempo."
   ]
  },
  {
   "cell_type": "markdown",
   "metadata": {},
   "source": [
    "## Generación de instancias\n",
    "\n",
    "Para generar instancias concretas para una talla dada, vamos a recurrir a la generación de números aleatorios utilizando la siguiente función de la biblioteca `numpy`:"
   ]
  },
  {
   "cell_type": "code",
   "execution_count": 1,
   "metadata": {},
   "outputs": [],
   "source": [
    "import numpy as np\n",
    "def genera_instancia(M, low=1, high=1000):\n",
    "    return np.random.randint(low=low,high=high,\n",
    "                             size=(M,M),dtype=np.int32)"
   ]
  },
  {
   "cell_type": "code",
   "execution_count": 4,
   "metadata": {},
   "outputs": [
    {
     "data": {
      "text/plain": [
       "array([[5, 7, 8, 4],\n",
       "       [3, 4, 7, 7],\n",
       "       [2, 6, 9, 3],\n",
       "       [9, 5, 4, 4]], dtype=int32)"
      ]
     },
     "execution_count": 4,
     "metadata": {},
     "output_type": "execute_result"
    }
   ],
   "source": [
    "costes = genera_instancia(4,high=10)\n",
    "costes"
   ]
  },
  {
   "cell_type": "markdown",
   "metadata": {},
   "source": [
    "Con una matriz como ésta (cada vez que lo ejecutes dará normalmente otra distinta):\n",
    "\n",
    "```python\n",
    "array([[7, 3, 7, 2],\n",
    "       [9, 9, 4, 1],\n",
    "       [9, 4, 8, 1],\n",
    "       [3, 4, 8, 4]])\n",
    "```\n",
    "\n",
    "el coste de ensamblar la pieza 0 en la cuarta posición (después de haber ensamblado 3 piezas) es `costes[0,3]` que vale `2`.\n"
   ]
  },
  {
   "cell_type": "markdown",
   "metadata": {},
   "source": [
    "## Representación de los estados\n",
    "\n",
    "- El estado inicial será la lista vacía `[]`.\n",
    "- Un estado intermedio $(x_0,x_1,\\ldots,x_{k-1})$ se representará mediante una lista Python con esos mismos valores.\n",
    "- Un estado solución será una lista de talla $M$."
   ]
  },
  {
   "cell_type": "markdown",
   "metadata": {},
   "source": [
    "<a id='actividad1'></a>"
   ]
  },
  {
   "cell_type": "markdown",
   "metadata": {},
   "source": [
    "# Actividad 1: Solución voraz\n",
    "\n",
    "Se trata de obtener una solución con la que inicializar la variable `x` (mejor solución encontrada hasta el momento) y su score correspondiente `fx`.\n",
    "\n",
    "En el problema del ensamblaje es trivial obtener una solución porque cualquier permutación de índices entre `0` y `M-1` es una solución válida. Es decir, podríamos hacer algo así:\n",
    "\n",
    "```python\n",
    "def ensamblaje(costes,\n",
    "               verbosity=1):\n",
    "\n",
    "    ...\n",
    "    \n",
    "    def naive_solution():\n",
    "        score, solution = 0, []\n",
    "        for i in range(M):\n",
    "            solution.append(i)\n",
    "            score += costes[i,i]\n",
    "        return score,solution\n",
    "```\n",
    "\n",
    "Es decir, cada $x_i$ es igual a $i$ (los objetos se ponen en orden 0,1,2,...).\n",
    "\n",
    "Pero cuanto mejor sea la solución inicial antes empezaremos a podar mejor, sin llegar al extremo de calcularla de forma exacta porque, en ese caso ¿para qué usar luego ramificación y poda?\n",
    "\n",
    "En esta primera actividad debes completar la función `greedy_solution` donde existen varias opciones, entre ellas:\n",
    "\n",
    "1. Ir por orden pieza a pieza (fila $i$ de la matriz) y elegir el valor $x_i$ (el momento de colocación de esa pieza) que resulte más barato de los que siguen disponibles. Es decir, ir fila por fila de la matriz y elegir (para esa fila) la columna menor de las columnas previamente no elegidas.\n",
    "2. Ir por orden instante a instante (columna de la matriz) y elegir para cada una la pieza (fila de la matriz) que sea más barata de colocar en ese instante (de entre las piezas que queden por ensamblar).\n",
    "3. Ordenar de menor a mayor todos los valores de la matriz de costes recordando sus coordenadas. Después se recorre utilizando los valores que correspondan a piezas e instantes válidos (descartando el resto) hasta haber situado todas las piezas.\n",
    "4. Cualquier combinación de los anteriores (se calculan soluciones con varios algoritmos y nos quedamos con la mejor solución).\n",
    "\n",
    "Debes implementar al menos la primera, las otras dos se pueden implementar de forma opcional."
   ]
  },
  {
   "cell_type": "code",
   "execution_count": 87,
   "metadata": {},
   "outputs": [],
   "source": [
    "\"\"\"\n",
    "    Algoritmo voraz para inicializar a una \"solución cualquiera\"\n",
    "    NO BUSCAMOS LA MEJOR SOLUCIÓN, solo una razonable que calcule en un tiempo razonable\n",
    "\"\"\"\n",
    "from numpy import sort\n",
    "\n",
    "M = 4\n",
    "\n",
    "def naive_solution():\n",
    "    score, solution = 0, []\n",
    "    for i in range(M):\n",
    "        solution.append(i)\n",
    "        score += costes[i,i]\n",
    "    return int(score), solution\n",
    "\n",
    "def greedy_solution1():\n",
    "    \"\"\"\n",
    "    En este caso vamos fila por fila y elegimos la columna de\n",
    "    menor valor de entre las que queden disponibles.\n",
    "    \"\"\"\n",
    "    score, solution, chosen = 0, [None]*M, set()\n",
    "    for i in range(M):\n",
    "        subset = [j for j in range(M) if j not in chosen]\n",
    "        chosen.add(subset[np.argmin(costes[i,subset])])\n",
    "        solution[i] = subset[np.argmin(costes[i,subset])]\n",
    "        score = score + costes[i,subset[np.argmin(costes[i,subset])]]\n",
    "    return int(score), solution\n",
    "    \n",
    "def greedy_solution2():\n",
    "    \"\"\"\n",
    "    Algoritmo voraz para inicializar a una \"solución cualquiera\"\n",
    "    (la mejor que se pueda en un tiempo razonable)\n",
    "\n",
    "    En este caso vamos columna por columna y elegimos la fila de\n",
    "    menor valor de entre las que queden disponibles.\n",
    "    \"\"\"\n",
    "    score, solution, chosen = 0, [None]*M, set()\n",
    "    for i in range(M):\n",
    "        subset = [j for j in range(M) if j not in chosen]\n",
    "        chosen.add(subset[np.argmin(costes[subset, i])])\n",
    "        solution[i] = subset[np.argmin(costes[subset, i])]\n",
    "        score = score + costes[subset[np.argmin(costes[subset, i])],i]\n",
    "    return int(score), solution\n",
    "\n",
    "def greedy_solution3():\n",
    "    \"\"\"\n",
    "    Ordenar de menor a mayor todos los valores de la matriz de costes recordando sus coordenadas.\n",
    "    Después se recorre utilizando los valores que correspondan a piezas e instantes válidos.\n",
    "    \"\"\"\n",
    "    M = costes.shape[0] # nº piezas\n",
    "\n",
    "    # COMPLETAR\n",
    "\n",
    "    # Inicializar la solución con -1\n",
    "    solution = [-1] * M\n",
    "    solution_aux = [-1] * M\n",
    "    filas = [-1] * M\n",
    "    cols = [-1] * M\n",
    "    min=100000\n",
    "    # Ordenar las tareas por coste\n",
    "    #sorted_tasks = sorted(range(M), key=lambda i: costes[i,0])\n",
    "    # Iterar a través de las tareas ordenadas por coste\n",
    "    for k in range(M):\n",
    "        for i in range(M):\n",
    "            for j in range(M):\n",
    "                # Encuentra el intervalo de tiempo con el menor coste para la tarea actual\n",
    "                if(costes[i,j]<min and i not in filas and j not in cols):\n",
    "                    min=costes[i,j]\n",
    "                    col=j\n",
    "                    fila=i\n",
    "        min=10000\n",
    "        filas[k]=fila\n",
    "        cols[k]=col \n",
    "        # Asignar la tarea actual al intervalo de tiempo con el menor coste\n",
    "        solution_aux[k]=(fila,col)\n",
    "    solution_aux=sorted(solution_aux, key=lambda i: i[0])\n",
    "    for i in range(M):\n",
    "        solution[i]=solution_aux[i][1]\n",
    "    # Calcular el coste total de la solución\n",
    "    return ((sum(int(costes[pieza,instante])\n",
    "        for pieza,instante in enumerate(solution)), solution))\n",
    "   \n",
    "def greedy_solution4():\n",
    "    \"\"\"\n",
    "    La mejor de las tres\n",
    "    \"\"\"\n",
    "    return sorted([greedy_solution1(), greedy_solution2(), greedy_solution3()])[0]\n",
    "\n",
    "def run_greedy():\n",
    "    print(costes)\n",
    "    print('nv', naive_solution())\n",
    "    print('g1' , greedy_solution1())\n",
    "    print('g2' , greedy_solution2())\n",
    "    print('g3', greedy_solution3())"
   ]
  },
  {
   "cell_type": "markdown",
   "metadata": {},
   "source": [
    "## Prueba con una matriz conocida"
   ]
  },
  {
   "cell_type": "code",
   "execution_count": 88,
   "metadata": {},
   "outputs": [
    {
     "name": "stdout",
     "output_type": "stream",
     "text": [
      "[[7 3 7 2]\n",
      " [9 9 4 1]\n",
      " [9 4 8 1]\n",
      " [3 4 8 4]]\n",
      "nv (28, [0, 1, 2, 3])\n",
      "g1 (13, [3, 2, 1, 0])\n",
      "g2 (11, [3, 0, 1, 2])\n",
      "g3 (15, [1, 3, 2, 0])\n"
     ]
    }
   ],
   "source": [
    "costes = np.array(\n",
    "    [\n",
    "        [7, 3, 7, 2],\n",
    "        [9, 9, 4, 1],\n",
    "        [9, 4, 8, 1],\n",
    "        [3, 4, 8, 4]\n",
    "    ])\n",
    "run_greedy()"
   ]
  },
  {
   "cell_type": "markdown",
   "metadata": {},
   "source": [
    "La salida debe ser:\n",
    "```python\n",
    "[[7 3 7 2]\n",
    " [9 9 4 1]\n",
    " [9 4 8 1]\n",
    " [3 4 8 4]]\n",
    "nv (28, [0, 1, 2, 3])\n",
    "g1 (13, [3, 2, 1, 0])\n",
    "g2 (11, [1, 2, 3, 0])\n",
    "g3 (15, [1, 3, 2, 0])\n",
    "```"
   ]
  },
  {
   "cell_type": "code",
   "execution_count": 89,
   "metadata": {},
   "outputs": [
    {
     "name": "stdout",
     "output_type": "stream",
     "text": [
      "[[4 4 5 3]\n",
      " [2 8 9 1]\n",
      " [6 9 6 3]\n",
      " [4 6 7 7]]\n",
      "nv (25, [0, 1, 2, 3])\n",
      "g1 (17, [3, 0, 2, 1])\n",
      "g2 (19, [1, 0, 2, 3])\n",
      "g3 (17, [0, 3, 2, 1])\n"
     ]
    }
   ],
   "source": [
    "M = 4\n",
    "costes = np.array([[4, 4, 5, 3],\n",
    "                   [2, 8, 9, 1],\n",
    "                   [6, 9, 6, 3],\n",
    "                   [4, 6, 7, 7]],dtype=np.int32)\n",
    "run_greedy()"
   ]
  },
  {
   "cell_type": "markdown",
   "metadata": {},
   "source": [
    "La salida debe ser:\n",
    "```python\n",
    "[[4 4 5 3]\n",
    " [2 8 9 1]\n",
    " [6 9 6 3]\n",
    " [4 6 7 7]]\n",
    "nv (25, [0, 1, 2, 3])\n",
    "g1 (17, [3, 0, 2, 1])\n",
    "g2 (19, [1, 0, 2, 3])\n",
    "g3 (17, [0, 3, 2, 1])\n",
    "```"
   ]
  },
  {
   "cell_type": "code",
   "execution_count": 90,
   "metadata": {},
   "outputs": [
    {
     "name": "stdout",
     "output_type": "stream",
     "text": [
      "[[30 42 65 12 45 30 99 93  1 41]\n",
      " [88 96 72 37 14 67 28 85 46 50]\n",
      " [78 89 86 69 48  6 79 34 85 66]\n",
      " [88 51 15 92 72 82 36 98 97 72]\n",
      " [ 5 55 58 20 56  3 97 91 99 69]\n",
      " [18 13 99 92 39 49 29 82 47 32]\n",
      " [35  7 58  1 47 22 80 65 51 35]\n",
      " [42 72 31 11 88 17 81 76  4  7]\n",
      " [33 83  6 97 24 92 94 57 86 31]\n",
      " [56 55 41 24 65 56 73 70 86 66]]\n",
      "nv (717, [0, 1, 2, 3, 4, 5, 6, 7, 8, 9])\n",
      "g1 (192, [8, 4, 5, 2, 0, 1, 3, 9, 7, 6])\n",
      "g2 (221, [4, 6, 8, 7, 1, 2, 5, 9, 0, 3])\n",
      "g3 (171, [8, 4, 7, 6, 5, 1, 3, 9, 2, 0])\n"
     ]
    }
   ],
   "source": [
    "M = 10\n",
    "costes = np.array([[30, 42, 65, 12, 45, 30, 99, 93,  1, 41],\n",
    "       [88, 96, 72, 37, 14, 67, 28, 85, 46, 50],\n",
    "       [78, 89, 86, 69, 48,  6, 79, 34, 85, 66],\n",
    "       [88, 51, 15, 92, 72, 82, 36, 98, 97, 72],\n",
    "       [ 5, 55, 58, 20, 56,  3, 97, 91, 99, 69],\n",
    "       [18, 13, 99, 92, 39, 49, 29, 82, 47, 32],\n",
    "       [35,  7, 58,  1, 47, 22, 80, 65, 51, 35],\n",
    "       [42, 72, 31, 11, 88, 17, 81, 76,  4,  7],\n",
    "       [33, 83,  6, 97, 24, 92, 94, 57, 86, 31],\n",
    "       [56, 55, 41, 24, 65, 56, 73, 70, 86, 66]], dtype=np.int32)\n",
    "run_greedy()"
   ]
  },
  {
   "cell_type": "markdown",
   "metadata": {},
   "source": [
    "La salida debe ser:\n",
    "```python\n",
    "[[30 42 65 12 45 30 99 93  1 41]\n",
    " [88 96 72 37 14 67 28 85 46 50]\n",
    " [78 89 86 69 48  6 79 34 85 66]\n",
    " [88 51 15 92 72 82 36 98 97 72]\n",
    " [ 5 55 58 20 56  3 97 91 99 69]\n",
    " [18 13 99 92 39 49 29 82 47 32]\n",
    " [35  7 58  1 47 22 80 65 51 35]\n",
    " [42 72 31 11 88 17 81 76  4  7]\n",
    " [33 83  6 97 24 92 94 57 86 31]\n",
    " [56 55 41 24 65 56 73 70 86 66]]\n",
    "nv (717, [0, 1, 2, 3, 4, 5, 6, 7, 8, 9])\n",
    "g1 (192, [8, 4, 5, 2, 0, 1, 3, 9, 7, 6])\n",
    "g2 (221, [8, 4, 5, 9, 0, 6, 1, 3, 2, 7])\n",
    "g3 (171, [8, 4, 7, 6, 5, 1, 3, 9, 2, 0])\n",
    "```"
   ]
  },
  {
   "cell_type": "markdown",
   "metadata": {},
   "source": [
    "## Prueba con el generador de instancias"
   ]
  },
  {
   "cell_type": "code",
   "execution_count": 91,
   "metadata": {},
   "outputs": [
    {
     "name": "stdout",
     "output_type": "stream",
     "text": [
      "[[ 2 33 99 96 48]\n",
      " [39 59 21 66 44]\n",
      " [40 26 16 13 67]\n",
      " [86 30 96 66 17]\n",
      " [14 75 64 59 98]]\n",
      "nv (241, [0, 1, 2, 3, 4])\n",
      "g1 (128, [0, 2, 3, 4, 1])\n",
      "g2 (125, [0, 2, 1, 4, 3])\n",
      "g3 (128, [0, 2, 3, 4, 1])\n",
      "\n",
      "\n",
      "[[ 9 70  7 57 96]\n",
      " [94 92 31 93 89]\n",
      " [72 25 17 91 17]\n",
      " [64 31 63  2 15]\n",
      " [ 5 66 14 32 91]]\n",
      "nv (211, [0, 1, 2, 3, 4])\n",
      "g1 (128, [2, 4, 1, 3, 0])\n",
      "g2 (128, [4, 2, 0, 3, 1])\n",
      "g3 (123, [2, 1, 4, 3, 0])\n",
      "\n",
      "\n",
      "[[48 78  9 18 46]\n",
      " [68 15 61  9 99]\n",
      " [99 19 65 52 90]\n",
      " [92 91 15 56  1]\n",
      " [94  5 49 42 73]]\n",
      "nv (257, [0, 1, 2, 3, 4])\n",
      "g1 (132, [2, 3, 1, 4, 0])\n",
      "g2 (167, [0, 4, 3, 1, 2])\n",
      "g3 (123, [2, 3, 0, 4, 1])\n",
      "\n",
      "\n",
      "[[32  9  4 46  9]\n",
      " [89 88 11 99 96]\n",
      " [33 72  3 95 75]\n",
      " [61 99 45 44 44]\n",
      " [82  2 13 11 86]]\n",
      "nv (253, [0, 1, 2, 3, 4])\n",
      "g1 (255, [2, 1, 0, 3, 4])\n",
      "g2 (177, [0, 4, 2, 3, 1])\n",
      "g3 (147, [4, 0, 2, 3, 1])\n",
      "\n",
      "\n",
      "[[58  1 79 31 95]\n",
      " [86 37 23  3 24]\n",
      " [19 60 78 56 50]\n",
      " [45 89 96 85 87]\n",
      " [40  4 86 76  5]]\n",
      "nv (263, [0, 1, 2, 3, 4])\n",
      "g1 (196, [1, 3, 0, 4, 2])\n",
      "g2 (206, [2, 0, 1, 4, 3])\n",
      "g3 (124, [1, 3, 0, 2, 4])\n",
      "\n",
      "\n"
     ]
    }
   ],
   "source": [
    "M = 5\n",
    "for i in range(5):\n",
    "    costes = genera_instancia(M, low=1, high=100)\n",
    "    run_greedy()\n",
    "    print('\\n')"
   ]
  },
  {
   "cell_type": "markdown",
   "metadata": {},
   "source": [
    "# NOTA: no olvides copiar las soluciones voraces en el código de la siguiente práctica (Actividad 3 de la práctica completa)"
   ]
  },
  {
   "cell_type": "markdown",
   "metadata": {},
   "source": [
    "<a id='actividad3'></a>"
   ]
  },
  {
   "cell_type": "markdown",
   "metadata": {},
   "source": [
    "<a id='codigo'></a>"
   ]
  }
 ],
 "metadata": {
  "kernelspec": {
   "display_name": "base",
   "language": "python",
   "name": "python3"
  },
  "language_info": {
   "codemirror_mode": {
    "name": "ipython",
    "version": 3
   },
   "file_extension": ".py",
   "mimetype": "text/x-python",
   "name": "python",
   "nbconvert_exporter": "python",
   "pygments_lexer": "ipython3",
   "version": "3.11.7"
  }
 },
 "nbformat": 4,
 "nbformat_minor": 2
}
