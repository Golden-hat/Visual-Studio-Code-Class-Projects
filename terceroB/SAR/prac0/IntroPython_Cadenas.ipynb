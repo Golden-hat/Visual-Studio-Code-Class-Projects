{
 "cells": [
  {
   "cell_type": "markdown",
   "metadata": {},
   "source": [
    "## Cadenas en Python\n",
    "\n",
    "Los *literales* de las cadenas en Python pueden ser de varios tipos:"
   ]
  },
  {
   "cell_type": "code",
   "execution_count": 3,
   "metadata": {},
   "outputs": [
    {
     "name": "stdout",
     "output_type": "stream",
     "text": [
      "cadena con comillas dobles\n",
      "\n",
      "cadena con comilla simple\n",
      "\n",
      "puedes utilizar tres comillas simples o dobles\n",
      "y tiene como característica que puede ocupar varias líneas\n",
      "\n",
      "lo dicho, también con comillas dobles\n",
      "y ocupar varias líneas\n",
      "hola\n",
      "hola\n"
     ]
    }
   ],
   "source": [
    "a = \"cadena con comillas dobles\"\n",
    "b = 'cadena con comilla simple'\n",
    "c = '''puedes utilizar tres comillas simples o dobles\n",
    "y tiene como característica que puede ocupar varias líneas'''\n",
    "d = \"\"\"lo dicho, también con comillas dobles\n",
    "y ocupar varias líneas\n",
    "hola\n",
    "hola\"\"\"\n",
    "\n",
    "print(a)\n",
    "print()\n",
    "print(b)\n",
    "print()\n",
    "print(c)\n",
    "print()\n",
    "print(d)"
   ]
  },
  {
   "cell_type": "markdown",
   "metadata": {},
   "source": [
    "Observa lo que ocurre cuando imprimes el resultado de pasar esas cadenas por la función `repr` (que veremos más abajo):"
   ]
  },
  {
   "cell_type": "code",
   "execution_count": 4,
   "metadata": {},
   "outputs": [
    {
     "name": "stdout",
     "output_type": "stream",
     "text": [
      "'cadena con comillas dobles'\n",
      "\n",
      "'cadena con comilla simple'\n",
      "\n",
      "'puedes utilizar tres comillas simples o dobles\\ny tiene como característica que puede ocupar varias líneas'\n",
      "\n",
      "'lo dicho, también con comillas dobles\\ny ocupar varias líneas\\nhola\\nhola'\n"
     ]
    }
   ],
   "source": [
    "print(repr(a))\n",
    "print()\n",
    "print(repr(b))\n",
    "print()\n",
    "print(repr(c))\n",
    "print()\n",
    "print(repr(d))"
   ]
  },
  {
   "cell_type": "markdown",
   "metadata": {},
   "source": [
    "Uno de los motivos para que se permita el uso de comillas simples y dobles es que podemos usar de un tipo como carácter cuando las otras sirven para delimitar:"
   ]
  },
  {
   "cell_type": "code",
   "execution_count": 8,
   "metadata": {},
   "outputs": [
    {
     "name": "stdout",
     "output_type": "stream",
     "text": [
      "hola puedo usar 'comillas simples' dentro de la cadena\n",
      "\n",
      "hola puedo usar \"comillas dobles\" dentro de la cadena\n",
      "\"hola puedo usar 'comillas simples' dentro de la cadena\"\n",
      "'hola puedo usar \"comillas dobles\" dentro de la cadena'\n"
     ]
    }
   ],
   "source": [
    "a = \"hola puedo usar 'comillas simples' dentro de la cadena\"\n",
    "b = 'hola puedo usar \"comillas dobles\" dentro de la cadena'\n",
    "\n",
    "print(a)\n",
    "print()\n",
    "print(b)"
   ]
  },
  {
   "cell_type": "markdown",
   "metadata": {},
   "source": [
    "Como en la mayoría de lenguajes de programación, cuando creas una cadena de texto literalmente puedes **escapar** algunos caracteres utilizando la contrabarra ¿qué significa esto? Veamos:"
   ]
  },
  {
   "cell_type": "code",
   "execution_count": 9,
   "metadata": {},
   "outputs": [
    {
     "name": "stdout",
     "output_type": "stream",
     "text": [
      "hola\tmundo\n"
     ]
    }
   ],
   "source": [
    "print(\"hola\\tmundo\")"
   ]
  },
  {
   "cell_type": "code",
   "execution_count": 10,
   "metadata": {},
   "outputs": [
    {
     "name": "stdout",
     "output_type": "stream",
     "text": [
      "hola \"mundo\"\n"
     ]
    }
   ],
   "source": [
    "print(\"hola \\\"mundo\\\"\")"
   ]
  },
  {
   "cell_type": "code",
   "execution_count": 15,
   "metadata": {},
   "outputs": [
    {
     "name": "stdout",
     "output_type": "stream",
     "text": [
      "La propia contrabarra debe ser escapada doblándola así \"\\\"\n"
     ]
    }
   ],
   "source": [
    "print(\"La propia contrabarra debe ser escapada doblándola así \\\"\\\\\\\"\")"
   ]
  },
  {
   "cell_type": "code",
   "execution_count": 11,
   "metadata": {},
   "outputs": [
    {
     "name": "stdout",
     "output_type": "stream",
     "text": [
      "hola\n",
      "\n",
      "\"mundo\"\n"
     ]
    }
   ],
   "source": [
    "print(\"hola\\n\\n\\\"mundo\\\"\")"
   ]
  },
  {
   "cell_type": "markdown",
   "metadata": {},
   "source": [
    "### Cadenas `raw`\n",
    "\n",
    "Pero observa que si ponemos una `r` antes de las comillas se crea lo que se llama una **cadena raw**:"
   ]
  },
  {
   "cell_type": "code",
   "execution_count": 13,
   "metadata": {},
   "outputs": [
    {
     "name": "stdout",
     "output_type": "stream",
     "text": [
      "hola\\n\\n\\\"mundo\\\"\n"
     ]
    }
   ],
   "source": [
    "print(r\"hola\\n\\n\\\"mundo\\\"\")"
   ]
  },
  {
   "cell_type": "markdown",
   "metadata": {},
   "source": [
    "En las cadenas **raw** no se escapan los caracteres.\n",
    "\n",
    "Las cadenas **raw** sirven para escribir literales de cadena que contengan muchos símbolos como \"\\\" que sería tedioso tener que escapar una y otra vez. Son muy útiles, por ejemplo, cuando creamos **expresiones regulares**."
   ]
  },
  {
   "cell_type": "markdown",
   "metadata": {},
   "source": [
    "### La clase `bytes`\n",
    "\n",
    "Si pones una `b` antes de las comillas se crea un literal o instancia de algo que parece una cadena pero, según Python, es una clase diferente llamada `bytes`:"
   ]
  },
  {
   "cell_type": "code",
   "execution_count": 37,
   "metadata": {},
   "outputs": [
    {
     "name": "stdout",
     "output_type": "stream",
     "text": [
      "<class 'str'>\n",
      "<class 'bytes'>\n"
     ]
    }
   ],
   "source": [
    "print(type(\"hola\"))\n",
    "print(type(b\"hola\")) # OBSERVA LA b ANTES DE LAS COMILLAS"
   ]
  },
  {
   "cell_type": "markdown",
   "metadata": {},
   "source": [
    "Veremos qué es la clase `bytes` y qué interés tiene un poco más abajo."
   ]
  },
  {
   "cell_type": "markdown",
   "metadata": {},
   "source": [
    "### Las cadenas son *inmutables*\n",
    "\n",
    "Las cadenas en Python son objetos de la clase `str` con estas características:\n",
    "\n",
    "- son secuencias de caracteres **Unicode**, es decir, que cada carácter de una cadena puede ser un símbolo de un repertorio mucho mayor que la tabla ASCII\n",
    "- son objetos **inmutables** (modificarlo genera OTRA cadena)\n",
    "\n",
    "Veamos todo esto con más profundidad:"
   ]
  },
  {
   "cell_type": "code",
   "execution_count": 16,
   "metadata": {},
   "outputs": [
    {
     "data": {
      "text/plain": [
       "4"
      ]
     },
     "execution_count": 16,
     "metadata": {},
     "output_type": "execute_result"
    }
   ],
   "source": [
    "a = \"piña\"\n",
    "len(a)"
   ]
  },
  {
   "cell_type": "code",
   "execution_count": 17,
   "metadata": {},
   "outputs": [
    {
     "name": "stdout",
     "output_type": "stream",
     "text": [
      "p\n",
      "i\n",
      "ñ\n",
      "a\n"
     ]
    }
   ],
   "source": [
    "for letra in \"piña\":\n",
    "    print(letra)"
   ]
  },
  {
   "cell_type": "code",
   "execution_count": 18,
   "metadata": {},
   "outputs": [
    {
     "data": {
      "text/plain": [
       "'p'"
      ]
     },
     "execution_count": 18,
     "metadata": {},
     "output_type": "execute_result"
    }
   ],
   "source": [
    "a[0]"
   ]
  },
  {
   "cell_type": "code",
   "execution_count": 19,
   "metadata": {},
   "outputs": [
    {
     "ename": "TypeError",
     "evalue": "'str' object does not support item assignment",
     "output_type": "error",
     "traceback": [
      "\u001b[0;31m---------------------------------------------------------------------------\u001b[0m",
      "\u001b[0;31mTypeError\u001b[0m                                 Traceback (most recent call last)",
      "\u001b[0;32m<ipython-input-19-6d9d44287f1b>\u001b[0m in \u001b[0;36m<module>\u001b[0;34m\u001b[0m\n\u001b[0;32m----> 1\u001b[0;31m \u001b[0ma\u001b[0m\u001b[0;34m[\u001b[0m\u001b[0;36m0\u001b[0m\u001b[0;34m]\u001b[0m \u001b[0;34m=\u001b[0m \u001b[0;34m\"n\"\u001b[0m\u001b[0;34m\u001b[0m\u001b[0;34m\u001b[0m\u001b[0m\n\u001b[0m",
      "\u001b[0;31mTypeError\u001b[0m: 'str' object does not support item assignment"
     ]
    }
   ],
   "source": [
    "a[0] = \"n\" # da error porque es inmutable"
   ]
  },
  {
   "cell_type": "markdown",
   "metadata": {},
   "source": [
    "Python no tiene un tipo propio para los caracteres sueltos, se utilizan cadenas de longitud 1. Cada carácter es un símbolo unicode del que podemos obtener su código numérico con la función `ord` que es la recíproca de `chr`:"
   ]
  },
  {
   "cell_type": "code",
   "execution_count": 33,
   "metadata": {},
   "outputs": [
    {
     "data": {
      "text/plain": [
       "241"
      ]
     },
     "execution_count": 33,
     "metadata": {},
     "output_type": "execute_result"
    }
   ],
   "source": [
    "ord('ñ')"
   ]
  },
  {
   "cell_type": "code",
   "execution_count": 36,
   "metadata": {},
   "outputs": [
    {
     "data": {
      "text/plain": [
       "'ñ'"
      ]
     },
     "execution_count": 36,
     "metadata": {},
     "output_type": "execute_result"
    }
   ],
   "source": [
    "chr(241)"
   ]
  },
  {
   "cell_type": "markdown",
   "metadata": {},
   "source": [
    "## Codificación de cadenas\n",
    "\n",
    "Cuando guardas una cadena en un fichero de texto, la cadena se guarda utilizando una **codificación** o **encoding** determinado. El problema es que hay múltiples codificaciones y esto causa una cantidad de problemas enorme.\n",
    "\n",
    "La filosofía aconsejable es preocuparse del encoding únicamente cuando se lean cosas y se escriban, y trabajar siempre que sea posible con cadenas (que no tienen encoding asociado al ser símbolos Unicode).\n",
    "\n",
    "Cuando abres un fichero de texto o, en general, un fichero que contiene texto, debes de saber qué codificación ha sido utilizada.\n",
    "\n",
    "Una cadena Python (clase `str`) NO TIENE ENCODING, no tiene sentido hablar de él, pero cuando lo escribes o lees a fichero, etc. sí lo tendrá. Es posible tratar eso de dos maneras:\n",
    "\n",
    "1. Indicar el encoding al abrir un fichero de texto, sea en lectura o en escritura.\n",
    "2. Python dispone de métodos para codificar y decodificar una cadena."
   ]
  },
  {
   "cell_type": "code",
   "execution_count": 38,
   "metadata": {},
   "outputs": [
    {
     "data": {
      "text/plain": [
       "b'pi\\xf1a'"
      ]
     },
     "execution_count": 38,
     "metadata": {},
     "output_type": "execute_result"
    }
   ],
   "source": [
    "\"piña\".encode(\"latin1\") # latin1 es un encoding, el iso.8859-1"
   ]
  },
  {
   "cell_type": "code",
   "execution_count": 1,
   "metadata": {},
   "outputs": [
    {
     "data": {
      "text/plain": [
       "b'pi\\xf1a'"
      ]
     },
     "execution_count": 1,
     "metadata": {},
     "output_type": "execute_result"
    }
   ],
   "source": [
    "\"piña\".encode(\"iso.8859-1\")"
   ]
  },
  {
   "cell_type": "code",
   "execution_count": 39,
   "metadata": {},
   "outputs": [
    {
     "data": {
      "text/plain": [
       "b'pi\\xc3\\xb1a'"
      ]
     },
     "execution_count": 39,
     "metadata": {},
     "output_type": "execute_result"
    }
   ],
   "source": [
    "\"piña\".encode(\"UTF-8\")"
   ]
  },
  {
   "cell_type": "code",
   "execution_count": 40,
   "metadata": {},
   "outputs": [
    {
     "data": {
      "text/plain": [
       "b'\\xff\\xfep\\x00i\\x00\\xf1\\x00a\\x00'"
      ]
     },
     "execution_count": 40,
     "metadata": {},
     "output_type": "execute_result"
    }
   ],
   "source": [
    "\"piña\".encode(\"UTF-16\")"
   ]
  },
  {
   "cell_type": "markdown",
   "metadata": {},
   "source": [
    "Observa que el método `encode` recibe como argumento una codificación y que devuelve un objeto de tipo `bytes`."
   ]
  },
  {
   "cell_type": "code",
   "execution_count": 42,
   "metadata": {},
   "outputs": [
    {
     "name": "stdout",
     "output_type": "stream",
     "text": [
      "p\n",
      "i\n",
      "ñ\n",
      "a\n"
     ]
    }
   ],
   "source": [
    "for x in \"piña\":\n",
    "    print(x)"
   ]
  },
  {
   "cell_type": "code",
   "execution_count": 5,
   "metadata": {},
   "outputs": [
    {
     "name": "stdout",
     "output_type": "stream",
     "text": [
      "112\n",
      "105\n",
      "195\n",
      "177\n",
      "97\n"
     ]
    }
   ],
   "source": [
    "for x in \"piña\".encode(\"UTF-8\"):\n",
    "    print(x) # imprime 5 y no 4 líneas!!!! y contienen valores y no caracteres!!!"
   ]
  },
  {
   "cell_type": "markdown",
   "metadata": {},
   "source": [
    "El proceso inverso a `encode` es el método `decode`, que toma un objeto de tipo `bytes` y genera una cadena de texto diciéndole qué codificación tenía:"
   ]
  },
  {
   "cell_type": "code",
   "execution_count": 12,
   "metadata": {},
   "outputs": [
    {
     "name": "stdout",
     "output_type": "stream",
     "text": [
      "piña\n",
      "piÃ±a\n"
     ]
    }
   ],
   "source": [
    "codificada = b'pi\\xc3\\xb1a'\n",
    "cadenabien = codificada.decode('UTF-8')\n",
    "print(cadenabien) # piña\n",
    "cadenamal = codificada.decode('latin1')\n",
    "print(cadenamal) # piÃ±a"
   ]
  },
  {
   "cell_type": "markdown",
   "metadata": {},
   "source": [
    "Como se observa en el ejemplo anterior, si tienes una cadena y usas una codificación incorrecta puede devolverte una cadena que no es la que pretendías. En otros casos puede incluso dar un ERROR:"
   ]
  },
  {
   "cell_type": "code",
   "execution_count": 4,
   "metadata": {},
   "outputs": [
    {
     "ename": "UnicodeDecodeError",
     "evalue": "'utf-8' codec can't decode byte 0xf1 in position 2: invalid continuation byte",
     "output_type": "error",
     "traceback": [
      "\u001b[0;31m---------------------------------------------------------------------------\u001b[0m",
      "\u001b[0;31mUnicodeDecodeError\u001b[0m                        Traceback (most recent call last)",
      "\u001b[0;32m<ipython-input-4-e9d5093a913e>\u001b[0m in \u001b[0;36m<module>\u001b[0;34m\u001b[0m\n\u001b[1;32m      1\u001b[0m \u001b[0mcodificada\u001b[0m \u001b[0;34m=\u001b[0m \u001b[0;34m\"piñña\"\u001b[0m\u001b[0;34m.\u001b[0m\u001b[0mencode\u001b[0m\u001b[0;34m(\u001b[0m\u001b[0;34m\"latin1\"\u001b[0m\u001b[0;34m)\u001b[0m\u001b[0;34m\u001b[0m\u001b[0;34m\u001b[0m\u001b[0m\n\u001b[0;32m----> 2\u001b[0;31m \u001b[0mcadena\u001b[0m \u001b[0;34m=\u001b[0m \u001b[0mcodificada\u001b[0m\u001b[0;34m.\u001b[0m\u001b[0mdecode\u001b[0m\u001b[0;34m(\u001b[0m\u001b[0;34m'UTF-8'\u001b[0m\u001b[0;34m)\u001b[0m\u001b[0;34m\u001b[0m\u001b[0;34m\u001b[0m\u001b[0m\n\u001b[0m\u001b[1;32m      3\u001b[0m \u001b[0mprint\u001b[0m\u001b[0;34m(\u001b[0m\u001b[0mcadena\u001b[0m\u001b[0;34m)\u001b[0m\u001b[0;34m\u001b[0m\u001b[0;34m\u001b[0m\u001b[0m\n",
      "\u001b[0;31mUnicodeDecodeError\u001b[0m: 'utf-8' codec can't decode byte 0xf1 in position 2: invalid continuation byte"
     ]
    }
   ],
   "source": [
    "codificada = \"piñña\".encode(\"latin1\")\n",
    "cadena = codificada.decode('UTF-8')\n",
    "print(cadena)"
   ]
  },
  {
   "cell_type": "markdown",
   "metadata": {},
   "source": [
    "¿Cuándo usar `encode` y `decode`?\n",
    "\n",
    "Cuando sea estrictamente necesario para operar, siempre que sea posible, con cadenas y no con bytes. Es la ley del *sandwich*: en medio (proceso) cadenas, decodificar y codificar en la entrada/salida.\n",
    "\n",
    "> **Nota:** En muchos casos basta con leer o escribir a fichero usando el modo texto y proporcionando el encoding adecuado en el momento de abrir el fichero. Ver el tutorial de ficheros para más detalles."
   ]
  },
  {
   "cell_type": "markdown",
   "metadata": {},
   "source": [
    "## Algunos métodos útiles de la clase `str`"
   ]
  },
  {
   "cell_type": "code",
   "execution_count": 5,
   "metadata": {},
   "outputs": [
    {
     "name": "stdout",
     "output_type": "stream",
     "text": [
      "holamundo\n"
     ]
    }
   ],
   "source": [
    "print(\"hola\" + \"mundo\") # el operador + concatena cadenas"
   ]
  },
  {
   "cell_type": "code",
   "execution_count": 6,
   "metadata": {},
   "outputs": [
    {
     "name": "stdout",
     "output_type": "stream",
     "text": [
      "holaholaholaholahola\n"
     ]
    }
   ],
   "source": [
    "print(\"hola\"*5) # repite 5 veces"
   ]
  },
  {
   "cell_type": "code",
   "execution_count": 46,
   "metadata": {},
   "outputs": [
    {
     "data": {
      "text/plain": [
       "'HOLA'"
      ]
     },
     "execution_count": 46,
     "metadata": {},
     "output_type": "execute_result"
    }
   ],
   "source": [
    "\"hola\".upper() # método upper"
   ]
  },
  {
   "cell_type": "code",
   "execution_count": 59,
   "metadata": {},
   "outputs": [
    {
     "data": {
      "text/plain": [
       "'esto_es_una_prueba'"
      ]
     },
     "execution_count": 59,
     "metadata": {},
     "output_type": "execute_result"
    }
   ],
   "source": [
    "\"esto es una prueba\".replace(\" \",\"_\")"
   ]
  },
  {
   "cell_type": "code",
   "execution_count": 48,
   "metadata": {},
   "outputs": [
    {
     "data": {
      "text/plain": [
       "True"
      ]
     },
     "execution_count": 48,
     "metadata": {},
     "output_type": "execute_result"
    }
   ],
   "source": [
    "\"ola\" in \"caracola\""
   ]
  },
  {
   "cell_type": "code",
   "execution_count": 49,
   "metadata": {},
   "outputs": [
    {
     "data": {
      "text/plain": [
       "5"
      ]
     },
     "execution_count": 49,
     "metadata": {},
     "output_type": "execute_result"
    }
   ],
   "source": [
    "\"caracola\".find(\"ola\")"
   ]
  },
  {
   "cell_type": "code",
   "execution_count": 60,
   "metadata": {},
   "outputs": [
    {
     "data": {
      "text/plain": [
       "-1"
      ]
     },
     "execution_count": 60,
     "metadata": {},
     "output_type": "execute_result"
    }
   ],
   "source": [
    "\"caracola\".find(\"hola\")"
   ]
  },
  {
   "cell_type": "code",
   "execution_count": 61,
   "metadata": {},
   "outputs": [
    {
     "data": {
      "text/plain": [
       "1"
      ]
     },
     "execution_count": 61,
     "metadata": {},
     "output_type": "execute_result"
    }
   ],
   "source": [
    "\"hola caracola bebo cola\".find(\"ola\")"
   ]
  },
  {
   "cell_type": "code",
   "execution_count": 7,
   "metadata": {},
   "outputs": [
    {
     "name": "stdout",
     "output_type": "stream",
     "text": [
      "hXXX caracola bebo cola y me mola\n",
      "hola caracXXX bebo cola y me mola\n",
      "hola caracola bebo cXXX y me mola\n",
      "hola caracola bebo cola y me mXXX\n"
     ]
    }
   ],
   "source": [
    "patron = \"ola\"\n",
    "txt = \"hola caracola bebo cola y me mola\"\n",
    "x = txt.find(patron)\n",
    "while x != -1: # quedará más claro cuando veamos bucles...\n",
    "    print(txt[:x] + 'X'*len(patron)+txt[x+len(patron):])\n",
    "    x = txt.find(patron,x+1)"
   ]
  },
  {
   "cell_type": "code",
   "execution_count": 8,
   "metadata": {},
   "outputs": [
    {
     "data": {
      "text/plain": [
       "['esto', 'es', 'una', 'prueba']"
      ]
     },
     "execution_count": 8,
     "metadata": {},
     "output_type": "execute_result"
    }
   ],
   "source": [
    "\"esto es una prueba\".split() # rompe una cadena en trozos, devuelve una lista"
   ]
  },
  {
   "cell_type": "code",
   "execution_count": 52,
   "metadata": {},
   "outputs": [
    {
     "data": {
      "text/plain": [
       "['esto es una prueba', 'de campos', 'separados por barra']"
      ]
     },
     "execution_count": 52,
     "metadata": {},
     "output_type": "execute_result"
    }
   ],
   "source": [
    "\"esto es una prueba|de campos|separados por barra\".split(\"|\")"
   ]
  },
  {
   "cell_type": "markdown",
   "metadata": {},
   "source": [
    "Existen formas mucho más sofisticada de hacer un split usando la biblioteca `re` de *expresiones regulares* o **regex**, ejemplo:"
   ]
  },
  {
   "cell_type": "code",
   "execution_count": 13,
   "metadata": {},
   "outputs": [
    {
     "data": {
      "text/plain": [
       "['esto es un texto', 'con algunos números por medio', 'y otro texto', '']"
      ]
     },
     "execution_count": 13,
     "metadata": {},
     "output_type": "execute_result"
    }
   ],
   "source": [
    "import re\n",
    "txt = \"esto es un texto 1234 con algunos números por medio 567891011 y otro texto 25\"\n",
    "# cortamos txt en trozos, los separadores son secuencias consecutivas de 1 o más dígitos\n",
    "# y los espacios que les puedan rodear:\n",
    "re.split(\"\\s*\\d+\\s*\",txt)"
   ]
  },
  {
   "cell_type": "code",
   "execution_count": 14,
   "metadata": {},
   "outputs": [
    {
     "data": {
      "text/plain": [
       "'uno|dos|tres'"
      ]
     },
     "execution_count": 14,
     "metadata": {},
     "output_type": "execute_result"
    }
   ],
   "source": [
    "# lo contrario de split es el método join:\n",
    "\"|\".join([\"uno\",\"dos\",\"tres\"]) # se aplica sobre la cadena separadora"
   ]
  },
  {
   "cell_type": "code",
   "execution_count": 15,
   "metadata": {},
   "outputs": [
    {
     "ename": "TypeError",
     "evalue": "sequence item 0: expected str instance, int found",
     "output_type": "error",
     "traceback": [
      "\u001b[0;31m---------------------------------------------------------------------------\u001b[0m",
      "\u001b[0;31mTypeError\u001b[0m                                 Traceback (most recent call last)",
      "\u001b[0;32m<ipython-input-15-325d300cb09e>\u001b[0m in \u001b[0;36m<module>\u001b[0;34m\u001b[0m\n\u001b[1;32m      1\u001b[0m \u001b[0;31m# da error si la lista contiene cosas que no sean cadenas:\u001b[0m\u001b[0;34m\u001b[0m\u001b[0;34m\u001b[0m\u001b[0;34m\u001b[0m\u001b[0m\n\u001b[1;32m      2\u001b[0m \u001b[0mlista\u001b[0m \u001b[0;34m=\u001b[0m \u001b[0;34m[\u001b[0m\u001b[0;36m1\u001b[0m\u001b[0;34m,\u001b[0m\u001b[0;36m2\u001b[0m\u001b[0;34m,\u001b[0m\u001b[0;36m3\u001b[0m\u001b[0;34m]\u001b[0m\u001b[0;34m\u001b[0m\u001b[0;34m\u001b[0m\u001b[0m\n\u001b[0;32m----> 3\u001b[0;31m \u001b[0;34m\"|\"\u001b[0m\u001b[0;34m.\u001b[0m\u001b[0mjoin\u001b[0m\u001b[0;34m(\u001b[0m\u001b[0mlista\u001b[0m\u001b[0;34m)\u001b[0m\u001b[0;34m\u001b[0m\u001b[0;34m\u001b[0m\u001b[0m\n\u001b[0m",
      "\u001b[0;31mTypeError\u001b[0m: sequence item 0: expected str instance, int found"
     ]
    }
   ],
   "source": [
    "# da error si la lista contiene cosas que no sean cadenas:\n",
    "lista = [1,2,3]\n",
    "\"|\".join(lista)"
   ]
  },
  {
   "cell_type": "code",
   "execution_count": 17,
   "metadata": {},
   "outputs": [
    {
     "data": {
      "text/plain": [
       "'1|2|3'"
      ]
     },
     "execution_count": 17,
     "metadata": {},
     "output_type": "execute_result"
    }
   ],
   "source": [
    "# esto se verá con más detalle, la idea es que podemos aplicar la función str\n",
    "# a todos los elementos de la lista para convertirlos a cadena:\n",
    "\"|\".join(map(str,lista))\n",
    "# map se ve en el notebook sobre 'orden superior'"
   ]
  },
  {
   "cell_type": "code",
   "execution_count": 11,
   "metadata": {},
   "outputs": [
    {
     "data": {
      "text/plain": [
       "'hola  mundo'"
      ]
     },
     "execution_count": 11,
     "metadata": {},
     "output_type": "execute_result"
    }
   ],
   "source": [
    "\"    hola  mundo    \".strip() # elimina espacios de los bordes"
   ]
  },
  {
   "cell_type": "code",
   "execution_count": 12,
   "metadata": {},
   "outputs": [
    {
     "data": {
      "text/plain": [
       "'    hola'"
      ]
     },
     "execution_count": 12,
     "metadata": {},
     "output_type": "execute_result"
    }
   ],
   "source": [
    "\"    hola    \".rstrip() # sólo de la derecha"
   ]
  },
  {
   "cell_type": "code",
   "execution_count": 13,
   "metadata": {},
   "outputs": [
    {
     "data": {
      "text/plain": [
       "'hola    '"
      ]
     },
     "execution_count": 13,
     "metadata": {},
     "output_type": "execute_result"
    }
   ],
   "source": [
    "\"    hola    \".lstrip() # ídem a la izquierda"
   ]
  },
  {
   "cell_type": "markdown",
   "metadata": {},
   "source": [
    "## Cadenas con formato\n",
    "\n",
    "Si una cadena lleva una `f` antes de abrir las comillas se considera una cadena con formato. Puedes poner expresiones entre `{}` y se pondrá en su lugar el resultado de evaluar esas expresiones. Ejemplos:"
   ]
  },
  {
   "cell_type": "code",
   "execution_count": 16,
   "metadata": {},
   "outputs": [
    {
     "name": "stdout",
     "output_type": "stream",
     "text": [
      "La edad de {nombre} es de {edad} años\n",
      "La edad de Marta es de 31 años\n"
     ]
    }
   ],
   "source": [
    "nombre = 'Marta'\n",
    "edad = 31\n",
    "print(\"La edad de {nombre} es de {edad} años\") # falta la f\n",
    "print(f\"La edad de {nombre} es de {edad} años\") # con la f"
   ]
  },
  {
   "cell_type": "code",
   "execution_count": 17,
   "metadata": {},
   "outputs": [
    {
     "name": "stdout",
     "output_type": "stream",
     "text": [
      "La edad de Marta es de 31 años\n"
     ]
    }
   ],
   "source": [
    "# existe una forma parecida con el método format sobre una cadena normal:\n",
    "print(\"La edad de {} es de {} años\".format(nombre,edad))"
   ]
  },
  {
   "cell_type": "markdown",
   "metadata": {},
   "source": [
    "## `str` y `repr`\n",
    "\n",
    "Ambas convierten a cadena el argumento que le pasemos. No obstante, su uso es diferente:\n",
    "\n",
    "- `str` está pensado para que lo lea **una persona**.\n",
    "- `repr` está pensado para que lo lea **un ordenador (Python)**.\n",
    "\n",
    "Es decir, `str` debe facilitar la comodidad y `repr` la exactitud.\n",
    "\n",
    "En la pràctica, para muchos tipos de datos ambas tienen el mismo comportamiento: "
   ]
  },
  {
   "cell_type": "code",
   "execution_count": 6,
   "metadata": {},
   "outputs": [
    {
     "name": "stdout",
     "output_type": "stream",
     "text": [
      "0.18181818181818182\n",
      "0.18181818181818182\n"
     ]
    }
   ],
   "source": [
    "# observa que no hay diferencia entre str y repr (en Python3):\n",
    "x = 2/11.0\n",
    "print(str(x))\n",
    "print(repr(x))"
   ]
  },
  {
   "cell_type": "code",
   "execution_count": 7,
   "metadata": {},
   "outputs": [
    {
     "name": "stdout",
     "output_type": "stream",
     "text": [
      "Hola\n",
      "Mundo\n",
      "\n",
      "'Hola\\nMundo'\n"
     ]
    }
   ],
   "source": [
    "# observa que sí hay diferencia entre str y repr con las cadenas:\n",
    "x = \"Hola\\nMundo\"\n",
    "print(str(x))\n",
    "print()\n",
    "print(repr(x))"
   ]
  },
  {
   "cell_type": "code",
   "execution_count": null,
   "metadata": {},
   "outputs": [],
   "source": []
  }
 ],
 "metadata": {
  "kernelspec": {
   "display_name": "Python 3",
   "language": "python",
   "name": "python3"
  },
  "language_info": {
   "codemirror_mode": {
    "name": "ipython",
    "version": 3
   },
   "file_extension": ".py",
   "mimetype": "text/x-python",
   "name": "python",
   "nbconvert_exporter": "python",
   "pygments_lexer": "ipython3",
   "version": "3.8.5"
  }
 },
 "nbformat": 4,
 "nbformat_minor": 2
}
