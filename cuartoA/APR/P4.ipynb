{
 "cells": [
  {
   "cell_type": "markdown",
   "metadata": {},
   "source": [
    "Este código es parte de una implementación de un modelo de red neuronal usando Keras para clasificar dígitos del conjunto de datos MNIST. Aquí está el desglose de cada bloque de código en detalle.\n",
    "\n",
    "1. Importación de Bibliotecas y Configuración de la Semilla Aleatoria\n",
    "\n",
    "Se importan varias bibliotecas necesarias:\n",
    "\n",
    "- numpy para manipulación de arreglos y datos.\n",
    "- matplotlib.pyplot para visualización de datos (si se requiere).\n",
    "- os para configuraciones del entorno.\n",
    "- keras y keras_tuner, bibliotecas de alto nivel para construir y entrenar redes neuronales.\n",
    "\n",
    "## Carga del Conjunto de Datos MNIST\n",
    "\n",
    "`keras.utils.set_random_seed(23)`\n",
    "\n",
    "Aquí se establece una semilla aleatoria para los generadores aleatorios en Keras. Esto garantiza que los resultados sean reproducibles; en este caso, la semilla está fijada en 23, de manera que si se vuelve a ejecutar este código, los resultados serán los mismos cada vez.\n",
    "\n",
    "`(x_train_val, y_train_val), (x_test, y_test) = keras.datasets.mnist.load_data()`\n",
    "\n",
    "El conjunto de datos MNIST contiene imágenes de dígitos escritos a mano (del 0 al 9) en escala de grises. Este código carga los datos en cuatro conjuntos:\n",
    "\n",
    "- x_train_val y y_train_val: Datos de entrada y etiquetas para entrenamiento y validación combinados.\n",
    "- x_test y y_test: Datos de entrada y etiquetas para pruebas.\n",
    "\n",
    "El conjunto `x_train_val` contiene imágenes de entrenamiento y validación combinadas, que luego se dividirán en subconjuntos más adelante en el código.\n",
    "\n",
    "## Preprocesamiento de los datos\n",
    "\n",
    "Las imágenes originales en MNIST son de 28x28 píxeles (784 píxeles en total).\n",
    "\n",
    "``` python\n",
    "input_dim = 784\n",
    "x_train_val = x_train_val.reshape(-1, input_dim).astype(\"float32\") / 255.0\n",
    "x_test = x_test.reshape(-1, input_dim).astype(\"float32\") / 255.0\n",
    "```\n",
    "\n",
    "- La dimensión input_dim se establece en 784 para que cada imagen se convierta en un vector unidimensional de longitud 784.\n",
    "- reshape(-1, input_dim): Cambia la forma de cada imagen 28x28 a un vector de 784 valores, adecuado para un modelo de red neuronal densa.\n",
    "- astype(\"float32\") / 255.0: Convierte los valores de enteros (0 a 255) a flotantes (0.0 a 1.0) dividiendo por 255. Esto normaliza los datos, lo cual es beneficioso para el entrenamiento de redes neuronales.\n",
    "\n",
    "```python\n",
    "num_classes = 10\n",
    "y_train_val = keras.utils.to_categorical(y_train_val, num_classes)\n",
    "y_test = keras.utils.to_categorical(y_test, num_classes)\n",
    "```\n",
    "\n",
    "Se define num_classes como 10 porque hay 10 clases (dígitos del 0 al 9).\n",
    "to_categorical convierte las etiquetas (por ejemplo, el número 5) en etiquetas categóricas o one-hot encoded (por ejemplo, [0, 0, 0, 0, 0, 1, 0, 0, 0, 0]). Esto transforma las etiquetas para que sean compatibles con la salida del modelo en la clasificación.\n",
    "\n",
    "```python\n",
    "x_train = x_train_val[:-10000]\n",
    "x_val = x_train_val[-10000:]\n",
    "y_train = y_train_val[:-10000]\n",
    "y_val = y_train_val[-10000:]\n",
    "```\n",
    "\n",
    "Este código divide el conjunto x_train_val en dos partes:\n",
    "\n",
    "- x_train: La mayor parte de los datos para el entrenamiento.\n",
    "- x_val: Los últimos 10,000 ejemplos de x_train_val se utilizan para validación.\n",
    "\n",
    "La validación es importante para evaluar el rendimiento del modelo en datos que no ha visto durante el entrenamiento. Las etiquetas correspondientes (y_train y y_val) se dividen de la misma manera.\n",
    "\n",
    "**Keras Tuner es una biblioteca de código abierto desarrollada para ajustar automáticamente los hiperparámetros de modelos de redes neuronales en Keras. Los hiperparámetros son configuraciones del modelo que afectan su rendimiento, como el número de capas, el tamaño de las capas, la tasa de aprendizaje, etc. Ajustar estos hiperparámetros manualmente puede ser tedioso y consumir mucho tiempo, por lo que Keras Tuner facilita esta tarea mediante técnicas de búsqueda como búsqueda aleatoria, búsqueda en hiperband y optimizaciones bayesianas.**"
   ]
  },
  {
   "cell_type": "code",
   "execution_count": 1,
   "metadata": {},
   "outputs": [
    {
     "name": "stderr",
     "output_type": "stream",
     "text": [
      "2024-11-15 01:51:47.916088: E external/local_xla/xla/stream_executor/cuda/cuda_fft.cc:477] Unable to register cuFFT factory: Attempting to register factory for plugin cuFFT when one has already been registered\n",
      "WARNING: All log messages before absl::InitializeLog() is called are written to STDERR\n",
      "E0000 00:00:1731631907.929348  618664 cuda_dnn.cc:8310] Unable to register cuDNN factory: Attempting to register factory for plugin cuDNN when one has already been registered\n",
      "E0000 00:00:1731631907.933514  618664 cuda_blas.cc:1418] Unable to register cuBLAS factory: Attempting to register factory for plugin cuBLAS when one has already been registered\n"
     ]
    }
   ],
   "source": [
    "import numpy as np; import matplotlib.pyplot as plt\n",
    "import os; os.environ['TF_CPP_MIN_LOG_LEVEL'] = '2'\n",
    "import keras; import keras_tuner\n",
    "\n",
    "keras.utils.set_random_seed(23); input_dim = 784; num_classes = 10\n",
    "(x_train_val, y_train_val), (x_test, y_test) = keras.datasets.fashion_mnist.load_data()\n",
    "x_train_val = x_train_val.reshape(-1, input_dim).astype(\"float32\") / 255.0\n",
    "x_test = x_test.reshape(-1, input_dim).astype(\"float32\") / 255.0\n",
    "y_train_val = keras.utils.to_categorical(y_train_val, num_classes)\n",
    "y_test = keras.utils.to_categorical(y_test, num_classes)\n",
    "\n",
    "x_train = x_train_val[:-10000]; x_val = x_train_val[-10000:]\n",
    "y_train = y_train_val[:-10000]; y_val = y_train_val[-10000:]"
   ]
  },
  {
   "cell_type": "markdown",
   "metadata": {},
   "source": [
    "This code defines a custom hypermodel class, MyHyperModel, that inherits from keras_tuner.HyperModel. It specifies both the architecture and training process of the model, including tunable hyperparameters like learning rate and batch size. Let’s go through each part in detail.\n",
    "\n",
    "```python\n",
    "def build(self, hp):\n",
    "    M = keras.Sequential()\n",
    "    M.add(keras.Input(shape=(784,)))\n",
    "    M.add(keras.layers.Dense(units=800, activation='relu'))\n",
    "    M.add(keras.layers.Dense(10, activation='softmax'))\n",
    "```\n",
    "- Purpose: The build method defines the architecture of the model.\n",
    "- Input Layer: An input layer with shape (784,), suitable for the MNIST dataset (28x28 pixels flattened).\n",
    "- Hidden Layer: A single dense layer with 800 units and ReLU activation.\n",
    "- Output Layer: A dense layer with 10 units (one per class) and softmax activation for multiclass classification.\n",
    "\n",
    "```python \n",
    "learning_rate = hp.Float(\"lr\", min_value=0.00006, max_value=0.00026)\n",
    "```\n",
    "\n",
    "Learning Rate Hyperparameter: hp.Float allows Keras Tuner to tune the learning rate between 0.00006 and 0.00026.\n",
    "\n",
    "```python\n",
    "opt = keras.optimizers.Adam(learning_rate=learning_rate)\n",
    "M.compile(loss=\"categorical_crossentropy\", optimizer=opt, metrics=[\"accuracy\"])\n",
    "```\n",
    "Optimizer: Adam is used, with the learning rate set to the tunable learning_rate hyperparameter.\n",
    "\n",
    "Compilation: The model is compiled with categorical_crossentropy loss (for multiclass classification) and accuracy as the evaluation metric.\n",
    "\n",
    "```python\n",
    "def fit(self, hp, M, x, y, xy_val, **kwargs):\n",
    "```\n",
    "\n",
    "- hp: provides access to hyperparameters...\n",
    "- M: The model instance created in build.\n",
    "- x, y: Training data and labels.\n",
    "- xy_val: Validation data and labels.\n",
    "- **kwargs: Additional arguments passed to fit.\n",
    "\n",
    "```python\n",
    "early_cb = keras.callbacks.EarlyStopping(monitor='val_accuracy', patience=10, min_delta=1e-5)\n",
    "kwargs['callbacks'].append(early_cb)\n",
    "```\n",
    "Early Stopping Callback: Early stopping monitors val_accuracy and stops training if accuracy does not improve after 10 epochs (patience) with a minimum improvement (min_delta) of 1e-5\n",
    "\n",
    "```python\n",
    "return M.fit(x, y, batch_size=bs, epochs=100, validation_data=xy_val, **kwargs)\n",
    "```\n",
    "Model Training: The model is trained using the specified batch size (bs) and for up to 100 epochs. Training can stop early if the EarlyStopping callback triggers.\n",
    "\n",
    "Validation Data: xy_val is used to evaluate the model on each epoch, guiding the early stopping callback.\n",
    "\n",
    "**The MyHyperModel class defines a model and training setup with tunable learning rate and batch size hyperparameters. The class integrates with Keras Tuner to optimize these values, using early stopping to prevent overfitting and minimize training time. This setup allows you to find the best-performing model configuration more efficiently.**"
   ]
  },
  {
   "cell_type": "code",
   "execution_count": 2,
   "metadata": {},
   "outputs": [],
   "source": [
    "class MyHyperModel(keras_tuner.HyperModel):\n",
    "    def build(self, hp):\n",
    "        M = keras.Sequential()\n",
    "        M.add(keras.Input(shape=(784,)))\n",
    "        M.add(keras.layers.Dense(units=800, activation='relu'))\n",
    "        M.add(keras.layers.Dense(10, activation='softmax'))\n",
    "#        learning_rate = hp.Float(\"lr\", min_value=1e-5, max_value=0.01, step=2, sampling=\"log\")\n",
    "#        lr: 0.00016 batch_size: 256 Score: 0.8977\n",
    "        learning_rate = hp.Float(\"lr\", min_value=0.00006, max_value=0.00026)\n",
    "        opt = keras.optimizers.Adam(learning_rate=learning_rate)\n",
    "        M.compile(loss=\"categorical_crossentropy\", optimizer=opt, metrics=[\"accuracy\"])\n",
    "        return M\n",
    "\n",
    "    def fit(self, hp, M, x, y, xy_val, **kwargs):\n",
    "        bs = hp.Int(\"batch_size\", 128, 256, step=2, sampling=\"log\")\n",
    "        early_cb = keras.callbacks.EarlyStopping(monitor='val_accuracy', patience=10, min_delta=1e-5)\n",
    "        kwargs['callbacks'].append(early_cb)\n",
    "        return M.fit(x, y, batch_size=bs, epochs=100, validation_data=xy_val, **kwargs)\n"
   ]
  },
  {
   "cell_type": "code",
   "execution_count": 3,
   "metadata": {},
   "outputs": [
    {
     "name": "stdout",
     "output_type": "stream",
     "text": [
      "Trial 3 Complete [00h 00m 23s]\n",
      "val_accuracy: 0.8884000182151794\n",
      "\n",
      "Best val_accuracy So Far: 0.8953999876976013\n",
      "Total elapsed time: 00h 01m 14s\n",
      "Results summary\n",
      "Results in /tmp/Fashion-MNIST\n",
      "Showing 1 best trials\n",
      "Objective(name=\"val_accuracy\", direction=\"max\")\n",
      "\n",
      "Trial 1 summary\n",
      "Hyperparameters:\n",
      "lr: 0.00014936675501468113\n",
      "batch_size: 256\n",
      "Score: 0.8953999876976013\n"
     ]
    },
    {
     "name": "stderr",
     "output_type": "stream",
     "text": [
      "/home/yassin/anaconda3/envs/per/lib/python3.11/site-packages/keras/src/saving/saving_lib.py:719: UserWarning: Skipping variable loading for optimizer 'adam', because it has 2 variables whereas the saved optimizer has 10 variables. \n",
      "  saveable.load_own_variables(weights_store.get(inner_path))\n"
     ]
    },
    {
     "name": "stdout",
     "output_type": "stream",
     "text": [
      "Loss: 0.3258\n",
      "Precisión: 88.95%\n",
      "Loss: 0.3083\n",
      "Precisión: 89.69%\n"
     ]
    }
   ],
   "source": [
    "tuner = keras_tuner.BayesianOptimization(\n",
    "MyHyperModel(), objective=\"val_accuracy\", max_trials=3,\n",
    "overwrite=True, directory=\"/tmp\", project_name=\"Fashion-MNIST\"\n",
    ")\n",
    "\n",
    "tuner.search(x_train, y_train, (x_val, y_val))\n",
    "\n",
    "tuner.results_summary(num_trials=1)\n",
    "\n",
    "best = tuner.get_best_models(num_models=1)[0]\n",
    "score = best.evaluate(x_test, y_test, verbose=0)\n",
    "print(f'Loss: {score[0]:.4}\\nPrecisión: {score[1]:.2%}')\n",
    "\n",
    "opt = keras.optimizers.Adam(learning_rate=0.00015)\n",
    "best.compile(loss=\"categorical_crossentropy\", optimizer=opt, metrics=[\"accuracy\"])\n",
    "H = best.fit(x_train_val, y_train_val, batch_size=256, epochs=20, validation_data=(x_test, y_test), verbose=0)\n",
    "score = best.evaluate(x_test, y_test, verbose=0)\n",
    "print(f'Loss: {score[0]:.4}\\nPrecisión: {score[1]:.2%}')"
   ]
  },
  {
   "cell_type": "code",
   "execution_count": 4,
   "metadata": {},
   "outputs": [
    {
     "name": "stdout",
     "output_type": "stream",
     "text": [
      "Loss: 0.3198\n",
      "Precisión: 89.69%\n"
     ]
    }
   ],
   "source": [
    "opt = keras.optimizers.Adam(learning_rate=0.00015)\n",
    "best.compile(loss=\"categorical_crossentropy\", optimizer=opt, metrics=[\"accuracy\"])\n",
    "H = best.fit(x_train_val, y_train_val, batch_size=256, epochs=20, validation_data=(x_test, y_test), verbose=0)\n",
    "score = best.evaluate(x_test, y_test, verbose=0)\n",
    "print(f'Loss: {score[0]:.4}\\nPrecisión: {score[1]:.2%}')"
   ]
  },
  {
   "cell_type": "code",
   "execution_count": 5,
   "metadata": {},
   "outputs": [
    {
     "data": {
      "image/png": "[encoded data removed]",
      "text/plain": [
       "<Figure size 900x300 with 2 Axes>"
      ]
     },
     "metadata": {},
     "output_type": "display_data"
    }
   ],
   "source": [
    "fig, axes = plt.subplots(1, 2, figsize=(9, 3))\n",
    "fig.tight_layout(); plt.subplots_adjust(wspace=0.3)\n",
    "xx = np.arange(1, len(H.history['loss'])+1)\n",
    "ax = axes[0]; ax.grid(); ax.set_xlabel('epoch'); ax.set_ylabel('loss')\n",
    "ax.plot(xx, H.history['loss'], color='b', marker='s', markersize=3)\n",
    "ax.plot(xx, H.history['val_loss'], color='r', marker='s', markersize=3)\n",
    "ax = axes[1]; ax.grid(); ax.set_xlabel('epoch'); ax.set_ylabel('accuracy')\n",
    "ax.plot(xx, H.history['accuracy'], color='b', marker='s', markersize=3)\n",
    "ax.plot(xx, H.history['val_accuracy'], color='r', marker='s', markersize=3);"
   ]
  },
  {
   "cell_type": "code",
   "execution_count": null,
   "metadata": {},
   "outputs": [],
   "source": []
  }
 ],
 "metadata": {
  "kernelspec": {
   "display_name": "per",
   "language": "python",
   "name": "python3"
  },
  "language_info": {
   "codemirror_mode": {
    "name": "ipython",
    "version": 3
   },
   "file_extension": ".py",
   "mimetype": "text/x-python",
   "name": "python",
   "nbconvert_exporter": "python",
   "pygments_lexer": "ipython3",
   "version": "3.11.9"
  }
 },
 "nbformat": 4,
 "nbformat_minor": 2
}
